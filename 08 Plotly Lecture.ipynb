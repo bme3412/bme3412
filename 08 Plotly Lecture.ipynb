{
 "cells": [
  {
   "cell_type": "code",
   "execution_count": 15,
   "metadata": {},
   "outputs": [
    {
     "name": "stdout",
     "output_type": "stream",
     "text": [
      "4.12.0\n"
     ]
    }
   ],
   "source": [
    "import pandas as pd\n",
    "import numpy as np\n",
    "from plotly import __version__\n",
    "print(__version__)\n",
    "import cufflinks as cf\n",
    "from plotly.offline import download_plotlyjs, init_notebook_mode, plot, iplot\n",
    "%matplotlib inline"
   ]
  },
  {
   "cell_type": "code",
   "execution_count": 6,
   "metadata": {},
   "outputs": [
    {
     "data": {
      "text/html": [
       "        <script type=\"text/javascript\">\n",
       "        window.PlotlyConfig = {MathJaxConfig: 'local'};\n",
       "        if (window.MathJax) {MathJax.Hub.Config({SVG: {font: \"STIX-Web\"}});}\n",
       "        if (typeof require !== 'undefined') {\n",
       "        require.undef(\"plotly\");\n",
       "        requirejs.config({\n",
       "            paths: {\n",
       "                'plotly': ['https://cdn.plot.ly/plotly-latest.min']\n",
       "            }\n",
       "        });\n",
       "        require(['plotly'], function(Plotly) {\n",
       "            window._Plotly = Plotly;\n",
       "        });\n",
       "        }\n",
       "        </script>\n",
       "        "
      ]
     },
     "metadata": {},
     "output_type": "display_data"
    }
   ],
   "source": [
    "init_notebook_mode(connected=True)"
   ]
  },
  {
   "cell_type": "code",
   "execution_count": 11,
   "metadata": {},
   "outputs": [
    {
     "data": {
      "text/html": [
       "        <script type=\"text/javascript\">\n",
       "        window.PlotlyConfig = {MathJaxConfig: 'local'};\n",
       "        if (window.MathJax) {MathJax.Hub.Config({SVG: {font: \"STIX-Web\"}});}\n",
       "        if (typeof require !== 'undefined') {\n",
       "        require.undef(\"plotly\");\n",
       "        requirejs.config({\n",
       "            paths: {\n",
       "                'plotly': ['https://cdn.plot.ly/plotly-latest.min']\n",
       "            }\n",
       "        });\n",
       "        require(['plotly'], function(Plotly) {\n",
       "            window._Plotly = Plotly;\n",
       "        });\n",
       "        }\n",
       "        </script>\n",
       "        "
      ]
     },
     "metadata": {},
     "output_type": "display_data"
    }
   ],
   "source": [
    "cf.go_offline()"
   ]
  },
  {
   "cell_type": "code",
   "execution_count": 13,
   "metadata": {},
   "outputs": [
    {
     "data": {
      "text/html": [
       "<div>\n",
       "<style scoped>\n",
       "    .dataframe tbody tr th:only-of-type {\n",
       "        vertical-align: middle;\n",
       "    }\n",
       "\n",
       "    .dataframe tbody tr th {\n",
       "        vertical-align: top;\n",
       "    }\n",
       "\n",
       "    .dataframe thead th {\n",
       "        text-align: right;\n",
       "    }\n",
       "</style>\n",
       "<table border=\"1\" class=\"dataframe\">\n",
       "  <thead>\n",
       "    <tr style=\"text-align: right;\">\n",
       "      <th></th>\n",
       "      <th>A</th>\n",
       "      <th>B</th>\n",
       "      <th>C</th>\n",
       "      <th>D</th>\n",
       "    </tr>\n",
       "  </thead>\n",
       "  <tbody>\n",
       "    <tr>\n",
       "      <td>0</td>\n",
       "      <td>0.283362</td>\n",
       "      <td>-0.129336</td>\n",
       "      <td>0.018304</td>\n",
       "      <td>-0.102161</td>\n",
       "    </tr>\n",
       "    <tr>\n",
       "      <td>1</td>\n",
       "      <td>-1.127272</td>\n",
       "      <td>0.131032</td>\n",
       "      <td>2.019561</td>\n",
       "      <td>-0.765631</td>\n",
       "    </tr>\n",
       "    <tr>\n",
       "      <td>2</td>\n",
       "      <td>0.530199</td>\n",
       "      <td>-0.278380</td>\n",
       "      <td>0.426269</td>\n",
       "      <td>0.462748</td>\n",
       "    </tr>\n",
       "    <tr>\n",
       "      <td>3</td>\n",
       "      <td>-0.907604</td>\n",
       "      <td>-0.447907</td>\n",
       "      <td>-0.273968</td>\n",
       "      <td>0.967601</td>\n",
       "    </tr>\n",
       "    <tr>\n",
       "      <td>4</td>\n",
       "      <td>0.304583</td>\n",
       "      <td>0.615029</td>\n",
       "      <td>-0.997471</td>\n",
       "      <td>0.926424</td>\n",
       "    </tr>\n",
       "  </tbody>\n",
       "</table>\n",
       "</div>"
      ],
      "text/plain": [
       "          A         B         C         D\n",
       "0  0.283362 -0.129336  0.018304 -0.102161\n",
       "1 -1.127272  0.131032  2.019561 -0.765631\n",
       "2  0.530199 -0.278380  0.426269  0.462748\n",
       "3 -0.907604 -0.447907 -0.273968  0.967601\n",
       "4  0.304583  0.615029 -0.997471  0.926424"
      ]
     },
     "execution_count": 13,
     "metadata": {},
     "output_type": "execute_result"
    }
   ],
   "source": [
    "# get data \n",
    "df = pd.DataFrame(np.random.randn(100,4),columns='A B C D'.split())\n",
    "df.head()"
   ]
  },
  {
   "cell_type": "code",
   "execution_count": 14,
   "metadata": {},
   "outputs": [
    {
     "data": {
      "text/html": [
       "<div>\n",
       "<style scoped>\n",
       "    .dataframe tbody tr th:only-of-type {\n",
       "        vertical-align: middle;\n",
       "    }\n",
       "\n",
       "    .dataframe tbody tr th {\n",
       "        vertical-align: top;\n",
       "    }\n",
       "\n",
       "    .dataframe thead th {\n",
       "        text-align: right;\n",
       "    }\n",
       "</style>\n",
       "<table border=\"1\" class=\"dataframe\">\n",
       "  <thead>\n",
       "    <tr style=\"text-align: right;\">\n",
       "      <th></th>\n",
       "      <th>Category</th>\n",
       "      <th>Values</th>\n",
       "    </tr>\n",
       "  </thead>\n",
       "  <tbody>\n",
       "    <tr>\n",
       "      <td>0</td>\n",
       "      <td>A</td>\n",
       "      <td>32</td>\n",
       "    </tr>\n",
       "    <tr>\n",
       "      <td>1</td>\n",
       "      <td>B</td>\n",
       "      <td>43</td>\n",
       "    </tr>\n",
       "    <tr>\n",
       "      <td>2</td>\n",
       "      <td>C</td>\n",
       "      <td>50</td>\n",
       "    </tr>\n",
       "  </tbody>\n",
       "</table>\n",
       "</div>"
      ],
      "text/plain": [
       "  Category  Values\n",
       "0        A      32\n",
       "1        B      43\n",
       "2        C      50"
      ]
     },
     "execution_count": 14,
     "metadata": {},
     "output_type": "execute_result"
    }
   ],
   "source": [
    "df2 = pd.DataFrame({'Category':['A','B','C'],'Values':[32,43,50]})\n",
    "df2"
   ]
  },
  {
   "cell_type": "code",
   "execution_count": 16,
   "metadata": {},
   "outputs": [
    {
     "data": {
      "text/plain": [
       "<matplotlib.axes._subplots.AxesSubplot at 0x7fcb9bcca490>"
      ]
     },
     "execution_count": 16,
     "metadata": {},
     "output_type": "execute_result"
    },
    {
     "data": {
      "image/png": "[encoded data removed]",
      "text/plain": [
       "<Figure size 432x288 with 1 Axes>"
      ]
     },
     "metadata": {
      "needs_background": "light"
     },
     "output_type": "display_data"
    }
   ],
   "source": [
    "df.plot()"
   ]
  },
  {
   "cell_type": "code",
   "execution_count": 17,
   "metadata": {},
   "outputs": [
    {
     "data": {
      "application/vnd.plotly.v1+json": {
       "config": {
        "linkText": "Export to plot.ly",
        "plotlyServerURL": "https://plot.ly",
        "showLink": true
       },
       "data": [
        {
         "line": {
          "color": "rgba(255, 153, 51, 1.0)",
          "dash": "solid",
          "shape": "linear",
          "width": 1.3
         },
         "mode": "lines",
         "name": "A",
         "text": "",
         "type": "scatter",
         "x": [
          0,
          1,
          2,
          3,
          4,
          5,
          6,
          7,
          8,
          9,
          10,
          11,
          12,
          13,
          14,
          15,
          16,
          17,
          18,
          19,
          20,
          21,
          22,
          23,
          24,
          25,
          26,
          27,
          28,
          29,
          30,
          31,
          32,
          33,
          34,
          35,
          36,
          37,
          38,
          39,
          40,
          41,
          42,
          43,
          44,
          45,
          46,
          47,
          48,
          49,
          50,
          51,
          52,
          53,
          54,
          55,
          56,
          57,
          58,
          59,
          60,
          61,
          62,
          63,
          64,
          65,
          66,
          67,
          68,
          69,
          70,
          71,
          72,
          73,
          74,
          75,
          76,
          77,
          78,
          79,
          80,
          81,
          82,
          83,
          84,
          85,
          86,
          87,
          88,
          89,
          90,
          91,
          92,
          93,
          94,
          95,
          96,
          97,
          98,
          99
         ],
         "y": [
          0.2833623675227722,
          -1.127271506470818,
          0.5301991988413371,
          -0.9076037526358803,
          0.3045832521261345,
          1.5802942678868173,
          1.9590307813960588,
          0.4506493866329785,
          -0.16613983560977538,
          0.46344861995238673,
          -0.3029747794229369,
          1.0872271658066728,
          -1.6069227916919724,
          -0.06024722082744196,
          -1.000922647114807,
          -0.8428459274937556,
          0.29478573314485923,
          -0.25339222119091565,
          0.7187247748507258,
          1.3353341377998886,
          -0.3132263384895011,
          -0.39118000703348754,
          -1.7291172658029401,
          -0.5693280082171505,
          -0.18087539462310423,
          0.6036481562105745,
          0.16176229925673608,
          0.5404933164826498,
          -0.050736094303384584,
          -1.7608032679833248,
          1.1206641776550978,
          0.2838819671315071,
          -0.5719968871072524,
          -0.19937518829329207,
          -1.2092967930008358,
          -2.1550539493577956,
          -0.8506827098252433,
          0.09807027557339956,
          -0.20852721520392994,
          0.0912904455286591,
          0.8507029232627918,
          0.7463037519235868,
          0.1599236640979604,
          -1.462351188047253,
          0.457348739903739,
          0.7556632254955828,
          0.22062598272523387,
          -0.27599288567352176,
          -0.08651902719832559,
          -0.09390592780647052,
          0.24038800777499403,
          0.9386699960214014,
          -0.37020709228577187,
          -1.4755040676184674,
          0.4819500836736902,
          1.536663027126891,
          -1.8092408905159583,
          0.033277606986312054,
          0.09798696404977163,
          -0.32247346929781884,
          -1.555270331626882,
          0.9876894317407412,
          0.00028416691420902416,
          -0.39456722234572883,
          -0.08365889875132763,
          0.8416210966617714,
          0.7546325779328649,
          0.6720135507751842,
          -0.1608911463122692,
          0.7573962711229544,
          -1.174575815424979,
          -0.6613932481307679,
          0.005947420146648111,
          -0.395531939861682,
          -1.4391168822911,
          -1.3339009646738926,
          -0.3886619660027748,
          1.6126444498295815,
          -1.6794064847194896,
          -0.30320536220958877,
          0.9461461594017028,
          -0.06348775003781486,
          -2.124844609404621,
          0.08835640937139362,
          2.6901798168203337,
          0.6518982468613443,
          0.16121683466285788,
          0.5534423738048103,
          -0.0540939855612481,
          -0.33942531987529156,
          0.04449274194965574,
          -1.6732075886435611,
          -1.3900365917463668,
          0.49685876161216186,
          0.08337278758692533,
          1.4442163263090961,
          -1.0831084992907014,
          -1.0583044225528533,
          1.1535020255004065,
          0.5301801527396007
         ]
        },
        {
         "line": {
          "color": "rgba(55, 128, 191, 1.0)",
          "dash": "solid",
          "shape": "linear",
          "width": 1.3
         },
         "mode": "lines",
         "name": "B",
         "text": "",
         "type": "scatter",
         "x": [
          0,
          1,
          2,
          3,
          4,
          5,
          6,
          7,
          8,
          9,
          10,
          11,
          12,
          13,
          14,
          15,
          16,
          17,
          18,
          19,
          20,
          21,
          22,
          23,
          24,
          25,
          26,
          27,
          28,
          29,
          30,
          31,
          32,
          33,
          34,
          35,
          36,
          37,
          38,
          39,
          40,
          41,
          42,
          43,
          44,
          45,
          46,
          47,
          48,
          49,
          50,
          51,
          52,
          53,
          54,
          55,
          56,
          57,
          58,
          59,
          60,
          61,
          62,
          63,
          64,
          65,
          66,
          67,
          68,
          69,
          70,
          71,
          72,
          73,
          74,
          75,
          76,
          77,
          78,
          79,
          80,
          81,
          82,
          83,
          84,
          85,
          86,
          87,
          88,
          89,
          90,
          91,
          92,
          93,
          94,
          95,
          96,
          97,
          98,
          99
         ],
         "y": [
          -0.12933625164448187,
          0.13103167279239178,
          -0.2783800153100398,
          -0.4479072949745716,
          0.6150291508003769,
          0.04737160814250403,
          0.724359524718601,
          0.9068787283284158,
          -0.2834212092124333,
          1.3846874642484022,
          -0.7900873096135989,
          1.9990860724476802,
          0.06513492061042847,
          0.3761237870614334,
          1.306002077023205,
          0.21675678154141828,
          -0.17672460240902965,
          -1.6173317754480456,
          -0.3314978333603156,
          1.3484994220885849,
          -1.2528411501569485,
          -0.7478995842212484,
          0.8861269234986784,
          -0.6134231551246254,
          -0.5167498588077946,
          0.9238994036778923,
          0.30770452064141585,
          1.2560612137362714,
          0.4293958271803,
          -0.9714001809114541,
          0.0529499288742505,
          -1.3136810389141642,
          -1.2976580632562906,
          1.842221725391775,
          -1.0566420608604992,
          0.12321025879006645,
          -0.13612878866987144,
          0.22462263883719774,
          -0.003217995196276888,
          2.6856075213904202,
          2.4830248621546605,
          0.8821380943095746,
          0.9996863770264012,
          -0.003627477831770408,
          -1.2723142719885756,
          -0.30948703037988406,
          0.8843284070240234,
          -1.619507799527179,
          -0.4335750367397115,
          1.0655440640665477,
          0.43200915741373525,
          1.9197500330210822,
          0.15084415313177363,
          -2.71184007998908,
          1.7048789872131893,
          0.8192423426391454,
          -0.9901671207511124,
          -1.6328634527925319,
          0.21341038490737793,
          -1.658496320844627,
          -1.3250190128424661,
          -0.535465094697021,
          0.3473214304769248,
          -0.25946471137270866,
          -0.888522689105521,
          -0.9531852049657755,
          0.28526318110518045,
          -1.534240751475243,
          0.8163815140281812,
          -1.8164535882003214,
          -1.213659476037669,
          -0.20474995625923617,
          0.6709269694895401,
          0.7928575255755295,
          2.1310876397916347,
          2.073222829167607,
          1.0144150232185323,
          -0.07502724401221807,
          -0.04616501318666702,
          1.9666741653159439,
          -0.1018163441743207,
          -0.2982981792733883,
          -0.12177935394126996,
          -0.34511438462030997,
          -0.24258558078122744,
          0.08381699731823941,
          -0.18605525538332446,
          -0.07394916136370062,
          0.41322139524717544,
          1.098441891414735,
          0.09232940542087814,
          -0.043577383753931234,
          0.6529138894554455,
          0.24426145948580733,
          1.4830111845032046,
          -0.7322574441943723,
          -0.8515162512068878,
          -0.6158076287305354,
          -0.020335173306272214,
          -0.6668910616530364
         ]
        },
        {
         "line": {
          "color": "rgba(50, 171, 96, 1.0)",
          "dash": "solid",
          "shape": "linear",
          "width": 1.3
         },
         "mode": "lines",
         "name": "C",
         "text": "",
         "type": "scatter",
         "x": [
          0,
          1,
          2,
          3,
          4,
          5,
          6,
          7,
          8,
          9,
          10,
          11,
          12,
          13,
          14,
          15,
          16,
          17,
          18,
          19,
          20,
          21,
          22,
          23,
          24,
          25,
          26,
          27,
          28,
          29,
          30,
          31,
          32,
          33,
          34,
          35,
          36,
          37,
          38,
          39,
          40,
          41,
          42,
          43,
          44,
          45,
          46,
          47,
          48,
          49,
          50,
          51,
          52,
          53,
          54,
          55,
          56,
          57,
          58,
          59,
          60,
          61,
          62,
          63,
          64,
          65,
          66,
          67,
          68,
          69,
          70,
          71,
          72,
          73,
          74,
          75,
          76,
          77,
          78,
          79,
          80,
          81,
          82,
          83,
          84,
          85,
          86,
          87,
          88,
          89,
          90,
          91,
          92,
          93,
          94,
          95,
          96,
          97,
          98,
          99
         ],
         "y": [
          0.018304062145121796,
          2.019560754593152,
          0.42626945686576057,
          -0.2739679545653923,
          -0.997470781234299,
          -0.4503484953971212,
          0.05658522896126178,
          1.8703946758539833,
          -0.7282192165981017,
          1.0130887851430903,
          -0.10412595903727308,
          0.7723039698034716,
          -0.06025944559918106,
          -0.010354771633410958,
          -1.0602696860984755,
          1.1050084100426039,
          0.5485003927777916,
          0.9620419540774584,
          0.49128914698941123,
          1.2894853079161406,
          0.992477393767811,
          -0.6008012606025712,
          0.19476008014146914,
          -0.43162557226475934,
          0.867260093335228,
          -0.6997608098644535,
          0.6877716080348647,
          0.4660829399051041,
          -0.08536836649304284,
          -0.18964437507119677,
          -0.3322133063995614,
          0.27578424620315134,
          0.8063923437482271,
          -1.1628782053179392,
          0.0016177627350909575,
          -0.46436331315096663,
          0.15959018813893852,
          0.7077743871910742,
          0.39785969275151184,
          0.15125646833970402,
          0.14721214493331997,
          -1.8890937356112523,
          0.9370721993704706,
          -0.5804723441556117,
          -0.2350651451925488,
          -0.6674631147974077,
          0.02178475613693451,
          -1.3371935361464589,
          0.9526116704709032,
          -0.6081704213007355,
          0.6571963675789121,
          -0.9820874029605368,
          0.2725657620170841,
          -0.9904415670560973,
          -1.849058299728199,
          0.38015458845456834,
          0.8909796578205339,
          0.11902953150791908,
          -0.7012940906761457,
          -0.29974258165132417,
          -0.49365558541711935,
          -1.1159286304908431,
          -0.1567280612065704,
          2.2497285275914063,
          0.4956714825395612,
          -0.07547408536663255,
          0.8232769911074701,
          0.5900584624509049,
          -0.05725963313849215,
          0.6819320413184793,
          -1.1910889539700689,
          0.8093801574983543,
          -0.23897977149795457,
          -0.8901446846458919,
          1.720009001354134,
          -0.6975196389152628,
          0.11004468433955364,
          -0.46526464429070824,
          -0.8936350951103114,
          1.928652152916678,
          0.4101906275374475,
          0.3741917471953431,
          -0.7062904196750375,
          -0.5253432726929733,
          0.6971537769431922,
          1.2856277367726674,
          -0.012212380541684805,
          -1.5985386798165575,
          1.6404222204367034,
          0.3708504880946784,
          -0.1297059977919652,
          -1.705705487812127,
          -1.3506013383049886,
          -1.22973244817741,
          1.653108443530469,
          -0.555410614110448,
          1.498197880074332,
          0.3382822390084572,
          -0.3597481333139245,
          1.4929199677948024
         ]
        },
        {
         "line": {
          "color": "rgba(128, 0, 128, 1.0)",
          "dash": "solid",
          "shape": "linear",
          "width": 1.3
         },
         "mode": "lines",
         "name": "D",
         "text": "",
         "type": "scatter",
         "x": [
          0,
          1,
          2,
          3,
          4,
          5,
          6,
          7,
          8,
          9,
          10,
          11,
          12,
          13,
          14,
          15,
          16,
          17,
          18,
          19,
          20,
          21,
          22,
          23,
          24,
          25,
          26,
          27,
          28,
          29,
          30,
          31,
          32,
          33,
          34,
          35,
          36,
          37,
          38,
          39,
          40,
          41,
          42,
          43,
          44,
          45,
          46,
          47,
          48,
          49,
          50,
          51,
          52,
          53,
          54,
          55,
          56,
          57,
          58,
          59,
          60,
          61,
          62,
          63,
          64,
          65,
          66,
          67,
          68,
          69,
          70,
          71,
          72,
          73,
          74,
          75,
          76,
          77,
          78,
          79,
          80,
          81,
          82,
          83,
          84,
          85,
          86,
          87,
          88,
          89,
          90,
          91,
          92,
          93,
          94,
          95,
          96,
          97,
          98,
          99
         ],
         "y": [
          -0.10216109838905961,
          -0.7656310421934167,
          0.4627481919278918,
          0.9676006214274528,
          0.926423776406431,
          -1.2317828753206672,
          -0.5628576478198102,
          2.504698142086036,
          -0.7737906758600905,
          1.164448663529737,
          0.2194657342618466,
          -1.5607971961887463,
          -1.416330514049092,
          0.6022444830440444,
          -0.9967003017604306,
          0.7165759040467021,
          -1.0270307209633915,
          0.24244449524876405,
          -0.5716852539984539,
          -0.48018727006504236,
          -0.6222621259478935,
          0.5345674934143281,
          0.43066330589856916,
          0.39671996353224714,
          -1.7478511876548124,
          -0.6558305603981607,
          -1.7588752942876509,
          -0.27901605793121487,
          -0.749927124658345,
          0.03519509179408801,
          0.6844835308390853,
          0.8016764794186388,
          -1.805456628608875,
          0.5493382492540594,
          -0.28810485415561893,
          1.776034726551925,
          1.3884960787525806,
          0.4234279651141638,
          -0.08072519087184314,
          -0.14366992536775397,
          -0.3110525320622555,
          -2.258851020385416,
          -0.8778884219465041,
          0.7169531573259034,
          -1.1175552516652947,
          1.998555339200149,
          0.010143811692055183,
          0.9997061409217312,
          0.6864193461963589,
          1.3033752026755039,
          0.17058949843208143,
          1.145439503574977,
          2.4733397056527635,
          0.10495562776449723,
          -1.7114608332231993,
          -2.4304805906032483,
          -0.4285963627332784,
          0.7020655166841565,
          -0.8396898673496372,
          2.524079694264786,
          0.531847360975319,
          -0.5108953101574714,
          -0.7592884951649482,
          -1.9399899488852062,
          0.4312887366747811,
          -1.5001091717186794,
          -1.0353191820511753,
          -1.1859422371830854,
          0.7329268277853427,
          -1.383494128063116,
          0.4132636032392495,
          0.5860992364708144,
          0.463041573680821,
          -1.3695660492015935,
          0.029227875593643714,
          0.566167264096036,
          -1.0254797983782813,
          1.1173861364049216,
          0.5543321247277112,
          1.7776006208415918,
          0.0037431964315748014,
          0.26877480651159624,
          1.769753103285265,
          -0.8217700822449036,
          -0.5765004269474363,
          -0.34946119392723046,
          -2.009057551334199,
          -0.18911911189835176,
          0.08196592547320265,
          -0.6713467690769955,
          1.592816275040431,
          -1.0030357365117704,
          -0.06681179500629934,
          1.7912023856489334,
          0.07609350198462528,
          -1.3227640709596251,
          -1.0083682068497435,
          1.2363708695953775,
          -1.3210175973343643,
          -0.003250788169452081
         ]
        }
       ],
       "layout": {
        "legend": {
         "bgcolor": "#F5F6F9",
         "font": {
          "color": "#4D5663"
         }
        },
        "paper_bgcolor": "#F5F6F9",
        "plot_bgcolor": "#F5F6F9",
        "template": {
         "data": {
          "bar": [
           {
            "error_x": {
             "color": "#2a3f5f"
            },
            "error_y": {
             "color": "#2a3f5f"
            },
            "marker": {
             "line": {
              "color": "#E5ECF6",
              "width": 0.5
             }
            },
            "type": "bar"
           }
          ],
          "barpolar": [
           {
            "marker": {
             "line": {
              "color": "#E5ECF6",
              "width": 0.5
             }
            },
            "type": "barpolar"
           }
          ],
          "carpet": [
           {
            "aaxis": {
             "endlinecolor": "#2a3f5f",
             "gridcolor": "white",
             "linecolor": "white",
             "minorgridcolor": "white",
             "startlinecolor": "#2a3f5f"
            },
            "baxis": {
             "endlinecolor": "#2a3f5f",
             "gridcolor": "white",
             "linecolor": "white",
             "minorgridcolor": "white",
             "startlinecolor": "#2a3f5f"
            },
            "type": "carpet"
           }
          ],
          "choropleth": [
           {
            "colorbar": {
             "outlinewidth": 0,
             "ticks": ""
            },
            "type": "choropleth"
           }
          ],
          "contour": [
           {
            "colorbar": {
             "outlinewidth": 0,
             "ticks": ""
            },
            "colorscale": [
             [
              0,
              "#0d0887"
             ],
             [
              0.1111111111111111,
              "#46039f"
             ],
             [
              0.2222222222222222,
              "#7201a8"
             ],
             [
              0.3333333333333333,
              "#9c179e"
             ],
             [
              0.4444444444444444,
              "#bd3786"
             ],
             [
              0.5555555555555556,
              "#d8576b"
             ],
             [
              0.6666666666666666,
              "#ed7953"
             ],
             [
              0.7777777777777778,
              "#fb9f3a"
             ],
             [
              0.8888888888888888,
              "#fdca26"
             ],
             [
              1,
              "#f0f921"
             ]
            ],
            "type": "contour"
           }
          ],
          "contourcarpet": [
           {
            "colorbar": {
             "outlinewidth": 0,
             "ticks": ""
            },
            "type": "contourcarpet"
           }
          ],
          "heatmap": [
           {
            "colorbar": {
             "outlinewidth": 0,
             "ticks": ""
            },
            "colorscale": [
             [
              0,
              "#0d0887"
             ],
             [
              0.1111111111111111,
              "#46039f"
             ],
             [
              0.2222222222222222,
              "#7201a8"
             ],
             [
              0.3333333333333333,
              "#9c179e"
             ],
             [
              0.4444444444444444,
              "#bd3786"
             ],
             [
              0.5555555555555556,
              "#d8576b"
             ],
             [
              0.6666666666666666,
              "#ed7953"
             ],
             [
              0.7777777777777778,
              "#fb9f3a"
             ],
             [
              0.8888888888888888,
              "#fdca26"
             ],
             [
              1,
              "#f0f921"
             ]
            ],
            "type": "heatmap"
           }
          ],
          "heatmapgl": [
           {
            "colorbar": {
             "outlinewidth": 0,
             "ticks": ""
            },
            "colorscale": [
             [
              0,
              "#0d0887"
             ],
             [
              0.1111111111111111,
              "#46039f"
             ],
             [
              0.2222222222222222,
              "#7201a8"
             ],
             [
              0.3333333333333333,
              "#9c179e"
             ],
             [
              0.4444444444444444,
              "#bd3786"
             ],
             [
              0.5555555555555556,
              "#d8576b"
             ],
             [
              0.6666666666666666,
              "#ed7953"
             ],
             [
              0.7777777777777778,
              "#fb9f3a"
             ],
             [
              0.8888888888888888,
              "#fdca26"
             ],
             [
              1,
              "#f0f921"
             ]
            ],
            "type": "heatmapgl"
           }
          ],
          "histogram": [
           {
            "marker": {
             "colorbar": {
              "outlinewidth": 0,
              "ticks": ""
             }
            },
            "type": "histogram"
           }
          ],
          "histogram2d": [
           {
            "colorbar": {
             "outlinewidth": 0,
             "ticks": ""
            },
            "colorscale": [
             [
              0,
              "#0d0887"
             ],
             [
              0.1111111111111111,
              "#46039f"
             ],
             [
              0.2222222222222222,
              "#7201a8"
             ],
             [
              0.3333333333333333,
              "#9c179e"
             ],
             [
              0.4444444444444444,
              "#bd3786"
             ],
             [
              0.5555555555555556,
              "#d8576b"
             ],
             [
              0.6666666666666666,
              "#ed7953"
             ],
             [
              0.7777777777777778,
              "#fb9f3a"
             ],
             [
              0.8888888888888888,
              "#fdca26"
             ],
             [
              1,
              "#f0f921"
             ]
            ],
            "type": "histogram2d"
           }
          ],
          "histogram2dcontour": [
           {
            "colorbar": {
             "outlinewidth": 0,
             "ticks": ""
            },
            "colorscale": [
             [
              0,
              "#0d0887"
             ],
             [
              0.1111111111111111,
              "#46039f"
             ],
             [
              0.2222222222222222,
              "#7201a8"
             ],
             [
              0.3333333333333333,
              "#9c179e"
             ],
             [
              0.4444444444444444,
              "#bd3786"
             ],
             [
              0.5555555555555556,
              "#d8576b"
             ],
             [
              0.6666666666666666,
              "#ed7953"
             ],
             [
              0.7777777777777778,
              "#fb9f3a"
             ],
             [
              0.8888888888888888,
              "#fdca26"
             ],
             [
              1,
              "#f0f921"
             ]
            ],
            "type": "histogram2dcontour"
           }
          ],
          "mesh3d": [
           {
            "colorbar": {
             "outlinewidth": 0,
             "ticks": ""
            },
            "type": "mesh3d"
           }
          ],
          "parcoords": [
           {
            "line": {
             "colorbar": {
              "outlinewidth": 0,
              "ticks": ""
             }
            },
            "type": "parcoords"
           }
          ],
          "pie": [
           {
            "automargin": true,
            "type": "pie"
           }
          ],
          "scatter": [
           {
            "marker": {
             "colorbar": {
              "outlinewidth": 0,
              "ticks": ""
             }
            },
            "type": "scatter"
           }
          ],
          "scatter3d": [
           {
            "line": {
             "colorbar": {
              "outlinewidth": 0,
              "ticks": ""
             }
            },
            "marker": {
             "colorbar": {
              "outlinewidth": 0,
              "ticks": ""
             }
            },
            "type": "scatter3d"
           }
          ],
          "scattercarpet": [
           {
            "marker": {
             "colorbar": {
              "outlinewidth": 0,
              "ticks": ""
             }
            },
            "type": "scattercarpet"
           }
          ],
          "scattergeo": [
           {
            "marker": {
             "colorbar": {
              "outlinewidth": 0,
              "ticks": ""
             }
            },
            "type": "scattergeo"
           }
          ],
          "scattergl": [
           {
            "marker": {
             "colorbar": {
              "outlinewidth": 0,
              "ticks": ""
             }
            },
            "type": "scattergl"
           }
          ],
          "scattermapbox": [
           {
            "marker": {
             "colorbar": {
              "outlinewidth": 0,
              "ticks": ""
             }
            },
            "type": "scattermapbox"
           }
          ],
          "scatterpolar": [
           {
            "marker": {
             "colorbar": {
              "outlinewidth": 0,
              "ticks": ""
             }
            },
            "type": "scatterpolar"
           }
          ],
          "scatterpolargl": [
           {
            "marker": {
             "colorbar": {
              "outlinewidth": 0,
              "ticks": ""
             }
            },
            "type": "scatterpolargl"
           }
          ],
          "scatterternary": [
           {
            "marker": {
             "colorbar": {
              "outlinewidth": 0,
              "ticks": ""
             }
            },
            "type": "scatterternary"
           }
          ],
          "surface": [
           {
            "colorbar": {
             "outlinewidth": 0,
             "ticks": ""
            },
            "colorscale": [
             [
              0,
              "#0d0887"
             ],
             [
              0.1111111111111111,
              "#46039f"
             ],
             [
              0.2222222222222222,
              "#7201a8"
             ],
             [
              0.3333333333333333,
              "#9c179e"
             ],
             [
              0.4444444444444444,
              "#bd3786"
             ],
             [
              0.5555555555555556,
              "#d8576b"
             ],
             [
              0.6666666666666666,
              "#ed7953"
             ],
             [
              0.7777777777777778,
              "#fb9f3a"
             ],
             [
              0.8888888888888888,
              "#fdca26"
             ],
             [
              1,
              "#f0f921"
             ]
            ],
            "type": "surface"
           }
          ],
          "table": [
           {
            "cells": {
             "fill": {
              "color": "#EBF0F8"
             },
             "line": {
              "color": "white"
             }
            },
            "header": {
             "fill": {
              "color": "#C8D4E3"
             },
             "line": {
              "color": "white"
             }
            },
            "type": "table"
           }
          ]
         },
         "layout": {
          "annotationdefaults": {
           "arrowcolor": "#2a3f5f",
           "arrowhead": 0,
           "arrowwidth": 1
          },
          "coloraxis": {
           "colorbar": {
            "outlinewidth": 0,
            "ticks": ""
           }
          },
          "colorscale": {
           "diverging": [
            [
             0,
             "#8e0152"
            ],
            [
             0.1,
             "#c51b7d"
            ],
            [
             0.2,
             "#de77ae"
            ],
            [
             0.3,
             "#f1b6da"
            ],
            [
             0.4,
             "#fde0ef"
            ],
            [
             0.5,
             "#f7f7f7"
            ],
            [
             0.6,
             "#e6f5d0"
            ],
            [
             0.7,
             "#b8e186"
            ],
            [
             0.8,
             "#7fbc41"
            ],
            [
             0.9,
             "#4d9221"
            ],
            [
             1,
             "#276419"
            ]
           ],
           "sequential": [
            [
             0,
             "#0d0887"
            ],
            [
             0.1111111111111111,
             "#46039f"
            ],
            [
             0.2222222222222222,
             "#7201a8"
            ],
            [
             0.3333333333333333,
             "#9c179e"
            ],
            [
             0.4444444444444444,
             "#bd3786"
            ],
            [
             0.5555555555555556,
             "#d8576b"
            ],
            [
             0.6666666666666666,
             "#ed7953"
            ],
            [
             0.7777777777777778,
             "#fb9f3a"
            ],
            [
             0.8888888888888888,
             "#fdca26"
            ],
            [
             1,
             "#f0f921"
            ]
           ],
           "sequentialminus": [
            [
             0,
             "#0d0887"
            ],
            [
             0.1111111111111111,
             "#46039f"
            ],
            [
             0.2222222222222222,
             "#7201a8"
            ],
            [
             0.3333333333333333,
             "#9c179e"
            ],
            [
             0.4444444444444444,
             "#bd3786"
            ],
            [
             0.5555555555555556,
             "#d8576b"
            ],
            [
             0.6666666666666666,
             "#ed7953"
            ],
            [
             0.7777777777777778,
             "#fb9f3a"
            ],
            [
             0.8888888888888888,
             "#fdca26"
            ],
            [
             1,
             "#f0f921"
            ]
           ]
          },
          "colorway": [
           "#636efa",
           "#EF553B",
           "#00cc96",
           "#ab63fa",
           "#FFA15A",
           "#19d3f3",
           "#FF6692",
           "#B6E880",
           "#FF97FF",
           "#FECB52"
          ],
          "font": {
           "color": "#2a3f5f"
          },
          "geo": {
           "bgcolor": "white",
           "lakecolor": "white",
           "landcolor": "#E5ECF6",
           "showlakes": true,
           "showland": true,
           "subunitcolor": "white"
          },
          "hoverlabel": {
           "align": "left"
          },
          "hovermode": "closest",
          "mapbox": {
           "style": "light"
          },
          "paper_bgcolor": "white",
          "plot_bgcolor": "#E5ECF6",
          "polar": {
           "angularaxis": {
            "gridcolor": "white",
            "linecolor": "white",
            "ticks": ""
           },
           "bgcolor": "#E5ECF6",
           "radialaxis": {
            "gridcolor": "white",
            "linecolor": "white",
            "ticks": ""
           }
          },
          "scene": {
           "xaxis": {
            "backgroundcolor": "#E5ECF6",
            "gridcolor": "white",
            "gridwidth": 2,
            "linecolor": "white",
            "showbackground": true,
            "ticks": "",
            "zerolinecolor": "white"
           },
           "yaxis": {
            "backgroundcolor": "#E5ECF6",
            "gridcolor": "white",
            "gridwidth": 2,
            "linecolor": "white",
            "showbackground": true,
            "ticks": "",
            "zerolinecolor": "white"
           },
           "zaxis": {
            "backgroundcolor": "#E5ECF6",
            "gridcolor": "white",
            "gridwidth": 2,
            "linecolor": "white",
            "showbackground": true,
            "ticks": "",
            "zerolinecolor": "white"
           }
          },
          "shapedefaults": {
           "line": {
            "color": "#2a3f5f"
           }
          },
          "ternary": {
           "aaxis": {
            "gridcolor": "white",
            "linecolor": "white",
            "ticks": ""
           },
           "baxis": {
            "gridcolor": "white",
            "linecolor": "white",
            "ticks": ""
           },
           "bgcolor": "#E5ECF6",
           "caxis": {
            "gridcolor": "white",
            "linecolor": "white",
            "ticks": ""
           }
          },
          "title": {
           "x": 0.05
          },
          "xaxis": {
           "automargin": true,
           "gridcolor": "white",
           "linecolor": "white",
           "ticks": "",
           "title": {
            "standoff": 15
           },
           "zerolinecolor": "white",
           "zerolinewidth": 2
          },
          "yaxis": {
           "automargin": true,
           "gridcolor": "white",
           "linecolor": "white",
           "ticks": "",
           "title": {
            "standoff": 15
           },
           "zerolinecolor": "white",
           "zerolinewidth": 2
          }
         }
        },
        "title": {
         "font": {
          "color": "#4D5663"
         }
        },
        "xaxis": {
         "gridcolor": "#E1E5ED",
         "showgrid": true,
         "tickfont": {
          "color": "#4D5663"
         },
         "title": {
          "font": {
           "color": "#4D5663"
          },
          "text": ""
         },
         "zerolinecolor": "#E1E5ED"
        },
        "yaxis": {
         "gridcolor": "#E1E5ED",
         "showgrid": true,
         "tickfont": {
          "color": "#4D5663"
         },
         "title": {
          "font": {
           "color": "#4D5663"
          },
          "text": ""
         },
         "zerolinecolor": "#E1E5ED"
        }
       }
      },
      "text/html": [
       "<div>                            <div id=\"e41220cb-33c0-4269-a41d-9cf828c606d8\" class=\"plotly-graph-div\" style=\"height:525px; width:100%;\"></div>            <script type=\"text/javascript\">                require([\"plotly\"], function(Plotly) {                    window.PLOTLYENV=window.PLOTLYENV || {};\n",
       "                    window.PLOTLYENV.BASE_URL='https://plot.ly';                                    if (document.getElementById(\"e41220cb-33c0-4269-a41d-9cf828c606d8\")) {                    Plotly.newPlot(                        \"e41220cb-33c0-4269-a41d-9cf828c606d8\",                        [{\"line\": {\"color\": \"rgba(255, 153, 51, 1.0)\", \"dash\": \"solid\", \"shape\": \"linear\", \"width\": 1.3}, \"mode\": \"lines\", \"name\": \"A\", \"text\": \"\", \"type\": \"scatter\", \"x\": [0, 1, 2, 3, 4, 5, 6, 7, 8, 9, 10, 11, 12, 13, 14, 15, 16, 17, 18, 19, 20, 21, 22, 23, 24, 25, 26, 27, 28, 29, 30, 31, 32, 33, 34, 35, 36, 37, 38, 39, 40, 41, 42, 43, 44, 45, 46, 47, 48, 49, 50, 51, 52, 53, 54, 55, 56, 57, 58, 59, 60, 61, 62, 63, 64, 65, 66, 67, 68, 69, 70, 71, 72, 73, 74, 75, 76, 77, 78, 79, 80, 81, 82, 83, 84, 85, 86, 87, 88, 89, 90, 91, 92, 93, 94, 95, 96, 97, 98, 99], \"y\": [0.2833623675227722, -1.127271506470818, 0.5301991988413371, -0.9076037526358803, 0.3045832521261345, 1.5802942678868173, 1.9590307813960588, 0.4506493866329785, -0.16613983560977538, 0.46344861995238673, -0.3029747794229369, 1.0872271658066728, -1.6069227916919724, -0.06024722082744196, -1.000922647114807, -0.8428459274937556, 0.29478573314485923, -0.25339222119091565, 0.7187247748507258, 1.3353341377998886, -0.3132263384895011, -0.39118000703348754, -1.7291172658029401, -0.5693280082171505, -0.18087539462310423, 0.6036481562105745, 0.16176229925673608, 0.5404933164826498, -0.050736094303384584, -1.7608032679833248, 1.1206641776550978, 0.2838819671315071, -0.5719968871072524, -0.19937518829329207, -1.2092967930008358, -2.1550539493577956, -0.8506827098252433, 0.09807027557339956, -0.20852721520392994, 0.0912904455286591, 0.8507029232627918, 0.7463037519235868, 0.1599236640979604, -1.462351188047253, 0.457348739903739, 0.7556632254955828, 0.22062598272523387, -0.27599288567352176, -0.08651902719832559, -0.09390592780647052, 0.24038800777499403, 0.9386699960214014, -0.37020709228577187, -1.4755040676184674, 0.4819500836736902, 1.536663027126891, -1.8092408905159583, 0.033277606986312054, 0.09798696404977163, -0.32247346929781884, -1.555270331626882, 0.9876894317407412, 0.00028416691420902416, -0.39456722234572883, -0.08365889875132763, 0.8416210966617714, 0.7546325779328649, 0.6720135507751842, -0.1608911463122692, 0.7573962711229544, -1.174575815424979, -0.6613932481307679, 0.005947420146648111, -0.395531939861682, -1.4391168822911, -1.3339009646738926, -0.3886619660027748, 1.6126444498295815, -1.6794064847194896, -0.30320536220958877, 0.9461461594017028, -0.06348775003781486, -2.124844609404621, 0.08835640937139362, 2.6901798168203337, 0.6518982468613443, 0.16121683466285788, 0.5534423738048103, -0.0540939855612481, -0.33942531987529156, 0.04449274194965574, -1.6732075886435611, -1.3900365917463668, 0.49685876161216186, 0.08337278758692533, 1.4442163263090961, -1.0831084992907014, -1.0583044225528533, 1.1535020255004065, 0.5301801527396007]}, {\"line\": {\"color\": \"rgba(55, 128, 191, 1.0)\", \"dash\": \"solid\", \"shape\": \"linear\", \"width\": 1.3}, \"mode\": \"lines\", \"name\": \"B\", \"text\": \"\", \"type\": \"scatter\", \"x\": [0, 1, 2, 3, 4, 5, 6, 7, 8, 9, 10, 11, 12, 13, 14, 15, 16, 17, 18, 19, 20, 21, 22, 23, 24, 25, 26, 27, 28, 29, 30, 31, 32, 33, 34, 35, 36, 37, 38, 39, 40, 41, 42, 43, 44, 45, 46, 47, 48, 49, 50, 51, 52, 53, 54, 55, 56, 57, 58, 59, 60, 61, 62, 63, 64, 65, 66, 67, 68, 69, 70, 71, 72, 73, 74, 75, 76, 77, 78, 79, 80, 81, 82, 83, 84, 85, 86, 87, 88, 89, 90, 91, 92, 93, 94, 95, 96, 97, 98, 99], \"y\": [-0.12933625164448187, 0.13103167279239178, -0.2783800153100398, -0.4479072949745716, 0.6150291508003769, 0.04737160814250403, 0.724359524718601, 0.9068787283284158, -0.2834212092124333, 1.3846874642484022, -0.7900873096135989, 1.9990860724476802, 0.06513492061042847, 0.3761237870614334, 1.306002077023205, 0.21675678154141828, -0.17672460240902965, -1.6173317754480456, -0.3314978333603156, 1.3484994220885849, -1.2528411501569485, -0.7478995842212484, 0.8861269234986784, -0.6134231551246254, -0.5167498588077946, 0.9238994036778923, 0.30770452064141585, 1.2560612137362714, 0.4293958271803, -0.9714001809114541, 0.0529499288742505, -1.3136810389141642, -1.2976580632562906, 1.842221725391775, -1.0566420608604992, 0.12321025879006645, -0.13612878866987144, 0.22462263883719774, -0.003217995196276888, 2.6856075213904202, 2.4830248621546605, 0.8821380943095746, 0.9996863770264012, -0.003627477831770408, -1.2723142719885756, -0.30948703037988406, 0.8843284070240234, -1.619507799527179, -0.4335750367397115, 1.0655440640665477, 0.43200915741373525, 1.9197500330210822, 0.15084415313177363, -2.71184007998908, 1.7048789872131893, 0.8192423426391454, -0.9901671207511124, -1.6328634527925319, 0.21341038490737793, -1.658496320844627, -1.3250190128424661, -0.535465094697021, 0.3473214304769248, -0.25946471137270866, -0.888522689105521, -0.9531852049657755, 0.28526318110518045, -1.534240751475243, 0.8163815140281812, -1.8164535882003214, -1.213659476037669, -0.20474995625923617, 0.6709269694895401, 0.7928575255755295, 2.1310876397916347, 2.073222829167607, 1.0144150232185323, -0.07502724401221807, -0.04616501318666702, 1.9666741653159439, -0.1018163441743207, -0.2982981792733883, -0.12177935394126996, -0.34511438462030997, -0.24258558078122744, 0.08381699731823941, -0.18605525538332446, -0.07394916136370062, 0.41322139524717544, 1.098441891414735, 0.09232940542087814, -0.043577383753931234, 0.6529138894554455, 0.24426145948580733, 1.4830111845032046, -0.7322574441943723, -0.8515162512068878, -0.6158076287305354, -0.020335173306272214, -0.6668910616530364]}, {\"line\": {\"color\": \"rgba(50, 171, 96, 1.0)\", \"dash\": \"solid\", \"shape\": \"linear\", \"width\": 1.3}, \"mode\": \"lines\", \"name\": \"C\", \"text\": \"\", \"type\": \"scatter\", \"x\": [0, 1, 2, 3, 4, 5, 6, 7, 8, 9, 10, 11, 12, 13, 14, 15, 16, 17, 18, 19, 20, 21, 22, 23, 24, 25, 26, 27, 28, 29, 30, 31, 32, 33, 34, 35, 36, 37, 38, 39, 40, 41, 42, 43, 44, 45, 46, 47, 48, 49, 50, 51, 52, 53, 54, 55, 56, 57, 58, 59, 60, 61, 62, 63, 64, 65, 66, 67, 68, 69, 70, 71, 72, 73, 74, 75, 76, 77, 78, 79, 80, 81, 82, 83, 84, 85, 86, 87, 88, 89, 90, 91, 92, 93, 94, 95, 96, 97, 98, 99], \"y\": [0.018304062145121796, 2.019560754593152, 0.42626945686576057, -0.2739679545653923, -0.997470781234299, -0.4503484953971212, 0.05658522896126178, 1.8703946758539833, -0.7282192165981017, 1.0130887851430903, -0.10412595903727308, 0.7723039698034716, -0.06025944559918106, -0.010354771633410958, -1.0602696860984755, 1.1050084100426039, 0.5485003927777916, 0.9620419540774584, 0.49128914698941123, 1.2894853079161406, 0.992477393767811, -0.6008012606025712, 0.19476008014146914, -0.43162557226475934, 0.867260093335228, -0.6997608098644535, 0.6877716080348647, 0.4660829399051041, -0.08536836649304284, -0.18964437507119677, -0.3322133063995614, 0.27578424620315134, 0.8063923437482271, -1.1628782053179392, 0.0016177627350909575, -0.46436331315096663, 0.15959018813893852, 0.7077743871910742, 0.39785969275151184, 0.15125646833970402, 0.14721214493331997, -1.8890937356112523, 0.9370721993704706, -0.5804723441556117, -0.2350651451925488, -0.6674631147974077, 0.02178475613693451, -1.3371935361464589, 0.9526116704709032, -0.6081704213007355, 0.6571963675789121, -0.9820874029605368, 0.2725657620170841, -0.9904415670560973, -1.849058299728199, 0.38015458845456834, 0.8909796578205339, 0.11902953150791908, -0.7012940906761457, -0.29974258165132417, -0.49365558541711935, -1.1159286304908431, -0.1567280612065704, 2.2497285275914063, 0.4956714825395612, -0.07547408536663255, 0.8232769911074701, 0.5900584624509049, -0.05725963313849215, 0.6819320413184793, -1.1910889539700689, 0.8093801574983543, -0.23897977149795457, -0.8901446846458919, 1.720009001354134, -0.6975196389152628, 0.11004468433955364, -0.46526464429070824, -0.8936350951103114, 1.928652152916678, 0.4101906275374475, 0.3741917471953431, -0.7062904196750375, -0.5253432726929733, 0.6971537769431922, 1.2856277367726674, -0.012212380541684805, -1.5985386798165575, 1.6404222204367034, 0.3708504880946784, -0.1297059977919652, -1.705705487812127, -1.3506013383049886, -1.22973244817741, 1.653108443530469, -0.555410614110448, 1.498197880074332, 0.3382822390084572, -0.3597481333139245, 1.4929199677948024]}, {\"line\": {\"color\": \"rgba(128, 0, 128, 1.0)\", \"dash\": \"solid\", \"shape\": \"linear\", \"width\": 1.3}, \"mode\": \"lines\", \"name\": \"D\", \"text\": \"\", \"type\": \"scatter\", \"x\": [0, 1, 2, 3, 4, 5, 6, 7, 8, 9, 10, 11, 12, 13, 14, 15, 16, 17, 18, 19, 20, 21, 22, 23, 24, 25, 26, 27, 28, 29, 30, 31, 32, 33, 34, 35, 36, 37, 38, 39, 40, 41, 42, 43, 44, 45, 46, 47, 48, 49, 50, 51, 52, 53, 54, 55, 56, 57, 58, 59, 60, 61, 62, 63, 64, 65, 66, 67, 68, 69, 70, 71, 72, 73, 74, 75, 76, 77, 78, 79, 80, 81, 82, 83, 84, 85, 86, 87, 88, 89, 90, 91, 92, 93, 94, 95, 96, 97, 98, 99], \"y\": [-0.10216109838905961, -0.7656310421934167, 0.4627481919278918, 0.9676006214274528, 0.926423776406431, -1.2317828753206672, -0.5628576478198102, 2.504698142086036, -0.7737906758600905, 1.164448663529737, 0.2194657342618466, -1.5607971961887463, -1.416330514049092, 0.6022444830440444, -0.9967003017604306, 0.7165759040467021, -1.0270307209633915, 0.24244449524876405, -0.5716852539984539, -0.48018727006504236, -0.6222621259478935, 0.5345674934143281, 0.43066330589856916, 0.39671996353224714, -1.7478511876548124, -0.6558305603981607, -1.7588752942876509, -0.27901605793121487, -0.749927124658345, 0.03519509179408801, 0.6844835308390853, 0.8016764794186388, -1.805456628608875, 0.5493382492540594, -0.28810485415561893, 1.776034726551925, 1.3884960787525806, 0.4234279651141638, -0.08072519087184314, -0.14366992536775397, -0.3110525320622555, -2.258851020385416, -0.8778884219465041, 0.7169531573259034, -1.1175552516652947, 1.998555339200149, 0.010143811692055183, 0.9997061409217312, 0.6864193461963589, 1.3033752026755039, 0.17058949843208143, 1.145439503574977, 2.4733397056527635, 0.10495562776449723, -1.7114608332231993, -2.4304805906032483, -0.4285963627332784, 0.7020655166841565, -0.8396898673496372, 2.524079694264786, 0.531847360975319, -0.5108953101574714, -0.7592884951649482, -1.9399899488852062, 0.4312887366747811, -1.5001091717186794, -1.0353191820511753, -1.1859422371830854, 0.7329268277853427, -1.383494128063116, 0.4132636032392495, 0.5860992364708144, 0.463041573680821, -1.3695660492015935, 0.029227875593643714, 0.566167264096036, -1.0254797983782813, 1.1173861364049216, 0.5543321247277112, 1.7776006208415918, 0.0037431964315748014, 0.26877480651159624, 1.769753103285265, -0.8217700822449036, -0.5765004269474363, -0.34946119392723046, -2.009057551334199, -0.18911911189835176, 0.08196592547320265, -0.6713467690769955, 1.592816275040431, -1.0030357365117704, -0.06681179500629934, 1.7912023856489334, 0.07609350198462528, -1.3227640709596251, -1.0083682068497435, 1.2363708695953775, -1.3210175973343643, -0.003250788169452081]}],                        {\"legend\": {\"bgcolor\": \"#F5F6F9\", \"font\": {\"color\": \"#4D5663\"}}, \"paper_bgcolor\": \"#F5F6F9\", \"plot_bgcolor\": \"#F5F6F9\", \"template\": {\"data\": {\"bar\": [{\"error_x\": {\"color\": \"#2a3f5f\"}, \"error_y\": {\"color\": \"#2a3f5f\"}, \"marker\": {\"line\": {\"color\": \"#E5ECF6\", \"width\": 0.5}}, \"type\": \"bar\"}], \"barpolar\": [{\"marker\": {\"line\": {\"color\": \"#E5ECF6\", \"width\": 0.5}}, \"type\": \"barpolar\"}], \"carpet\": [{\"aaxis\": {\"endlinecolor\": \"#2a3f5f\", \"gridcolor\": \"white\", \"linecolor\": \"white\", \"minorgridcolor\": \"white\", \"startlinecolor\": \"#2a3f5f\"}, \"baxis\": {\"endlinecolor\": \"#2a3f5f\", \"gridcolor\": \"white\", \"linecolor\": \"white\", \"minorgridcolor\": \"white\", \"startlinecolor\": \"#2a3f5f\"}, \"type\": \"carpet\"}], \"choropleth\": [{\"colorbar\": {\"outlinewidth\": 0, \"ticks\": \"\"}, \"type\": \"choropleth\"}], \"contour\": [{\"colorbar\": {\"outlinewidth\": 0, \"ticks\": \"\"}, \"colorscale\": [[0.0, \"#0d0887\"], [0.1111111111111111, \"#46039f\"], [0.2222222222222222, \"#7201a8\"], [0.3333333333333333, \"#9c179e\"], [0.4444444444444444, \"#bd3786\"], [0.5555555555555556, \"#d8576b\"], [0.6666666666666666, \"#ed7953\"], [0.7777777777777778, \"#fb9f3a\"], [0.8888888888888888, \"#fdca26\"], [1.0, \"#f0f921\"]], \"type\": \"contour\"}], \"contourcarpet\": [{\"colorbar\": {\"outlinewidth\": 0, \"ticks\": \"\"}, \"type\": \"contourcarpet\"}], \"heatmap\": [{\"colorbar\": {\"outlinewidth\": 0, \"ticks\": \"\"}, \"colorscale\": [[0.0, \"#0d0887\"], [0.1111111111111111, \"#46039f\"], [0.2222222222222222, \"#7201a8\"], [0.3333333333333333, \"#9c179e\"], [0.4444444444444444, \"#bd3786\"], [0.5555555555555556, \"#d8576b\"], [0.6666666666666666, \"#ed7953\"], [0.7777777777777778, \"#fb9f3a\"], [0.8888888888888888, \"#fdca26\"], [1.0, \"#f0f921\"]], \"type\": \"heatmap\"}], \"heatmapgl\": [{\"colorbar\": {\"outlinewidth\": 0, \"ticks\": \"\"}, \"colorscale\": [[0.0, \"#0d0887\"], [0.1111111111111111, \"#46039f\"], [0.2222222222222222, \"#7201a8\"], [0.3333333333333333, \"#9c179e\"], [0.4444444444444444, \"#bd3786\"], [0.5555555555555556, \"#d8576b\"], [0.6666666666666666, \"#ed7953\"], [0.7777777777777778, \"#fb9f3a\"], [0.8888888888888888, \"#fdca26\"], [1.0, \"#f0f921\"]], \"type\": \"heatmapgl\"}], \"histogram\": [{\"marker\": {\"colorbar\": {\"outlinewidth\": 0, \"ticks\": \"\"}}, \"type\": \"histogram\"}], \"histogram2d\": [{\"colorbar\": {\"outlinewidth\": 0, \"ticks\": \"\"}, \"colorscale\": [[0.0, \"#0d0887\"], [0.1111111111111111, \"#46039f\"], [0.2222222222222222, \"#7201a8\"], [0.3333333333333333, \"#9c179e\"], [0.4444444444444444, \"#bd3786\"], [0.5555555555555556, \"#d8576b\"], [0.6666666666666666, \"#ed7953\"], [0.7777777777777778, \"#fb9f3a\"], [0.8888888888888888, \"#fdca26\"], [1.0, \"#f0f921\"]], \"type\": \"histogram2d\"}], \"histogram2dcontour\": [{\"colorbar\": {\"outlinewidth\": 0, \"ticks\": \"\"}, \"colorscale\": [[0.0, \"#0d0887\"], [0.1111111111111111, \"#46039f\"], [0.2222222222222222, \"#7201a8\"], [0.3333333333333333, \"#9c179e\"], [0.4444444444444444, \"#bd3786\"], [0.5555555555555556, \"#d8576b\"], [0.6666666666666666, \"#ed7953\"], [0.7777777777777778, \"#fb9f3a\"], [0.8888888888888888, \"#fdca26\"], [1.0, \"#f0f921\"]], \"type\": \"histogram2dcontour\"}], \"mesh3d\": [{\"colorbar\": {\"outlinewidth\": 0, \"ticks\": \"\"}, \"type\": \"mesh3d\"}], \"parcoords\": [{\"line\": {\"colorbar\": {\"outlinewidth\": 0, \"ticks\": \"\"}}, \"type\": \"parcoords\"}], \"pie\": [{\"automargin\": true, \"type\": \"pie\"}], \"scatter\": [{\"marker\": {\"colorbar\": {\"outlinewidth\": 0, \"ticks\": \"\"}}, \"type\": \"scatter\"}], \"scatter3d\": [{\"line\": {\"colorbar\": {\"outlinewidth\": 0, \"ticks\": \"\"}}, \"marker\": {\"colorbar\": {\"outlinewidth\": 0, \"ticks\": \"\"}}, \"type\": \"scatter3d\"}], \"scattercarpet\": [{\"marker\": {\"colorbar\": {\"outlinewidth\": 0, \"ticks\": \"\"}}, \"type\": \"scattercarpet\"}], \"scattergeo\": [{\"marker\": {\"colorbar\": {\"outlinewidth\": 0, \"ticks\": \"\"}}, \"type\": \"scattergeo\"}], \"scattergl\": [{\"marker\": {\"colorbar\": {\"outlinewidth\": 0, \"ticks\": \"\"}}, \"type\": \"scattergl\"}], \"scattermapbox\": [{\"marker\": {\"colorbar\": {\"outlinewidth\": 0, \"ticks\": \"\"}}, \"type\": \"scattermapbox\"}], \"scatterpolar\": [{\"marker\": {\"colorbar\": {\"outlinewidth\": 0, \"ticks\": \"\"}}, \"type\": \"scatterpolar\"}], \"scatterpolargl\": [{\"marker\": {\"colorbar\": {\"outlinewidth\": 0, \"ticks\": \"\"}}, \"type\": \"scatterpolargl\"}], \"scatterternary\": [{\"marker\": {\"colorbar\": {\"outlinewidth\": 0, \"ticks\": \"\"}}, \"type\": \"scatterternary\"}], \"surface\": [{\"colorbar\": {\"outlinewidth\": 0, \"ticks\": \"\"}, \"colorscale\": [[0.0, \"#0d0887\"], [0.1111111111111111, \"#46039f\"], [0.2222222222222222, \"#7201a8\"], [0.3333333333333333, \"#9c179e\"], [0.4444444444444444, \"#bd3786\"], [0.5555555555555556, \"#d8576b\"], [0.6666666666666666, \"#ed7953\"], [0.7777777777777778, \"#fb9f3a\"], [0.8888888888888888, \"#fdca26\"], [1.0, \"#f0f921\"]], \"type\": \"surface\"}], \"table\": [{\"cells\": {\"fill\": {\"color\": \"#EBF0F8\"}, \"line\": {\"color\": \"white\"}}, \"header\": {\"fill\": {\"color\": \"#C8D4E3\"}, \"line\": {\"color\": \"white\"}}, \"type\": \"table\"}]}, \"layout\": {\"annotationdefaults\": {\"arrowcolor\": \"#2a3f5f\", \"arrowhead\": 0, \"arrowwidth\": 1}, \"coloraxis\": {\"colorbar\": {\"outlinewidth\": 0, \"ticks\": \"\"}}, \"colorscale\": {\"diverging\": [[0, \"#8e0152\"], [0.1, \"#c51b7d\"], [0.2, \"#de77ae\"], [0.3, \"#f1b6da\"], [0.4, \"#fde0ef\"], [0.5, \"#f7f7f7\"], [0.6, \"#e6f5d0\"], [0.7, \"#b8e186\"], [0.8, \"#7fbc41\"], [0.9, \"#4d9221\"], [1, \"#276419\"]], \"sequential\": [[0.0, \"#0d0887\"], [0.1111111111111111, \"#46039f\"], [0.2222222222222222, \"#7201a8\"], [0.3333333333333333, \"#9c179e\"], [0.4444444444444444, \"#bd3786\"], [0.5555555555555556, \"#d8576b\"], [0.6666666666666666, \"#ed7953\"], [0.7777777777777778, \"#fb9f3a\"], [0.8888888888888888, \"#fdca26\"], [1.0, \"#f0f921\"]], \"sequentialminus\": [[0.0, \"#0d0887\"], [0.1111111111111111, \"#46039f\"], [0.2222222222222222, \"#7201a8\"], [0.3333333333333333, \"#9c179e\"], [0.4444444444444444, \"#bd3786\"], [0.5555555555555556, \"#d8576b\"], [0.6666666666666666, \"#ed7953\"], [0.7777777777777778, \"#fb9f3a\"], [0.8888888888888888, \"#fdca26\"], [1.0, \"#f0f921\"]]}, \"colorway\": [\"#636efa\", \"#EF553B\", \"#00cc96\", \"#ab63fa\", \"#FFA15A\", \"#19d3f3\", \"#FF6692\", \"#B6E880\", \"#FF97FF\", \"#FECB52\"], \"font\": {\"color\": \"#2a3f5f\"}, \"geo\": {\"bgcolor\": \"white\", \"lakecolor\": \"white\", \"landcolor\": \"#E5ECF6\", \"showlakes\": true, \"showland\": true, \"subunitcolor\": \"white\"}, \"hoverlabel\": {\"align\": \"left\"}, \"hovermode\": \"closest\", \"mapbox\": {\"style\": \"light\"}, \"paper_bgcolor\": \"white\", \"plot_bgcolor\": \"#E5ECF6\", \"polar\": {\"angularaxis\": {\"gridcolor\": \"white\", \"linecolor\": \"white\", \"ticks\": \"\"}, \"bgcolor\": \"#E5ECF6\", \"radialaxis\": {\"gridcolor\": \"white\", \"linecolor\": \"white\", \"ticks\": \"\"}}, \"scene\": {\"xaxis\": {\"backgroundcolor\": \"#E5ECF6\", \"gridcolor\": \"white\", \"gridwidth\": 2, \"linecolor\": \"white\", \"showbackground\": true, \"ticks\": \"\", \"zerolinecolor\": \"white\"}, \"yaxis\": {\"backgroundcolor\": \"#E5ECF6\", \"gridcolor\": \"white\", \"gridwidth\": 2, \"linecolor\": \"white\", \"showbackground\": true, \"ticks\": \"\", \"zerolinecolor\": \"white\"}, \"zaxis\": {\"backgroundcolor\": \"#E5ECF6\", \"gridcolor\": \"white\", \"gridwidth\": 2, \"linecolor\": \"white\", \"showbackground\": true, \"ticks\": \"\", \"zerolinecolor\": \"white\"}}, \"shapedefaults\": {\"line\": {\"color\": \"#2a3f5f\"}}, \"ternary\": {\"aaxis\": {\"gridcolor\": \"white\", \"linecolor\": \"white\", \"ticks\": \"\"}, \"baxis\": {\"gridcolor\": \"white\", \"linecolor\": \"white\", \"ticks\": \"\"}, \"bgcolor\": \"#E5ECF6\", \"caxis\": {\"gridcolor\": \"white\", \"linecolor\": \"white\", \"ticks\": \"\"}}, \"title\": {\"x\": 0.05}, \"xaxis\": {\"automargin\": true, \"gridcolor\": \"white\", \"linecolor\": \"white\", \"ticks\": \"\", \"title\": {\"standoff\": 15}, \"zerolinecolor\": \"white\", \"zerolinewidth\": 2}, \"yaxis\": {\"automargin\": true, \"gridcolor\": \"white\", \"linecolor\": \"white\", \"ticks\": \"\", \"title\": {\"standoff\": 15}, \"zerolinecolor\": \"white\", \"zerolinewidth\": 2}}}, \"title\": {\"font\": {\"color\": \"#4D5663\"}}, \"xaxis\": {\"gridcolor\": \"#E1E5ED\", \"showgrid\": true, \"tickfont\": {\"color\": \"#4D5663\"}, \"title\": {\"font\": {\"color\": \"#4D5663\"}, \"text\": \"\"}, \"zerolinecolor\": \"#E1E5ED\"}, \"yaxis\": {\"gridcolor\": \"#E1E5ED\", \"showgrid\": true, \"tickfont\": {\"color\": \"#4D5663\"}, \"title\": {\"font\": {\"color\": \"#4D5663\"}, \"text\": \"\"}, \"zerolinecolor\": \"#E1E5ED\"}},                        {\"showLink\": true, \"linkText\": \"Export to plot.ly\", \"plotlyServerURL\": \"https://plot.ly\", \"responsive\": true}                    ).then(function(){\n",
       "                            \n",
       "var gd = document.getElementById('e41220cb-33c0-4269-a41d-9cf828c606d8');\n",
       "var x = new MutationObserver(function (mutations, observer) {{\n",
       "        var display = window.getComputedStyle(gd).display;\n",
       "        if (!display || display === 'none') {{\n",
       "            console.log([gd, 'removed!']);\n",
       "            Plotly.purge(gd);\n",
       "            observer.disconnect();\n",
       "        }}\n",
       "}});\n",
       "\n",
       "// Listen for the removal of the full notebook cells\n",
       "var notebookContainer = gd.closest('#notebook-container');\n",
       "if (notebookContainer) {{\n",
       "    x.observe(notebookContainer, {childList: true});\n",
       "}}\n",
       "\n",
       "// Listen for the clearing of the current output cell\n",
       "var outputEl = gd.closest('.output');\n",
       "if (outputEl) {{\n",
       "    x.observe(outputEl, {childList: true});\n",
       "}}\n",
       "\n",
       "                        })                };                });            </script>        </div>"
      ]
     },
     "metadata": {},
     "output_type": "display_data"
    }
   ],
   "source": [
    "df.iplot()"
   ]
  },
  {
   "cell_type": "markdown",
   "metadata": {},
   "source": [
    "## Scatter Plot"
   ]
  },
  {
   "cell_type": "code",
   "execution_count": 21,
   "metadata": {},
   "outputs": [
    {
     "data": {
      "application/vnd.plotly.v1+json": {
       "config": {
        "linkText": "Export to plot.ly",
        "plotlyServerURL": "https://plot.ly",
        "showLink": true
       },
       "data": [
        {
         "line": {
          "color": "rgba(55, 128, 191, 1.0)",
          "dash": "solid",
          "shape": "linear",
          "width": 1.3
         },
         "marker": {
          "size": 20,
          "symbol": "circle"
         },
         "mode": "markers",
         "name": "B",
         "text": "",
         "type": "scatter",
         "x": [
          0.2833623675227722,
          -1.127271506470818,
          0.5301991988413371,
          -0.9076037526358803,
          0.3045832521261345,
          1.5802942678868173,
          1.9590307813960588,
          0.4506493866329785,
          -0.16613983560977538,
          0.46344861995238673,
          -0.3029747794229369,
          1.0872271658066728,
          -1.6069227916919724,
          -0.06024722082744196,
          -1.000922647114807,
          -0.8428459274937556,
          0.29478573314485923,
          -0.25339222119091565,
          0.7187247748507258,
          1.3353341377998886,
          -0.3132263384895011,
          -0.39118000703348754,
          -1.7291172658029401,
          -0.5693280082171505,
          -0.18087539462310423,
          0.6036481562105745,
          0.16176229925673608,
          0.5404933164826498,
          -0.050736094303384584,
          -1.7608032679833248,
          1.1206641776550978,
          0.2838819671315071,
          -0.5719968871072524,
          -0.19937518829329207,
          -1.2092967930008358,
          -2.1550539493577956,
          -0.8506827098252433,
          0.09807027557339956,
          -0.20852721520392994,
          0.0912904455286591,
          0.8507029232627918,
          0.7463037519235868,
          0.1599236640979604,
          -1.462351188047253,
          0.457348739903739,
          0.7556632254955828,
          0.22062598272523387,
          -0.27599288567352176,
          -0.08651902719832559,
          -0.09390592780647052,
          0.24038800777499403,
          0.9386699960214014,
          -0.37020709228577187,
          -1.4755040676184674,
          0.4819500836736902,
          1.536663027126891,
          -1.8092408905159583,
          0.033277606986312054,
          0.09798696404977163,
          -0.32247346929781884,
          -1.555270331626882,
          0.9876894317407412,
          0.00028416691420902416,
          -0.39456722234572883,
          -0.08365889875132763,
          0.8416210966617714,
          0.7546325779328649,
          0.6720135507751842,
          -0.1608911463122692,
          0.7573962711229544,
          -1.174575815424979,
          -0.6613932481307679,
          0.005947420146648111,
          -0.395531939861682,
          -1.4391168822911,
          -1.3339009646738926,
          -0.3886619660027748,
          1.6126444498295815,
          -1.6794064847194896,
          -0.30320536220958877,
          0.9461461594017028,
          -0.06348775003781486,
          -2.124844609404621,
          0.08835640937139362,
          2.6901798168203337,
          0.6518982468613443,
          0.16121683466285788,
          0.5534423738048103,
          -0.0540939855612481,
          -0.33942531987529156,
          0.04449274194965574,
          -1.6732075886435611,
          -1.3900365917463668,
          0.49685876161216186,
          0.08337278758692533,
          1.4442163263090961,
          -1.0831084992907014,
          -1.0583044225528533,
          1.1535020255004065,
          0.5301801527396007
         ],
         "y": [
          -0.12933625164448187,
          0.13103167279239178,
          -0.2783800153100398,
          -0.4479072949745716,
          0.6150291508003769,
          0.04737160814250403,
          0.724359524718601,
          0.9068787283284158,
          -0.2834212092124333,
          1.3846874642484022,
          -0.7900873096135989,
          1.9990860724476802,
          0.06513492061042847,
          0.3761237870614334,
          1.306002077023205,
          0.21675678154141828,
          -0.17672460240902965,
          -1.6173317754480456,
          -0.3314978333603156,
          1.3484994220885849,
          -1.2528411501569485,
          -0.7478995842212484,
          0.8861269234986784,
          -0.6134231551246254,
          -0.5167498588077946,
          0.9238994036778923,
          0.30770452064141585,
          1.2560612137362714,
          0.4293958271803,
          -0.9714001809114541,
          0.0529499288742505,
          -1.3136810389141642,
          -1.2976580632562906,
          1.842221725391775,
          -1.0566420608604992,
          0.12321025879006645,
          -0.13612878866987144,
          0.22462263883719774,
          -0.003217995196276888,
          2.6856075213904202,
          2.4830248621546605,
          0.8821380943095746,
          0.9996863770264012,
          -0.003627477831770408,
          -1.2723142719885756,
          -0.30948703037988406,
          0.8843284070240234,
          -1.619507799527179,
          -0.4335750367397115,
          1.0655440640665477,
          0.43200915741373525,
          1.9197500330210822,
          0.15084415313177363,
          -2.71184007998908,
          1.7048789872131893,
          0.8192423426391454,
          -0.9901671207511124,
          -1.6328634527925319,
          0.21341038490737793,
          -1.658496320844627,
          -1.3250190128424661,
          -0.535465094697021,
          0.3473214304769248,
          -0.25946471137270866,
          -0.888522689105521,
          -0.9531852049657755,
          0.28526318110518045,
          -1.534240751475243,
          0.8163815140281812,
          -1.8164535882003214,
          -1.213659476037669,
          -0.20474995625923617,
          0.6709269694895401,
          0.7928575255755295,
          2.1310876397916347,
          2.073222829167607,
          1.0144150232185323,
          -0.07502724401221807,
          -0.04616501318666702,
          1.9666741653159439,
          -0.1018163441743207,
          -0.2982981792733883,
          -0.12177935394126996,
          -0.34511438462030997,
          -0.24258558078122744,
          0.08381699731823941,
          -0.18605525538332446,
          -0.07394916136370062,
          0.41322139524717544,
          1.098441891414735,
          0.09232940542087814,
          -0.043577383753931234,
          0.6529138894554455,
          0.24426145948580733,
          1.4830111845032046,
          -0.7322574441943723,
          -0.8515162512068878,
          -0.6158076287305354,
          -0.020335173306272214,
          -0.6668910616530364
         ]
        }
       ],
       "layout": {
        "legend": {
         "bgcolor": "#F5F6F9",
         "font": {
          "color": "#4D5663"
         }
        },
        "paper_bgcolor": "#F5F6F9",
        "plot_bgcolor": "#F5F6F9",
        "template": {
         "data": {
          "bar": [
           {
            "error_x": {
             "color": "#2a3f5f"
            },
            "error_y": {
             "color": "#2a3f5f"
            },
            "marker": {
             "line": {
              "color": "#E5ECF6",
              "width": 0.5
             }
            },
            "type": "bar"
           }
          ],
          "barpolar": [
           {
            "marker": {
             "line": {
              "color": "#E5ECF6",
              "width": 0.5
             }
            },
            "type": "barpolar"
           }
          ],
          "carpet": [
           {
            "aaxis": {
             "endlinecolor": "#2a3f5f",
             "gridcolor": "white",
             "linecolor": "white",
             "minorgridcolor": "white",
             "startlinecolor": "#2a3f5f"
            },
            "baxis": {
             "endlinecolor": "#2a3f5f",
             "gridcolor": "white",
             "linecolor": "white",
             "minorgridcolor": "white",
             "startlinecolor": "#2a3f5f"
            },
            "type": "carpet"
           }
          ],
          "choropleth": [
           {
            "colorbar": {
             "outlinewidth": 0,
             "ticks": ""
            },
            "type": "choropleth"
           }
          ],
          "contour": [
           {
            "colorbar": {
             "outlinewidth": 0,
             "ticks": ""
            },
            "colorscale": [
             [
              0,
              "#0d0887"
             ],
             [
              0.1111111111111111,
              "#46039f"
             ],
             [
              0.2222222222222222,
              "#7201a8"
             ],
             [
              0.3333333333333333,
              "#9c179e"
             ],
             [
              0.4444444444444444,
              "#bd3786"
             ],
             [
              0.5555555555555556,
              "#d8576b"
             ],
             [
              0.6666666666666666,
              "#ed7953"
             ],
             [
              0.7777777777777778,
              "#fb9f3a"
             ],
             [
              0.8888888888888888,
              "#fdca26"
             ],
             [
              1,
              "#f0f921"
             ]
            ],
            "type": "contour"
           }
          ],
          "contourcarpet": [
           {
            "colorbar": {
             "outlinewidth": 0,
             "ticks": ""
            },
            "type": "contourcarpet"
           }
          ],
          "heatmap": [
           {
            "colorbar": {
             "outlinewidth": 0,
             "ticks": ""
            },
            "colorscale": [
             [
              0,
              "#0d0887"
             ],
             [
              0.1111111111111111,
              "#46039f"
             ],
             [
              0.2222222222222222,
              "#7201a8"
             ],
             [
              0.3333333333333333,
              "#9c179e"
             ],
             [
              0.4444444444444444,
              "#bd3786"
             ],
             [
              0.5555555555555556,
              "#d8576b"
             ],
             [
              0.6666666666666666,
              "#ed7953"
             ],
             [
              0.7777777777777778,
              "#fb9f3a"
             ],
             [
              0.8888888888888888,
              "#fdca26"
             ],
             [
              1,
              "#f0f921"
             ]
            ],
            "type": "heatmap"
           }
          ],
          "heatmapgl": [
           {
            "colorbar": {
             "outlinewidth": 0,
             "ticks": ""
            },
            "colorscale": [
             [
              0,
              "#0d0887"
             ],
             [
              0.1111111111111111,
              "#46039f"
             ],
             [
              0.2222222222222222,
              "#7201a8"
             ],
             [
              0.3333333333333333,
              "#9c179e"
             ],
             [
              0.4444444444444444,
              "#bd3786"
             ],
             [
              0.5555555555555556,
              "#d8576b"
             ],
             [
              0.6666666666666666,
              "#ed7953"
             ],
             [
              0.7777777777777778,
              "#fb9f3a"
             ],
             [
              0.8888888888888888,
              "#fdca26"
             ],
             [
              1,
              "#f0f921"
             ]
            ],
            "type": "heatmapgl"
           }
          ],
          "histogram": [
           {
            "marker": {
             "colorbar": {
              "outlinewidth": 0,
              "ticks": ""
             }
            },
            "type": "histogram"
           }
          ],
          "histogram2d": [
           {
            "colorbar": {
             "outlinewidth": 0,
             "ticks": ""
            },
            "colorscale": [
             [
              0,
              "#0d0887"
             ],
             [
              0.1111111111111111,
              "#46039f"
             ],
             [
              0.2222222222222222,
              "#7201a8"
             ],
             [
              0.3333333333333333,
              "#9c179e"
             ],
             [
              0.4444444444444444,
              "#bd3786"
             ],
             [
              0.5555555555555556,
              "#d8576b"
             ],
             [
              0.6666666666666666,
              "#ed7953"
             ],
             [
              0.7777777777777778,
              "#fb9f3a"
             ],
             [
              0.8888888888888888,
              "#fdca26"
             ],
             [
              1,
              "#f0f921"
             ]
            ],
            "type": "histogram2d"
           }
          ],
          "histogram2dcontour": [
           {
            "colorbar": {
             "outlinewidth": 0,
             "ticks": ""
            },
            "colorscale": [
             [
              0,
              "#0d0887"
             ],
             [
              0.1111111111111111,
              "#46039f"
             ],
             [
              0.2222222222222222,
              "#7201a8"
             ],
             [
              0.3333333333333333,
              "#9c179e"
             ],
             [
              0.4444444444444444,
              "#bd3786"
             ],
             [
              0.5555555555555556,
              "#d8576b"
             ],
             [
              0.6666666666666666,
              "#ed7953"
             ],
             [
              0.7777777777777778,
              "#fb9f3a"
             ],
             [
              0.8888888888888888,
              "#fdca26"
             ],
             [
              1,
              "#f0f921"
             ]
            ],
            "type": "histogram2dcontour"
           }
          ],
          "mesh3d": [
           {
            "colorbar": {
             "outlinewidth": 0,
             "ticks": ""
            },
            "type": "mesh3d"
           }
          ],
          "parcoords": [
           {
            "line": {
             "colorbar": {
              "outlinewidth": 0,
              "ticks": ""
             }
            },
            "type": "parcoords"
           }
          ],
          "pie": [
           {
            "automargin": true,
            "type": "pie"
           }
          ],
          "scatter": [
           {
            "marker": {
             "colorbar": {
              "outlinewidth": 0,
              "ticks": ""
             }
            },
            "type": "scatter"
           }
          ],
          "scatter3d": [
           {
            "line": {
             "colorbar": {
              "outlinewidth": 0,
              "ticks": ""
             }
            },
            "marker": {
             "colorbar": {
              "outlinewidth": 0,
              "ticks": ""
             }
            },
            "type": "scatter3d"
           }
          ],
          "scattercarpet": [
           {
            "marker": {
             "colorbar": {
              "outlinewidth": 0,
              "ticks": ""
             }
            },
            "type": "scattercarpet"
           }
          ],
          "scattergeo": [
           {
            "marker": {
             "colorbar": {
              "outlinewidth": 0,
              "ticks": ""
             }
            },
            "type": "scattergeo"
           }
          ],
          "scattergl": [
           {
            "marker": {
             "colorbar": {
              "outlinewidth": 0,
              "ticks": ""
             }
            },
            "type": "scattergl"
           }
          ],
          "scattermapbox": [
           {
            "marker": {
             "colorbar": {
              "outlinewidth": 0,
              "ticks": ""
             }
            },
            "type": "scattermapbox"
           }
          ],
          "scatterpolar": [
           {
            "marker": {
             "colorbar": {
              "outlinewidth": 0,
              "ticks": ""
             }
            },
            "type": "scatterpolar"
           }
          ],
          "scatterpolargl": [
           {
            "marker": {
             "colorbar": {
              "outlinewidth": 0,
              "ticks": ""
             }
            },
            "type": "scatterpolargl"
           }
          ],
          "scatterternary": [
           {
            "marker": {
             "colorbar": {
              "outlinewidth": 0,
              "ticks": ""
             }
            },
            "type": "scatterternary"
           }
          ],
          "surface": [
           {
            "colorbar": {
             "outlinewidth": 0,
             "ticks": ""
            },
            "colorscale": [
             [
              0,
              "#0d0887"
             ],
             [
              0.1111111111111111,
              "#46039f"
             ],
             [
              0.2222222222222222,
              "#7201a8"
             ],
             [
              0.3333333333333333,
              "#9c179e"
             ],
             [
              0.4444444444444444,
              "#bd3786"
             ],
             [
              0.5555555555555556,
              "#d8576b"
             ],
             [
              0.6666666666666666,
              "#ed7953"
             ],
             [
              0.7777777777777778,
              "#fb9f3a"
             ],
             [
              0.8888888888888888,
              "#fdca26"
             ],
             [
              1,
              "#f0f921"
             ]
            ],
            "type": "surface"
           }
          ],
          "table": [
           {
            "cells": {
             "fill": {
              "color": "#EBF0F8"
             },
             "line": {
              "color": "white"
             }
            },
            "header": {
             "fill": {
              "color": "#C8D4E3"
             },
             "line": {
              "color": "white"
             }
            },
            "type": "table"
           }
          ]
         },
         "layout": {
          "annotationdefaults": {
           "arrowcolor": "#2a3f5f",
           "arrowhead": 0,
           "arrowwidth": 1
          },
          "coloraxis": {
           "colorbar": {
            "outlinewidth": 0,
            "ticks": ""
           }
          },
          "colorscale": {
           "diverging": [
            [
             0,
             "#8e0152"
            ],
            [
             0.1,
             "#c51b7d"
            ],
            [
             0.2,
             "#de77ae"
            ],
            [
             0.3,
             "#f1b6da"
            ],
            [
             0.4,
             "#fde0ef"
            ],
            [
             0.5,
             "#f7f7f7"
            ],
            [
             0.6,
             "#e6f5d0"
            ],
            [
             0.7,
             "#b8e186"
            ],
            [
             0.8,
             "#7fbc41"
            ],
            [
             0.9,
             "#4d9221"
            ],
            [
             1,
             "#276419"
            ]
           ],
           "sequential": [
            [
             0,
             "#0d0887"
            ],
            [
             0.1111111111111111,
             "#46039f"
            ],
            [
             0.2222222222222222,
             "#7201a8"
            ],
            [
             0.3333333333333333,
             "#9c179e"
            ],
            [
             0.4444444444444444,
             "#bd3786"
            ],
            [
             0.5555555555555556,
             "#d8576b"
            ],
            [
             0.6666666666666666,
             "#ed7953"
            ],
            [
             0.7777777777777778,
             "#fb9f3a"
            ],
            [
             0.8888888888888888,
             "#fdca26"
            ],
            [
             1,
             "#f0f921"
            ]
           ],
           "sequentialminus": [
            [
             0,
             "#0d0887"
            ],
            [
             0.1111111111111111,
             "#46039f"
            ],
            [
             0.2222222222222222,
             "#7201a8"
            ],
            [
             0.3333333333333333,
             "#9c179e"
            ],
            [
             0.4444444444444444,
             "#bd3786"
            ],
            [
             0.5555555555555556,
             "#d8576b"
            ],
            [
             0.6666666666666666,
             "#ed7953"
            ],
            [
             0.7777777777777778,
             "#fb9f3a"
            ],
            [
             0.8888888888888888,
             "#fdca26"
            ],
            [
             1,
             "#f0f921"
            ]
           ]
          },
          "colorway": [
           "#636efa",
           "#EF553B",
           "#00cc96",
           "#ab63fa",
           "#FFA15A",
           "#19d3f3",
           "#FF6692",
           "#B6E880",
           "#FF97FF",
           "#FECB52"
          ],
          "font": {
           "color": "#2a3f5f"
          },
          "geo": {
           "bgcolor": "white",
           "lakecolor": "white",
           "landcolor": "#E5ECF6",
           "showlakes": true,
           "showland": true,
           "subunitcolor": "white"
          },
          "hoverlabel": {
           "align": "left"
          },
          "hovermode": "closest",
          "mapbox": {
           "style": "light"
          },
          "paper_bgcolor": "white",
          "plot_bgcolor": "#E5ECF6",
          "polar": {
           "angularaxis": {
            "gridcolor": "white",
            "linecolor": "white",
            "ticks": ""
           },
           "bgcolor": "#E5ECF6",
           "radialaxis": {
            "gridcolor": "white",
            "linecolor": "white",
            "ticks": ""
           }
          },
          "scene": {
           "xaxis": {
            "backgroundcolor": "#E5ECF6",
            "gridcolor": "white",
            "gridwidth": 2,
            "linecolor": "white",
            "showbackground": true,
            "ticks": "",
            "zerolinecolor": "white"
           },
           "yaxis": {
            "backgroundcolor": "#E5ECF6",
            "gridcolor": "white",
            "gridwidth": 2,
            "linecolor": "white",
            "showbackground": true,
            "ticks": "",
            "zerolinecolor": "white"
           },
           "zaxis": {
            "backgroundcolor": "#E5ECF6",
            "gridcolor": "white",
            "gridwidth": 2,
            "linecolor": "white",
            "showbackground": true,
            "ticks": "",
            "zerolinecolor": "white"
           }
          },
          "shapedefaults": {
           "line": {
            "color": "#2a3f5f"
           }
          },
          "ternary": {
           "aaxis": {
            "gridcolor": "white",
            "linecolor": "white",
            "ticks": ""
           },
           "baxis": {
            "gridcolor": "white",
            "linecolor": "white",
            "ticks": ""
           },
           "bgcolor": "#E5ECF6",
           "caxis": {
            "gridcolor": "white",
            "linecolor": "white",
            "ticks": ""
           }
          },
          "title": {
           "x": 0.05
          },
          "xaxis": {
           "automargin": true,
           "gridcolor": "white",
           "linecolor": "white",
           "ticks": "",
           "title": {
            "standoff": 15
           },
           "zerolinecolor": "white",
           "zerolinewidth": 2
          },
          "yaxis": {
           "automargin": true,
           "gridcolor": "white",
           "linecolor": "white",
           "ticks": "",
           "title": {
            "standoff": 15
           },
           "zerolinecolor": "white",
           "zerolinewidth": 2
          }
         }
        },
        "title": {
         "font": {
          "color": "#4D5663"
         }
        },
        "xaxis": {
         "gridcolor": "#E1E5ED",
         "showgrid": true,
         "tickfont": {
          "color": "#4D5663"
         },
         "title": {
          "font": {
           "color": "#4D5663"
          },
          "text": ""
         },
         "zerolinecolor": "#E1E5ED"
        },
        "yaxis": {
         "gridcolor": "#E1E5ED",
         "showgrid": true,
         "tickfont": {
          "color": "#4D5663"
         },
         "title": {
          "font": {
           "color": "#4D5663"
          },
          "text": ""
         },
         "zerolinecolor": "#E1E5ED"
        }
       }
      },
      "text/html": [
       "<div>                            <div id=\"c34fdb85-5717-40cf-8af7-8d0afc8b5b90\" class=\"plotly-graph-div\" style=\"height:525px; width:100%;\"></div>            <script type=\"text/javascript\">                require([\"plotly\"], function(Plotly) {                    window.PLOTLYENV=window.PLOTLYENV || {};\n",
       "                    window.PLOTLYENV.BASE_URL='https://plot.ly';                                    if (document.getElementById(\"c34fdb85-5717-40cf-8af7-8d0afc8b5b90\")) {                    Plotly.newPlot(                        \"c34fdb85-5717-40cf-8af7-8d0afc8b5b90\",                        [{\"line\": {\"color\": \"rgba(55, 128, 191, 1.0)\", \"dash\": \"solid\", \"shape\": \"linear\", \"width\": 1.3}, \"marker\": {\"size\": 20, \"symbol\": \"circle\"}, \"mode\": \"markers\", \"name\": \"B\", \"text\": \"\", \"type\": \"scatter\", \"x\": [0.2833623675227722, -1.127271506470818, 0.5301991988413371, -0.9076037526358803, 0.3045832521261345, 1.5802942678868173, 1.9590307813960588, 0.4506493866329785, -0.16613983560977538, 0.46344861995238673, -0.3029747794229369, 1.0872271658066728, -1.6069227916919724, -0.06024722082744196, -1.000922647114807, -0.8428459274937556, 0.29478573314485923, -0.25339222119091565, 0.7187247748507258, 1.3353341377998886, -0.3132263384895011, -0.39118000703348754, -1.7291172658029401, -0.5693280082171505, -0.18087539462310423, 0.6036481562105745, 0.16176229925673608, 0.5404933164826498, -0.050736094303384584, -1.7608032679833248, 1.1206641776550978, 0.2838819671315071, -0.5719968871072524, -0.19937518829329207, -1.2092967930008358, -2.1550539493577956, -0.8506827098252433, 0.09807027557339956, -0.20852721520392994, 0.0912904455286591, 0.8507029232627918, 0.7463037519235868, 0.1599236640979604, -1.462351188047253, 0.457348739903739, 0.7556632254955828, 0.22062598272523387, -0.27599288567352176, -0.08651902719832559, -0.09390592780647052, 0.24038800777499403, 0.9386699960214014, -0.37020709228577187, -1.4755040676184674, 0.4819500836736902, 1.536663027126891, -1.8092408905159583, 0.033277606986312054, 0.09798696404977163, -0.32247346929781884, -1.555270331626882, 0.9876894317407412, 0.00028416691420902416, -0.39456722234572883, -0.08365889875132763, 0.8416210966617714, 0.7546325779328649, 0.6720135507751842, -0.1608911463122692, 0.7573962711229544, -1.174575815424979, -0.6613932481307679, 0.005947420146648111, -0.395531939861682, -1.4391168822911, -1.3339009646738926, -0.3886619660027748, 1.6126444498295815, -1.6794064847194896, -0.30320536220958877, 0.9461461594017028, -0.06348775003781486, -2.124844609404621, 0.08835640937139362, 2.6901798168203337, 0.6518982468613443, 0.16121683466285788, 0.5534423738048103, -0.0540939855612481, -0.33942531987529156, 0.04449274194965574, -1.6732075886435611, -1.3900365917463668, 0.49685876161216186, 0.08337278758692533, 1.4442163263090961, -1.0831084992907014, -1.0583044225528533, 1.1535020255004065, 0.5301801527396007], \"y\": [-0.12933625164448187, 0.13103167279239178, -0.2783800153100398, -0.4479072949745716, 0.6150291508003769, 0.04737160814250403, 0.724359524718601, 0.9068787283284158, -0.2834212092124333, 1.3846874642484022, -0.7900873096135989, 1.9990860724476802, 0.06513492061042847, 0.3761237870614334, 1.306002077023205, 0.21675678154141828, -0.17672460240902965, -1.6173317754480456, -0.3314978333603156, 1.3484994220885849, -1.2528411501569485, -0.7478995842212484, 0.8861269234986784, -0.6134231551246254, -0.5167498588077946, 0.9238994036778923, 0.30770452064141585, 1.2560612137362714, 0.4293958271803, -0.9714001809114541, 0.0529499288742505, -1.3136810389141642, -1.2976580632562906, 1.842221725391775, -1.0566420608604992, 0.12321025879006645, -0.13612878866987144, 0.22462263883719774, -0.003217995196276888, 2.6856075213904202, 2.4830248621546605, 0.8821380943095746, 0.9996863770264012, -0.003627477831770408, -1.2723142719885756, -0.30948703037988406, 0.8843284070240234, -1.619507799527179, -0.4335750367397115, 1.0655440640665477, 0.43200915741373525, 1.9197500330210822, 0.15084415313177363, -2.71184007998908, 1.7048789872131893, 0.8192423426391454, -0.9901671207511124, -1.6328634527925319, 0.21341038490737793, -1.658496320844627, -1.3250190128424661, -0.535465094697021, 0.3473214304769248, -0.25946471137270866, -0.888522689105521, -0.9531852049657755, 0.28526318110518045, -1.534240751475243, 0.8163815140281812, -1.8164535882003214, -1.213659476037669, -0.20474995625923617, 0.6709269694895401, 0.7928575255755295, 2.1310876397916347, 2.073222829167607, 1.0144150232185323, -0.07502724401221807, -0.04616501318666702, 1.9666741653159439, -0.1018163441743207, -0.2982981792733883, -0.12177935394126996, -0.34511438462030997, -0.24258558078122744, 0.08381699731823941, -0.18605525538332446, -0.07394916136370062, 0.41322139524717544, 1.098441891414735, 0.09232940542087814, -0.043577383753931234, 0.6529138894554455, 0.24426145948580733, 1.4830111845032046, -0.7322574441943723, -0.8515162512068878, -0.6158076287305354, -0.020335173306272214, -0.6668910616530364]}],                        {\"legend\": {\"bgcolor\": \"#F5F6F9\", \"font\": {\"color\": \"#4D5663\"}}, \"paper_bgcolor\": \"#F5F6F9\", \"plot_bgcolor\": \"#F5F6F9\", \"template\": {\"data\": {\"bar\": [{\"error_x\": {\"color\": \"#2a3f5f\"}, \"error_y\": {\"color\": \"#2a3f5f\"}, \"marker\": {\"line\": {\"color\": \"#E5ECF6\", \"width\": 0.5}}, \"type\": \"bar\"}], \"barpolar\": [{\"marker\": {\"line\": {\"color\": \"#E5ECF6\", \"width\": 0.5}}, \"type\": \"barpolar\"}], \"carpet\": [{\"aaxis\": {\"endlinecolor\": \"#2a3f5f\", \"gridcolor\": \"white\", \"linecolor\": \"white\", \"minorgridcolor\": \"white\", \"startlinecolor\": \"#2a3f5f\"}, \"baxis\": {\"endlinecolor\": \"#2a3f5f\", \"gridcolor\": \"white\", \"linecolor\": \"white\", \"minorgridcolor\": \"white\", \"startlinecolor\": \"#2a3f5f\"}, \"type\": \"carpet\"}], \"choropleth\": [{\"colorbar\": {\"outlinewidth\": 0, \"ticks\": \"\"}, \"type\": \"choropleth\"}], \"contour\": [{\"colorbar\": {\"outlinewidth\": 0, \"ticks\": \"\"}, \"colorscale\": [[0.0, \"#0d0887\"], [0.1111111111111111, \"#46039f\"], [0.2222222222222222, \"#7201a8\"], [0.3333333333333333, \"#9c179e\"], [0.4444444444444444, \"#bd3786\"], [0.5555555555555556, \"#d8576b\"], [0.6666666666666666, \"#ed7953\"], [0.7777777777777778, \"#fb9f3a\"], [0.8888888888888888, \"#fdca26\"], [1.0, \"#f0f921\"]], \"type\": \"contour\"}], \"contourcarpet\": [{\"colorbar\": {\"outlinewidth\": 0, \"ticks\": \"\"}, \"type\": \"contourcarpet\"}], \"heatmap\": [{\"colorbar\": {\"outlinewidth\": 0, \"ticks\": \"\"}, \"colorscale\": [[0.0, \"#0d0887\"], [0.1111111111111111, \"#46039f\"], [0.2222222222222222, \"#7201a8\"], [0.3333333333333333, \"#9c179e\"], [0.4444444444444444, \"#bd3786\"], [0.5555555555555556, \"#d8576b\"], [0.6666666666666666, \"#ed7953\"], [0.7777777777777778, \"#fb9f3a\"], [0.8888888888888888, \"#fdca26\"], [1.0, \"#f0f921\"]], \"type\": \"heatmap\"}], \"heatmapgl\": [{\"colorbar\": {\"outlinewidth\": 0, \"ticks\": \"\"}, \"colorscale\": [[0.0, \"#0d0887\"], [0.1111111111111111, \"#46039f\"], [0.2222222222222222, \"#7201a8\"], [0.3333333333333333, \"#9c179e\"], [0.4444444444444444, \"#bd3786\"], [0.5555555555555556, \"#d8576b\"], [0.6666666666666666, \"#ed7953\"], [0.7777777777777778, \"#fb9f3a\"], [0.8888888888888888, \"#fdca26\"], [1.0, \"#f0f921\"]], \"type\": \"heatmapgl\"}], \"histogram\": [{\"marker\": {\"colorbar\": {\"outlinewidth\": 0, \"ticks\": \"\"}}, \"type\": \"histogram\"}], \"histogram2d\": [{\"colorbar\": {\"outlinewidth\": 0, \"ticks\": \"\"}, \"colorscale\": [[0.0, \"#0d0887\"], [0.1111111111111111, \"#46039f\"], [0.2222222222222222, \"#7201a8\"], [0.3333333333333333, \"#9c179e\"], [0.4444444444444444, \"#bd3786\"], [0.5555555555555556, \"#d8576b\"], [0.6666666666666666, \"#ed7953\"], [0.7777777777777778, \"#fb9f3a\"], [0.8888888888888888, \"#fdca26\"], [1.0, \"#f0f921\"]], \"type\": \"histogram2d\"}], \"histogram2dcontour\": [{\"colorbar\": {\"outlinewidth\": 0, \"ticks\": \"\"}, \"colorscale\": [[0.0, \"#0d0887\"], [0.1111111111111111, \"#46039f\"], [0.2222222222222222, \"#7201a8\"], [0.3333333333333333, \"#9c179e\"], [0.4444444444444444, \"#bd3786\"], [0.5555555555555556, \"#d8576b\"], [0.6666666666666666, \"#ed7953\"], [0.7777777777777778, \"#fb9f3a\"], [0.8888888888888888, \"#fdca26\"], [1.0, \"#f0f921\"]], \"type\": \"histogram2dcontour\"}], \"mesh3d\": [{\"colorbar\": {\"outlinewidth\": 0, \"ticks\": \"\"}, \"type\": \"mesh3d\"}], \"parcoords\": [{\"line\": {\"colorbar\": {\"outlinewidth\": 0, \"ticks\": \"\"}}, \"type\": \"parcoords\"}], \"pie\": [{\"automargin\": true, \"type\": \"pie\"}], \"scatter\": [{\"marker\": {\"colorbar\": {\"outlinewidth\": 0, \"ticks\": \"\"}}, \"type\": \"scatter\"}], \"scatter3d\": [{\"line\": {\"colorbar\": {\"outlinewidth\": 0, \"ticks\": \"\"}}, \"marker\": {\"colorbar\": {\"outlinewidth\": 0, \"ticks\": \"\"}}, \"type\": \"scatter3d\"}], \"scattercarpet\": [{\"marker\": {\"colorbar\": {\"outlinewidth\": 0, \"ticks\": \"\"}}, \"type\": \"scattercarpet\"}], \"scattergeo\": [{\"marker\": {\"colorbar\": {\"outlinewidth\": 0, \"ticks\": \"\"}}, \"type\": \"scattergeo\"}], \"scattergl\": [{\"marker\": {\"colorbar\": {\"outlinewidth\": 0, \"ticks\": \"\"}}, \"type\": \"scattergl\"}], \"scattermapbox\": [{\"marker\": {\"colorbar\": {\"outlinewidth\": 0, \"ticks\": \"\"}}, \"type\": \"scattermapbox\"}], \"scatterpolar\": [{\"marker\": {\"colorbar\": {\"outlinewidth\": 0, \"ticks\": \"\"}}, \"type\": \"scatterpolar\"}], \"scatterpolargl\": [{\"marker\": {\"colorbar\": {\"outlinewidth\": 0, \"ticks\": \"\"}}, \"type\": \"scatterpolargl\"}], \"scatterternary\": [{\"marker\": {\"colorbar\": {\"outlinewidth\": 0, \"ticks\": \"\"}}, \"type\": \"scatterternary\"}], \"surface\": [{\"colorbar\": {\"outlinewidth\": 0, \"ticks\": \"\"}, \"colorscale\": [[0.0, \"#0d0887\"], [0.1111111111111111, \"#46039f\"], [0.2222222222222222, \"#7201a8\"], [0.3333333333333333, \"#9c179e\"], [0.4444444444444444, \"#bd3786\"], [0.5555555555555556, \"#d8576b\"], [0.6666666666666666, \"#ed7953\"], [0.7777777777777778, \"#fb9f3a\"], [0.8888888888888888, \"#fdca26\"], [1.0, \"#f0f921\"]], \"type\": \"surface\"}], \"table\": [{\"cells\": {\"fill\": {\"color\": \"#EBF0F8\"}, \"line\": {\"color\": \"white\"}}, \"header\": {\"fill\": {\"color\": \"#C8D4E3\"}, \"line\": {\"color\": \"white\"}}, \"type\": \"table\"}]}, \"layout\": {\"annotationdefaults\": {\"arrowcolor\": \"#2a3f5f\", \"arrowhead\": 0, \"arrowwidth\": 1}, \"coloraxis\": {\"colorbar\": {\"outlinewidth\": 0, \"ticks\": \"\"}}, \"colorscale\": {\"diverging\": [[0, \"#8e0152\"], [0.1, \"#c51b7d\"], [0.2, \"#de77ae\"], [0.3, \"#f1b6da\"], [0.4, \"#fde0ef\"], [0.5, \"#f7f7f7\"], [0.6, \"#e6f5d0\"], [0.7, \"#b8e186\"], [0.8, \"#7fbc41\"], [0.9, \"#4d9221\"], [1, \"#276419\"]], \"sequential\": [[0.0, \"#0d0887\"], [0.1111111111111111, \"#46039f\"], [0.2222222222222222, \"#7201a8\"], [0.3333333333333333, \"#9c179e\"], [0.4444444444444444, \"#bd3786\"], [0.5555555555555556, \"#d8576b\"], [0.6666666666666666, \"#ed7953\"], [0.7777777777777778, \"#fb9f3a\"], [0.8888888888888888, \"#fdca26\"], [1.0, \"#f0f921\"]], \"sequentialminus\": [[0.0, \"#0d0887\"], [0.1111111111111111, \"#46039f\"], [0.2222222222222222, \"#7201a8\"], [0.3333333333333333, \"#9c179e\"], [0.4444444444444444, \"#bd3786\"], [0.5555555555555556, \"#d8576b\"], [0.6666666666666666, \"#ed7953\"], [0.7777777777777778, \"#fb9f3a\"], [0.8888888888888888, \"#fdca26\"], [1.0, \"#f0f921\"]]}, \"colorway\": [\"#636efa\", \"#EF553B\", \"#00cc96\", \"#ab63fa\", \"#FFA15A\", \"#19d3f3\", \"#FF6692\", \"#B6E880\", \"#FF97FF\", \"#FECB52\"], \"font\": {\"color\": \"#2a3f5f\"}, \"geo\": {\"bgcolor\": \"white\", \"lakecolor\": \"white\", \"landcolor\": \"#E5ECF6\", \"showlakes\": true, \"showland\": true, \"subunitcolor\": \"white\"}, \"hoverlabel\": {\"align\": \"left\"}, \"hovermode\": \"closest\", \"mapbox\": {\"style\": \"light\"}, \"paper_bgcolor\": \"white\", \"plot_bgcolor\": \"#E5ECF6\", \"polar\": {\"angularaxis\": {\"gridcolor\": \"white\", \"linecolor\": \"white\", \"ticks\": \"\"}, \"bgcolor\": \"#E5ECF6\", \"radialaxis\": {\"gridcolor\": \"white\", \"linecolor\": \"white\", \"ticks\": \"\"}}, \"scene\": {\"xaxis\": {\"backgroundcolor\": \"#E5ECF6\", \"gridcolor\": \"white\", \"gridwidth\": 2, \"linecolor\": \"white\", \"showbackground\": true, \"ticks\": \"\", \"zerolinecolor\": \"white\"}, \"yaxis\": {\"backgroundcolor\": \"#E5ECF6\", \"gridcolor\": \"white\", \"gridwidth\": 2, \"linecolor\": \"white\", \"showbackground\": true, \"ticks\": \"\", \"zerolinecolor\": \"white\"}, \"zaxis\": {\"backgroundcolor\": \"#E5ECF6\", \"gridcolor\": \"white\", \"gridwidth\": 2, \"linecolor\": \"white\", \"showbackground\": true, \"ticks\": \"\", \"zerolinecolor\": \"white\"}}, \"shapedefaults\": {\"line\": {\"color\": \"#2a3f5f\"}}, \"ternary\": {\"aaxis\": {\"gridcolor\": \"white\", \"linecolor\": \"white\", \"ticks\": \"\"}, \"baxis\": {\"gridcolor\": \"white\", \"linecolor\": \"white\", \"ticks\": \"\"}, \"bgcolor\": \"#E5ECF6\", \"caxis\": {\"gridcolor\": \"white\", \"linecolor\": \"white\", \"ticks\": \"\"}}, \"title\": {\"x\": 0.05}, \"xaxis\": {\"automargin\": true, \"gridcolor\": \"white\", \"linecolor\": \"white\", \"ticks\": \"\", \"title\": {\"standoff\": 15}, \"zerolinecolor\": \"white\", \"zerolinewidth\": 2}, \"yaxis\": {\"automargin\": true, \"gridcolor\": \"white\", \"linecolor\": \"white\", \"ticks\": \"\", \"title\": {\"standoff\": 15}, \"zerolinecolor\": \"white\", \"zerolinewidth\": 2}}}, \"title\": {\"font\": {\"color\": \"#4D5663\"}}, \"xaxis\": {\"gridcolor\": \"#E1E5ED\", \"showgrid\": true, \"tickfont\": {\"color\": \"#4D5663\"}, \"title\": {\"font\": {\"color\": \"#4D5663\"}, \"text\": \"\"}, \"zerolinecolor\": \"#E1E5ED\"}, \"yaxis\": {\"gridcolor\": \"#E1E5ED\", \"showgrid\": true, \"tickfont\": {\"color\": \"#4D5663\"}, \"title\": {\"font\": {\"color\": \"#4D5663\"}, \"text\": \"\"}, \"zerolinecolor\": \"#E1E5ED\"}},                        {\"showLink\": true, \"linkText\": \"Export to plot.ly\", \"plotlyServerURL\": \"https://plot.ly\", \"responsive\": true}                    ).then(function(){\n",
       "                            \n",
       "var gd = document.getElementById('c34fdb85-5717-40cf-8af7-8d0afc8b5b90');\n",
       "var x = new MutationObserver(function (mutations, observer) {{\n",
       "        var display = window.getComputedStyle(gd).display;\n",
       "        if (!display || display === 'none') {{\n",
       "            console.log([gd, 'removed!']);\n",
       "            Plotly.purge(gd);\n",
       "            observer.disconnect();\n",
       "        }}\n",
       "}});\n",
       "\n",
       "// Listen for the removal of the full notebook cells\n",
       "var notebookContainer = gd.closest('#notebook-container');\n",
       "if (notebookContainer) {{\n",
       "    x.observe(notebookContainer, {childList: true});\n",
       "}}\n",
       "\n",
       "// Listen for the clearing of the current output cell\n",
       "var outputEl = gd.closest('.output');\n",
       "if (outputEl) {{\n",
       "    x.observe(outputEl, {childList: true});\n",
       "}}\n",
       "\n",
       "                        })                };                });            </script>        </div>"
      ]
     },
     "metadata": {},
     "output_type": "display_data"
    }
   ],
   "source": [
    "df.iplot(kind='scatter', x='A',y='B',mode='markers',color='blue',size=20)"
   ]
  },
  {
   "cell_type": "markdown",
   "metadata": {},
   "source": [
    "## Bar PLot"
   ]
  },
  {
   "cell_type": "code",
   "execution_count": 22,
   "metadata": {},
   "outputs": [
    {
     "data": {
      "application/vnd.plotly.v1+json": {
       "config": {
        "linkText": "Export to plot.ly",
        "plotlyServerURL": "https://plot.ly",
        "showLink": true
       },
       "data": [
        {
         "marker": {
          "color": "rgba(255, 153, 51, 0.6)",
          "line": {
           "color": "rgba(255, 153, 51, 1.0)",
           "width": 1
          }
         },
         "name": "Values",
         "orientation": "v",
         "text": "",
         "type": "bar",
         "x": [
          "A",
          "B",
          "C"
         ],
         "y": [
          32,
          43,
          50
         ]
        }
       ],
       "layout": {
        "legend": {
         "bgcolor": "#F5F6F9",
         "font": {
          "color": "#4D5663"
         }
        },
        "paper_bgcolor": "#F5F6F9",
        "plot_bgcolor": "#F5F6F9",
        "template": {
         "data": {
          "bar": [
           {
            "error_x": {
             "color": "#2a3f5f"
            },
            "error_y": {
             "color": "#2a3f5f"
            },
            "marker": {
             "line": {
              "color": "#E5ECF6",
              "width": 0.5
             }
            },
            "type": "bar"
           }
          ],
          "barpolar": [
           {
            "marker": {
             "line": {
              "color": "#E5ECF6",
              "width": 0.5
             }
            },
            "type": "barpolar"
           }
          ],
          "carpet": [
           {
            "aaxis": {
             "endlinecolor": "#2a3f5f",
             "gridcolor": "white",
             "linecolor": "white",
             "minorgridcolor": "white",
             "startlinecolor": "#2a3f5f"
            },
            "baxis": {
             "endlinecolor": "#2a3f5f",
             "gridcolor": "white",
             "linecolor": "white",
             "minorgridcolor": "white",
             "startlinecolor": "#2a3f5f"
            },
            "type": "carpet"
           }
          ],
          "choropleth": [
           {
            "colorbar": {
             "outlinewidth": 0,
             "ticks": ""
            },
            "type": "choropleth"
           }
          ],
          "contour": [
           {
            "colorbar": {
             "outlinewidth": 0,
             "ticks": ""
            },
            "colorscale": [
             [
              0,
              "#0d0887"
             ],
             [
              0.1111111111111111,
              "#46039f"
             ],
             [
              0.2222222222222222,
              "#7201a8"
             ],
             [
              0.3333333333333333,
              "#9c179e"
             ],
             [
              0.4444444444444444,
              "#bd3786"
             ],
             [
              0.5555555555555556,
              "#d8576b"
             ],
             [
              0.6666666666666666,
              "#ed7953"
             ],
             [
              0.7777777777777778,
              "#fb9f3a"
             ],
             [
              0.8888888888888888,
              "#fdca26"
             ],
             [
              1,
              "#f0f921"
             ]
            ],
            "type": "contour"
           }
          ],
          "contourcarpet": [
           {
            "colorbar": {
             "outlinewidth": 0,
             "ticks": ""
            },
            "type": "contourcarpet"
           }
          ],
          "heatmap": [
           {
            "colorbar": {
             "outlinewidth": 0,
             "ticks": ""
            },
            "colorscale": [
             [
              0,
              "#0d0887"
             ],
             [
              0.1111111111111111,
              "#46039f"
             ],
             [
              0.2222222222222222,
              "#7201a8"
             ],
             [
              0.3333333333333333,
              "#9c179e"
             ],
             [
              0.4444444444444444,
              "#bd3786"
             ],
             [
              0.5555555555555556,
              "#d8576b"
             ],
             [
              0.6666666666666666,
              "#ed7953"
             ],
             [
              0.7777777777777778,
              "#fb9f3a"
             ],
             [
              0.8888888888888888,
              "#fdca26"
             ],
             [
              1,
              "#f0f921"
             ]
            ],
            "type": "heatmap"
           }
          ],
          "heatmapgl": [
           {
            "colorbar": {
             "outlinewidth": 0,
             "ticks": ""
            },
            "colorscale": [
             [
              0,
              "#0d0887"
             ],
             [
              0.1111111111111111,
              "#46039f"
             ],
             [
              0.2222222222222222,
              "#7201a8"
             ],
             [
              0.3333333333333333,
              "#9c179e"
             ],
             [
              0.4444444444444444,
              "#bd3786"
             ],
             [
              0.5555555555555556,
              "#d8576b"
             ],
             [
              0.6666666666666666,
              "#ed7953"
             ],
             [
              0.7777777777777778,
              "#fb9f3a"
             ],
             [
              0.8888888888888888,
              "#fdca26"
             ],
             [
              1,
              "#f0f921"
             ]
            ],
            "type": "heatmapgl"
           }
          ],
          "histogram": [
           {
            "marker": {
             "colorbar": {
              "outlinewidth": 0,
              "ticks": ""
             }
            },
            "type": "histogram"
           }
          ],
          "histogram2d": [
           {
            "colorbar": {
             "outlinewidth": 0,
             "ticks": ""
            },
            "colorscale": [
             [
              0,
              "#0d0887"
             ],
             [
              0.1111111111111111,
              "#46039f"
             ],
             [
              0.2222222222222222,
              "#7201a8"
             ],
             [
              0.3333333333333333,
              "#9c179e"
             ],
             [
              0.4444444444444444,
              "#bd3786"
             ],
             [
              0.5555555555555556,
              "#d8576b"
             ],
             [
              0.6666666666666666,
              "#ed7953"
             ],
             [
              0.7777777777777778,
              "#fb9f3a"
             ],
             [
              0.8888888888888888,
              "#fdca26"
             ],
             [
              1,
              "#f0f921"
             ]
            ],
            "type": "histogram2d"
           }
          ],
          "histogram2dcontour": [
           {
            "colorbar": {
             "outlinewidth": 0,
             "ticks": ""
            },
            "colorscale": [
             [
              0,
              "#0d0887"
             ],
             [
              0.1111111111111111,
              "#46039f"
             ],
             [
              0.2222222222222222,
              "#7201a8"
             ],
             [
              0.3333333333333333,
              "#9c179e"
             ],
             [
              0.4444444444444444,
              "#bd3786"
             ],
             [
              0.5555555555555556,
              "#d8576b"
             ],
             [
              0.6666666666666666,
              "#ed7953"
             ],
             [
              0.7777777777777778,
              "#fb9f3a"
             ],
             [
              0.8888888888888888,
              "#fdca26"
             ],
             [
              1,
              "#f0f921"
             ]
            ],
            "type": "histogram2dcontour"
           }
          ],
          "mesh3d": [
           {
            "colorbar": {
             "outlinewidth": 0,
             "ticks": ""
            },
            "type": "mesh3d"
           }
          ],
          "parcoords": [
           {
            "line": {
             "colorbar": {
              "outlinewidth": 0,
              "ticks": ""
             }
            },
            "type": "parcoords"
           }
          ],
          "pie": [
           {
            "automargin": true,
            "type": "pie"
           }
          ],
          "scatter": [
           {
            "marker": {
             "colorbar": {
              "outlinewidth": 0,
              "ticks": ""
             }
            },
            "type": "scatter"
           }
          ],
          "scatter3d": [
           {
            "line": {
             "colorbar": {
              "outlinewidth": 0,
              "ticks": ""
             }
            },
            "marker": {
             "colorbar": {
              "outlinewidth": 0,
              "ticks": ""
             }
            },
            "type": "scatter3d"
           }
          ],
          "scattercarpet": [
           {
            "marker": {
             "colorbar": {
              "outlinewidth": 0,
              "ticks": ""
             }
            },
            "type": "scattercarpet"
           }
          ],
          "scattergeo": [
           {
            "marker": {
             "colorbar": {
              "outlinewidth": 0,
              "ticks": ""
             }
            },
            "type": "scattergeo"
           }
          ],
          "scattergl": [
           {
            "marker": {
             "colorbar": {
              "outlinewidth": 0,
              "ticks": ""
             }
            },
            "type": "scattergl"
           }
          ],
          "scattermapbox": [
           {
            "marker": {
             "colorbar": {
              "outlinewidth": 0,
              "ticks": ""
             }
            },
            "type": "scattermapbox"
           }
          ],
          "scatterpolar": [
           {
            "marker": {
             "colorbar": {
              "outlinewidth": 0,
              "ticks": ""
             }
            },
            "type": "scatterpolar"
           }
          ],
          "scatterpolargl": [
           {
            "marker": {
             "colorbar": {
              "outlinewidth": 0,
              "ticks": ""
             }
            },
            "type": "scatterpolargl"
           }
          ],
          "scatterternary": [
           {
            "marker": {
             "colorbar": {
              "outlinewidth": 0,
              "ticks": ""
             }
            },
            "type": "scatterternary"
           }
          ],
          "surface": [
           {
            "colorbar": {
             "outlinewidth": 0,
             "ticks": ""
            },
            "colorscale": [
             [
              0,
              "#0d0887"
             ],
             [
              0.1111111111111111,
              "#46039f"
             ],
             [
              0.2222222222222222,
              "#7201a8"
             ],
             [
              0.3333333333333333,
              "#9c179e"
             ],
             [
              0.4444444444444444,
              "#bd3786"
             ],
             [
              0.5555555555555556,
              "#d8576b"
             ],
             [
              0.6666666666666666,
              "#ed7953"
             ],
             [
              0.7777777777777778,
              "#fb9f3a"
             ],
             [
              0.8888888888888888,
              "#fdca26"
             ],
             [
              1,
              "#f0f921"
             ]
            ],
            "type": "surface"
           }
          ],
          "table": [
           {
            "cells": {
             "fill": {
              "color": "#EBF0F8"
             },
             "line": {
              "color": "white"
             }
            },
            "header": {
             "fill": {
              "color": "#C8D4E3"
             },
             "line": {
              "color": "white"
             }
            },
            "type": "table"
           }
          ]
         },
         "layout": {
          "annotationdefaults": {
           "arrowcolor": "#2a3f5f",
           "arrowhead": 0,
           "arrowwidth": 1
          },
          "coloraxis": {
           "colorbar": {
            "outlinewidth": 0,
            "ticks": ""
           }
          },
          "colorscale": {
           "diverging": [
            [
             0,
             "#8e0152"
            ],
            [
             0.1,
             "#c51b7d"
            ],
            [
             0.2,
             "#de77ae"
            ],
            [
             0.3,
             "#f1b6da"
            ],
            [
             0.4,
             "#fde0ef"
            ],
            [
             0.5,
             "#f7f7f7"
            ],
            [
             0.6,
             "#e6f5d0"
            ],
            [
             0.7,
             "#b8e186"
            ],
            [
             0.8,
             "#7fbc41"
            ],
            [
             0.9,
             "#4d9221"
            ],
            [
             1,
             "#276419"
            ]
           ],
           "sequential": [
            [
             0,
             "#0d0887"
            ],
            [
             0.1111111111111111,
             "#46039f"
            ],
            [
             0.2222222222222222,
             "#7201a8"
            ],
            [
             0.3333333333333333,
             "#9c179e"
            ],
            [
             0.4444444444444444,
             "#bd3786"
            ],
            [
             0.5555555555555556,
             "#d8576b"
            ],
            [
             0.6666666666666666,
             "#ed7953"
            ],
            [
             0.7777777777777778,
             "#fb9f3a"
            ],
            [
             0.8888888888888888,
             "#fdca26"
            ],
            [
             1,
             "#f0f921"
            ]
           ],
           "sequentialminus": [
            [
             0,
             "#0d0887"
            ],
            [
             0.1111111111111111,
             "#46039f"
            ],
            [
             0.2222222222222222,
             "#7201a8"
            ],
            [
             0.3333333333333333,
             "#9c179e"
            ],
            [
             0.4444444444444444,
             "#bd3786"
            ],
            [
             0.5555555555555556,
             "#d8576b"
            ],
            [
             0.6666666666666666,
             "#ed7953"
            ],
            [
             0.7777777777777778,
             "#fb9f3a"
            ],
            [
             0.8888888888888888,
             "#fdca26"
            ],
            [
             1,
             "#f0f921"
            ]
           ]
          },
          "colorway": [
           "#636efa",
           "#EF553B",
           "#00cc96",
           "#ab63fa",
           "#FFA15A",
           "#19d3f3",
           "#FF6692",
           "#B6E880",
           "#FF97FF",
           "#FECB52"
          ],
          "font": {
           "color": "#2a3f5f"
          },
          "geo": {
           "bgcolor": "white",
           "lakecolor": "white",
           "landcolor": "#E5ECF6",
           "showlakes": true,
           "showland": true,
           "subunitcolor": "white"
          },
          "hoverlabel": {
           "align": "left"
          },
          "hovermode": "closest",
          "mapbox": {
           "style": "light"
          },
          "paper_bgcolor": "white",
          "plot_bgcolor": "#E5ECF6",
          "polar": {
           "angularaxis": {
            "gridcolor": "white",
            "linecolor": "white",
            "ticks": ""
           },
           "bgcolor": "#E5ECF6",
           "radialaxis": {
            "gridcolor": "white",
            "linecolor": "white",
            "ticks": ""
           }
          },
          "scene": {
           "xaxis": {
            "backgroundcolor": "#E5ECF6",
            "gridcolor": "white",
            "gridwidth": 2,
            "linecolor": "white",
            "showbackground": true,
            "ticks": "",
            "zerolinecolor": "white"
           },
           "yaxis": {
            "backgroundcolor": "#E5ECF6",
            "gridcolor": "white",
            "gridwidth": 2,
            "linecolor": "white",
            "showbackground": true,
            "ticks": "",
            "zerolinecolor": "white"
           },
           "zaxis": {
            "backgroundcolor": "#E5ECF6",
            "gridcolor": "white",
            "gridwidth": 2,
            "linecolor": "white",
            "showbackground": true,
            "ticks": "",
            "zerolinecolor": "white"
           }
          },
          "shapedefaults": {
           "line": {
            "color": "#2a3f5f"
           }
          },
          "ternary": {
           "aaxis": {
            "gridcolor": "white",
            "linecolor": "white",
            "ticks": ""
           },
           "baxis": {
            "gridcolor": "white",
            "linecolor": "white",
            "ticks": ""
           },
           "bgcolor": "#E5ECF6",
           "caxis": {
            "gridcolor": "white",
            "linecolor": "white",
            "ticks": ""
           }
          },
          "title": {
           "x": 0.05
          },
          "xaxis": {
           "automargin": true,
           "gridcolor": "white",
           "linecolor": "white",
           "ticks": "",
           "title": {
            "standoff": 15
           },
           "zerolinecolor": "white",
           "zerolinewidth": 2
          },
          "yaxis": {
           "automargin": true,
           "gridcolor": "white",
           "linecolor": "white",
           "ticks": "",
           "title": {
            "standoff": 15
           },
           "zerolinecolor": "white",
           "zerolinewidth": 2
          }
         }
        },
        "title": {
         "font": {
          "color": "#4D5663"
         }
        },
        "xaxis": {
         "gridcolor": "#E1E5ED",
         "showgrid": true,
         "tickfont": {
          "color": "#4D5663"
         },
         "title": {
          "font": {
           "color": "#4D5663"
          },
          "text": ""
         },
         "zerolinecolor": "#E1E5ED"
        },
        "yaxis": {
         "gridcolor": "#E1E5ED",
         "showgrid": true,
         "tickfont": {
          "color": "#4D5663"
         },
         "title": {
          "font": {
           "color": "#4D5663"
          },
          "text": ""
         },
         "zerolinecolor": "#E1E5ED"
        }
       }
      },
      "text/html": [
       "<div>                            <div id=\"fded3de3-0480-4a05-adfb-793fe06ef993\" class=\"plotly-graph-div\" style=\"height:525px; width:100%;\"></div>            <script type=\"text/javascript\">                require([\"plotly\"], function(Plotly) {                    window.PLOTLYENV=window.PLOTLYENV || {};\n",
       "                    window.PLOTLYENV.BASE_URL='https://plot.ly';                                    if (document.getElementById(\"fded3de3-0480-4a05-adfb-793fe06ef993\")) {                    Plotly.newPlot(                        \"fded3de3-0480-4a05-adfb-793fe06ef993\",                        [{\"marker\": {\"color\": \"rgba(255, 153, 51, 0.6)\", \"line\": {\"color\": \"rgba(255, 153, 51, 1.0)\", \"width\": 1}}, \"name\": \"Values\", \"orientation\": \"v\", \"text\": \"\", \"type\": \"bar\", \"x\": [\"A\", \"B\", \"C\"], \"y\": [32, 43, 50]}],                        {\"legend\": {\"bgcolor\": \"#F5F6F9\", \"font\": {\"color\": \"#4D5663\"}}, \"paper_bgcolor\": \"#F5F6F9\", \"plot_bgcolor\": \"#F5F6F9\", \"template\": {\"data\": {\"bar\": [{\"error_x\": {\"color\": \"#2a3f5f\"}, \"error_y\": {\"color\": \"#2a3f5f\"}, \"marker\": {\"line\": {\"color\": \"#E5ECF6\", \"width\": 0.5}}, \"type\": \"bar\"}], \"barpolar\": [{\"marker\": {\"line\": {\"color\": \"#E5ECF6\", \"width\": 0.5}}, \"type\": \"barpolar\"}], \"carpet\": [{\"aaxis\": {\"endlinecolor\": \"#2a3f5f\", \"gridcolor\": \"white\", \"linecolor\": \"white\", \"minorgridcolor\": \"white\", \"startlinecolor\": \"#2a3f5f\"}, \"baxis\": {\"endlinecolor\": \"#2a3f5f\", \"gridcolor\": \"white\", \"linecolor\": \"white\", \"minorgridcolor\": \"white\", \"startlinecolor\": \"#2a3f5f\"}, \"type\": \"carpet\"}], \"choropleth\": [{\"colorbar\": {\"outlinewidth\": 0, \"ticks\": \"\"}, \"type\": \"choropleth\"}], \"contour\": [{\"colorbar\": {\"outlinewidth\": 0, \"ticks\": \"\"}, \"colorscale\": [[0.0, \"#0d0887\"], [0.1111111111111111, \"#46039f\"], [0.2222222222222222, \"#7201a8\"], [0.3333333333333333, \"#9c179e\"], [0.4444444444444444, \"#bd3786\"], [0.5555555555555556, \"#d8576b\"], [0.6666666666666666, \"#ed7953\"], [0.7777777777777778, \"#fb9f3a\"], [0.8888888888888888, \"#fdca26\"], [1.0, \"#f0f921\"]], \"type\": \"contour\"}], \"contourcarpet\": [{\"colorbar\": {\"outlinewidth\": 0, \"ticks\": \"\"}, \"type\": \"contourcarpet\"}], \"heatmap\": [{\"colorbar\": {\"outlinewidth\": 0, \"ticks\": \"\"}, \"colorscale\": [[0.0, \"#0d0887\"], [0.1111111111111111, \"#46039f\"], [0.2222222222222222, \"#7201a8\"], [0.3333333333333333, \"#9c179e\"], [0.4444444444444444, \"#bd3786\"], [0.5555555555555556, \"#d8576b\"], [0.6666666666666666, \"#ed7953\"], [0.7777777777777778, \"#fb9f3a\"], [0.8888888888888888, \"#fdca26\"], [1.0, \"#f0f921\"]], \"type\": \"heatmap\"}], \"heatmapgl\": [{\"colorbar\": {\"outlinewidth\": 0, \"ticks\": \"\"}, \"colorscale\": [[0.0, \"#0d0887\"], [0.1111111111111111, \"#46039f\"], [0.2222222222222222, \"#7201a8\"], [0.3333333333333333, \"#9c179e\"], [0.4444444444444444, \"#bd3786\"], [0.5555555555555556, \"#d8576b\"], [0.6666666666666666, \"#ed7953\"], [0.7777777777777778, \"#fb9f3a\"], [0.8888888888888888, \"#fdca26\"], [1.0, \"#f0f921\"]], \"type\": \"heatmapgl\"}], \"histogram\": [{\"marker\": {\"colorbar\": {\"outlinewidth\": 0, \"ticks\": \"\"}}, \"type\": \"histogram\"}], \"histogram2d\": [{\"colorbar\": {\"outlinewidth\": 0, \"ticks\": \"\"}, \"colorscale\": [[0.0, \"#0d0887\"], [0.1111111111111111, \"#46039f\"], [0.2222222222222222, \"#7201a8\"], [0.3333333333333333, \"#9c179e\"], [0.4444444444444444, \"#bd3786\"], [0.5555555555555556, \"#d8576b\"], [0.6666666666666666, \"#ed7953\"], [0.7777777777777778, \"#fb9f3a\"], [0.8888888888888888, \"#fdca26\"], [1.0, \"#f0f921\"]], \"type\": \"histogram2d\"}], \"histogram2dcontour\": [{\"colorbar\": {\"outlinewidth\": 0, \"ticks\": \"\"}, \"colorscale\": [[0.0, \"#0d0887\"], [0.1111111111111111, \"#46039f\"], [0.2222222222222222, \"#7201a8\"], [0.3333333333333333, \"#9c179e\"], [0.4444444444444444, \"#bd3786\"], [0.5555555555555556, \"#d8576b\"], [0.6666666666666666, \"#ed7953\"], [0.7777777777777778, \"#fb9f3a\"], [0.8888888888888888, \"#fdca26\"], [1.0, \"#f0f921\"]], \"type\": \"histogram2dcontour\"}], \"mesh3d\": [{\"colorbar\": {\"outlinewidth\": 0, \"ticks\": \"\"}, \"type\": \"mesh3d\"}], \"parcoords\": [{\"line\": {\"colorbar\": {\"outlinewidth\": 0, \"ticks\": \"\"}}, \"type\": \"parcoords\"}], \"pie\": [{\"automargin\": true, \"type\": \"pie\"}], \"scatter\": [{\"marker\": {\"colorbar\": {\"outlinewidth\": 0, \"ticks\": \"\"}}, \"type\": \"scatter\"}], \"scatter3d\": [{\"line\": {\"colorbar\": {\"outlinewidth\": 0, \"ticks\": \"\"}}, \"marker\": {\"colorbar\": {\"outlinewidth\": 0, \"ticks\": \"\"}}, \"type\": \"scatter3d\"}], \"scattercarpet\": [{\"marker\": {\"colorbar\": {\"outlinewidth\": 0, \"ticks\": \"\"}}, \"type\": \"scattercarpet\"}], \"scattergeo\": [{\"marker\": {\"colorbar\": {\"outlinewidth\": 0, \"ticks\": \"\"}}, \"type\": \"scattergeo\"}], \"scattergl\": [{\"marker\": {\"colorbar\": {\"outlinewidth\": 0, \"ticks\": \"\"}}, \"type\": \"scattergl\"}], \"scattermapbox\": [{\"marker\": {\"colorbar\": {\"outlinewidth\": 0, \"ticks\": \"\"}}, \"type\": \"scattermapbox\"}], \"scatterpolar\": [{\"marker\": {\"colorbar\": {\"outlinewidth\": 0, \"ticks\": \"\"}}, \"type\": \"scatterpolar\"}], \"scatterpolargl\": [{\"marker\": {\"colorbar\": {\"outlinewidth\": 0, \"ticks\": \"\"}}, \"type\": \"scatterpolargl\"}], \"scatterternary\": [{\"marker\": {\"colorbar\": {\"outlinewidth\": 0, \"ticks\": \"\"}}, \"type\": \"scatterternary\"}], \"surface\": [{\"colorbar\": {\"outlinewidth\": 0, \"ticks\": \"\"}, \"colorscale\": [[0.0, \"#0d0887\"], [0.1111111111111111, \"#46039f\"], [0.2222222222222222, \"#7201a8\"], [0.3333333333333333, \"#9c179e\"], [0.4444444444444444, \"#bd3786\"], [0.5555555555555556, \"#d8576b\"], [0.6666666666666666, \"#ed7953\"], [0.7777777777777778, \"#fb9f3a\"], [0.8888888888888888, \"#fdca26\"], [1.0, \"#f0f921\"]], \"type\": \"surface\"}], \"table\": [{\"cells\": {\"fill\": {\"color\": \"#EBF0F8\"}, \"line\": {\"color\": \"white\"}}, \"header\": {\"fill\": {\"color\": \"#C8D4E3\"}, \"line\": {\"color\": \"white\"}}, \"type\": \"table\"}]}, \"layout\": {\"annotationdefaults\": {\"arrowcolor\": \"#2a3f5f\", \"arrowhead\": 0, \"arrowwidth\": 1}, \"coloraxis\": {\"colorbar\": {\"outlinewidth\": 0, \"ticks\": \"\"}}, \"colorscale\": {\"diverging\": [[0, \"#8e0152\"], [0.1, \"#c51b7d\"], [0.2, \"#de77ae\"], [0.3, \"#f1b6da\"], [0.4, \"#fde0ef\"], [0.5, \"#f7f7f7\"], [0.6, \"#e6f5d0\"], [0.7, \"#b8e186\"], [0.8, \"#7fbc41\"], [0.9, \"#4d9221\"], [1, \"#276419\"]], \"sequential\": [[0.0, \"#0d0887\"], [0.1111111111111111, \"#46039f\"], [0.2222222222222222, \"#7201a8\"], [0.3333333333333333, \"#9c179e\"], [0.4444444444444444, \"#bd3786\"], [0.5555555555555556, \"#d8576b\"], [0.6666666666666666, \"#ed7953\"], [0.7777777777777778, \"#fb9f3a\"], [0.8888888888888888, \"#fdca26\"], [1.0, \"#f0f921\"]], \"sequentialminus\": [[0.0, \"#0d0887\"], [0.1111111111111111, \"#46039f\"], [0.2222222222222222, \"#7201a8\"], [0.3333333333333333, \"#9c179e\"], [0.4444444444444444, \"#bd3786\"], [0.5555555555555556, \"#d8576b\"], [0.6666666666666666, \"#ed7953\"], [0.7777777777777778, \"#fb9f3a\"], [0.8888888888888888, \"#fdca26\"], [1.0, \"#f0f921\"]]}, \"colorway\": [\"#636efa\", \"#EF553B\", \"#00cc96\", \"#ab63fa\", \"#FFA15A\", \"#19d3f3\", \"#FF6692\", \"#B6E880\", \"#FF97FF\", \"#FECB52\"], \"font\": {\"color\": \"#2a3f5f\"}, \"geo\": {\"bgcolor\": \"white\", \"lakecolor\": \"white\", \"landcolor\": \"#E5ECF6\", \"showlakes\": true, \"showland\": true, \"subunitcolor\": \"white\"}, \"hoverlabel\": {\"align\": \"left\"}, \"hovermode\": \"closest\", \"mapbox\": {\"style\": \"light\"}, \"paper_bgcolor\": \"white\", \"plot_bgcolor\": \"#E5ECF6\", \"polar\": {\"angularaxis\": {\"gridcolor\": \"white\", \"linecolor\": \"white\", \"ticks\": \"\"}, \"bgcolor\": \"#E5ECF6\", \"radialaxis\": {\"gridcolor\": \"white\", \"linecolor\": \"white\", \"ticks\": \"\"}}, \"scene\": {\"xaxis\": {\"backgroundcolor\": \"#E5ECF6\", \"gridcolor\": \"white\", \"gridwidth\": 2, \"linecolor\": \"white\", \"showbackground\": true, \"ticks\": \"\", \"zerolinecolor\": \"white\"}, \"yaxis\": {\"backgroundcolor\": \"#E5ECF6\", \"gridcolor\": \"white\", \"gridwidth\": 2, \"linecolor\": \"white\", \"showbackground\": true, \"ticks\": \"\", \"zerolinecolor\": \"white\"}, \"zaxis\": {\"backgroundcolor\": \"#E5ECF6\", \"gridcolor\": \"white\", \"gridwidth\": 2, \"linecolor\": \"white\", \"showbackground\": true, \"ticks\": \"\", \"zerolinecolor\": \"white\"}}, \"shapedefaults\": {\"line\": {\"color\": \"#2a3f5f\"}}, \"ternary\": {\"aaxis\": {\"gridcolor\": \"white\", \"linecolor\": \"white\", \"ticks\": \"\"}, \"baxis\": {\"gridcolor\": \"white\", \"linecolor\": \"white\", \"ticks\": \"\"}, \"bgcolor\": \"#E5ECF6\", \"caxis\": {\"gridcolor\": \"white\", \"linecolor\": \"white\", \"ticks\": \"\"}}, \"title\": {\"x\": 0.05}, \"xaxis\": {\"automargin\": true, \"gridcolor\": \"white\", \"linecolor\": \"white\", \"ticks\": \"\", \"title\": {\"standoff\": 15}, \"zerolinecolor\": \"white\", \"zerolinewidth\": 2}, \"yaxis\": {\"automargin\": true, \"gridcolor\": \"white\", \"linecolor\": \"white\", \"ticks\": \"\", \"title\": {\"standoff\": 15}, \"zerolinecolor\": \"white\", \"zerolinewidth\": 2}}}, \"title\": {\"font\": {\"color\": \"#4D5663\"}}, \"xaxis\": {\"gridcolor\": \"#E1E5ED\", \"showgrid\": true, \"tickfont\": {\"color\": \"#4D5663\"}, \"title\": {\"font\": {\"color\": \"#4D5663\"}, \"text\": \"\"}, \"zerolinecolor\": \"#E1E5ED\"}, \"yaxis\": {\"gridcolor\": \"#E1E5ED\", \"showgrid\": true, \"tickfont\": {\"color\": \"#4D5663\"}, \"title\": {\"font\": {\"color\": \"#4D5663\"}, \"text\": \"\"}, \"zerolinecolor\": \"#E1E5ED\"}},                        {\"showLink\": true, \"linkText\": \"Export to plot.ly\", \"plotlyServerURL\": \"https://plot.ly\", \"responsive\": true}                    ).then(function(){\n",
       "                            \n",
       "var gd = document.getElementById('fded3de3-0480-4a05-adfb-793fe06ef993');\n",
       "var x = new MutationObserver(function (mutations, observer) {{\n",
       "        var display = window.getComputedStyle(gd).display;\n",
       "        if (!display || display === 'none') {{\n",
       "            console.log([gd, 'removed!']);\n",
       "            Plotly.purge(gd);\n",
       "            observer.disconnect();\n",
       "        }}\n",
       "}});\n",
       "\n",
       "// Listen for the removal of the full notebook cells\n",
       "var notebookContainer = gd.closest('#notebook-container');\n",
       "if (notebookContainer) {{\n",
       "    x.observe(notebookContainer, {childList: true});\n",
       "}}\n",
       "\n",
       "// Listen for the clearing of the current output cell\n",
       "var outputEl = gd.closest('.output');\n",
       "if (outputEl) {{\n",
       "    x.observe(outputEl, {childList: true});\n",
       "}}\n",
       "\n",
       "                        })                };                });            </script>        </div>"
      ]
     },
     "metadata": {},
     "output_type": "display_data"
    }
   ],
   "source": [
    "df2.iplot(kind='bar', x='Category',y='Values')"
   ]
  },
  {
   "cell_type": "markdown",
   "metadata": {},
   "source": [
    "## Groupby /Aggregate"
   ]
  },
  {
   "cell_type": "code",
   "execution_count": 23,
   "metadata": {},
   "outputs": [
    {
     "data": {
      "text/html": [
       "<div>\n",
       "<style scoped>\n",
       "    .dataframe tbody tr th:only-of-type {\n",
       "        vertical-align: middle;\n",
       "    }\n",
       "\n",
       "    .dataframe tbody tr th {\n",
       "        vertical-align: top;\n",
       "    }\n",
       "\n",
       "    .dataframe thead th {\n",
       "        text-align: right;\n",
       "    }\n",
       "</style>\n",
       "<table border=\"1\" class=\"dataframe\">\n",
       "  <thead>\n",
       "    <tr style=\"text-align: right;\">\n",
       "      <th></th>\n",
       "      <th>A</th>\n",
       "      <th>B</th>\n",
       "      <th>C</th>\n",
       "      <th>D</th>\n",
       "    </tr>\n",
       "  </thead>\n",
       "  <tbody>\n",
       "    <tr>\n",
       "      <td>0</td>\n",
       "      <td>0.283362</td>\n",
       "      <td>-0.129336</td>\n",
       "      <td>0.018304</td>\n",
       "      <td>-0.102161</td>\n",
       "    </tr>\n",
       "    <tr>\n",
       "      <td>1</td>\n",
       "      <td>-1.127272</td>\n",
       "      <td>0.131032</td>\n",
       "      <td>2.019561</td>\n",
       "      <td>-0.765631</td>\n",
       "    </tr>\n",
       "    <tr>\n",
       "      <td>2</td>\n",
       "      <td>0.530199</td>\n",
       "      <td>-0.278380</td>\n",
       "      <td>0.426269</td>\n",
       "      <td>0.462748</td>\n",
       "    </tr>\n",
       "    <tr>\n",
       "      <td>3</td>\n",
       "      <td>-0.907604</td>\n",
       "      <td>-0.447907</td>\n",
       "      <td>-0.273968</td>\n",
       "      <td>0.967601</td>\n",
       "    </tr>\n",
       "    <tr>\n",
       "      <td>4</td>\n",
       "      <td>0.304583</td>\n",
       "      <td>0.615029</td>\n",
       "      <td>-0.997471</td>\n",
       "      <td>0.926424</td>\n",
       "    </tr>\n",
       "    <tr>\n",
       "      <td>...</td>\n",
       "      <td>...</td>\n",
       "      <td>...</td>\n",
       "      <td>...</td>\n",
       "      <td>...</td>\n",
       "    </tr>\n",
       "    <tr>\n",
       "      <td>95</td>\n",
       "      <td>1.444216</td>\n",
       "      <td>-0.732257</td>\n",
       "      <td>-0.555411</td>\n",
       "      <td>-1.322764</td>\n",
       "    </tr>\n",
       "    <tr>\n",
       "      <td>96</td>\n",
       "      <td>-1.083108</td>\n",
       "      <td>-0.851516</td>\n",
       "      <td>1.498198</td>\n",
       "      <td>-1.008368</td>\n",
       "    </tr>\n",
       "    <tr>\n",
       "      <td>97</td>\n",
       "      <td>-1.058304</td>\n",
       "      <td>-0.615808</td>\n",
       "      <td>0.338282</td>\n",
       "      <td>1.236371</td>\n",
       "    </tr>\n",
       "    <tr>\n",
       "      <td>98</td>\n",
       "      <td>1.153502</td>\n",
       "      <td>-0.020335</td>\n",
       "      <td>-0.359748</td>\n",
       "      <td>-1.321018</td>\n",
       "    </tr>\n",
       "    <tr>\n",
       "      <td>99</td>\n",
       "      <td>0.530180</td>\n",
       "      <td>-0.666891</td>\n",
       "      <td>1.492920</td>\n",
       "      <td>-0.003251</td>\n",
       "    </tr>\n",
       "  </tbody>\n",
       "</table>\n",
       "<p>100 rows × 4 columns</p>\n",
       "</div>"
      ],
      "text/plain": [
       "           A         B         C         D\n",
       "0   0.283362 -0.129336  0.018304 -0.102161\n",
       "1  -1.127272  0.131032  2.019561 -0.765631\n",
       "2   0.530199 -0.278380  0.426269  0.462748\n",
       "3  -0.907604 -0.447907 -0.273968  0.967601\n",
       "4   0.304583  0.615029 -0.997471  0.926424\n",
       "..       ...       ...       ...       ...\n",
       "95  1.444216 -0.732257 -0.555411 -1.322764\n",
       "96 -1.083108 -0.851516  1.498198 -1.008368\n",
       "97 -1.058304 -0.615808  0.338282  1.236371\n",
       "98  1.153502 -0.020335 -0.359748 -1.321018\n",
       "99  0.530180 -0.666891  1.492920 -0.003251\n",
       "\n",
       "[100 rows x 4 columns]"
      ]
     },
     "execution_count": 23,
     "metadata": {},
     "output_type": "execute_result"
    }
   ],
   "source": [
    "df"
   ]
  },
  {
   "cell_type": "code",
   "execution_count": 24,
   "metadata": {},
   "outputs": [
    {
     "data": {
      "application/vnd.plotly.v1+json": {
       "config": {
        "linkText": "Export to plot.ly",
        "plotlyServerURL": "https://plot.ly",
        "showLink": true
       },
       "data": [
        {
         "marker": {
          "color": "rgba(255, 153, 51, 0.6)",
          "line": {
           "color": "rgba(255, 153, 51, 1.0)",
           "width": 1
          }
         },
         "name": "None",
         "orientation": "v",
         "text": "",
         "type": "bar",
         "x": [
          "A",
          "B",
          "C",
          "D"
         ],
         "y": [
          -6.808357481020617,
          7.825621832270198,
          7.5890433413656675,
          -5.962059212128341
         ]
        }
       ],
       "layout": {
        "legend": {
         "bgcolor": "#F5F6F9",
         "font": {
          "color": "#4D5663"
         }
        },
        "paper_bgcolor": "#F5F6F9",
        "plot_bgcolor": "#F5F6F9",
        "template": {
         "data": {
          "bar": [
           {
            "error_x": {
             "color": "#2a3f5f"
            },
            "error_y": {
             "color": "#2a3f5f"
            },
            "marker": {
             "line": {
              "color": "#E5ECF6",
              "width": 0.5
             }
            },
            "type": "bar"
           }
          ],
          "barpolar": [
           {
            "marker": {
             "line": {
              "color": "#E5ECF6",
              "width": 0.5
             }
            },
            "type": "barpolar"
           }
          ],
          "carpet": [
           {
            "aaxis": {
             "endlinecolor": "#2a3f5f",
             "gridcolor": "white",
             "linecolor": "white",
             "minorgridcolor": "white",
             "startlinecolor": "#2a3f5f"
            },
            "baxis": {
             "endlinecolor": "#2a3f5f",
             "gridcolor": "white",
             "linecolor": "white",
             "minorgridcolor": "white",
             "startlinecolor": "#2a3f5f"
            },
            "type": "carpet"
           }
          ],
          "choropleth": [
           {
            "colorbar": {
             "outlinewidth": 0,
             "ticks": ""
            },
            "type": "choropleth"
           }
          ],
          "contour": [
           {
            "colorbar": {
             "outlinewidth": 0,
             "ticks": ""
            },
            "colorscale": [
             [
              0,
              "#0d0887"
             ],
             [
              0.1111111111111111,
              "#46039f"
             ],
             [
              0.2222222222222222,
              "#7201a8"
             ],
             [
              0.3333333333333333,
              "#9c179e"
             ],
             [
              0.4444444444444444,
              "#bd3786"
             ],
             [
              0.5555555555555556,
              "#d8576b"
             ],
             [
              0.6666666666666666,
              "#ed7953"
             ],
             [
              0.7777777777777778,
              "#fb9f3a"
             ],
             [
              0.8888888888888888,
              "#fdca26"
             ],
             [
              1,
              "#f0f921"
             ]
            ],
            "type": "contour"
           }
          ],
          "contourcarpet": [
           {
            "colorbar": {
             "outlinewidth": 0,
             "ticks": ""
            },
            "type": "contourcarpet"
           }
          ],
          "heatmap": [
           {
            "colorbar": {
             "outlinewidth": 0,
             "ticks": ""
            },
            "colorscale": [
             [
              0,
              "#0d0887"
             ],
             [
              0.1111111111111111,
              "#46039f"
             ],
             [
              0.2222222222222222,
              "#7201a8"
             ],
             [
              0.3333333333333333,
              "#9c179e"
             ],
             [
              0.4444444444444444,
              "#bd3786"
             ],
             [
              0.5555555555555556,
              "#d8576b"
             ],
             [
              0.6666666666666666,
              "#ed7953"
             ],
             [
              0.7777777777777778,
              "#fb9f3a"
             ],
             [
              0.8888888888888888,
              "#fdca26"
             ],
             [
              1,
              "#f0f921"
             ]
            ],
            "type": "heatmap"
           }
          ],
          "heatmapgl": [
           {
            "colorbar": {
             "outlinewidth": 0,
             "ticks": ""
            },
            "colorscale": [
             [
              0,
              "#0d0887"
             ],
             [
              0.1111111111111111,
              "#46039f"
             ],
             [
              0.2222222222222222,
              "#7201a8"
             ],
             [
              0.3333333333333333,
              "#9c179e"
             ],
             [
              0.4444444444444444,
              "#bd3786"
             ],
             [
              0.5555555555555556,
              "#d8576b"
             ],
             [
              0.6666666666666666,
              "#ed7953"
             ],
             [
              0.7777777777777778,
              "#fb9f3a"
             ],
             [
              0.8888888888888888,
              "#fdca26"
             ],
             [
              1,
              "#f0f921"
             ]
            ],
            "type": "heatmapgl"
           }
          ],
          "histogram": [
           {
            "marker": {
             "colorbar": {
              "outlinewidth": 0,
              "ticks": ""
             }
            },
            "type": "histogram"
           }
          ],
          "histogram2d": [
           {
            "colorbar": {
             "outlinewidth": 0,
             "ticks": ""
            },
            "colorscale": [
             [
              0,
              "#0d0887"
             ],
             [
              0.1111111111111111,
              "#46039f"
             ],
             [
              0.2222222222222222,
              "#7201a8"
             ],
             [
              0.3333333333333333,
              "#9c179e"
             ],
             [
              0.4444444444444444,
              "#bd3786"
             ],
             [
              0.5555555555555556,
              "#d8576b"
             ],
             [
              0.6666666666666666,
              "#ed7953"
             ],
             [
              0.7777777777777778,
              "#fb9f3a"
             ],
             [
              0.8888888888888888,
              "#fdca26"
             ],
             [
              1,
              "#f0f921"
             ]
            ],
            "type": "histogram2d"
           }
          ],
          "histogram2dcontour": [
           {
            "colorbar": {
             "outlinewidth": 0,
             "ticks": ""
            },
            "colorscale": [
             [
              0,
              "#0d0887"
             ],
             [
              0.1111111111111111,
              "#46039f"
             ],
             [
              0.2222222222222222,
              "#7201a8"
             ],
             [
              0.3333333333333333,
              "#9c179e"
             ],
             [
              0.4444444444444444,
              "#bd3786"
             ],
             [
              0.5555555555555556,
              "#d8576b"
             ],
             [
              0.6666666666666666,
              "#ed7953"
             ],
             [
              0.7777777777777778,
              "#fb9f3a"
             ],
             [
              0.8888888888888888,
              "#fdca26"
             ],
             [
              1,
              "#f0f921"
             ]
            ],
            "type": "histogram2dcontour"
           }
          ],
          "mesh3d": [
           {
            "colorbar": {
             "outlinewidth": 0,
             "ticks": ""
            },
            "type": "mesh3d"
           }
          ],
          "parcoords": [
           {
            "line": {
             "colorbar": {
              "outlinewidth": 0,
              "ticks": ""
             }
            },
            "type": "parcoords"
           }
          ],
          "pie": [
           {
            "automargin": true,
            "type": "pie"
           }
          ],
          "scatter": [
           {
            "marker": {
             "colorbar": {
              "outlinewidth": 0,
              "ticks": ""
             }
            },
            "type": "scatter"
           }
          ],
          "scatter3d": [
           {
            "line": {
             "colorbar": {
              "outlinewidth": 0,
              "ticks": ""
             }
            },
            "marker": {
             "colorbar": {
              "outlinewidth": 0,
              "ticks": ""
             }
            },
            "type": "scatter3d"
           }
          ],
          "scattercarpet": [
           {
            "marker": {
             "colorbar": {
              "outlinewidth": 0,
              "ticks": ""
             }
            },
            "type": "scattercarpet"
           }
          ],
          "scattergeo": [
           {
            "marker": {
             "colorbar": {
              "outlinewidth": 0,
              "ticks": ""
             }
            },
            "type": "scattergeo"
           }
          ],
          "scattergl": [
           {
            "marker": {
             "colorbar": {
              "outlinewidth": 0,
              "ticks": ""
             }
            },
            "type": "scattergl"
           }
          ],
          "scattermapbox": [
           {
            "marker": {
             "colorbar": {
              "outlinewidth": 0,
              "ticks": ""
             }
            },
            "type": "scattermapbox"
           }
          ],
          "scatterpolar": [
           {
            "marker": {
             "colorbar": {
              "outlinewidth": 0,
              "ticks": ""
             }
            },
            "type": "scatterpolar"
           }
          ],
          "scatterpolargl": [
           {
            "marker": {
             "colorbar": {
              "outlinewidth": 0,
              "ticks": ""
             }
            },
            "type": "scatterpolargl"
           }
          ],
          "scatterternary": [
           {
            "marker": {
             "colorbar": {
              "outlinewidth": 0,
              "ticks": ""
             }
            },
            "type": "scatterternary"
           }
          ],
          "surface": [
           {
            "colorbar": {
             "outlinewidth": 0,
             "ticks": ""
            },
            "colorscale": [
             [
              0,
              "#0d0887"
             ],
             [
              0.1111111111111111,
              "#46039f"
             ],
             [
              0.2222222222222222,
              "#7201a8"
             ],
             [
              0.3333333333333333,
              "#9c179e"
             ],
             [
              0.4444444444444444,
              "#bd3786"
             ],
             [
              0.5555555555555556,
              "#d8576b"
             ],
             [
              0.6666666666666666,
              "#ed7953"
             ],
             [
              0.7777777777777778,
              "#fb9f3a"
             ],
             [
              0.8888888888888888,
              "#fdca26"
             ],
             [
              1,
              "#f0f921"
             ]
            ],
            "type": "surface"
           }
          ],
          "table": [
           {
            "cells": {
             "fill": {
              "color": "#EBF0F8"
             },
             "line": {
              "color": "white"
             }
            },
            "header": {
             "fill": {
              "color": "#C8D4E3"
             },
             "line": {
              "color": "white"
             }
            },
            "type": "table"
           }
          ]
         },
         "layout": {
          "annotationdefaults": {
           "arrowcolor": "#2a3f5f",
           "arrowhead": 0,
           "arrowwidth": 1
          },
          "coloraxis": {
           "colorbar": {
            "outlinewidth": 0,
            "ticks": ""
           }
          },
          "colorscale": {
           "diverging": [
            [
             0,
             "#8e0152"
            ],
            [
             0.1,
             "#c51b7d"
            ],
            [
             0.2,
             "#de77ae"
            ],
            [
             0.3,
             "#f1b6da"
            ],
            [
             0.4,
             "#fde0ef"
            ],
            [
             0.5,
             "#f7f7f7"
            ],
            [
             0.6,
             "#e6f5d0"
            ],
            [
             0.7,
             "#b8e186"
            ],
            [
             0.8,
             "#7fbc41"
            ],
            [
             0.9,
             "#4d9221"
            ],
            [
             1,
             "#276419"
            ]
           ],
           "sequential": [
            [
             0,
             "#0d0887"
            ],
            [
             0.1111111111111111,
             "#46039f"
            ],
            [
             0.2222222222222222,
             "#7201a8"
            ],
            [
             0.3333333333333333,
             "#9c179e"
            ],
            [
             0.4444444444444444,
             "#bd3786"
            ],
            [
             0.5555555555555556,
             "#d8576b"
            ],
            [
             0.6666666666666666,
             "#ed7953"
            ],
            [
             0.7777777777777778,
             "#fb9f3a"
            ],
            [
             0.8888888888888888,
             "#fdca26"
            ],
            [
             1,
             "#f0f921"
            ]
           ],
           "sequentialminus": [
            [
             0,
             "#0d0887"
            ],
            [
             0.1111111111111111,
             "#46039f"
            ],
            [
             0.2222222222222222,
             "#7201a8"
            ],
            [
             0.3333333333333333,
             "#9c179e"
            ],
            [
             0.4444444444444444,
             "#bd3786"
            ],
            [
             0.5555555555555556,
             "#d8576b"
            ],
            [
             0.6666666666666666,
             "#ed7953"
            ],
            [
             0.7777777777777778,
             "#fb9f3a"
            ],
            [
             0.8888888888888888,
             "#fdca26"
            ],
            [
             1,
             "#f0f921"
            ]
           ]
          },
          "colorway": [
           "#636efa",
           "#EF553B",
           "#00cc96",
           "#ab63fa",
           "#FFA15A",
           "#19d3f3",
           "#FF6692",
           "#B6E880",
           "#FF97FF",
           "#FECB52"
          ],
          "font": {
           "color": "#2a3f5f"
          },
          "geo": {
           "bgcolor": "white",
           "lakecolor": "white",
           "landcolor": "#E5ECF6",
           "showlakes": true,
           "showland": true,
           "subunitcolor": "white"
          },
          "hoverlabel": {
           "align": "left"
          },
          "hovermode": "closest",
          "mapbox": {
           "style": "light"
          },
          "paper_bgcolor": "white",
          "plot_bgcolor": "#E5ECF6",
          "polar": {
           "angularaxis": {
            "gridcolor": "white",
            "linecolor": "white",
            "ticks": ""
           },
           "bgcolor": "#E5ECF6",
           "radialaxis": {
            "gridcolor": "white",
            "linecolor": "white",
            "ticks": ""
           }
          },
          "scene": {
           "xaxis": {
            "backgroundcolor": "#E5ECF6",
            "gridcolor": "white",
            "gridwidth": 2,
            "linecolor": "white",
            "showbackground": true,
            "ticks": "",
            "zerolinecolor": "white"
           },
           "yaxis": {
            "backgroundcolor": "#E5ECF6",
            "gridcolor": "white",
            "gridwidth": 2,
            "linecolor": "white",
            "showbackground": true,
            "ticks": "",
            "zerolinecolor": "white"
           },
           "zaxis": {
            "backgroundcolor": "#E5ECF6",
            "gridcolor": "white",
            "gridwidth": 2,
            "linecolor": "white",
            "showbackground": true,
            "ticks": "",
            "zerolinecolor": "white"
           }
          },
          "shapedefaults": {
           "line": {
            "color": "#2a3f5f"
           }
          },
          "ternary": {
           "aaxis": {
            "gridcolor": "white",
            "linecolor": "white",
            "ticks": ""
           },
           "baxis": {
            "gridcolor": "white",
            "linecolor": "white",
            "ticks": ""
           },
           "bgcolor": "#E5ECF6",
           "caxis": {
            "gridcolor": "white",
            "linecolor": "white",
            "ticks": ""
           }
          },
          "title": {
           "x": 0.05
          },
          "xaxis": {
           "automargin": true,
           "gridcolor": "white",
           "linecolor": "white",
           "ticks": "",
           "title": {
            "standoff": 15
           },
           "zerolinecolor": "white",
           "zerolinewidth": 2
          },
          "yaxis": {
           "automargin": true,
           "gridcolor": "white",
           "linecolor": "white",
           "ticks": "",
           "title": {
            "standoff": 15
           },
           "zerolinecolor": "white",
           "zerolinewidth": 2
          }
         }
        },
        "title": {
         "font": {
          "color": "#4D5663"
         }
        },
        "xaxis": {
         "gridcolor": "#E1E5ED",
         "showgrid": true,
         "tickfont": {
          "color": "#4D5663"
         },
         "title": {
          "font": {
           "color": "#4D5663"
          },
          "text": ""
         },
         "zerolinecolor": "#E1E5ED"
        },
        "yaxis": {
         "gridcolor": "#E1E5ED",
         "showgrid": true,
         "tickfont": {
          "color": "#4D5663"
         },
         "title": {
          "font": {
           "color": "#4D5663"
          },
          "text": ""
         },
         "zerolinecolor": "#E1E5ED"
        }
       }
      },
      "text/html": [
       "<div>                            <div id=\"5d58e9b6-1001-48f9-b16b-6a1b92494401\" class=\"plotly-graph-div\" style=\"height:525px; width:100%;\"></div>            <script type=\"text/javascript\">                require([\"plotly\"], function(Plotly) {                    window.PLOTLYENV=window.PLOTLYENV || {};\n",
       "                    window.PLOTLYENV.BASE_URL='https://plot.ly';                                    if (document.getElementById(\"5d58e9b6-1001-48f9-b16b-6a1b92494401\")) {                    Plotly.newPlot(                        \"5d58e9b6-1001-48f9-b16b-6a1b92494401\",                        [{\"marker\": {\"color\": \"rgba(255, 153, 51, 0.6)\", \"line\": {\"color\": \"rgba(255, 153, 51, 1.0)\", \"width\": 1}}, \"name\": \"None\", \"orientation\": \"v\", \"text\": \"\", \"type\": \"bar\", \"x\": [\"A\", \"B\", \"C\", \"D\"], \"y\": [-6.808357481020617, 7.825621832270198, 7.5890433413656675, -5.962059212128341]}],                        {\"legend\": {\"bgcolor\": \"#F5F6F9\", \"font\": {\"color\": \"#4D5663\"}}, \"paper_bgcolor\": \"#F5F6F9\", \"plot_bgcolor\": \"#F5F6F9\", \"template\": {\"data\": {\"bar\": [{\"error_x\": {\"color\": \"#2a3f5f\"}, \"error_y\": {\"color\": \"#2a3f5f\"}, \"marker\": {\"line\": {\"color\": \"#E5ECF6\", \"width\": 0.5}}, \"type\": \"bar\"}], \"barpolar\": [{\"marker\": {\"line\": {\"color\": \"#E5ECF6\", \"width\": 0.5}}, \"type\": \"barpolar\"}], \"carpet\": [{\"aaxis\": {\"endlinecolor\": \"#2a3f5f\", \"gridcolor\": \"white\", \"linecolor\": \"white\", \"minorgridcolor\": \"white\", \"startlinecolor\": \"#2a3f5f\"}, \"baxis\": {\"endlinecolor\": \"#2a3f5f\", \"gridcolor\": \"white\", \"linecolor\": \"white\", \"minorgridcolor\": \"white\", \"startlinecolor\": \"#2a3f5f\"}, \"type\": \"carpet\"}], \"choropleth\": [{\"colorbar\": {\"outlinewidth\": 0, \"ticks\": \"\"}, \"type\": \"choropleth\"}], \"contour\": [{\"colorbar\": {\"outlinewidth\": 0, \"ticks\": \"\"}, \"colorscale\": [[0.0, \"#0d0887\"], [0.1111111111111111, \"#46039f\"], [0.2222222222222222, \"#7201a8\"], [0.3333333333333333, \"#9c179e\"], [0.4444444444444444, \"#bd3786\"], [0.5555555555555556, \"#d8576b\"], [0.6666666666666666, \"#ed7953\"], [0.7777777777777778, \"#fb9f3a\"], [0.8888888888888888, \"#fdca26\"], [1.0, \"#f0f921\"]], \"type\": \"contour\"}], \"contourcarpet\": [{\"colorbar\": {\"outlinewidth\": 0, \"ticks\": \"\"}, \"type\": \"contourcarpet\"}], \"heatmap\": [{\"colorbar\": {\"outlinewidth\": 0, \"ticks\": \"\"}, \"colorscale\": [[0.0, \"#0d0887\"], [0.1111111111111111, \"#46039f\"], [0.2222222222222222, \"#7201a8\"], [0.3333333333333333, \"#9c179e\"], [0.4444444444444444, \"#bd3786\"], [0.5555555555555556, \"#d8576b\"], [0.6666666666666666, \"#ed7953\"], [0.7777777777777778, \"#fb9f3a\"], [0.8888888888888888, \"#fdca26\"], [1.0, \"#f0f921\"]], \"type\": \"heatmap\"}], \"heatmapgl\": [{\"colorbar\": {\"outlinewidth\": 0, \"ticks\": \"\"}, \"colorscale\": [[0.0, \"#0d0887\"], [0.1111111111111111, \"#46039f\"], [0.2222222222222222, \"#7201a8\"], [0.3333333333333333, \"#9c179e\"], [0.4444444444444444, \"#bd3786\"], [0.5555555555555556, \"#d8576b\"], [0.6666666666666666, \"#ed7953\"], [0.7777777777777778, \"#fb9f3a\"], [0.8888888888888888, \"#fdca26\"], [1.0, \"#f0f921\"]], \"type\": \"heatmapgl\"}], \"histogram\": [{\"marker\": {\"colorbar\": {\"outlinewidth\": 0, \"ticks\": \"\"}}, \"type\": \"histogram\"}], \"histogram2d\": [{\"colorbar\": {\"outlinewidth\": 0, \"ticks\": \"\"}, \"colorscale\": [[0.0, \"#0d0887\"], [0.1111111111111111, \"#46039f\"], [0.2222222222222222, \"#7201a8\"], [0.3333333333333333, \"#9c179e\"], [0.4444444444444444, \"#bd3786\"], [0.5555555555555556, \"#d8576b\"], [0.6666666666666666, \"#ed7953\"], [0.7777777777777778, \"#fb9f3a\"], [0.8888888888888888, \"#fdca26\"], [1.0, \"#f0f921\"]], \"type\": \"histogram2d\"}], \"histogram2dcontour\": [{\"colorbar\": {\"outlinewidth\": 0, \"ticks\": \"\"}, \"colorscale\": [[0.0, \"#0d0887\"], [0.1111111111111111, \"#46039f\"], [0.2222222222222222, \"#7201a8\"], [0.3333333333333333, \"#9c179e\"], [0.4444444444444444, \"#bd3786\"], [0.5555555555555556, \"#d8576b\"], [0.6666666666666666, \"#ed7953\"], [0.7777777777777778, \"#fb9f3a\"], [0.8888888888888888, \"#fdca26\"], [1.0, \"#f0f921\"]], \"type\": \"histogram2dcontour\"}], \"mesh3d\": [{\"colorbar\": {\"outlinewidth\": 0, \"ticks\": \"\"}, \"type\": \"mesh3d\"}], \"parcoords\": [{\"line\": {\"colorbar\": {\"outlinewidth\": 0, \"ticks\": \"\"}}, \"type\": \"parcoords\"}], \"pie\": [{\"automargin\": true, \"type\": \"pie\"}], \"scatter\": [{\"marker\": {\"colorbar\": {\"outlinewidth\": 0, \"ticks\": \"\"}}, \"type\": \"scatter\"}], \"scatter3d\": [{\"line\": {\"colorbar\": {\"outlinewidth\": 0, \"ticks\": \"\"}}, \"marker\": {\"colorbar\": {\"outlinewidth\": 0, \"ticks\": \"\"}}, \"type\": \"scatter3d\"}], \"scattercarpet\": [{\"marker\": {\"colorbar\": {\"outlinewidth\": 0, \"ticks\": \"\"}}, \"type\": \"scattercarpet\"}], \"scattergeo\": [{\"marker\": {\"colorbar\": {\"outlinewidth\": 0, \"ticks\": \"\"}}, \"type\": \"scattergeo\"}], \"scattergl\": [{\"marker\": {\"colorbar\": {\"outlinewidth\": 0, \"ticks\": \"\"}}, \"type\": \"scattergl\"}], \"scattermapbox\": [{\"marker\": {\"colorbar\": {\"outlinewidth\": 0, \"ticks\": \"\"}}, \"type\": \"scattermapbox\"}], \"scatterpolar\": [{\"marker\": {\"colorbar\": {\"outlinewidth\": 0, \"ticks\": \"\"}}, \"type\": \"scatterpolar\"}], \"scatterpolargl\": [{\"marker\": {\"colorbar\": {\"outlinewidth\": 0, \"ticks\": \"\"}}, \"type\": \"scatterpolargl\"}], \"scatterternary\": [{\"marker\": {\"colorbar\": {\"outlinewidth\": 0, \"ticks\": \"\"}}, \"type\": \"scatterternary\"}], \"surface\": [{\"colorbar\": {\"outlinewidth\": 0, \"ticks\": \"\"}, \"colorscale\": [[0.0, \"#0d0887\"], [0.1111111111111111, \"#46039f\"], [0.2222222222222222, \"#7201a8\"], [0.3333333333333333, \"#9c179e\"], [0.4444444444444444, \"#bd3786\"], [0.5555555555555556, \"#d8576b\"], [0.6666666666666666, \"#ed7953\"], [0.7777777777777778, \"#fb9f3a\"], [0.8888888888888888, \"#fdca26\"], [1.0, \"#f0f921\"]], \"type\": \"surface\"}], \"table\": [{\"cells\": {\"fill\": {\"color\": \"#EBF0F8\"}, \"line\": {\"color\": \"white\"}}, \"header\": {\"fill\": {\"color\": \"#C8D4E3\"}, \"line\": {\"color\": \"white\"}}, \"type\": \"table\"}]}, \"layout\": {\"annotationdefaults\": {\"arrowcolor\": \"#2a3f5f\", \"arrowhead\": 0, \"arrowwidth\": 1}, \"coloraxis\": {\"colorbar\": {\"outlinewidth\": 0, \"ticks\": \"\"}}, \"colorscale\": {\"diverging\": [[0, \"#8e0152\"], [0.1, \"#c51b7d\"], [0.2, \"#de77ae\"], [0.3, \"#f1b6da\"], [0.4, \"#fde0ef\"], [0.5, \"#f7f7f7\"], [0.6, \"#e6f5d0\"], [0.7, \"#b8e186\"], [0.8, \"#7fbc41\"], [0.9, \"#4d9221\"], [1, \"#276419\"]], \"sequential\": [[0.0, \"#0d0887\"], [0.1111111111111111, \"#46039f\"], [0.2222222222222222, \"#7201a8\"], [0.3333333333333333, \"#9c179e\"], [0.4444444444444444, \"#bd3786\"], [0.5555555555555556, \"#d8576b\"], [0.6666666666666666, \"#ed7953\"], [0.7777777777777778, \"#fb9f3a\"], [0.8888888888888888, \"#fdca26\"], [1.0, \"#f0f921\"]], \"sequentialminus\": [[0.0, \"#0d0887\"], [0.1111111111111111, \"#46039f\"], [0.2222222222222222, \"#7201a8\"], [0.3333333333333333, \"#9c179e\"], [0.4444444444444444, \"#bd3786\"], [0.5555555555555556, \"#d8576b\"], [0.6666666666666666, \"#ed7953\"], [0.7777777777777778, \"#fb9f3a\"], [0.8888888888888888, \"#fdca26\"], [1.0, \"#f0f921\"]]}, \"colorway\": [\"#636efa\", \"#EF553B\", \"#00cc96\", \"#ab63fa\", \"#FFA15A\", \"#19d3f3\", \"#FF6692\", \"#B6E880\", \"#FF97FF\", \"#FECB52\"], \"font\": {\"color\": \"#2a3f5f\"}, \"geo\": {\"bgcolor\": \"white\", \"lakecolor\": \"white\", \"landcolor\": \"#E5ECF6\", \"showlakes\": true, \"showland\": true, \"subunitcolor\": \"white\"}, \"hoverlabel\": {\"align\": \"left\"}, \"hovermode\": \"closest\", \"mapbox\": {\"style\": \"light\"}, \"paper_bgcolor\": \"white\", \"plot_bgcolor\": \"#E5ECF6\", \"polar\": {\"angularaxis\": {\"gridcolor\": \"white\", \"linecolor\": \"white\", \"ticks\": \"\"}, \"bgcolor\": \"#E5ECF6\", \"radialaxis\": {\"gridcolor\": \"white\", \"linecolor\": \"white\", \"ticks\": \"\"}}, \"scene\": {\"xaxis\": {\"backgroundcolor\": \"#E5ECF6\", \"gridcolor\": \"white\", \"gridwidth\": 2, \"linecolor\": \"white\", \"showbackground\": true, \"ticks\": \"\", \"zerolinecolor\": \"white\"}, \"yaxis\": {\"backgroundcolor\": \"#E5ECF6\", \"gridcolor\": \"white\", \"gridwidth\": 2, \"linecolor\": \"white\", \"showbackground\": true, \"ticks\": \"\", \"zerolinecolor\": \"white\"}, \"zaxis\": {\"backgroundcolor\": \"#E5ECF6\", \"gridcolor\": \"white\", \"gridwidth\": 2, \"linecolor\": \"white\", \"showbackground\": true, \"ticks\": \"\", \"zerolinecolor\": \"white\"}}, \"shapedefaults\": {\"line\": {\"color\": \"#2a3f5f\"}}, \"ternary\": {\"aaxis\": {\"gridcolor\": \"white\", \"linecolor\": \"white\", \"ticks\": \"\"}, \"baxis\": {\"gridcolor\": \"white\", \"linecolor\": \"white\", \"ticks\": \"\"}, \"bgcolor\": \"#E5ECF6\", \"caxis\": {\"gridcolor\": \"white\", \"linecolor\": \"white\", \"ticks\": \"\"}}, \"title\": {\"x\": 0.05}, \"xaxis\": {\"automargin\": true, \"gridcolor\": \"white\", \"linecolor\": \"white\", \"ticks\": \"\", \"title\": {\"standoff\": 15}, \"zerolinecolor\": \"white\", \"zerolinewidth\": 2}, \"yaxis\": {\"automargin\": true, \"gridcolor\": \"white\", \"linecolor\": \"white\", \"ticks\": \"\", \"title\": {\"standoff\": 15}, \"zerolinecolor\": \"white\", \"zerolinewidth\": 2}}}, \"title\": {\"font\": {\"color\": \"#4D5663\"}}, \"xaxis\": {\"gridcolor\": \"#E1E5ED\", \"showgrid\": true, \"tickfont\": {\"color\": \"#4D5663\"}, \"title\": {\"font\": {\"color\": \"#4D5663\"}, \"text\": \"\"}, \"zerolinecolor\": \"#E1E5ED\"}, \"yaxis\": {\"gridcolor\": \"#E1E5ED\", \"showgrid\": true, \"tickfont\": {\"color\": \"#4D5663\"}, \"title\": {\"font\": {\"color\": \"#4D5663\"}, \"text\": \"\"}, \"zerolinecolor\": \"#E1E5ED\"}},                        {\"showLink\": true, \"linkText\": \"Export to plot.ly\", \"plotlyServerURL\": \"https://plot.ly\", \"responsive\": true}                    ).then(function(){\n",
       "                            \n",
       "var gd = document.getElementById('5d58e9b6-1001-48f9-b16b-6a1b92494401');\n",
       "var x = new MutationObserver(function (mutations, observer) {{\n",
       "        var display = window.getComputedStyle(gd).display;\n",
       "        if (!display || display === 'none') {{\n",
       "            console.log([gd, 'removed!']);\n",
       "            Plotly.purge(gd);\n",
       "            observer.disconnect();\n",
       "        }}\n",
       "}});\n",
       "\n",
       "// Listen for the removal of the full notebook cells\n",
       "var notebookContainer = gd.closest('#notebook-container');\n",
       "if (notebookContainer) {{\n",
       "    x.observe(notebookContainer, {childList: true});\n",
       "}}\n",
       "\n",
       "// Listen for the clearing of the current output cell\n",
       "var outputEl = gd.closest('.output');\n",
       "if (outputEl) {{\n",
       "    x.observe(outputEl, {childList: true});\n",
       "}}\n",
       "\n",
       "                        })                };                });            </script>        </div>"
      ]
     },
     "metadata": {},
     "output_type": "display_data"
    }
   ],
   "source": [
    "df.sum().iplot(kind='bar')"
   ]
  },
  {
   "cell_type": "markdown",
   "metadata": {},
   "source": [
    "## Box Plots"
   ]
  },
  {
   "cell_type": "code",
   "execution_count": 25,
   "metadata": {},
   "outputs": [
    {
     "data": {
      "application/vnd.plotly.v1+json": {
       "config": {
        "linkText": "Export to plot.ly",
        "plotlyServerURL": "https://plot.ly",
        "showLink": true
       },
       "data": [
        {
         "boxpoints": false,
         "line": {
          "width": 1.3
         },
         "marker": {
          "color": "rgba(255, 153, 51, 1.0)"
         },
         "name": "A",
         "orientation": "v",
         "type": "box",
         "y": [
          0.2833623675227722,
          -1.127271506470818,
          0.5301991988413371,
          -0.9076037526358803,
          0.3045832521261345,
          1.5802942678868173,
          1.9590307813960588,
          0.4506493866329785,
          -0.16613983560977538,
          0.46344861995238673,
          -0.3029747794229369,
          1.0872271658066728,
          -1.6069227916919724,
          -0.06024722082744196,
          -1.000922647114807,
          -0.8428459274937556,
          0.29478573314485923,
          -0.25339222119091565,
          0.7187247748507258,
          1.3353341377998886,
          -0.3132263384895011,
          -0.39118000703348754,
          -1.7291172658029401,
          -0.5693280082171505,
          -0.18087539462310423,
          0.6036481562105745,
          0.16176229925673608,
          0.5404933164826498,
          -0.050736094303384584,
          -1.7608032679833248,
          1.1206641776550978,
          0.2838819671315071,
          -0.5719968871072524,
          -0.19937518829329207,
          -1.2092967930008358,
          -2.1550539493577956,
          -0.8506827098252433,
          0.09807027557339956,
          -0.20852721520392994,
          0.0912904455286591,
          0.8507029232627918,
          0.7463037519235868,
          0.1599236640979604,
          -1.462351188047253,
          0.457348739903739,
          0.7556632254955828,
          0.22062598272523387,
          -0.27599288567352176,
          -0.08651902719832559,
          -0.09390592780647052,
          0.24038800777499403,
          0.9386699960214014,
          -0.37020709228577187,
          -1.4755040676184674,
          0.4819500836736902,
          1.536663027126891,
          -1.8092408905159583,
          0.033277606986312054,
          0.09798696404977163,
          -0.32247346929781884,
          -1.555270331626882,
          0.9876894317407412,
          0.00028416691420902416,
          -0.39456722234572883,
          -0.08365889875132763,
          0.8416210966617714,
          0.7546325779328649,
          0.6720135507751842,
          -0.1608911463122692,
          0.7573962711229544,
          -1.174575815424979,
          -0.6613932481307679,
          0.005947420146648111,
          -0.395531939861682,
          -1.4391168822911,
          -1.3339009646738926,
          -0.3886619660027748,
          1.6126444498295815,
          -1.6794064847194896,
          -0.30320536220958877,
          0.9461461594017028,
          -0.06348775003781486,
          -2.124844609404621,
          0.08835640937139362,
          2.6901798168203337,
          0.6518982468613443,
          0.16121683466285788,
          0.5534423738048103,
          -0.0540939855612481,
          -0.33942531987529156,
          0.04449274194965574,
          -1.6732075886435611,
          -1.3900365917463668,
          0.49685876161216186,
          0.08337278758692533,
          1.4442163263090961,
          -1.0831084992907014,
          -1.0583044225528533,
          1.1535020255004065,
          0.5301801527396007
         ]
        },
        {
         "boxpoints": false,
         "line": {
          "width": 1.3
         },
         "marker": {
          "color": "rgba(55, 128, 191, 1.0)"
         },
         "name": "B",
         "orientation": "v",
         "type": "box",
         "y": [
          -0.12933625164448187,
          0.13103167279239178,
          -0.2783800153100398,
          -0.4479072949745716,
          0.6150291508003769,
          0.04737160814250403,
          0.724359524718601,
          0.9068787283284158,
          -0.2834212092124333,
          1.3846874642484022,
          -0.7900873096135989,
          1.9990860724476802,
          0.06513492061042847,
          0.3761237870614334,
          1.306002077023205,
          0.21675678154141828,
          -0.17672460240902965,
          -1.6173317754480456,
          -0.3314978333603156,
          1.3484994220885849,
          -1.2528411501569485,
          -0.7478995842212484,
          0.8861269234986784,
          -0.6134231551246254,
          -0.5167498588077946,
          0.9238994036778923,
          0.30770452064141585,
          1.2560612137362714,
          0.4293958271803,
          -0.9714001809114541,
          0.0529499288742505,
          -1.3136810389141642,
          -1.2976580632562906,
          1.842221725391775,
          -1.0566420608604992,
          0.12321025879006645,
          -0.13612878866987144,
          0.22462263883719774,
          -0.003217995196276888,
          2.6856075213904202,
          2.4830248621546605,
          0.8821380943095746,
          0.9996863770264012,
          -0.003627477831770408,
          -1.2723142719885756,
          -0.30948703037988406,
          0.8843284070240234,
          -1.619507799527179,
          -0.4335750367397115,
          1.0655440640665477,
          0.43200915741373525,
          1.9197500330210822,
          0.15084415313177363,
          -2.71184007998908,
          1.7048789872131893,
          0.8192423426391454,
          -0.9901671207511124,
          -1.6328634527925319,
          0.21341038490737793,
          -1.658496320844627,
          -1.3250190128424661,
          -0.535465094697021,
          0.3473214304769248,
          -0.25946471137270866,
          -0.888522689105521,
          -0.9531852049657755,
          0.28526318110518045,
          -1.534240751475243,
          0.8163815140281812,
          -1.8164535882003214,
          -1.213659476037669,
          -0.20474995625923617,
          0.6709269694895401,
          0.7928575255755295,
          2.1310876397916347,
          2.073222829167607,
          1.0144150232185323,
          -0.07502724401221807,
          -0.04616501318666702,
          1.9666741653159439,
          -0.1018163441743207,
          -0.2982981792733883,
          -0.12177935394126996,
          -0.34511438462030997,
          -0.24258558078122744,
          0.08381699731823941,
          -0.18605525538332446,
          -0.07394916136370062,
          0.41322139524717544,
          1.098441891414735,
          0.09232940542087814,
          -0.043577383753931234,
          0.6529138894554455,
          0.24426145948580733,
          1.4830111845032046,
          -0.7322574441943723,
          -0.8515162512068878,
          -0.6158076287305354,
          -0.020335173306272214,
          -0.6668910616530364
         ]
        },
        {
         "boxpoints": false,
         "line": {
          "width": 1.3
         },
         "marker": {
          "color": "rgba(50, 171, 96, 1.0)"
         },
         "name": "C",
         "orientation": "v",
         "type": "box",
         "y": [
          0.018304062145121796,
          2.019560754593152,
          0.42626945686576057,
          -0.2739679545653923,
          -0.997470781234299,
          -0.4503484953971212,
          0.05658522896126178,
          1.8703946758539833,
          -0.7282192165981017,
          1.0130887851430903,
          -0.10412595903727308,
          0.7723039698034716,
          -0.06025944559918106,
          -0.010354771633410958,
          -1.0602696860984755,
          1.1050084100426039,
          0.5485003927777916,
          0.9620419540774584,
          0.49128914698941123,
          1.2894853079161406,
          0.992477393767811,
          -0.6008012606025712,
          0.19476008014146914,
          -0.43162557226475934,
          0.867260093335228,
          -0.6997608098644535,
          0.6877716080348647,
          0.4660829399051041,
          -0.08536836649304284,
          -0.18964437507119677,
          -0.3322133063995614,
          0.27578424620315134,
          0.8063923437482271,
          -1.1628782053179392,
          0.0016177627350909575,
          -0.46436331315096663,
          0.15959018813893852,
          0.7077743871910742,
          0.39785969275151184,
          0.15125646833970402,
          0.14721214493331997,
          -1.8890937356112523,
          0.9370721993704706,
          -0.5804723441556117,
          -0.2350651451925488,
          -0.6674631147974077,
          0.02178475613693451,
          -1.3371935361464589,
          0.9526116704709032,
          -0.6081704213007355,
          0.6571963675789121,
          -0.9820874029605368,
          0.2725657620170841,
          -0.9904415670560973,
          -1.849058299728199,
          0.38015458845456834,
          0.8909796578205339,
          0.11902953150791908,
          -0.7012940906761457,
          -0.29974258165132417,
          -0.49365558541711935,
          -1.1159286304908431,
          -0.1567280612065704,
          2.2497285275914063,
          0.4956714825395612,
          -0.07547408536663255,
          0.8232769911074701,
          0.5900584624509049,
          -0.05725963313849215,
          0.6819320413184793,
          -1.1910889539700689,
          0.8093801574983543,
          -0.23897977149795457,
          -0.8901446846458919,
          1.720009001354134,
          -0.6975196389152628,
          0.11004468433955364,
          -0.46526464429070824,
          -0.8936350951103114,
          1.928652152916678,
          0.4101906275374475,
          0.3741917471953431,
          -0.7062904196750375,
          -0.5253432726929733,
          0.6971537769431922,
          1.2856277367726674,
          -0.012212380541684805,
          -1.5985386798165575,
          1.6404222204367034,
          0.3708504880946784,
          -0.1297059977919652,
          -1.705705487812127,
          -1.3506013383049886,
          -1.22973244817741,
          1.653108443530469,
          -0.555410614110448,
          1.498197880074332,
          0.3382822390084572,
          -0.3597481333139245,
          1.4929199677948024
         ]
        },
        {
         "boxpoints": false,
         "line": {
          "width": 1.3
         },
         "marker": {
          "color": "rgba(128, 0, 128, 1.0)"
         },
         "name": "D",
         "orientation": "v",
         "type": "box",
         "y": [
          -0.10216109838905961,
          -0.7656310421934167,
          0.4627481919278918,
          0.9676006214274528,
          0.926423776406431,
          -1.2317828753206672,
          -0.5628576478198102,
          2.504698142086036,
          -0.7737906758600905,
          1.164448663529737,
          0.2194657342618466,
          -1.5607971961887463,
          -1.416330514049092,
          0.6022444830440444,
          -0.9967003017604306,
          0.7165759040467021,
          -1.0270307209633915,
          0.24244449524876405,
          -0.5716852539984539,
          -0.48018727006504236,
          -0.6222621259478935,
          0.5345674934143281,
          0.43066330589856916,
          0.39671996353224714,
          -1.7478511876548124,
          -0.6558305603981607,
          -1.7588752942876509,
          -0.27901605793121487,
          -0.749927124658345,
          0.03519509179408801,
          0.6844835308390853,
          0.8016764794186388,
          -1.805456628608875,
          0.5493382492540594,
          -0.28810485415561893,
          1.776034726551925,
          1.3884960787525806,
          0.4234279651141638,
          -0.08072519087184314,
          -0.14366992536775397,
          -0.3110525320622555,
          -2.258851020385416,
          -0.8778884219465041,
          0.7169531573259034,
          -1.1175552516652947,
          1.998555339200149,
          0.010143811692055183,
          0.9997061409217312,
          0.6864193461963589,
          1.3033752026755039,
          0.17058949843208143,
          1.145439503574977,
          2.4733397056527635,
          0.10495562776449723,
          -1.7114608332231993,
          -2.4304805906032483,
          -0.4285963627332784,
          0.7020655166841565,
          -0.8396898673496372,
          2.524079694264786,
          0.531847360975319,
          -0.5108953101574714,
          -0.7592884951649482,
          -1.9399899488852062,
          0.4312887366747811,
          -1.5001091717186794,
          -1.0353191820511753,
          -1.1859422371830854,
          0.7329268277853427,
          -1.383494128063116,
          0.4132636032392495,
          0.5860992364708144,
          0.463041573680821,
          -1.3695660492015935,
          0.029227875593643714,
          0.566167264096036,
          -1.0254797983782813,
          1.1173861364049216,
          0.5543321247277112,
          1.7776006208415918,
          0.0037431964315748014,
          0.26877480651159624,
          1.769753103285265,
          -0.8217700822449036,
          -0.5765004269474363,
          -0.34946119392723046,
          -2.009057551334199,
          -0.18911911189835176,
          0.08196592547320265,
          -0.6713467690769955,
          1.592816275040431,
          -1.0030357365117704,
          -0.06681179500629934,
          1.7912023856489334,
          0.07609350198462528,
          -1.3227640709596251,
          -1.0083682068497435,
          1.2363708695953775,
          -1.3210175973343643,
          -0.003250788169452081
         ]
        }
       ],
       "layout": {
        "legend": {
         "bgcolor": "#F5F6F9",
         "font": {
          "color": "#4D5663"
         }
        },
        "paper_bgcolor": "#F5F6F9",
        "plot_bgcolor": "#F5F6F9",
        "template": {
         "data": {
          "bar": [
           {
            "error_x": {
             "color": "#2a3f5f"
            },
            "error_y": {
             "color": "#2a3f5f"
            },
            "marker": {
             "line": {
              "color": "#E5ECF6",
              "width": 0.5
             }
            },
            "type": "bar"
           }
          ],
          "barpolar": [
           {
            "marker": {
             "line": {
              "color": "#E5ECF6",
              "width": 0.5
             }
            },
            "type": "barpolar"
           }
          ],
          "carpet": [
           {
            "aaxis": {
             "endlinecolor": "#2a3f5f",
             "gridcolor": "white",
             "linecolor": "white",
             "minorgridcolor": "white",
             "startlinecolor": "#2a3f5f"
            },
            "baxis": {
             "endlinecolor": "#2a3f5f",
             "gridcolor": "white",
             "linecolor": "white",
             "minorgridcolor": "white",
             "startlinecolor": "#2a3f5f"
            },
            "type": "carpet"
           }
          ],
          "choropleth": [
           {
            "colorbar": {
             "outlinewidth": 0,
             "ticks": ""
            },
            "type": "choropleth"
           }
          ],
          "contour": [
           {
            "colorbar": {
             "outlinewidth": 0,
             "ticks": ""
            },
            "colorscale": [
             [
              0,
              "#0d0887"
             ],
             [
              0.1111111111111111,
              "#46039f"
             ],
             [
              0.2222222222222222,
              "#7201a8"
             ],
             [
              0.3333333333333333,
              "#9c179e"
             ],
             [
              0.4444444444444444,
              "#bd3786"
             ],
             [
              0.5555555555555556,
              "#d8576b"
             ],
             [
              0.6666666666666666,
              "#ed7953"
             ],
             [
              0.7777777777777778,
              "#fb9f3a"
             ],
             [
              0.8888888888888888,
              "#fdca26"
             ],
             [
              1,
              "#f0f921"
             ]
            ],
            "type": "contour"
           }
          ],
          "contourcarpet": [
           {
            "colorbar": {
             "outlinewidth": 0,
             "ticks": ""
            },
            "type": "contourcarpet"
           }
          ],
          "heatmap": [
           {
            "colorbar": {
             "outlinewidth": 0,
             "ticks": ""
            },
            "colorscale": [
             [
              0,
              "#0d0887"
             ],
             [
              0.1111111111111111,
              "#46039f"
             ],
             [
              0.2222222222222222,
              "#7201a8"
             ],
             [
              0.3333333333333333,
              "#9c179e"
             ],
             [
              0.4444444444444444,
              "#bd3786"
             ],
             [
              0.5555555555555556,
              "#d8576b"
             ],
             [
              0.6666666666666666,
              "#ed7953"
             ],
             [
              0.7777777777777778,
              "#fb9f3a"
             ],
             [
              0.8888888888888888,
              "#fdca26"
             ],
             [
              1,
              "#f0f921"
             ]
            ],
            "type": "heatmap"
           }
          ],
          "heatmapgl": [
           {
            "colorbar": {
             "outlinewidth": 0,
             "ticks": ""
            },
            "colorscale": [
             [
              0,
              "#0d0887"
             ],
             [
              0.1111111111111111,
              "#46039f"
             ],
             [
              0.2222222222222222,
              "#7201a8"
             ],
             [
              0.3333333333333333,
              "#9c179e"
             ],
             [
              0.4444444444444444,
              "#bd3786"
             ],
             [
              0.5555555555555556,
              "#d8576b"
             ],
             [
              0.6666666666666666,
              "#ed7953"
             ],
             [
              0.7777777777777778,
              "#fb9f3a"
             ],
             [
              0.8888888888888888,
              "#fdca26"
             ],
             [
              1,
              "#f0f921"
             ]
            ],
            "type": "heatmapgl"
           }
          ],
          "histogram": [
           {
            "marker": {
             "colorbar": {
              "outlinewidth": 0,
              "ticks": ""
             }
            },
            "type": "histogram"
           }
          ],
          "histogram2d": [
           {
            "colorbar": {
             "outlinewidth": 0,
             "ticks": ""
            },
            "colorscale": [
             [
              0,
              "#0d0887"
             ],
             [
              0.1111111111111111,
              "#46039f"
             ],
             [
              0.2222222222222222,
              "#7201a8"
             ],
             [
              0.3333333333333333,
              "#9c179e"
             ],
             [
              0.4444444444444444,
              "#bd3786"
             ],
             [
              0.5555555555555556,
              "#d8576b"
             ],
             [
              0.6666666666666666,
              "#ed7953"
             ],
             [
              0.7777777777777778,
              "#fb9f3a"
             ],
             [
              0.8888888888888888,
              "#fdca26"
             ],
             [
              1,
              "#f0f921"
             ]
            ],
            "type": "histogram2d"
           }
          ],
          "histogram2dcontour": [
           {
            "colorbar": {
             "outlinewidth": 0,
             "ticks": ""
            },
            "colorscale": [
             [
              0,
              "#0d0887"
             ],
             [
              0.1111111111111111,
              "#46039f"
             ],
             [
              0.2222222222222222,
              "#7201a8"
             ],
             [
              0.3333333333333333,
              "#9c179e"
             ],
             [
              0.4444444444444444,
              "#bd3786"
             ],
             [
              0.5555555555555556,
              "#d8576b"
             ],
             [
              0.6666666666666666,
              "#ed7953"
             ],
             [
              0.7777777777777778,
              "#fb9f3a"
             ],
             [
              0.8888888888888888,
              "#fdca26"
             ],
             [
              1,
              "#f0f921"
             ]
            ],
            "type": "histogram2dcontour"
           }
          ],
          "mesh3d": [
           {
            "colorbar": {
             "outlinewidth": 0,
             "ticks": ""
            },
            "type": "mesh3d"
           }
          ],
          "parcoords": [
           {
            "line": {
             "colorbar": {
              "outlinewidth": 0,
              "ticks": ""
             }
            },
            "type": "parcoords"
           }
          ],
          "pie": [
           {
            "automargin": true,
            "type": "pie"
           }
          ],
          "scatter": [
           {
            "marker": {
             "colorbar": {
              "outlinewidth": 0,
              "ticks": ""
             }
            },
            "type": "scatter"
           }
          ],
          "scatter3d": [
           {
            "line": {
             "colorbar": {
              "outlinewidth": 0,
              "ticks": ""
             }
            },
            "marker": {
             "colorbar": {
              "outlinewidth": 0,
              "ticks": ""
             }
            },
            "type": "scatter3d"
           }
          ],
          "scattercarpet": [
           {
            "marker": {
             "colorbar": {
              "outlinewidth": 0,
              "ticks": ""
             }
            },
            "type": "scattercarpet"
           }
          ],
          "scattergeo": [
           {
            "marker": {
             "colorbar": {
              "outlinewidth": 0,
              "ticks": ""
             }
            },
            "type": "scattergeo"
           }
          ],
          "scattergl": [
           {
            "marker": {
             "colorbar": {
              "outlinewidth": 0,
              "ticks": ""
             }
            },
            "type": "scattergl"
           }
          ],
          "scattermapbox": [
           {
            "marker": {
             "colorbar": {
              "outlinewidth": 0,
              "ticks": ""
             }
            },
            "type": "scattermapbox"
           }
          ],
          "scatterpolar": [
           {
            "marker": {
             "colorbar": {
              "outlinewidth": 0,
              "ticks": ""
             }
            },
            "type": "scatterpolar"
           }
          ],
          "scatterpolargl": [
           {
            "marker": {
             "colorbar": {
              "outlinewidth": 0,
              "ticks": ""
             }
            },
            "type": "scatterpolargl"
           }
          ],
          "scatterternary": [
           {
            "marker": {
             "colorbar": {
              "outlinewidth": 0,
              "ticks": ""
             }
            },
            "type": "scatterternary"
           }
          ],
          "surface": [
           {
            "colorbar": {
             "outlinewidth": 0,
             "ticks": ""
            },
            "colorscale": [
             [
              0,
              "#0d0887"
             ],
             [
              0.1111111111111111,
              "#46039f"
             ],
             [
              0.2222222222222222,
              "#7201a8"
             ],
             [
              0.3333333333333333,
              "#9c179e"
             ],
             [
              0.4444444444444444,
              "#bd3786"
             ],
             [
              0.5555555555555556,
              "#d8576b"
             ],
             [
              0.6666666666666666,
              "#ed7953"
             ],
             [
              0.7777777777777778,
              "#fb9f3a"
             ],
             [
              0.8888888888888888,
              "#fdca26"
             ],
             [
              1,
              "#f0f921"
             ]
            ],
            "type": "surface"
           }
          ],
          "table": [
           {
            "cells": {
             "fill": {
              "color": "#EBF0F8"
             },
             "line": {
              "color": "white"
             }
            },
            "header": {
             "fill": {
              "color": "#C8D4E3"
             },
             "line": {
              "color": "white"
             }
            },
            "type": "table"
           }
          ]
         },
         "layout": {
          "annotationdefaults": {
           "arrowcolor": "#2a3f5f",
           "arrowhead": 0,
           "arrowwidth": 1
          },
          "coloraxis": {
           "colorbar": {
            "outlinewidth": 0,
            "ticks": ""
           }
          },
          "colorscale": {
           "diverging": [
            [
             0,
             "#8e0152"
            ],
            [
             0.1,
             "#c51b7d"
            ],
            [
             0.2,
             "#de77ae"
            ],
            [
             0.3,
             "#f1b6da"
            ],
            [
             0.4,
             "#fde0ef"
            ],
            [
             0.5,
             "#f7f7f7"
            ],
            [
             0.6,
             "#e6f5d0"
            ],
            [
             0.7,
             "#b8e186"
            ],
            [
             0.8,
             "#7fbc41"
            ],
            [
             0.9,
             "#4d9221"
            ],
            [
             1,
             "#276419"
            ]
           ],
           "sequential": [
            [
             0,
             "#0d0887"
            ],
            [
             0.1111111111111111,
             "#46039f"
            ],
            [
             0.2222222222222222,
             "#7201a8"
            ],
            [
             0.3333333333333333,
             "#9c179e"
            ],
            [
             0.4444444444444444,
             "#bd3786"
            ],
            [
             0.5555555555555556,
             "#d8576b"
            ],
            [
             0.6666666666666666,
             "#ed7953"
            ],
            [
             0.7777777777777778,
             "#fb9f3a"
            ],
            [
             0.8888888888888888,
             "#fdca26"
            ],
            [
             1,
             "#f0f921"
            ]
           ],
           "sequentialminus": [
            [
             0,
             "#0d0887"
            ],
            [
             0.1111111111111111,
             "#46039f"
            ],
            [
             0.2222222222222222,
             "#7201a8"
            ],
            [
             0.3333333333333333,
             "#9c179e"
            ],
            [
             0.4444444444444444,
             "#bd3786"
            ],
            [
             0.5555555555555556,
             "#d8576b"
            ],
            [
             0.6666666666666666,
             "#ed7953"
            ],
            [
             0.7777777777777778,
             "#fb9f3a"
            ],
            [
             0.8888888888888888,
             "#fdca26"
            ],
            [
             1,
             "#f0f921"
            ]
           ]
          },
          "colorway": [
           "#636efa",
           "#EF553B",
           "#00cc96",
           "#ab63fa",
           "#FFA15A",
           "#19d3f3",
           "#FF6692",
           "#B6E880",
           "#FF97FF",
           "#FECB52"
          ],
          "font": {
           "color": "#2a3f5f"
          },
          "geo": {
           "bgcolor": "white",
           "lakecolor": "white",
           "landcolor": "#E5ECF6",
           "showlakes": true,
           "showland": true,
           "subunitcolor": "white"
          },
          "hoverlabel": {
           "align": "left"
          },
          "hovermode": "closest",
          "mapbox": {
           "style": "light"
          },
          "paper_bgcolor": "white",
          "plot_bgcolor": "#E5ECF6",
          "polar": {
           "angularaxis": {
            "gridcolor": "white",
            "linecolor": "white",
            "ticks": ""
           },
           "bgcolor": "#E5ECF6",
           "radialaxis": {
            "gridcolor": "white",
            "linecolor": "white",
            "ticks": ""
           }
          },
          "scene": {
           "xaxis": {
            "backgroundcolor": "#E5ECF6",
            "gridcolor": "white",
            "gridwidth": 2,
            "linecolor": "white",
            "showbackground": true,
            "ticks": "",
            "zerolinecolor": "white"
           },
           "yaxis": {
            "backgroundcolor": "#E5ECF6",
            "gridcolor": "white",
            "gridwidth": 2,
            "linecolor": "white",
            "showbackground": true,
            "ticks": "",
            "zerolinecolor": "white"
           },
           "zaxis": {
            "backgroundcolor": "#E5ECF6",
            "gridcolor": "white",
            "gridwidth": 2,
            "linecolor": "white",
            "showbackground": true,
            "ticks": "",
            "zerolinecolor": "white"
           }
          },
          "shapedefaults": {
           "line": {
            "color": "#2a3f5f"
           }
          },
          "ternary": {
           "aaxis": {
            "gridcolor": "white",
            "linecolor": "white",
            "ticks": ""
           },
           "baxis": {
            "gridcolor": "white",
            "linecolor": "white",
            "ticks": ""
           },
           "bgcolor": "#E5ECF6",
           "caxis": {
            "gridcolor": "white",
            "linecolor": "white",
            "ticks": ""
           }
          },
          "title": {
           "x": 0.05
          },
          "xaxis": {
           "automargin": true,
           "gridcolor": "white",
           "linecolor": "white",
           "ticks": "",
           "title": {
            "standoff": 15
           },
           "zerolinecolor": "white",
           "zerolinewidth": 2
          },
          "yaxis": {
           "automargin": true,
           "gridcolor": "white",
           "linecolor": "white",
           "ticks": "",
           "title": {
            "standoff": 15
           },
           "zerolinecolor": "white",
           "zerolinewidth": 2
          }
         }
        },
        "title": {
         "font": {
          "color": "#4D5663"
         }
        },
        "xaxis": {
         "gridcolor": "#E1E5ED",
         "showgrid": true,
         "tickfont": {
          "color": "#4D5663"
         },
         "title": {
          "font": {
           "color": "#4D5663"
          },
          "text": ""
         },
         "zerolinecolor": "#E1E5ED"
        },
        "yaxis": {
         "gridcolor": "#E1E5ED",
         "showgrid": true,
         "tickfont": {
          "color": "#4D5663"
         },
         "title": {
          "font": {
           "color": "#4D5663"
          },
          "text": ""
         },
         "zerolinecolor": "#E1E5ED"
        }
       }
      },
      "text/html": [
       "<div>                            <div id=\"121cbd46-9b91-41d1-885f-fa2739278e37\" class=\"plotly-graph-div\" style=\"height:525px; width:100%;\"></div>            <script type=\"text/javascript\">                require([\"plotly\"], function(Plotly) {                    window.PLOTLYENV=window.PLOTLYENV || {};\n",
       "                    window.PLOTLYENV.BASE_URL='https://plot.ly';                                    if (document.getElementById(\"121cbd46-9b91-41d1-885f-fa2739278e37\")) {                    Plotly.newPlot(                        \"121cbd46-9b91-41d1-885f-fa2739278e37\",                        [{\"boxpoints\": false, \"line\": {\"width\": 1.3}, \"marker\": {\"color\": \"rgba(255, 153, 51, 1.0)\"}, \"name\": \"A\", \"orientation\": \"v\", \"type\": \"box\", \"y\": [0.2833623675227722, -1.127271506470818, 0.5301991988413371, -0.9076037526358803, 0.3045832521261345, 1.5802942678868173, 1.9590307813960588, 0.4506493866329785, -0.16613983560977538, 0.46344861995238673, -0.3029747794229369, 1.0872271658066728, -1.6069227916919724, -0.06024722082744196, -1.000922647114807, -0.8428459274937556, 0.29478573314485923, -0.25339222119091565, 0.7187247748507258, 1.3353341377998886, -0.3132263384895011, -0.39118000703348754, -1.7291172658029401, -0.5693280082171505, -0.18087539462310423, 0.6036481562105745, 0.16176229925673608, 0.5404933164826498, -0.050736094303384584, -1.7608032679833248, 1.1206641776550978, 0.2838819671315071, -0.5719968871072524, -0.19937518829329207, -1.2092967930008358, -2.1550539493577956, -0.8506827098252433, 0.09807027557339956, -0.20852721520392994, 0.0912904455286591, 0.8507029232627918, 0.7463037519235868, 0.1599236640979604, -1.462351188047253, 0.457348739903739, 0.7556632254955828, 0.22062598272523387, -0.27599288567352176, -0.08651902719832559, -0.09390592780647052, 0.24038800777499403, 0.9386699960214014, -0.37020709228577187, -1.4755040676184674, 0.4819500836736902, 1.536663027126891, -1.8092408905159583, 0.033277606986312054, 0.09798696404977163, -0.32247346929781884, -1.555270331626882, 0.9876894317407412, 0.00028416691420902416, -0.39456722234572883, -0.08365889875132763, 0.8416210966617714, 0.7546325779328649, 0.6720135507751842, -0.1608911463122692, 0.7573962711229544, -1.174575815424979, -0.6613932481307679, 0.005947420146648111, -0.395531939861682, -1.4391168822911, -1.3339009646738926, -0.3886619660027748, 1.6126444498295815, -1.6794064847194896, -0.30320536220958877, 0.9461461594017028, -0.06348775003781486, -2.124844609404621, 0.08835640937139362, 2.6901798168203337, 0.6518982468613443, 0.16121683466285788, 0.5534423738048103, -0.0540939855612481, -0.33942531987529156, 0.04449274194965574, -1.6732075886435611, -1.3900365917463668, 0.49685876161216186, 0.08337278758692533, 1.4442163263090961, -1.0831084992907014, -1.0583044225528533, 1.1535020255004065, 0.5301801527396007]}, {\"boxpoints\": false, \"line\": {\"width\": 1.3}, \"marker\": {\"color\": \"rgba(55, 128, 191, 1.0)\"}, \"name\": \"B\", \"orientation\": \"v\", \"type\": \"box\", \"y\": [-0.12933625164448187, 0.13103167279239178, -0.2783800153100398, -0.4479072949745716, 0.6150291508003769, 0.04737160814250403, 0.724359524718601, 0.9068787283284158, -0.2834212092124333, 1.3846874642484022, -0.7900873096135989, 1.9990860724476802, 0.06513492061042847, 0.3761237870614334, 1.306002077023205, 0.21675678154141828, -0.17672460240902965, -1.6173317754480456, -0.3314978333603156, 1.3484994220885849, -1.2528411501569485, -0.7478995842212484, 0.8861269234986784, -0.6134231551246254, -0.5167498588077946, 0.9238994036778923, 0.30770452064141585, 1.2560612137362714, 0.4293958271803, -0.9714001809114541, 0.0529499288742505, -1.3136810389141642, -1.2976580632562906, 1.842221725391775, -1.0566420608604992, 0.12321025879006645, -0.13612878866987144, 0.22462263883719774, -0.003217995196276888, 2.6856075213904202, 2.4830248621546605, 0.8821380943095746, 0.9996863770264012, -0.003627477831770408, -1.2723142719885756, -0.30948703037988406, 0.8843284070240234, -1.619507799527179, -0.4335750367397115, 1.0655440640665477, 0.43200915741373525, 1.9197500330210822, 0.15084415313177363, -2.71184007998908, 1.7048789872131893, 0.8192423426391454, -0.9901671207511124, -1.6328634527925319, 0.21341038490737793, -1.658496320844627, -1.3250190128424661, -0.535465094697021, 0.3473214304769248, -0.25946471137270866, -0.888522689105521, -0.9531852049657755, 0.28526318110518045, -1.534240751475243, 0.8163815140281812, -1.8164535882003214, -1.213659476037669, -0.20474995625923617, 0.6709269694895401, 0.7928575255755295, 2.1310876397916347, 2.073222829167607, 1.0144150232185323, -0.07502724401221807, -0.04616501318666702, 1.9666741653159439, -0.1018163441743207, -0.2982981792733883, -0.12177935394126996, -0.34511438462030997, -0.24258558078122744, 0.08381699731823941, -0.18605525538332446, -0.07394916136370062, 0.41322139524717544, 1.098441891414735, 0.09232940542087814, -0.043577383753931234, 0.6529138894554455, 0.24426145948580733, 1.4830111845032046, -0.7322574441943723, -0.8515162512068878, -0.6158076287305354, -0.020335173306272214, -0.6668910616530364]}, {\"boxpoints\": false, \"line\": {\"width\": 1.3}, \"marker\": {\"color\": \"rgba(50, 171, 96, 1.0)\"}, \"name\": \"C\", \"orientation\": \"v\", \"type\": \"box\", \"y\": [0.018304062145121796, 2.019560754593152, 0.42626945686576057, -0.2739679545653923, -0.997470781234299, -0.4503484953971212, 0.05658522896126178, 1.8703946758539833, -0.7282192165981017, 1.0130887851430903, -0.10412595903727308, 0.7723039698034716, -0.06025944559918106, -0.010354771633410958, -1.0602696860984755, 1.1050084100426039, 0.5485003927777916, 0.9620419540774584, 0.49128914698941123, 1.2894853079161406, 0.992477393767811, -0.6008012606025712, 0.19476008014146914, -0.43162557226475934, 0.867260093335228, -0.6997608098644535, 0.6877716080348647, 0.4660829399051041, -0.08536836649304284, -0.18964437507119677, -0.3322133063995614, 0.27578424620315134, 0.8063923437482271, -1.1628782053179392, 0.0016177627350909575, -0.46436331315096663, 0.15959018813893852, 0.7077743871910742, 0.39785969275151184, 0.15125646833970402, 0.14721214493331997, -1.8890937356112523, 0.9370721993704706, -0.5804723441556117, -0.2350651451925488, -0.6674631147974077, 0.02178475613693451, -1.3371935361464589, 0.9526116704709032, -0.6081704213007355, 0.6571963675789121, -0.9820874029605368, 0.2725657620170841, -0.9904415670560973, -1.849058299728199, 0.38015458845456834, 0.8909796578205339, 0.11902953150791908, -0.7012940906761457, -0.29974258165132417, -0.49365558541711935, -1.1159286304908431, -0.1567280612065704, 2.2497285275914063, 0.4956714825395612, -0.07547408536663255, 0.8232769911074701, 0.5900584624509049, -0.05725963313849215, 0.6819320413184793, -1.1910889539700689, 0.8093801574983543, -0.23897977149795457, -0.8901446846458919, 1.720009001354134, -0.6975196389152628, 0.11004468433955364, -0.46526464429070824, -0.8936350951103114, 1.928652152916678, 0.4101906275374475, 0.3741917471953431, -0.7062904196750375, -0.5253432726929733, 0.6971537769431922, 1.2856277367726674, -0.012212380541684805, -1.5985386798165575, 1.6404222204367034, 0.3708504880946784, -0.1297059977919652, -1.705705487812127, -1.3506013383049886, -1.22973244817741, 1.653108443530469, -0.555410614110448, 1.498197880074332, 0.3382822390084572, -0.3597481333139245, 1.4929199677948024]}, {\"boxpoints\": false, \"line\": {\"width\": 1.3}, \"marker\": {\"color\": \"rgba(128, 0, 128, 1.0)\"}, \"name\": \"D\", \"orientation\": \"v\", \"type\": \"box\", \"y\": [-0.10216109838905961, -0.7656310421934167, 0.4627481919278918, 0.9676006214274528, 0.926423776406431, -1.2317828753206672, -0.5628576478198102, 2.504698142086036, -0.7737906758600905, 1.164448663529737, 0.2194657342618466, -1.5607971961887463, -1.416330514049092, 0.6022444830440444, -0.9967003017604306, 0.7165759040467021, -1.0270307209633915, 0.24244449524876405, -0.5716852539984539, -0.48018727006504236, -0.6222621259478935, 0.5345674934143281, 0.43066330589856916, 0.39671996353224714, -1.7478511876548124, -0.6558305603981607, -1.7588752942876509, -0.27901605793121487, -0.749927124658345, 0.03519509179408801, 0.6844835308390853, 0.8016764794186388, -1.805456628608875, 0.5493382492540594, -0.28810485415561893, 1.776034726551925, 1.3884960787525806, 0.4234279651141638, -0.08072519087184314, -0.14366992536775397, -0.3110525320622555, -2.258851020385416, -0.8778884219465041, 0.7169531573259034, -1.1175552516652947, 1.998555339200149, 0.010143811692055183, 0.9997061409217312, 0.6864193461963589, 1.3033752026755039, 0.17058949843208143, 1.145439503574977, 2.4733397056527635, 0.10495562776449723, -1.7114608332231993, -2.4304805906032483, -0.4285963627332784, 0.7020655166841565, -0.8396898673496372, 2.524079694264786, 0.531847360975319, -0.5108953101574714, -0.7592884951649482, -1.9399899488852062, 0.4312887366747811, -1.5001091717186794, -1.0353191820511753, -1.1859422371830854, 0.7329268277853427, -1.383494128063116, 0.4132636032392495, 0.5860992364708144, 0.463041573680821, -1.3695660492015935, 0.029227875593643714, 0.566167264096036, -1.0254797983782813, 1.1173861364049216, 0.5543321247277112, 1.7776006208415918, 0.0037431964315748014, 0.26877480651159624, 1.769753103285265, -0.8217700822449036, -0.5765004269474363, -0.34946119392723046, -2.009057551334199, -0.18911911189835176, 0.08196592547320265, -0.6713467690769955, 1.592816275040431, -1.0030357365117704, -0.06681179500629934, 1.7912023856489334, 0.07609350198462528, -1.3227640709596251, -1.0083682068497435, 1.2363708695953775, -1.3210175973343643, -0.003250788169452081]}],                        {\"legend\": {\"bgcolor\": \"#F5F6F9\", \"font\": {\"color\": \"#4D5663\"}}, \"paper_bgcolor\": \"#F5F6F9\", \"plot_bgcolor\": \"#F5F6F9\", \"template\": {\"data\": {\"bar\": [{\"error_x\": {\"color\": \"#2a3f5f\"}, \"error_y\": {\"color\": \"#2a3f5f\"}, \"marker\": {\"line\": {\"color\": \"#E5ECF6\", \"width\": 0.5}}, \"type\": \"bar\"}], \"barpolar\": [{\"marker\": {\"line\": {\"color\": \"#E5ECF6\", \"width\": 0.5}}, \"type\": \"barpolar\"}], \"carpet\": [{\"aaxis\": {\"endlinecolor\": \"#2a3f5f\", \"gridcolor\": \"white\", \"linecolor\": \"white\", \"minorgridcolor\": \"white\", \"startlinecolor\": \"#2a3f5f\"}, \"baxis\": {\"endlinecolor\": \"#2a3f5f\", \"gridcolor\": \"white\", \"linecolor\": \"white\", \"minorgridcolor\": \"white\", \"startlinecolor\": \"#2a3f5f\"}, \"type\": \"carpet\"}], \"choropleth\": [{\"colorbar\": {\"outlinewidth\": 0, \"ticks\": \"\"}, \"type\": \"choropleth\"}], \"contour\": [{\"colorbar\": {\"outlinewidth\": 0, \"ticks\": \"\"}, \"colorscale\": [[0.0, \"#0d0887\"], [0.1111111111111111, \"#46039f\"], [0.2222222222222222, \"#7201a8\"], [0.3333333333333333, \"#9c179e\"], [0.4444444444444444, \"#bd3786\"], [0.5555555555555556, \"#d8576b\"], [0.6666666666666666, \"#ed7953\"], [0.7777777777777778, \"#fb9f3a\"], [0.8888888888888888, \"#fdca26\"], [1.0, \"#f0f921\"]], \"type\": \"contour\"}], \"contourcarpet\": [{\"colorbar\": {\"outlinewidth\": 0, \"ticks\": \"\"}, \"type\": \"contourcarpet\"}], \"heatmap\": [{\"colorbar\": {\"outlinewidth\": 0, \"ticks\": \"\"}, \"colorscale\": [[0.0, \"#0d0887\"], [0.1111111111111111, \"#46039f\"], [0.2222222222222222, \"#7201a8\"], [0.3333333333333333, \"#9c179e\"], [0.4444444444444444, \"#bd3786\"], [0.5555555555555556, \"#d8576b\"], [0.6666666666666666, \"#ed7953\"], [0.7777777777777778, \"#fb9f3a\"], [0.8888888888888888, \"#fdca26\"], [1.0, \"#f0f921\"]], \"type\": \"heatmap\"}], \"heatmapgl\": [{\"colorbar\": {\"outlinewidth\": 0, \"ticks\": \"\"}, \"colorscale\": [[0.0, \"#0d0887\"], [0.1111111111111111, \"#46039f\"], [0.2222222222222222, \"#7201a8\"], [0.3333333333333333, \"#9c179e\"], [0.4444444444444444, \"#bd3786\"], [0.5555555555555556, \"#d8576b\"], [0.6666666666666666, \"#ed7953\"], [0.7777777777777778, \"#fb9f3a\"], [0.8888888888888888, \"#fdca26\"], [1.0, \"#f0f921\"]], \"type\": \"heatmapgl\"}], \"histogram\": [{\"marker\": {\"colorbar\": {\"outlinewidth\": 0, \"ticks\": \"\"}}, \"type\": \"histogram\"}], \"histogram2d\": [{\"colorbar\": {\"outlinewidth\": 0, \"ticks\": \"\"}, \"colorscale\": [[0.0, \"#0d0887\"], [0.1111111111111111, \"#46039f\"], [0.2222222222222222, \"#7201a8\"], [0.3333333333333333, \"#9c179e\"], [0.4444444444444444, \"#bd3786\"], [0.5555555555555556, \"#d8576b\"], [0.6666666666666666, \"#ed7953\"], [0.7777777777777778, \"#fb9f3a\"], [0.8888888888888888, \"#fdca26\"], [1.0, \"#f0f921\"]], \"type\": \"histogram2d\"}], \"histogram2dcontour\": [{\"colorbar\": {\"outlinewidth\": 0, \"ticks\": \"\"}, \"colorscale\": [[0.0, \"#0d0887\"], [0.1111111111111111, \"#46039f\"], [0.2222222222222222, \"#7201a8\"], [0.3333333333333333, \"#9c179e\"], [0.4444444444444444, \"#bd3786\"], [0.5555555555555556, \"#d8576b\"], [0.6666666666666666, \"#ed7953\"], [0.7777777777777778, \"#fb9f3a\"], [0.8888888888888888, \"#fdca26\"], [1.0, \"#f0f921\"]], \"type\": \"histogram2dcontour\"}], \"mesh3d\": [{\"colorbar\": {\"outlinewidth\": 0, \"ticks\": \"\"}, \"type\": \"mesh3d\"}], \"parcoords\": [{\"line\": {\"colorbar\": {\"outlinewidth\": 0, \"ticks\": \"\"}}, \"type\": \"parcoords\"}], \"pie\": [{\"automargin\": true, \"type\": \"pie\"}], \"scatter\": [{\"marker\": {\"colorbar\": {\"outlinewidth\": 0, \"ticks\": \"\"}}, \"type\": \"scatter\"}], \"scatter3d\": [{\"line\": {\"colorbar\": {\"outlinewidth\": 0, \"ticks\": \"\"}}, \"marker\": {\"colorbar\": {\"outlinewidth\": 0, \"ticks\": \"\"}}, \"type\": \"scatter3d\"}], \"scattercarpet\": [{\"marker\": {\"colorbar\": {\"outlinewidth\": 0, \"ticks\": \"\"}}, \"type\": \"scattercarpet\"}], \"scattergeo\": [{\"marker\": {\"colorbar\": {\"outlinewidth\": 0, \"ticks\": \"\"}}, \"type\": \"scattergeo\"}], \"scattergl\": [{\"marker\": {\"colorbar\": {\"outlinewidth\": 0, \"ticks\": \"\"}}, \"type\": \"scattergl\"}], \"scattermapbox\": [{\"marker\": {\"colorbar\": {\"outlinewidth\": 0, \"ticks\": \"\"}}, \"type\": \"scattermapbox\"}], \"scatterpolar\": [{\"marker\": {\"colorbar\": {\"outlinewidth\": 0, \"ticks\": \"\"}}, \"type\": \"scatterpolar\"}], \"scatterpolargl\": [{\"marker\": {\"colorbar\": {\"outlinewidth\": 0, \"ticks\": \"\"}}, \"type\": \"scatterpolargl\"}], \"scatterternary\": [{\"marker\": {\"colorbar\": {\"outlinewidth\": 0, \"ticks\": \"\"}}, \"type\": \"scatterternary\"}], \"surface\": [{\"colorbar\": {\"outlinewidth\": 0, \"ticks\": \"\"}, \"colorscale\": [[0.0, \"#0d0887\"], [0.1111111111111111, \"#46039f\"], [0.2222222222222222, \"#7201a8\"], [0.3333333333333333, \"#9c179e\"], [0.4444444444444444, \"#bd3786\"], [0.5555555555555556, \"#d8576b\"], [0.6666666666666666, \"#ed7953\"], [0.7777777777777778, \"#fb9f3a\"], [0.8888888888888888, \"#fdca26\"], [1.0, \"#f0f921\"]], \"type\": \"surface\"}], \"table\": [{\"cells\": {\"fill\": {\"color\": \"#EBF0F8\"}, \"line\": {\"color\": \"white\"}}, \"header\": {\"fill\": {\"color\": \"#C8D4E3\"}, \"line\": {\"color\": \"white\"}}, \"type\": \"table\"}]}, \"layout\": {\"annotationdefaults\": {\"arrowcolor\": \"#2a3f5f\", \"arrowhead\": 0, \"arrowwidth\": 1}, \"coloraxis\": {\"colorbar\": {\"outlinewidth\": 0, \"ticks\": \"\"}}, \"colorscale\": {\"diverging\": [[0, \"#8e0152\"], [0.1, \"#c51b7d\"], [0.2, \"#de77ae\"], [0.3, \"#f1b6da\"], [0.4, \"#fde0ef\"], [0.5, \"#f7f7f7\"], [0.6, \"#e6f5d0\"], [0.7, \"#b8e186\"], [0.8, \"#7fbc41\"], [0.9, \"#4d9221\"], [1, \"#276419\"]], \"sequential\": [[0.0, \"#0d0887\"], [0.1111111111111111, \"#46039f\"], [0.2222222222222222, \"#7201a8\"], [0.3333333333333333, \"#9c179e\"], [0.4444444444444444, \"#bd3786\"], [0.5555555555555556, \"#d8576b\"], [0.6666666666666666, \"#ed7953\"], [0.7777777777777778, \"#fb9f3a\"], [0.8888888888888888, \"#fdca26\"], [1.0, \"#f0f921\"]], \"sequentialminus\": [[0.0, \"#0d0887\"], [0.1111111111111111, \"#46039f\"], [0.2222222222222222, \"#7201a8\"], [0.3333333333333333, \"#9c179e\"], [0.4444444444444444, \"#bd3786\"], [0.5555555555555556, \"#d8576b\"], [0.6666666666666666, \"#ed7953\"], [0.7777777777777778, \"#fb9f3a\"], [0.8888888888888888, \"#fdca26\"], [1.0, \"#f0f921\"]]}, \"colorway\": [\"#636efa\", \"#EF553B\", \"#00cc96\", \"#ab63fa\", \"#FFA15A\", \"#19d3f3\", \"#FF6692\", \"#B6E880\", \"#FF97FF\", \"#FECB52\"], \"font\": {\"color\": \"#2a3f5f\"}, \"geo\": {\"bgcolor\": \"white\", \"lakecolor\": \"white\", \"landcolor\": \"#E5ECF6\", \"showlakes\": true, \"showland\": true, \"subunitcolor\": \"white\"}, \"hoverlabel\": {\"align\": \"left\"}, \"hovermode\": \"closest\", \"mapbox\": {\"style\": \"light\"}, \"paper_bgcolor\": \"white\", \"plot_bgcolor\": \"#E5ECF6\", \"polar\": {\"angularaxis\": {\"gridcolor\": \"white\", \"linecolor\": \"white\", \"ticks\": \"\"}, \"bgcolor\": \"#E5ECF6\", \"radialaxis\": {\"gridcolor\": \"white\", \"linecolor\": \"white\", \"ticks\": \"\"}}, \"scene\": {\"xaxis\": {\"backgroundcolor\": \"#E5ECF6\", \"gridcolor\": \"white\", \"gridwidth\": 2, \"linecolor\": \"white\", \"showbackground\": true, \"ticks\": \"\", \"zerolinecolor\": \"white\"}, \"yaxis\": {\"backgroundcolor\": \"#E5ECF6\", \"gridcolor\": \"white\", \"gridwidth\": 2, \"linecolor\": \"white\", \"showbackground\": true, \"ticks\": \"\", \"zerolinecolor\": \"white\"}, \"zaxis\": {\"backgroundcolor\": \"#E5ECF6\", \"gridcolor\": \"white\", \"gridwidth\": 2, \"linecolor\": \"white\", \"showbackground\": true, \"ticks\": \"\", \"zerolinecolor\": \"white\"}}, \"shapedefaults\": {\"line\": {\"color\": \"#2a3f5f\"}}, \"ternary\": {\"aaxis\": {\"gridcolor\": \"white\", \"linecolor\": \"white\", \"ticks\": \"\"}, \"baxis\": {\"gridcolor\": \"white\", \"linecolor\": \"white\", \"ticks\": \"\"}, \"bgcolor\": \"#E5ECF6\", \"caxis\": {\"gridcolor\": \"white\", \"linecolor\": \"white\", \"ticks\": \"\"}}, \"title\": {\"x\": 0.05}, \"xaxis\": {\"automargin\": true, \"gridcolor\": \"white\", \"linecolor\": \"white\", \"ticks\": \"\", \"title\": {\"standoff\": 15}, \"zerolinecolor\": \"white\", \"zerolinewidth\": 2}, \"yaxis\": {\"automargin\": true, \"gridcolor\": \"white\", \"linecolor\": \"white\", \"ticks\": \"\", \"title\": {\"standoff\": 15}, \"zerolinecolor\": \"white\", \"zerolinewidth\": 2}}}, \"title\": {\"font\": {\"color\": \"#4D5663\"}}, \"xaxis\": {\"gridcolor\": \"#E1E5ED\", \"showgrid\": true, \"tickfont\": {\"color\": \"#4D5663\"}, \"title\": {\"font\": {\"color\": \"#4D5663\"}, \"text\": \"\"}, \"zerolinecolor\": \"#E1E5ED\"}, \"yaxis\": {\"gridcolor\": \"#E1E5ED\", \"showgrid\": true, \"tickfont\": {\"color\": \"#4D5663\"}, \"title\": {\"font\": {\"color\": \"#4D5663\"}, \"text\": \"\"}, \"zerolinecolor\": \"#E1E5ED\"}},                        {\"showLink\": true, \"linkText\": \"Export to plot.ly\", \"plotlyServerURL\": \"https://plot.ly\", \"responsive\": true}                    ).then(function(){\n",
       "                            \n",
       "var gd = document.getElementById('121cbd46-9b91-41d1-885f-fa2739278e37');\n",
       "var x = new MutationObserver(function (mutations, observer) {{\n",
       "        var display = window.getComputedStyle(gd).display;\n",
       "        if (!display || display === 'none') {{\n",
       "            console.log([gd, 'removed!']);\n",
       "            Plotly.purge(gd);\n",
       "            observer.disconnect();\n",
       "        }}\n",
       "}});\n",
       "\n",
       "// Listen for the removal of the full notebook cells\n",
       "var notebookContainer = gd.closest('#notebook-container');\n",
       "if (notebookContainer) {{\n",
       "    x.observe(notebookContainer, {childList: true});\n",
       "}}\n",
       "\n",
       "// Listen for the clearing of the current output cell\n",
       "var outputEl = gd.closest('.output');\n",
       "if (outputEl) {{\n",
       "    x.observe(outputEl, {childList: true});\n",
       "}}\n",
       "\n",
       "                        })                };                });            </script>        </div>"
      ]
     },
     "metadata": {},
     "output_type": "display_data"
    }
   ],
   "source": [
    "df.iplot(kind='box')"
   ]
  },
  {
   "cell_type": "markdown",
   "metadata": {},
   "source": [
    "## 3D surface"
   ]
  },
  {
   "cell_type": "code",
   "execution_count": 29,
   "metadata": {},
   "outputs": [],
   "source": [
    "df3 = pd.DataFrame({'x':[1,2,3,4,5], 'y':[10,20,30,20,10], 'z':[5,4,3,2,1]})"
   ]
  },
  {
   "cell_type": "code",
   "execution_count": 30,
   "metadata": {},
   "outputs": [
    {
     "data": {
      "text/html": [
       "<div>\n",
       "<style scoped>\n",
       "    .dataframe tbody tr th:only-of-type {\n",
       "        vertical-align: middle;\n",
       "    }\n",
       "\n",
       "    .dataframe tbody tr th {\n",
       "        vertical-align: top;\n",
       "    }\n",
       "\n",
       "    .dataframe thead th {\n",
       "        text-align: right;\n",
       "    }\n",
       "</style>\n",
       "<table border=\"1\" class=\"dataframe\">\n",
       "  <thead>\n",
       "    <tr style=\"text-align: right;\">\n",
       "      <th></th>\n",
       "      <th>x</th>\n",
       "      <th>y</th>\n",
       "      <th>z</th>\n",
       "    </tr>\n",
       "  </thead>\n",
       "  <tbody>\n",
       "    <tr>\n",
       "      <td>0</td>\n",
       "      <td>1</td>\n",
       "      <td>10</td>\n",
       "      <td>5</td>\n",
       "    </tr>\n",
       "    <tr>\n",
       "      <td>1</td>\n",
       "      <td>2</td>\n",
       "      <td>20</td>\n",
       "      <td>4</td>\n",
       "    </tr>\n",
       "    <tr>\n",
       "      <td>2</td>\n",
       "      <td>3</td>\n",
       "      <td>30</td>\n",
       "      <td>3</td>\n",
       "    </tr>\n",
       "    <tr>\n",
       "      <td>3</td>\n",
       "      <td>4</td>\n",
       "      <td>20</td>\n",
       "      <td>2</td>\n",
       "    </tr>\n",
       "    <tr>\n",
       "      <td>4</td>\n",
       "      <td>5</td>\n",
       "      <td>10</td>\n",
       "      <td>1</td>\n",
       "    </tr>\n",
       "  </tbody>\n",
       "</table>\n",
       "</div>"
      ],
      "text/plain": [
       "   x   y  z\n",
       "0  1  10  5\n",
       "1  2  20  4\n",
       "2  3  30  3\n",
       "3  4  20  2\n",
       "4  5  10  1"
      ]
     },
     "execution_count": 30,
     "metadata": {},
     "output_type": "execute_result"
    }
   ],
   "source": [
    "df3"
   ]
  },
  {
   "cell_type": "code",
   "execution_count": 34,
   "metadata": {},
   "outputs": [
    {
     "data": {
      "application/vnd.plotly.v1+json": {
       "config": {
        "linkText": "Export to plot.ly",
        "plotlyServerURL": "https://plot.ly",
        "showLink": true
       },
       "data": [
        {
         "colorscale": [
          [
           0,
           "rgb(255, 153, 51)"
          ],
          [
           0.1111111111111111,
           "rgb(55, 128, 191)"
          ],
          [
           0.2222222222222222,
           "rgb(50, 171, 96)"
          ],
          [
           0.3333333333333333,
           "rgb(128, 0, 128)"
          ],
          [
           0.4444444444444444,
           "rgb(219, 64, 82)"
          ],
          [
           0.5555555555555556,
           "rgb(0, 128, 128)"
          ],
          [
           0.6666666666666666,
           "rgb(255, 255, 51)"
          ],
          [
           0.7777777777777778,
           "rgb(128, 128, 0)"
          ],
          [
           0.8888888888888888,
           "rgb(251, 128, 114)"
          ],
          [
           1,
           "rgb(128, 177, 211)"
          ]
         ],
         "type": "surface",
         "x": [
          0,
          1,
          2,
          3,
          4
         ],
         "y": [
          "x",
          "y",
          "z"
         ],
         "z": [
          [
           1,
           2,
           3,
           4,
           5
          ],
          [
           10,
           20,
           30,
           20,
           10
          ],
          [
           5,
           4,
           3,
           2,
           1
          ]
         ]
        }
       ],
       "layout": {
        "legend": {
         "bgcolor": "#F5F6F9",
         "font": {
          "color": "#4D5663"
         }
        },
        "paper_bgcolor": "#F5F6F9",
        "plot_bgcolor": "#F5F6F9",
        "template": {
         "data": {
          "bar": [
           {
            "error_x": {
             "color": "#2a3f5f"
            },
            "error_y": {
             "color": "#2a3f5f"
            },
            "marker": {
             "line": {
              "color": "#E5ECF6",
              "width": 0.5
             }
            },
            "type": "bar"
           }
          ],
          "barpolar": [
           {
            "marker": {
             "line": {
              "color": "#E5ECF6",
              "width": 0.5
             }
            },
            "type": "barpolar"
           }
          ],
          "carpet": [
           {
            "aaxis": {
             "endlinecolor": "#2a3f5f",
             "gridcolor": "white",
             "linecolor": "white",
             "minorgridcolor": "white",
             "startlinecolor": "#2a3f5f"
            },
            "baxis": {
             "endlinecolor": "#2a3f5f",
             "gridcolor": "white",
             "linecolor": "white",
             "minorgridcolor": "white",
             "startlinecolor": "#2a3f5f"
            },
            "type": "carpet"
           }
          ],
          "choropleth": [
           {
            "colorbar": {
             "outlinewidth": 0,
             "ticks": ""
            },
            "type": "choropleth"
           }
          ],
          "contour": [
           {
            "colorbar": {
             "outlinewidth": 0,
             "ticks": ""
            },
            "colorscale": [
             [
              0,
              "#0d0887"
             ],
             [
              0.1111111111111111,
              "#46039f"
             ],
             [
              0.2222222222222222,
              "#7201a8"
             ],
             [
              0.3333333333333333,
              "#9c179e"
             ],
             [
              0.4444444444444444,
              "#bd3786"
             ],
             [
              0.5555555555555556,
              "#d8576b"
             ],
             [
              0.6666666666666666,
              "#ed7953"
             ],
             [
              0.7777777777777778,
              "#fb9f3a"
             ],
             [
              0.8888888888888888,
              "#fdca26"
             ],
             [
              1,
              "#f0f921"
             ]
            ],
            "type": "contour"
           }
          ],
          "contourcarpet": [
           {
            "colorbar": {
             "outlinewidth": 0,
             "ticks": ""
            },
            "type": "contourcarpet"
           }
          ],
          "heatmap": [
           {
            "colorbar": {
             "outlinewidth": 0,
             "ticks": ""
            },
            "colorscale": [
             [
              0,
              "#0d0887"
             ],
             [
              0.1111111111111111,
              "#46039f"
             ],
             [
              0.2222222222222222,
              "#7201a8"
             ],
             [
              0.3333333333333333,
              "#9c179e"
             ],
             [
              0.4444444444444444,
              "#bd3786"
             ],
             [
              0.5555555555555556,
              "#d8576b"
             ],
             [
              0.6666666666666666,
              "#ed7953"
             ],
             [
              0.7777777777777778,
              "#fb9f3a"
             ],
             [
              0.8888888888888888,
              "#fdca26"
             ],
             [
              1,
              "#f0f921"
             ]
            ],
            "type": "heatmap"
           }
          ],
          "heatmapgl": [
           {
            "colorbar": {
             "outlinewidth": 0,
             "ticks": ""
            },
            "colorscale": [
             [
              0,
              "#0d0887"
             ],
             [
              0.1111111111111111,
              "#46039f"
             ],
             [
              0.2222222222222222,
              "#7201a8"
             ],
             [
              0.3333333333333333,
              "#9c179e"
             ],
             [
              0.4444444444444444,
              "#bd3786"
             ],
             [
              0.5555555555555556,
              "#d8576b"
             ],
             [
              0.6666666666666666,
              "#ed7953"
             ],
             [
              0.7777777777777778,
              "#fb9f3a"
             ],
             [
              0.8888888888888888,
              "#fdca26"
             ],
             [
              1,
              "#f0f921"
             ]
            ],
            "type": "heatmapgl"
           }
          ],
          "histogram": [
           {
            "marker": {
             "colorbar": {
              "outlinewidth": 0,
              "ticks": ""
             }
            },
            "type": "histogram"
           }
          ],
          "histogram2d": [
           {
            "colorbar": {
             "outlinewidth": 0,
             "ticks": ""
            },
            "colorscale": [
             [
              0,
              "#0d0887"
             ],
             [
              0.1111111111111111,
              "#46039f"
             ],
             [
              0.2222222222222222,
              "#7201a8"
             ],
             [
              0.3333333333333333,
              "#9c179e"
             ],
             [
              0.4444444444444444,
              "#bd3786"
             ],
             [
              0.5555555555555556,
              "#d8576b"
             ],
             [
              0.6666666666666666,
              "#ed7953"
             ],
             [
              0.7777777777777778,
              "#fb9f3a"
             ],
             [
              0.8888888888888888,
              "#fdca26"
             ],
             [
              1,
              "#f0f921"
             ]
            ],
            "type": "histogram2d"
           }
          ],
          "histogram2dcontour": [
           {
            "colorbar": {
             "outlinewidth": 0,
             "ticks": ""
            },
            "colorscale": [
             [
              0,
              "#0d0887"
             ],
             [
              0.1111111111111111,
              "#46039f"
             ],
             [
              0.2222222222222222,
              "#7201a8"
             ],
             [
              0.3333333333333333,
              "#9c179e"
             ],
             [
              0.4444444444444444,
              "#bd3786"
             ],
             [
              0.5555555555555556,
              "#d8576b"
             ],
             [
              0.6666666666666666,
              "#ed7953"
             ],
             [
              0.7777777777777778,
              "#fb9f3a"
             ],
             [
              0.8888888888888888,
              "#fdca26"
             ],
             [
              1,
              "#f0f921"
             ]
            ],
            "type": "histogram2dcontour"
           }
          ],
          "mesh3d": [
           {
            "colorbar": {
             "outlinewidth": 0,
             "ticks": ""
            },
            "type": "mesh3d"
           }
          ],
          "parcoords": [
           {
            "line": {
             "colorbar": {
              "outlinewidth": 0,
              "ticks": ""
             }
            },
            "type": "parcoords"
           }
          ],
          "pie": [
           {
            "automargin": true,
            "type": "pie"
           }
          ],
          "scatter": [
           {
            "marker": {
             "colorbar": {
              "outlinewidth": 0,
              "ticks": ""
             }
            },
            "type": "scatter"
           }
          ],
          "scatter3d": [
           {
            "line": {
             "colorbar": {
              "outlinewidth": 0,
              "ticks": ""
             }
            },
            "marker": {
             "colorbar": {
              "outlinewidth": 0,
              "ticks": ""
             }
            },
            "type": "scatter3d"
           }
          ],
          "scattercarpet": [
           {
            "marker": {
             "colorbar": {
              "outlinewidth": 0,
              "ticks": ""
             }
            },
            "type": "scattercarpet"
           }
          ],
          "scattergeo": [
           {
            "marker": {
             "colorbar": {
              "outlinewidth": 0,
              "ticks": ""
             }
            },
            "type": "scattergeo"
           }
          ],
          "scattergl": [
           {
            "marker": {
             "colorbar": {
              "outlinewidth": 0,
              "ticks": ""
             }
            },
            "type": "scattergl"
           }
          ],
          "scattermapbox": [
           {
            "marker": {
             "colorbar": {
              "outlinewidth": 0,
              "ticks": ""
             }
            },
            "type": "scattermapbox"
           }
          ],
          "scatterpolar": [
           {
            "marker": {
             "colorbar": {
              "outlinewidth": 0,
              "ticks": ""
             }
            },
            "type": "scatterpolar"
           }
          ],
          "scatterpolargl": [
           {
            "marker": {
             "colorbar": {
              "outlinewidth": 0,
              "ticks": ""
             }
            },
            "type": "scatterpolargl"
           }
          ],
          "scatterternary": [
           {
            "marker": {
             "colorbar": {
              "outlinewidth": 0,
              "ticks": ""
             }
            },
            "type": "scatterternary"
           }
          ],
          "surface": [
           {
            "colorbar": {
             "outlinewidth": 0,
             "ticks": ""
            },
            "colorscale": [
             [
              0,
              "#0d0887"
             ],
             [
              0.1111111111111111,
              "#46039f"
             ],
             [
              0.2222222222222222,
              "#7201a8"
             ],
             [
              0.3333333333333333,
              "#9c179e"
             ],
             [
              0.4444444444444444,
              "#bd3786"
             ],
             [
              0.5555555555555556,
              "#d8576b"
             ],
             [
              0.6666666666666666,
              "#ed7953"
             ],
             [
              0.7777777777777778,
              "#fb9f3a"
             ],
             [
              0.8888888888888888,
              "#fdca26"
             ],
             [
              1,
              "#f0f921"
             ]
            ],
            "type": "surface"
           }
          ],
          "table": [
           {
            "cells": {
             "fill": {
              "color": "#EBF0F8"
             },
             "line": {
              "color": "white"
             }
            },
            "header": {
             "fill": {
              "color": "#C8D4E3"
             },
             "line": {
              "color": "white"
             }
            },
            "type": "table"
           }
          ]
         },
         "layout": {
          "annotationdefaults": {
           "arrowcolor": "#2a3f5f",
           "arrowhead": 0,
           "arrowwidth": 1
          },
          "coloraxis": {
           "colorbar": {
            "outlinewidth": 0,
            "ticks": ""
           }
          },
          "colorscale": {
           "diverging": [
            [
             0,
             "#8e0152"
            ],
            [
             0.1,
             "#c51b7d"
            ],
            [
             0.2,
             "#de77ae"
            ],
            [
             0.3,
             "#f1b6da"
            ],
            [
             0.4,
             "#fde0ef"
            ],
            [
             0.5,
             "#f7f7f7"
            ],
            [
             0.6,
             "#e6f5d0"
            ],
            [
             0.7,
             "#b8e186"
            ],
            [
             0.8,
             "#7fbc41"
            ],
            [
             0.9,
             "#4d9221"
            ],
            [
             1,
             "#276419"
            ]
           ],
           "sequential": [
            [
             0,
             "#0d0887"
            ],
            [
             0.1111111111111111,
             "#46039f"
            ],
            [
             0.2222222222222222,
             "#7201a8"
            ],
            [
             0.3333333333333333,
             "#9c179e"
            ],
            [
             0.4444444444444444,
             "#bd3786"
            ],
            [
             0.5555555555555556,
             "#d8576b"
            ],
            [
             0.6666666666666666,
             "#ed7953"
            ],
            [
             0.7777777777777778,
             "#fb9f3a"
            ],
            [
             0.8888888888888888,
             "#fdca26"
            ],
            [
             1,
             "#f0f921"
            ]
           ],
           "sequentialminus": [
            [
             0,
             "#0d0887"
            ],
            [
             0.1111111111111111,
             "#46039f"
            ],
            [
             0.2222222222222222,
             "#7201a8"
            ],
            [
             0.3333333333333333,
             "#9c179e"
            ],
            [
             0.4444444444444444,
             "#bd3786"
            ],
            [
             0.5555555555555556,
             "#d8576b"
            ],
            [
             0.6666666666666666,
             "#ed7953"
            ],
            [
             0.7777777777777778,
             "#fb9f3a"
            ],
            [
             0.8888888888888888,
             "#fdca26"
            ],
            [
             1,
             "#f0f921"
            ]
           ]
          },
          "colorway": [
           "#636efa",
           "#EF553B",
           "#00cc96",
           "#ab63fa",
           "#FFA15A",
           "#19d3f3",
           "#FF6692",
           "#B6E880",
           "#FF97FF",
           "#FECB52"
          ],
          "font": {
           "color": "#2a3f5f"
          },
          "geo": {
           "bgcolor": "white",
           "lakecolor": "white",
           "landcolor": "#E5ECF6",
           "showlakes": true,
           "showland": true,
           "subunitcolor": "white"
          },
          "hoverlabel": {
           "align": "left"
          },
          "hovermode": "closest",
          "mapbox": {
           "style": "light"
          },
          "paper_bgcolor": "white",
          "plot_bgcolor": "#E5ECF6",
          "polar": {
           "angularaxis": {
            "gridcolor": "white",
            "linecolor": "white",
            "ticks": ""
           },
           "bgcolor": "#E5ECF6",
           "radialaxis": {
            "gridcolor": "white",
            "linecolor": "white",
            "ticks": ""
           }
          },
          "scene": {
           "xaxis": {
            "backgroundcolor": "#E5ECF6",
            "gridcolor": "white",
            "gridwidth": 2,
            "linecolor": "white",
            "showbackground": true,
            "ticks": "",
            "zerolinecolor": "white"
           },
           "yaxis": {
            "backgroundcolor": "#E5ECF6",
            "gridcolor": "white",
            "gridwidth": 2,
            "linecolor": "white",
            "showbackground": true,
            "ticks": "",
            "zerolinecolor": "white"
           },
           "zaxis": {
            "backgroundcolor": "#E5ECF6",
            "gridcolor": "white",
            "gridwidth": 2,
            "linecolor": "white",
            "showbackground": true,
            "ticks": "",
            "zerolinecolor": "white"
           }
          },
          "shapedefaults": {
           "line": {
            "color": "#2a3f5f"
           }
          },
          "ternary": {
           "aaxis": {
            "gridcolor": "white",
            "linecolor": "white",
            "ticks": ""
           },
           "baxis": {
            "gridcolor": "white",
            "linecolor": "white",
            "ticks": ""
           },
           "bgcolor": "#E5ECF6",
           "caxis": {
            "gridcolor": "white",
            "linecolor": "white",
            "ticks": ""
           }
          },
          "title": {
           "x": 0.05
          },
          "xaxis": {
           "automargin": true,
           "gridcolor": "white",
           "linecolor": "white",
           "ticks": "",
           "title": {
            "standoff": 15
           },
           "zerolinecolor": "white",
           "zerolinewidth": 2
          },
          "yaxis": {
           "automargin": true,
           "gridcolor": "white",
           "linecolor": "white",
           "ticks": "",
           "title": {
            "standoff": 15
           },
           "zerolinecolor": "white",
           "zerolinewidth": 2
          }
         }
        },
        "title": {
         "font": {
          "color": "#4D5663"
         }
        },
        "xaxis": {
         "gridcolor": "#E1E5ED",
         "showgrid": true,
         "tickfont": {
          "color": "#4D5663"
         },
         "title": {
          "font": {
           "color": "#4D5663"
          },
          "text": ""
         },
         "zerolinecolor": "#E1E5ED"
        },
        "yaxis": {
         "gridcolor": "#E1E5ED",
         "showgrid": true,
         "tickfont": {
          "color": "#4D5663"
         },
         "title": {
          "font": {
           "color": "#4D5663"
          },
          "text": ""
         },
         "zerolinecolor": "#E1E5ED"
        }
       }
      },
      "text/html": [
       "<div>                            <div id=\"049589b6-b8e9-4c9d-9f3a-a839d6ab4376\" class=\"plotly-graph-div\" style=\"height:525px; width:100%;\"></div>            <script type=\"text/javascript\">                require([\"plotly\"], function(Plotly) {                    window.PLOTLYENV=window.PLOTLYENV || {};\n",
       "                    window.PLOTLYENV.BASE_URL='https://plot.ly';                                    if (document.getElementById(\"049589b6-b8e9-4c9d-9f3a-a839d6ab4376\")) {                    Plotly.newPlot(                        \"049589b6-b8e9-4c9d-9f3a-a839d6ab4376\",                        [{\"colorscale\": [[0.0, \"rgb(255, 153, 51)\"], [0.1111111111111111, \"rgb(55, 128, 191)\"], [0.2222222222222222, \"rgb(50, 171, 96)\"], [0.3333333333333333, \"rgb(128, 0, 128)\"], [0.4444444444444444, \"rgb(219, 64, 82)\"], [0.5555555555555556, \"rgb(0, 128, 128)\"], [0.6666666666666666, \"rgb(255, 255, 51)\"], [0.7777777777777778, \"rgb(128, 128, 0)\"], [0.8888888888888888, \"rgb(251, 128, 114)\"], [1.0, \"rgb(128, 177, 211)\"]], \"type\": \"surface\", \"x\": [0, 1, 2, 3, 4], \"y\": [\"x\", \"y\", \"z\"], \"z\": [[1, 2, 3, 4, 5], [10, 20, 30, 20, 10], [5, 4, 3, 2, 1]]}],                        {\"legend\": {\"bgcolor\": \"#F5F6F9\", \"font\": {\"color\": \"#4D5663\"}}, \"paper_bgcolor\": \"#F5F6F9\", \"plot_bgcolor\": \"#F5F6F9\", \"template\": {\"data\": {\"bar\": [{\"error_x\": {\"color\": \"#2a3f5f\"}, \"error_y\": {\"color\": \"#2a3f5f\"}, \"marker\": {\"line\": {\"color\": \"#E5ECF6\", \"width\": 0.5}}, \"type\": \"bar\"}], \"barpolar\": [{\"marker\": {\"line\": {\"color\": \"#E5ECF6\", \"width\": 0.5}}, \"type\": \"barpolar\"}], \"carpet\": [{\"aaxis\": {\"endlinecolor\": \"#2a3f5f\", \"gridcolor\": \"white\", \"linecolor\": \"white\", \"minorgridcolor\": \"white\", \"startlinecolor\": \"#2a3f5f\"}, \"baxis\": {\"endlinecolor\": \"#2a3f5f\", \"gridcolor\": \"white\", \"linecolor\": \"white\", \"minorgridcolor\": \"white\", \"startlinecolor\": \"#2a3f5f\"}, \"type\": \"carpet\"}], \"choropleth\": [{\"colorbar\": {\"outlinewidth\": 0, \"ticks\": \"\"}, \"type\": \"choropleth\"}], \"contour\": [{\"colorbar\": {\"outlinewidth\": 0, \"ticks\": \"\"}, \"colorscale\": [[0.0, \"#0d0887\"], [0.1111111111111111, \"#46039f\"], [0.2222222222222222, \"#7201a8\"], [0.3333333333333333, \"#9c179e\"], [0.4444444444444444, \"#bd3786\"], [0.5555555555555556, \"#d8576b\"], [0.6666666666666666, \"#ed7953\"], [0.7777777777777778, \"#fb9f3a\"], [0.8888888888888888, \"#fdca26\"], [1.0, \"#f0f921\"]], \"type\": \"contour\"}], \"contourcarpet\": [{\"colorbar\": {\"outlinewidth\": 0, \"ticks\": \"\"}, \"type\": \"contourcarpet\"}], \"heatmap\": [{\"colorbar\": {\"outlinewidth\": 0, \"ticks\": \"\"}, \"colorscale\": [[0.0, \"#0d0887\"], [0.1111111111111111, \"#46039f\"], [0.2222222222222222, \"#7201a8\"], [0.3333333333333333, \"#9c179e\"], [0.4444444444444444, \"#bd3786\"], [0.5555555555555556, \"#d8576b\"], [0.6666666666666666, \"#ed7953\"], [0.7777777777777778, \"#fb9f3a\"], [0.8888888888888888, \"#fdca26\"], [1.0, \"#f0f921\"]], \"type\": \"heatmap\"}], \"heatmapgl\": [{\"colorbar\": {\"outlinewidth\": 0, \"ticks\": \"\"}, \"colorscale\": [[0.0, \"#0d0887\"], [0.1111111111111111, \"#46039f\"], [0.2222222222222222, \"#7201a8\"], [0.3333333333333333, \"#9c179e\"], [0.4444444444444444, \"#bd3786\"], [0.5555555555555556, \"#d8576b\"], [0.6666666666666666, \"#ed7953\"], [0.7777777777777778, \"#fb9f3a\"], [0.8888888888888888, \"#fdca26\"], [1.0, \"#f0f921\"]], \"type\": \"heatmapgl\"}], \"histogram\": [{\"marker\": {\"colorbar\": {\"outlinewidth\": 0, \"ticks\": \"\"}}, \"type\": \"histogram\"}], \"histogram2d\": [{\"colorbar\": {\"outlinewidth\": 0, \"ticks\": \"\"}, \"colorscale\": [[0.0, \"#0d0887\"], [0.1111111111111111, \"#46039f\"], [0.2222222222222222, \"#7201a8\"], [0.3333333333333333, \"#9c179e\"], [0.4444444444444444, \"#bd3786\"], [0.5555555555555556, \"#d8576b\"], [0.6666666666666666, \"#ed7953\"], [0.7777777777777778, \"#fb9f3a\"], [0.8888888888888888, \"#fdca26\"], [1.0, \"#f0f921\"]], \"type\": \"histogram2d\"}], \"histogram2dcontour\": [{\"colorbar\": {\"outlinewidth\": 0, \"ticks\": \"\"}, \"colorscale\": [[0.0, \"#0d0887\"], [0.1111111111111111, \"#46039f\"], [0.2222222222222222, \"#7201a8\"], [0.3333333333333333, \"#9c179e\"], [0.4444444444444444, \"#bd3786\"], [0.5555555555555556, \"#d8576b\"], [0.6666666666666666, \"#ed7953\"], [0.7777777777777778, \"#fb9f3a\"], [0.8888888888888888, \"#fdca26\"], [1.0, \"#f0f921\"]], \"type\": \"histogram2dcontour\"}], \"mesh3d\": [{\"colorbar\": {\"outlinewidth\": 0, \"ticks\": \"\"}, \"type\": \"mesh3d\"}], \"parcoords\": [{\"line\": {\"colorbar\": {\"outlinewidth\": 0, \"ticks\": \"\"}}, \"type\": \"parcoords\"}], \"pie\": [{\"automargin\": true, \"type\": \"pie\"}], \"scatter\": [{\"marker\": {\"colorbar\": {\"outlinewidth\": 0, \"ticks\": \"\"}}, \"type\": \"scatter\"}], \"scatter3d\": [{\"line\": {\"colorbar\": {\"outlinewidth\": 0, \"ticks\": \"\"}}, \"marker\": {\"colorbar\": {\"outlinewidth\": 0, \"ticks\": \"\"}}, \"type\": \"scatter3d\"}], \"scattercarpet\": [{\"marker\": {\"colorbar\": {\"outlinewidth\": 0, \"ticks\": \"\"}}, \"type\": \"scattercarpet\"}], \"scattergeo\": [{\"marker\": {\"colorbar\": {\"outlinewidth\": 0, \"ticks\": \"\"}}, \"type\": \"scattergeo\"}], \"scattergl\": [{\"marker\": {\"colorbar\": {\"outlinewidth\": 0, \"ticks\": \"\"}}, \"type\": \"scattergl\"}], \"scattermapbox\": [{\"marker\": {\"colorbar\": {\"outlinewidth\": 0, \"ticks\": \"\"}}, \"type\": \"scattermapbox\"}], \"scatterpolar\": [{\"marker\": {\"colorbar\": {\"outlinewidth\": 0, \"ticks\": \"\"}}, \"type\": \"scatterpolar\"}], \"scatterpolargl\": [{\"marker\": {\"colorbar\": {\"outlinewidth\": 0, \"ticks\": \"\"}}, \"type\": \"scatterpolargl\"}], \"scatterternary\": [{\"marker\": {\"colorbar\": {\"outlinewidth\": 0, \"ticks\": \"\"}}, \"type\": \"scatterternary\"}], \"surface\": [{\"colorbar\": {\"outlinewidth\": 0, \"ticks\": \"\"}, \"colorscale\": [[0.0, \"#0d0887\"], [0.1111111111111111, \"#46039f\"], [0.2222222222222222, \"#7201a8\"], [0.3333333333333333, \"#9c179e\"], [0.4444444444444444, \"#bd3786\"], [0.5555555555555556, \"#d8576b\"], [0.6666666666666666, \"#ed7953\"], [0.7777777777777778, \"#fb9f3a\"], [0.8888888888888888, \"#fdca26\"], [1.0, \"#f0f921\"]], \"type\": \"surface\"}], \"table\": [{\"cells\": {\"fill\": {\"color\": \"#EBF0F8\"}, \"line\": {\"color\": \"white\"}}, \"header\": {\"fill\": {\"color\": \"#C8D4E3\"}, \"line\": {\"color\": \"white\"}}, \"type\": \"table\"}]}, \"layout\": {\"annotationdefaults\": {\"arrowcolor\": \"#2a3f5f\", \"arrowhead\": 0, \"arrowwidth\": 1}, \"coloraxis\": {\"colorbar\": {\"outlinewidth\": 0, \"ticks\": \"\"}}, \"colorscale\": {\"diverging\": [[0, \"#8e0152\"], [0.1, \"#c51b7d\"], [0.2, \"#de77ae\"], [0.3, \"#f1b6da\"], [0.4, \"#fde0ef\"], [0.5, \"#f7f7f7\"], [0.6, \"#e6f5d0\"], [0.7, \"#b8e186\"], [0.8, \"#7fbc41\"], [0.9, \"#4d9221\"], [1, \"#276419\"]], \"sequential\": [[0.0, \"#0d0887\"], [0.1111111111111111, \"#46039f\"], [0.2222222222222222, \"#7201a8\"], [0.3333333333333333, \"#9c179e\"], [0.4444444444444444, \"#bd3786\"], [0.5555555555555556, \"#d8576b\"], [0.6666666666666666, \"#ed7953\"], [0.7777777777777778, \"#fb9f3a\"], [0.8888888888888888, \"#fdca26\"], [1.0, \"#f0f921\"]], \"sequentialminus\": [[0.0, \"#0d0887\"], [0.1111111111111111, \"#46039f\"], [0.2222222222222222, \"#7201a8\"], [0.3333333333333333, \"#9c179e\"], [0.4444444444444444, \"#bd3786\"], [0.5555555555555556, \"#d8576b\"], [0.6666666666666666, \"#ed7953\"], [0.7777777777777778, \"#fb9f3a\"], [0.8888888888888888, \"#fdca26\"], [1.0, \"#f0f921\"]]}, \"colorway\": [\"#636efa\", \"#EF553B\", \"#00cc96\", \"#ab63fa\", \"#FFA15A\", \"#19d3f3\", \"#FF6692\", \"#B6E880\", \"#FF97FF\", \"#FECB52\"], \"font\": {\"color\": \"#2a3f5f\"}, \"geo\": {\"bgcolor\": \"white\", \"lakecolor\": \"white\", \"landcolor\": \"#E5ECF6\", \"showlakes\": true, \"showland\": true, \"subunitcolor\": \"white\"}, \"hoverlabel\": {\"align\": \"left\"}, \"hovermode\": \"closest\", \"mapbox\": {\"style\": \"light\"}, \"paper_bgcolor\": \"white\", \"plot_bgcolor\": \"#E5ECF6\", \"polar\": {\"angularaxis\": {\"gridcolor\": \"white\", \"linecolor\": \"white\", \"ticks\": \"\"}, \"bgcolor\": \"#E5ECF6\", \"radialaxis\": {\"gridcolor\": \"white\", \"linecolor\": \"white\", \"ticks\": \"\"}}, \"scene\": {\"xaxis\": {\"backgroundcolor\": \"#E5ECF6\", \"gridcolor\": \"white\", \"gridwidth\": 2, \"linecolor\": \"white\", \"showbackground\": true, \"ticks\": \"\", \"zerolinecolor\": \"white\"}, \"yaxis\": {\"backgroundcolor\": \"#E5ECF6\", \"gridcolor\": \"white\", \"gridwidth\": 2, \"linecolor\": \"white\", \"showbackground\": true, \"ticks\": \"\", \"zerolinecolor\": \"white\"}, \"zaxis\": {\"backgroundcolor\": \"#E5ECF6\", \"gridcolor\": \"white\", \"gridwidth\": 2, \"linecolor\": \"white\", \"showbackground\": true, \"ticks\": \"\", \"zerolinecolor\": \"white\"}}, \"shapedefaults\": {\"line\": {\"color\": \"#2a3f5f\"}}, \"ternary\": {\"aaxis\": {\"gridcolor\": \"white\", \"linecolor\": \"white\", \"ticks\": \"\"}, \"baxis\": {\"gridcolor\": \"white\", \"linecolor\": \"white\", \"ticks\": \"\"}, \"bgcolor\": \"#E5ECF6\", \"caxis\": {\"gridcolor\": \"white\", \"linecolor\": \"white\", \"ticks\": \"\"}}, \"title\": {\"x\": 0.05}, \"xaxis\": {\"automargin\": true, \"gridcolor\": \"white\", \"linecolor\": \"white\", \"ticks\": \"\", \"title\": {\"standoff\": 15}, \"zerolinecolor\": \"white\", \"zerolinewidth\": 2}, \"yaxis\": {\"automargin\": true, \"gridcolor\": \"white\", \"linecolor\": \"white\", \"ticks\": \"\", \"title\": {\"standoff\": 15}, \"zerolinecolor\": \"white\", \"zerolinewidth\": 2}}}, \"title\": {\"font\": {\"color\": \"#4D5663\"}}, \"xaxis\": {\"gridcolor\": \"#E1E5ED\", \"showgrid\": true, \"tickfont\": {\"color\": \"#4D5663\"}, \"title\": {\"font\": {\"color\": \"#4D5663\"}, \"text\": \"\"}, \"zerolinecolor\": \"#E1E5ED\"}, \"yaxis\": {\"gridcolor\": \"#E1E5ED\", \"showgrid\": true, \"tickfont\": {\"color\": \"#4D5663\"}, \"title\": {\"font\": {\"color\": \"#4D5663\"}, \"text\": \"\"}, \"zerolinecolor\": \"#E1E5ED\"}},                        {\"showLink\": true, \"linkText\": \"Export to plot.ly\", \"plotlyServerURL\": \"https://plot.ly\", \"responsive\": true}                    ).then(function(){\n",
       "                            \n",
       "var gd = document.getElementById('049589b6-b8e9-4c9d-9f3a-a839d6ab4376');\n",
       "var x = new MutationObserver(function (mutations, observer) {{\n",
       "        var display = window.getComputedStyle(gd).display;\n",
       "        if (!display || display === 'none') {{\n",
       "            console.log([gd, 'removed!']);\n",
       "            Plotly.purge(gd);\n",
       "            observer.disconnect();\n",
       "        }}\n",
       "}});\n",
       "\n",
       "// Listen for the removal of the full notebook cells\n",
       "var notebookContainer = gd.closest('#notebook-container');\n",
       "if (notebookContainer) {{\n",
       "    x.observe(notebookContainer, {childList: true});\n",
       "}}\n",
       "\n",
       "// Listen for the clearing of the current output cell\n",
       "var outputEl = gd.closest('.output');\n",
       "if (outputEl) {{\n",
       "    x.observe(outputEl, {childList: true});\n",
       "}}\n",
       "\n",
       "                        })                };                });            </script>        </div>"
      ]
     },
     "metadata": {},
     "output_type": "display_data"
    }
   ],
   "source": [
    "df3.iplot(kind='surface')"
   ]
  },
  {
   "cell_type": "code",
   "execution_count": 35,
   "metadata": {},
   "outputs": [
    {
     "data": {
      "application/vnd.plotly.v1+json": {
       "config": {
        "linkText": "Export to plot.ly",
        "plotlyServerURL": "https://plot.ly",
        "showLink": true
       },
       "data": [
        {
         "histfunc": "count",
         "histnorm": "",
         "marker": {
          "color": "rgba(255, 153, 51, 1.0)",
          "line": {
           "color": "#4D5663",
           "width": 1.3
          }
         },
         "name": "A",
         "nbinsx": 40,
         "opacity": 0.8,
         "orientation": "v",
         "type": "histogram",
         "x": [
          0.2833623675227722,
          -1.127271506470818,
          0.5301991988413371,
          -0.9076037526358803,
          0.3045832521261345,
          1.5802942678868173,
          1.9590307813960588,
          0.4506493866329785,
          -0.16613983560977538,
          0.46344861995238673,
          -0.3029747794229369,
          1.0872271658066728,
          -1.6069227916919724,
          -0.06024722082744196,
          -1.000922647114807,
          -0.8428459274937556,
          0.29478573314485923,
          -0.25339222119091565,
          0.7187247748507258,
          1.3353341377998886,
          -0.3132263384895011,
          -0.39118000703348754,
          -1.7291172658029401,
          -0.5693280082171505,
          -0.18087539462310423,
          0.6036481562105745,
          0.16176229925673608,
          0.5404933164826498,
          -0.050736094303384584,
          -1.7608032679833248,
          1.1206641776550978,
          0.2838819671315071,
          -0.5719968871072524,
          -0.19937518829329207,
          -1.2092967930008358,
          -2.1550539493577956,
          -0.8506827098252433,
          0.09807027557339956,
          -0.20852721520392994,
          0.0912904455286591,
          0.8507029232627918,
          0.7463037519235868,
          0.1599236640979604,
          -1.462351188047253,
          0.457348739903739,
          0.7556632254955828,
          0.22062598272523387,
          -0.27599288567352176,
          -0.08651902719832559,
          -0.09390592780647052,
          0.24038800777499403,
          0.9386699960214014,
          -0.37020709228577187,
          -1.4755040676184674,
          0.4819500836736902,
          1.536663027126891,
          -1.8092408905159583,
          0.033277606986312054,
          0.09798696404977163,
          -0.32247346929781884,
          -1.555270331626882,
          0.9876894317407412,
          0.00028416691420902416,
          -0.39456722234572883,
          -0.08365889875132763,
          0.8416210966617714,
          0.7546325779328649,
          0.6720135507751842,
          -0.1608911463122692,
          0.7573962711229544,
          -1.174575815424979,
          -0.6613932481307679,
          0.005947420146648111,
          -0.395531939861682,
          -1.4391168822911,
          -1.3339009646738926,
          -0.3886619660027748,
          1.6126444498295815,
          -1.6794064847194896,
          -0.30320536220958877,
          0.9461461594017028,
          -0.06348775003781486,
          -2.124844609404621,
          0.08835640937139362,
          2.6901798168203337,
          0.6518982468613443,
          0.16121683466285788,
          0.5534423738048103,
          -0.0540939855612481,
          -0.33942531987529156,
          0.04449274194965574,
          -1.6732075886435611,
          -1.3900365917463668,
          0.49685876161216186,
          0.08337278758692533,
          1.4442163263090961,
          -1.0831084992907014,
          -1.0583044225528533,
          1.1535020255004065,
          0.5301801527396007
         ]
        }
       ],
       "layout": {
        "barmode": "overlay",
        "legend": {
         "bgcolor": "#F5F6F9",
         "font": {
          "color": "#4D5663"
         }
        },
        "paper_bgcolor": "#F5F6F9",
        "plot_bgcolor": "#F5F6F9",
        "template": {
         "data": {
          "bar": [
           {
            "error_x": {
             "color": "#2a3f5f"
            },
            "error_y": {
             "color": "#2a3f5f"
            },
            "marker": {
             "line": {
              "color": "#E5ECF6",
              "width": 0.5
             }
            },
            "type": "bar"
           }
          ],
          "barpolar": [
           {
            "marker": {
             "line": {
              "color": "#E5ECF6",
              "width": 0.5
             }
            },
            "type": "barpolar"
           }
          ],
          "carpet": [
           {
            "aaxis": {
             "endlinecolor": "#2a3f5f",
             "gridcolor": "white",
             "linecolor": "white",
             "minorgridcolor": "white",
             "startlinecolor": "#2a3f5f"
            },
            "baxis": {
             "endlinecolor": "#2a3f5f",
             "gridcolor": "white",
             "linecolor": "white",
             "minorgridcolor": "white",
             "startlinecolor": "#2a3f5f"
            },
            "type": "carpet"
           }
          ],
          "choropleth": [
           {
            "colorbar": {
             "outlinewidth": 0,
             "ticks": ""
            },
            "type": "choropleth"
           }
          ],
          "contour": [
           {
            "colorbar": {
             "outlinewidth": 0,
             "ticks": ""
            },
            "colorscale": [
             [
              0,
              "#0d0887"
             ],
             [
              0.1111111111111111,
              "#46039f"
             ],
             [
              0.2222222222222222,
              "#7201a8"
             ],
             [
              0.3333333333333333,
              "#9c179e"
             ],
             [
              0.4444444444444444,
              "#bd3786"
             ],
             [
              0.5555555555555556,
              "#d8576b"
             ],
             [
              0.6666666666666666,
              "#ed7953"
             ],
             [
              0.7777777777777778,
              "#fb9f3a"
             ],
             [
              0.8888888888888888,
              "#fdca26"
             ],
             [
              1,
              "#f0f921"
             ]
            ],
            "type": "contour"
           }
          ],
          "contourcarpet": [
           {
            "colorbar": {
             "outlinewidth": 0,
             "ticks": ""
            },
            "type": "contourcarpet"
           }
          ],
          "heatmap": [
           {
            "colorbar": {
             "outlinewidth": 0,
             "ticks": ""
            },
            "colorscale": [
             [
              0,
              "#0d0887"
             ],
             [
              0.1111111111111111,
              "#46039f"
             ],
             [
              0.2222222222222222,
              "#7201a8"
             ],
             [
              0.3333333333333333,
              "#9c179e"
             ],
             [
              0.4444444444444444,
              "#bd3786"
             ],
             [
              0.5555555555555556,
              "#d8576b"
             ],
             [
              0.6666666666666666,
              "#ed7953"
             ],
             [
              0.7777777777777778,
              "#fb9f3a"
             ],
             [
              0.8888888888888888,
              "#fdca26"
             ],
             [
              1,
              "#f0f921"
             ]
            ],
            "type": "heatmap"
           }
          ],
          "heatmapgl": [
           {
            "colorbar": {
             "outlinewidth": 0,
             "ticks": ""
            },
            "colorscale": [
             [
              0,
              "#0d0887"
             ],
             [
              0.1111111111111111,
              "#46039f"
             ],
             [
              0.2222222222222222,
              "#7201a8"
             ],
             [
              0.3333333333333333,
              "#9c179e"
             ],
             [
              0.4444444444444444,
              "#bd3786"
             ],
             [
              0.5555555555555556,
              "#d8576b"
             ],
             [
              0.6666666666666666,
              "#ed7953"
             ],
             [
              0.7777777777777778,
              "#fb9f3a"
             ],
             [
              0.8888888888888888,
              "#fdca26"
             ],
             [
              1,
              "#f0f921"
             ]
            ],
            "type": "heatmapgl"
           }
          ],
          "histogram": [
           {
            "marker": {
             "colorbar": {
              "outlinewidth": 0,
              "ticks": ""
             }
            },
            "type": "histogram"
           }
          ],
          "histogram2d": [
           {
            "colorbar": {
             "outlinewidth": 0,
             "ticks": ""
            },
            "colorscale": [
             [
              0,
              "#0d0887"
             ],
             [
              0.1111111111111111,
              "#46039f"
             ],
             [
              0.2222222222222222,
              "#7201a8"
             ],
             [
              0.3333333333333333,
              "#9c179e"
             ],
             [
              0.4444444444444444,
              "#bd3786"
             ],
             [
              0.5555555555555556,
              "#d8576b"
             ],
             [
              0.6666666666666666,
              "#ed7953"
             ],
             [
              0.7777777777777778,
              "#fb9f3a"
             ],
             [
              0.8888888888888888,
              "#fdca26"
             ],
             [
              1,
              "#f0f921"
             ]
            ],
            "type": "histogram2d"
           }
          ],
          "histogram2dcontour": [
           {
            "colorbar": {
             "outlinewidth": 0,
             "ticks": ""
            },
            "colorscale": [
             [
              0,
              "#0d0887"
             ],
             [
              0.1111111111111111,
              "#46039f"
             ],
             [
              0.2222222222222222,
              "#7201a8"
             ],
             [
              0.3333333333333333,
              "#9c179e"
             ],
             [
              0.4444444444444444,
              "#bd3786"
             ],
             [
              0.5555555555555556,
              "#d8576b"
             ],
             [
              0.6666666666666666,
              "#ed7953"
             ],
             [
              0.7777777777777778,
              "#fb9f3a"
             ],
             [
              0.8888888888888888,
              "#fdca26"
             ],
             [
              1,
              "#f0f921"
             ]
            ],
            "type": "histogram2dcontour"
           }
          ],
          "mesh3d": [
           {
            "colorbar": {
             "outlinewidth": 0,
             "ticks": ""
            },
            "type": "mesh3d"
           }
          ],
          "parcoords": [
           {
            "line": {
             "colorbar": {
              "outlinewidth": 0,
              "ticks": ""
             }
            },
            "type": "parcoords"
           }
          ],
          "pie": [
           {
            "automargin": true,
            "type": "pie"
           }
          ],
          "scatter": [
           {
            "marker": {
             "colorbar": {
              "outlinewidth": 0,
              "ticks": ""
             }
            },
            "type": "scatter"
           }
          ],
          "scatter3d": [
           {
            "line": {
             "colorbar": {
              "outlinewidth": 0,
              "ticks": ""
             }
            },
            "marker": {
             "colorbar": {
              "outlinewidth": 0,
              "ticks": ""
             }
            },
            "type": "scatter3d"
           }
          ],
          "scattercarpet": [
           {
            "marker": {
             "colorbar": {
              "outlinewidth": 0,
              "ticks": ""
             }
            },
            "type": "scattercarpet"
           }
          ],
          "scattergeo": [
           {
            "marker": {
             "colorbar": {
              "outlinewidth": 0,
              "ticks": ""
             }
            },
            "type": "scattergeo"
           }
          ],
          "scattergl": [
           {
            "marker": {
             "colorbar": {
              "outlinewidth": 0,
              "ticks": ""
             }
            },
            "type": "scattergl"
           }
          ],
          "scattermapbox": [
           {
            "marker": {
             "colorbar": {
              "outlinewidth": 0,
              "ticks": ""
             }
            },
            "type": "scattermapbox"
           }
          ],
          "scatterpolar": [
           {
            "marker": {
             "colorbar": {
              "outlinewidth": 0,
              "ticks": ""
             }
            },
            "type": "scatterpolar"
           }
          ],
          "scatterpolargl": [
           {
            "marker": {
             "colorbar": {
              "outlinewidth": 0,
              "ticks": ""
             }
            },
            "type": "scatterpolargl"
           }
          ],
          "scatterternary": [
           {
            "marker": {
             "colorbar": {
              "outlinewidth": 0,
              "ticks": ""
             }
            },
            "type": "scatterternary"
           }
          ],
          "surface": [
           {
            "colorbar": {
             "outlinewidth": 0,
             "ticks": ""
            },
            "colorscale": [
             [
              0,
              "#0d0887"
             ],
             [
              0.1111111111111111,
              "#46039f"
             ],
             [
              0.2222222222222222,
              "#7201a8"
             ],
             [
              0.3333333333333333,
              "#9c179e"
             ],
             [
              0.4444444444444444,
              "#bd3786"
             ],
             [
              0.5555555555555556,
              "#d8576b"
             ],
             [
              0.6666666666666666,
              "#ed7953"
             ],
             [
              0.7777777777777778,
              "#fb9f3a"
             ],
             [
              0.8888888888888888,
              "#fdca26"
             ],
             [
              1,
              "#f0f921"
             ]
            ],
            "type": "surface"
           }
          ],
          "table": [
           {
            "cells": {
             "fill": {
              "color": "#EBF0F8"
             },
             "line": {
              "color": "white"
             }
            },
            "header": {
             "fill": {
              "color": "#C8D4E3"
             },
             "line": {
              "color": "white"
             }
            },
            "type": "table"
           }
          ]
         },
         "layout": {
          "annotationdefaults": {
           "arrowcolor": "#2a3f5f",
           "arrowhead": 0,
           "arrowwidth": 1
          },
          "coloraxis": {
           "colorbar": {
            "outlinewidth": 0,
            "ticks": ""
           }
          },
          "colorscale": {
           "diverging": [
            [
             0,
             "#8e0152"
            ],
            [
             0.1,
             "#c51b7d"
            ],
            [
             0.2,
             "#de77ae"
            ],
            [
             0.3,
             "#f1b6da"
            ],
            [
             0.4,
             "#fde0ef"
            ],
            [
             0.5,
             "#f7f7f7"
            ],
            [
             0.6,
             "#e6f5d0"
            ],
            [
             0.7,
             "#b8e186"
            ],
            [
             0.8,
             "#7fbc41"
            ],
            [
             0.9,
             "#4d9221"
            ],
            [
             1,
             "#276419"
            ]
           ],
           "sequential": [
            [
             0,
             "#0d0887"
            ],
            [
             0.1111111111111111,
             "#46039f"
            ],
            [
             0.2222222222222222,
             "#7201a8"
            ],
            [
             0.3333333333333333,
             "#9c179e"
            ],
            [
             0.4444444444444444,
             "#bd3786"
            ],
            [
             0.5555555555555556,
             "#d8576b"
            ],
            [
             0.6666666666666666,
             "#ed7953"
            ],
            [
             0.7777777777777778,
             "#fb9f3a"
            ],
            [
             0.8888888888888888,
             "#fdca26"
            ],
            [
             1,
             "#f0f921"
            ]
           ],
           "sequentialminus": [
            [
             0,
             "#0d0887"
            ],
            [
             0.1111111111111111,
             "#46039f"
            ],
            [
             0.2222222222222222,
             "#7201a8"
            ],
            [
             0.3333333333333333,
             "#9c179e"
            ],
            [
             0.4444444444444444,
             "#bd3786"
            ],
            [
             0.5555555555555556,
             "#d8576b"
            ],
            [
             0.6666666666666666,
             "#ed7953"
            ],
            [
             0.7777777777777778,
             "#fb9f3a"
            ],
            [
             0.8888888888888888,
             "#fdca26"
            ],
            [
             1,
             "#f0f921"
            ]
           ]
          },
          "colorway": [
           "#636efa",
           "#EF553B",
           "#00cc96",
           "#ab63fa",
           "#FFA15A",
           "#19d3f3",
           "#FF6692",
           "#B6E880",
           "#FF97FF",
           "#FECB52"
          ],
          "font": {
           "color": "#2a3f5f"
          },
          "geo": {
           "bgcolor": "white",
           "lakecolor": "white",
           "landcolor": "#E5ECF6",
           "showlakes": true,
           "showland": true,
           "subunitcolor": "white"
          },
          "hoverlabel": {
           "align": "left"
          },
          "hovermode": "closest",
          "mapbox": {
           "style": "light"
          },
          "paper_bgcolor": "white",
          "plot_bgcolor": "#E5ECF6",
          "polar": {
           "angularaxis": {
            "gridcolor": "white",
            "linecolor": "white",
            "ticks": ""
           },
           "bgcolor": "#E5ECF6",
           "radialaxis": {
            "gridcolor": "white",
            "linecolor": "white",
            "ticks": ""
           }
          },
          "scene": {
           "xaxis": {
            "backgroundcolor": "#E5ECF6",
            "gridcolor": "white",
            "gridwidth": 2,
            "linecolor": "white",
            "showbackground": true,
            "ticks": "",
            "zerolinecolor": "white"
           },
           "yaxis": {
            "backgroundcolor": "#E5ECF6",
            "gridcolor": "white",
            "gridwidth": 2,
            "linecolor": "white",
            "showbackground": true,
            "ticks": "",
            "zerolinecolor": "white"
           },
           "zaxis": {
            "backgroundcolor": "#E5ECF6",
            "gridcolor": "white",
            "gridwidth": 2,
            "linecolor": "white",
            "showbackground": true,
            "ticks": "",
            "zerolinecolor": "white"
           }
          },
          "shapedefaults": {
           "line": {
            "color": "#2a3f5f"
           }
          },
          "ternary": {
           "aaxis": {
            "gridcolor": "white",
            "linecolor": "white",
            "ticks": ""
           },
           "baxis": {
            "gridcolor": "white",
            "linecolor": "white",
            "ticks": ""
           },
           "bgcolor": "#E5ECF6",
           "caxis": {
            "gridcolor": "white",
            "linecolor": "white",
            "ticks": ""
           }
          },
          "title": {
           "x": 0.05
          },
          "xaxis": {
           "automargin": true,
           "gridcolor": "white",
           "linecolor": "white",
           "ticks": "",
           "title": {
            "standoff": 15
           },
           "zerolinecolor": "white",
           "zerolinewidth": 2
          },
          "yaxis": {
           "automargin": true,
           "gridcolor": "white",
           "linecolor": "white",
           "ticks": "",
           "title": {
            "standoff": 15
           },
           "zerolinecolor": "white",
           "zerolinewidth": 2
          }
         }
        },
        "title": {
         "font": {
          "color": "#4D5663"
         }
        },
        "xaxis": {
         "gridcolor": "#E1E5ED",
         "showgrid": true,
         "tickfont": {
          "color": "#4D5663"
         },
         "title": {
          "font": {
           "color": "#4D5663"
          },
          "text": ""
         },
         "zerolinecolor": "#E1E5ED"
        },
        "yaxis": {
         "gridcolor": "#E1E5ED",
         "showgrid": true,
         "tickfont": {
          "color": "#4D5663"
         },
         "title": {
          "font": {
           "color": "#4D5663"
          },
          "text": ""
         },
         "zerolinecolor": "#E1E5ED"
        }
       }
      },
      "text/html": [
       "<div>                            <div id=\"811b7f8e-9dfa-45dd-87bd-f3613a67c0b4\" class=\"plotly-graph-div\" style=\"height:525px; width:100%;\"></div>            <script type=\"text/javascript\">                require([\"plotly\"], function(Plotly) {                    window.PLOTLYENV=window.PLOTLYENV || {};\n",
       "                    window.PLOTLYENV.BASE_URL='https://plot.ly';                                    if (document.getElementById(\"811b7f8e-9dfa-45dd-87bd-f3613a67c0b4\")) {                    Plotly.newPlot(                        \"811b7f8e-9dfa-45dd-87bd-f3613a67c0b4\",                        [{\"histfunc\": \"count\", \"histnorm\": \"\", \"marker\": {\"color\": \"rgba(255, 153, 51, 1.0)\", \"line\": {\"color\": \"#4D5663\", \"width\": 1.3}}, \"name\": \"A\", \"nbinsx\": 40, \"opacity\": 0.8, \"orientation\": \"v\", \"type\": \"histogram\", \"x\": [0.2833623675227722, -1.127271506470818, 0.5301991988413371, -0.9076037526358803, 0.3045832521261345, 1.5802942678868173, 1.9590307813960588, 0.4506493866329785, -0.16613983560977538, 0.46344861995238673, -0.3029747794229369, 1.0872271658066728, -1.6069227916919724, -0.06024722082744196, -1.000922647114807, -0.8428459274937556, 0.29478573314485923, -0.25339222119091565, 0.7187247748507258, 1.3353341377998886, -0.3132263384895011, -0.39118000703348754, -1.7291172658029401, -0.5693280082171505, -0.18087539462310423, 0.6036481562105745, 0.16176229925673608, 0.5404933164826498, -0.050736094303384584, -1.7608032679833248, 1.1206641776550978, 0.2838819671315071, -0.5719968871072524, -0.19937518829329207, -1.2092967930008358, -2.1550539493577956, -0.8506827098252433, 0.09807027557339956, -0.20852721520392994, 0.0912904455286591, 0.8507029232627918, 0.7463037519235868, 0.1599236640979604, -1.462351188047253, 0.457348739903739, 0.7556632254955828, 0.22062598272523387, -0.27599288567352176, -0.08651902719832559, -0.09390592780647052, 0.24038800777499403, 0.9386699960214014, -0.37020709228577187, -1.4755040676184674, 0.4819500836736902, 1.536663027126891, -1.8092408905159583, 0.033277606986312054, 0.09798696404977163, -0.32247346929781884, -1.555270331626882, 0.9876894317407412, 0.00028416691420902416, -0.39456722234572883, -0.08365889875132763, 0.8416210966617714, 0.7546325779328649, 0.6720135507751842, -0.1608911463122692, 0.7573962711229544, -1.174575815424979, -0.6613932481307679, 0.005947420146648111, -0.395531939861682, -1.4391168822911, -1.3339009646738926, -0.3886619660027748, 1.6126444498295815, -1.6794064847194896, -0.30320536220958877, 0.9461461594017028, -0.06348775003781486, -2.124844609404621, 0.08835640937139362, 2.6901798168203337, 0.6518982468613443, 0.16121683466285788, 0.5534423738048103, -0.0540939855612481, -0.33942531987529156, 0.04449274194965574, -1.6732075886435611, -1.3900365917463668, 0.49685876161216186, 0.08337278758692533, 1.4442163263090961, -1.0831084992907014, -1.0583044225528533, 1.1535020255004065, 0.5301801527396007]}],                        {\"barmode\": \"overlay\", \"legend\": {\"bgcolor\": \"#F5F6F9\", \"font\": {\"color\": \"#4D5663\"}}, \"paper_bgcolor\": \"#F5F6F9\", \"plot_bgcolor\": \"#F5F6F9\", \"template\": {\"data\": {\"bar\": [{\"error_x\": {\"color\": \"#2a3f5f\"}, \"error_y\": {\"color\": \"#2a3f5f\"}, \"marker\": {\"line\": {\"color\": \"#E5ECF6\", \"width\": 0.5}}, \"type\": \"bar\"}], \"barpolar\": [{\"marker\": {\"line\": {\"color\": \"#E5ECF6\", \"width\": 0.5}}, \"type\": \"barpolar\"}], \"carpet\": [{\"aaxis\": {\"endlinecolor\": \"#2a3f5f\", \"gridcolor\": \"white\", \"linecolor\": \"white\", \"minorgridcolor\": \"white\", \"startlinecolor\": \"#2a3f5f\"}, \"baxis\": {\"endlinecolor\": \"#2a3f5f\", \"gridcolor\": \"white\", \"linecolor\": \"white\", \"minorgridcolor\": \"white\", \"startlinecolor\": \"#2a3f5f\"}, \"type\": \"carpet\"}], \"choropleth\": [{\"colorbar\": {\"outlinewidth\": 0, \"ticks\": \"\"}, \"type\": \"choropleth\"}], \"contour\": [{\"colorbar\": {\"outlinewidth\": 0, \"ticks\": \"\"}, \"colorscale\": [[0.0, \"#0d0887\"], [0.1111111111111111, \"#46039f\"], [0.2222222222222222, \"#7201a8\"], [0.3333333333333333, \"#9c179e\"], [0.4444444444444444, \"#bd3786\"], [0.5555555555555556, \"#d8576b\"], [0.6666666666666666, \"#ed7953\"], [0.7777777777777778, \"#fb9f3a\"], [0.8888888888888888, \"#fdca26\"], [1.0, \"#f0f921\"]], \"type\": \"contour\"}], \"contourcarpet\": [{\"colorbar\": {\"outlinewidth\": 0, \"ticks\": \"\"}, \"type\": \"contourcarpet\"}], \"heatmap\": [{\"colorbar\": {\"outlinewidth\": 0, \"ticks\": \"\"}, \"colorscale\": [[0.0, \"#0d0887\"], [0.1111111111111111, \"#46039f\"], [0.2222222222222222, \"#7201a8\"], [0.3333333333333333, \"#9c179e\"], [0.4444444444444444, \"#bd3786\"], [0.5555555555555556, \"#d8576b\"], [0.6666666666666666, \"#ed7953\"], [0.7777777777777778, \"#fb9f3a\"], [0.8888888888888888, \"#fdca26\"], [1.0, \"#f0f921\"]], \"type\": \"heatmap\"}], \"heatmapgl\": [{\"colorbar\": {\"outlinewidth\": 0, \"ticks\": \"\"}, \"colorscale\": [[0.0, \"#0d0887\"], [0.1111111111111111, \"#46039f\"], [0.2222222222222222, \"#7201a8\"], [0.3333333333333333, \"#9c179e\"], [0.4444444444444444, \"#bd3786\"], [0.5555555555555556, \"#d8576b\"], [0.6666666666666666, \"#ed7953\"], [0.7777777777777778, \"#fb9f3a\"], [0.8888888888888888, \"#fdca26\"], [1.0, \"#f0f921\"]], \"type\": \"heatmapgl\"}], \"histogram\": [{\"marker\": {\"colorbar\": {\"outlinewidth\": 0, \"ticks\": \"\"}}, \"type\": \"histogram\"}], \"histogram2d\": [{\"colorbar\": {\"outlinewidth\": 0, \"ticks\": \"\"}, \"colorscale\": [[0.0, \"#0d0887\"], [0.1111111111111111, \"#46039f\"], [0.2222222222222222, \"#7201a8\"], [0.3333333333333333, \"#9c179e\"], [0.4444444444444444, \"#bd3786\"], [0.5555555555555556, \"#d8576b\"], [0.6666666666666666, \"#ed7953\"], [0.7777777777777778, \"#fb9f3a\"], [0.8888888888888888, \"#fdca26\"], [1.0, \"#f0f921\"]], \"type\": \"histogram2d\"}], \"histogram2dcontour\": [{\"colorbar\": {\"outlinewidth\": 0, \"ticks\": \"\"}, \"colorscale\": [[0.0, \"#0d0887\"], [0.1111111111111111, \"#46039f\"], [0.2222222222222222, \"#7201a8\"], [0.3333333333333333, \"#9c179e\"], [0.4444444444444444, \"#bd3786\"], [0.5555555555555556, \"#d8576b\"], [0.6666666666666666, \"#ed7953\"], [0.7777777777777778, \"#fb9f3a\"], [0.8888888888888888, \"#fdca26\"], [1.0, \"#f0f921\"]], \"type\": \"histogram2dcontour\"}], \"mesh3d\": [{\"colorbar\": {\"outlinewidth\": 0, \"ticks\": \"\"}, \"type\": \"mesh3d\"}], \"parcoords\": [{\"line\": {\"colorbar\": {\"outlinewidth\": 0, \"ticks\": \"\"}}, \"type\": \"parcoords\"}], \"pie\": [{\"automargin\": true, \"type\": \"pie\"}], \"scatter\": [{\"marker\": {\"colorbar\": {\"outlinewidth\": 0, \"ticks\": \"\"}}, \"type\": \"scatter\"}], \"scatter3d\": [{\"line\": {\"colorbar\": {\"outlinewidth\": 0, \"ticks\": \"\"}}, \"marker\": {\"colorbar\": {\"outlinewidth\": 0, \"ticks\": \"\"}}, \"type\": \"scatter3d\"}], \"scattercarpet\": [{\"marker\": {\"colorbar\": {\"outlinewidth\": 0, \"ticks\": \"\"}}, \"type\": \"scattercarpet\"}], \"scattergeo\": [{\"marker\": {\"colorbar\": {\"outlinewidth\": 0, \"ticks\": \"\"}}, \"type\": \"scattergeo\"}], \"scattergl\": [{\"marker\": {\"colorbar\": {\"outlinewidth\": 0, \"ticks\": \"\"}}, \"type\": \"scattergl\"}], \"scattermapbox\": [{\"marker\": {\"colorbar\": {\"outlinewidth\": 0, \"ticks\": \"\"}}, \"type\": \"scattermapbox\"}], \"scatterpolar\": [{\"marker\": {\"colorbar\": {\"outlinewidth\": 0, \"ticks\": \"\"}}, \"type\": \"scatterpolar\"}], \"scatterpolargl\": [{\"marker\": {\"colorbar\": {\"outlinewidth\": 0, \"ticks\": \"\"}}, \"type\": \"scatterpolargl\"}], \"scatterternary\": [{\"marker\": {\"colorbar\": {\"outlinewidth\": 0, \"ticks\": \"\"}}, \"type\": \"scatterternary\"}], \"surface\": [{\"colorbar\": {\"outlinewidth\": 0, \"ticks\": \"\"}, \"colorscale\": [[0.0, \"#0d0887\"], [0.1111111111111111, \"#46039f\"], [0.2222222222222222, \"#7201a8\"], [0.3333333333333333, \"#9c179e\"], [0.4444444444444444, \"#bd3786\"], [0.5555555555555556, \"#d8576b\"], [0.6666666666666666, \"#ed7953\"], [0.7777777777777778, \"#fb9f3a\"], [0.8888888888888888, \"#fdca26\"], [1.0, \"#f0f921\"]], \"type\": \"surface\"}], \"table\": [{\"cells\": {\"fill\": {\"color\": \"#EBF0F8\"}, \"line\": {\"color\": \"white\"}}, \"header\": {\"fill\": {\"color\": \"#C8D4E3\"}, \"line\": {\"color\": \"white\"}}, \"type\": \"table\"}]}, \"layout\": {\"annotationdefaults\": {\"arrowcolor\": \"#2a3f5f\", \"arrowhead\": 0, \"arrowwidth\": 1}, \"coloraxis\": {\"colorbar\": {\"outlinewidth\": 0, \"ticks\": \"\"}}, \"colorscale\": {\"diverging\": [[0, \"#8e0152\"], [0.1, \"#c51b7d\"], [0.2, \"#de77ae\"], [0.3, \"#f1b6da\"], [0.4, \"#fde0ef\"], [0.5, \"#f7f7f7\"], [0.6, \"#e6f5d0\"], [0.7, \"#b8e186\"], [0.8, \"#7fbc41\"], [0.9, \"#4d9221\"], [1, \"#276419\"]], \"sequential\": [[0.0, \"#0d0887\"], [0.1111111111111111, \"#46039f\"], [0.2222222222222222, \"#7201a8\"], [0.3333333333333333, \"#9c179e\"], [0.4444444444444444, \"#bd3786\"], [0.5555555555555556, \"#d8576b\"], [0.6666666666666666, \"#ed7953\"], [0.7777777777777778, \"#fb9f3a\"], [0.8888888888888888, \"#fdca26\"], [1.0, \"#f0f921\"]], \"sequentialminus\": [[0.0, \"#0d0887\"], [0.1111111111111111, \"#46039f\"], [0.2222222222222222, \"#7201a8\"], [0.3333333333333333, \"#9c179e\"], [0.4444444444444444, \"#bd3786\"], [0.5555555555555556, \"#d8576b\"], [0.6666666666666666, \"#ed7953\"], [0.7777777777777778, \"#fb9f3a\"], [0.8888888888888888, \"#fdca26\"], [1.0, \"#f0f921\"]]}, \"colorway\": [\"#636efa\", \"#EF553B\", \"#00cc96\", \"#ab63fa\", \"#FFA15A\", \"#19d3f3\", \"#FF6692\", \"#B6E880\", \"#FF97FF\", \"#FECB52\"], \"font\": {\"color\": \"#2a3f5f\"}, \"geo\": {\"bgcolor\": \"white\", \"lakecolor\": \"white\", \"landcolor\": \"#E5ECF6\", \"showlakes\": true, \"showland\": true, \"subunitcolor\": \"white\"}, \"hoverlabel\": {\"align\": \"left\"}, \"hovermode\": \"closest\", \"mapbox\": {\"style\": \"light\"}, \"paper_bgcolor\": \"white\", \"plot_bgcolor\": \"#E5ECF6\", \"polar\": {\"angularaxis\": {\"gridcolor\": \"white\", \"linecolor\": \"white\", \"ticks\": \"\"}, \"bgcolor\": \"#E5ECF6\", \"radialaxis\": {\"gridcolor\": \"white\", \"linecolor\": \"white\", \"ticks\": \"\"}}, \"scene\": {\"xaxis\": {\"backgroundcolor\": \"#E5ECF6\", \"gridcolor\": \"white\", \"gridwidth\": 2, \"linecolor\": \"white\", \"showbackground\": true, \"ticks\": \"\", \"zerolinecolor\": \"white\"}, \"yaxis\": {\"backgroundcolor\": \"#E5ECF6\", \"gridcolor\": \"white\", \"gridwidth\": 2, \"linecolor\": \"white\", \"showbackground\": true, \"ticks\": \"\", \"zerolinecolor\": \"white\"}, \"zaxis\": {\"backgroundcolor\": \"#E5ECF6\", \"gridcolor\": \"white\", \"gridwidth\": 2, \"linecolor\": \"white\", \"showbackground\": true, \"ticks\": \"\", \"zerolinecolor\": \"white\"}}, \"shapedefaults\": {\"line\": {\"color\": \"#2a3f5f\"}}, \"ternary\": {\"aaxis\": {\"gridcolor\": \"white\", \"linecolor\": \"white\", \"ticks\": \"\"}, \"baxis\": {\"gridcolor\": \"white\", \"linecolor\": \"white\", \"ticks\": \"\"}, \"bgcolor\": \"#E5ECF6\", \"caxis\": {\"gridcolor\": \"white\", \"linecolor\": \"white\", \"ticks\": \"\"}}, \"title\": {\"x\": 0.05}, \"xaxis\": {\"automargin\": true, \"gridcolor\": \"white\", \"linecolor\": \"white\", \"ticks\": \"\", \"title\": {\"standoff\": 15}, \"zerolinecolor\": \"white\", \"zerolinewidth\": 2}, \"yaxis\": {\"automargin\": true, \"gridcolor\": \"white\", \"linecolor\": \"white\", \"ticks\": \"\", \"title\": {\"standoff\": 15}, \"zerolinecolor\": \"white\", \"zerolinewidth\": 2}}}, \"title\": {\"font\": {\"color\": \"#4D5663\"}}, \"xaxis\": {\"gridcolor\": \"#E1E5ED\", \"showgrid\": true, \"tickfont\": {\"color\": \"#4D5663\"}, \"title\": {\"font\": {\"color\": \"#4D5663\"}, \"text\": \"\"}, \"zerolinecolor\": \"#E1E5ED\"}, \"yaxis\": {\"gridcolor\": \"#E1E5ED\", \"showgrid\": true, \"tickfont\": {\"color\": \"#4D5663\"}, \"title\": {\"font\": {\"color\": \"#4D5663\"}, \"text\": \"\"}, \"zerolinecolor\": \"#E1E5ED\"}},                        {\"showLink\": true, \"linkText\": \"Export to plot.ly\", \"plotlyServerURL\": \"https://plot.ly\", \"responsive\": true}                    ).then(function(){\n",
       "                            \n",
       "var gd = document.getElementById('811b7f8e-9dfa-45dd-87bd-f3613a67c0b4');\n",
       "var x = new MutationObserver(function (mutations, observer) {{\n",
       "        var display = window.getComputedStyle(gd).display;\n",
       "        if (!display || display === 'none') {{\n",
       "            console.log([gd, 'removed!']);\n",
       "            Plotly.purge(gd);\n",
       "            observer.disconnect();\n",
       "        }}\n",
       "}});\n",
       "\n",
       "// Listen for the removal of the full notebook cells\n",
       "var notebookContainer = gd.closest('#notebook-container');\n",
       "if (notebookContainer) {{\n",
       "    x.observe(notebookContainer, {childList: true});\n",
       "}}\n",
       "\n",
       "// Listen for the clearing of the current output cell\n",
       "var outputEl = gd.closest('.output');\n",
       "if (outputEl) {{\n",
       "    x.observe(outputEl, {childList: true});\n",
       "}}\n",
       "\n",
       "                        })                };                });            </script>        </div>"
      ]
     },
     "metadata": {},
     "output_type": "display_data"
    }
   ],
   "source": [
    "df['A'].iplot(kind='hist', bins=40)"
   ]
  },
  {
   "cell_type": "markdown",
   "metadata": {},
   "source": [
    "## Spread"
   ]
  },
  {
   "cell_type": "code",
   "execution_count": 37,
   "metadata": {},
   "outputs": [
    {
     "data": {
      "application/vnd.plotly.v1+json": {
       "config": {
        "linkText": "Export to plot.ly",
        "plotlyServerURL": "https://plot.ly",
        "showLink": true
       },
       "data": [
        {
         "line": {
          "color": "rgba(255, 153, 51, 1.0)",
          "dash": "solid",
          "shape": "linear",
          "width": 1.3
         },
         "mode": "lines",
         "name": "A",
         "text": "",
         "type": "scatter",
         "x": [
          0,
          1,
          2,
          3,
          4,
          5,
          6,
          7,
          8,
          9,
          10,
          11,
          12,
          13,
          14,
          15,
          16,
          17,
          18,
          19,
          20,
          21,
          22,
          23,
          24,
          25,
          26,
          27,
          28,
          29,
          30,
          31,
          32,
          33,
          34,
          35,
          36,
          37,
          38,
          39,
          40,
          41,
          42,
          43,
          44,
          45,
          46,
          47,
          48,
          49,
          50,
          51,
          52,
          53,
          54,
          55,
          56,
          57,
          58,
          59,
          60,
          61,
          62,
          63,
          64,
          65,
          66,
          67,
          68,
          69,
          70,
          71,
          72,
          73,
          74,
          75,
          76,
          77,
          78,
          79,
          80,
          81,
          82,
          83,
          84,
          85,
          86,
          87,
          88,
          89,
          90,
          91,
          92,
          93,
          94,
          95,
          96,
          97,
          98,
          99
         ],
         "y": [
          0.2833623675227722,
          -1.127271506470818,
          0.5301991988413371,
          -0.9076037526358803,
          0.3045832521261345,
          1.5802942678868173,
          1.9590307813960588,
          0.4506493866329785,
          -0.16613983560977538,
          0.46344861995238673,
          -0.3029747794229369,
          1.0872271658066728,
          -1.6069227916919724,
          -0.06024722082744196,
          -1.000922647114807,
          -0.8428459274937556,
          0.29478573314485923,
          -0.25339222119091565,
          0.7187247748507258,
          1.3353341377998886,
          -0.3132263384895011,
          -0.39118000703348754,
          -1.7291172658029401,
          -0.5693280082171505,
          -0.18087539462310423,
          0.6036481562105745,
          0.16176229925673608,
          0.5404933164826498,
          -0.050736094303384584,
          -1.7608032679833248,
          1.1206641776550978,
          0.2838819671315071,
          -0.5719968871072524,
          -0.19937518829329207,
          -1.2092967930008358,
          -2.1550539493577956,
          -0.8506827098252433,
          0.09807027557339956,
          -0.20852721520392994,
          0.0912904455286591,
          0.8507029232627918,
          0.7463037519235868,
          0.1599236640979604,
          -1.462351188047253,
          0.457348739903739,
          0.7556632254955828,
          0.22062598272523387,
          -0.27599288567352176,
          -0.08651902719832559,
          -0.09390592780647052,
          0.24038800777499403,
          0.9386699960214014,
          -0.37020709228577187,
          -1.4755040676184674,
          0.4819500836736902,
          1.536663027126891,
          -1.8092408905159583,
          0.033277606986312054,
          0.09798696404977163,
          -0.32247346929781884,
          -1.555270331626882,
          0.9876894317407412,
          0.00028416691420902416,
          -0.39456722234572883,
          -0.08365889875132763,
          0.8416210966617714,
          0.7546325779328649,
          0.6720135507751842,
          -0.1608911463122692,
          0.7573962711229544,
          -1.174575815424979,
          -0.6613932481307679,
          0.005947420146648111,
          -0.395531939861682,
          -1.4391168822911,
          -1.3339009646738926,
          -0.3886619660027748,
          1.6126444498295815,
          -1.6794064847194896,
          -0.30320536220958877,
          0.9461461594017028,
          -0.06348775003781486,
          -2.124844609404621,
          0.08835640937139362,
          2.6901798168203337,
          0.6518982468613443,
          0.16121683466285788,
          0.5534423738048103,
          -0.0540939855612481,
          -0.33942531987529156,
          0.04449274194965574,
          -1.6732075886435611,
          -1.3900365917463668,
          0.49685876161216186,
          0.08337278758692533,
          1.4442163263090961,
          -1.0831084992907014,
          -1.0583044225528533,
          1.1535020255004065,
          0.5301801527396007
         ]
        },
        {
         "line": {
          "color": "rgba(55, 128, 191, 1.0)",
          "dash": "solid",
          "shape": "linear",
          "width": 1.3
         },
         "mode": "lines",
         "name": "B",
         "text": "",
         "type": "scatter",
         "x": [
          0,
          1,
          2,
          3,
          4,
          5,
          6,
          7,
          8,
          9,
          10,
          11,
          12,
          13,
          14,
          15,
          16,
          17,
          18,
          19,
          20,
          21,
          22,
          23,
          24,
          25,
          26,
          27,
          28,
          29,
          30,
          31,
          32,
          33,
          34,
          35,
          36,
          37,
          38,
          39,
          40,
          41,
          42,
          43,
          44,
          45,
          46,
          47,
          48,
          49,
          50,
          51,
          52,
          53,
          54,
          55,
          56,
          57,
          58,
          59,
          60,
          61,
          62,
          63,
          64,
          65,
          66,
          67,
          68,
          69,
          70,
          71,
          72,
          73,
          74,
          75,
          76,
          77,
          78,
          79,
          80,
          81,
          82,
          83,
          84,
          85,
          86,
          87,
          88,
          89,
          90,
          91,
          92,
          93,
          94,
          95,
          96,
          97,
          98,
          99
         ],
         "y": [
          -0.12933625164448187,
          0.13103167279239178,
          -0.2783800153100398,
          -0.4479072949745716,
          0.6150291508003769,
          0.04737160814250403,
          0.724359524718601,
          0.9068787283284158,
          -0.2834212092124333,
          1.3846874642484022,
          -0.7900873096135989,
          1.9990860724476802,
          0.06513492061042847,
          0.3761237870614334,
          1.306002077023205,
          0.21675678154141828,
          -0.17672460240902965,
          -1.6173317754480456,
          -0.3314978333603156,
          1.3484994220885849,
          -1.2528411501569485,
          -0.7478995842212484,
          0.8861269234986784,
          -0.6134231551246254,
          -0.5167498588077946,
          0.9238994036778923,
          0.30770452064141585,
          1.2560612137362714,
          0.4293958271803,
          -0.9714001809114541,
          0.0529499288742505,
          -1.3136810389141642,
          -1.2976580632562906,
          1.842221725391775,
          -1.0566420608604992,
          0.12321025879006645,
          -0.13612878866987144,
          0.22462263883719774,
          -0.003217995196276888,
          2.6856075213904202,
          2.4830248621546605,
          0.8821380943095746,
          0.9996863770264012,
          -0.003627477831770408,
          -1.2723142719885756,
          -0.30948703037988406,
          0.8843284070240234,
          -1.619507799527179,
          -0.4335750367397115,
          1.0655440640665477,
          0.43200915741373525,
          1.9197500330210822,
          0.15084415313177363,
          -2.71184007998908,
          1.7048789872131893,
          0.8192423426391454,
          -0.9901671207511124,
          -1.6328634527925319,
          0.21341038490737793,
          -1.658496320844627,
          -1.3250190128424661,
          -0.535465094697021,
          0.3473214304769248,
          -0.25946471137270866,
          -0.888522689105521,
          -0.9531852049657755,
          0.28526318110518045,
          -1.534240751475243,
          0.8163815140281812,
          -1.8164535882003214,
          -1.213659476037669,
          -0.20474995625923617,
          0.6709269694895401,
          0.7928575255755295,
          2.1310876397916347,
          2.073222829167607,
          1.0144150232185323,
          -0.07502724401221807,
          -0.04616501318666702,
          1.9666741653159439,
          -0.1018163441743207,
          -0.2982981792733883,
          -0.12177935394126996,
          -0.34511438462030997,
          -0.24258558078122744,
          0.08381699731823941,
          -0.18605525538332446,
          -0.07394916136370062,
          0.41322139524717544,
          1.098441891414735,
          0.09232940542087814,
          -0.043577383753931234,
          0.6529138894554455,
          0.24426145948580733,
          1.4830111845032046,
          -0.7322574441943723,
          -0.8515162512068878,
          -0.6158076287305354,
          -0.020335173306272214,
          -0.6668910616530364
         ]
        },
        {
         "connectgaps": false,
         "fill": "tozeroy",
         "line": {
          "color": "green",
          "dash": "solid",
          "shape": "linear",
          "width": 0.5
         },
         "mode": "lines",
         "name": "Spread",
         "showlegend": false,
         "type": "scatter",
         "x": [
          0,
          1,
          2,
          3,
          4,
          5,
          6,
          7,
          8,
          9,
          10,
          11,
          12,
          13,
          14,
          15,
          16,
          17,
          18,
          19,
          20,
          21,
          22,
          23,
          24,
          25,
          26,
          27,
          28,
          29,
          30,
          31,
          32,
          33,
          34,
          35,
          36,
          37,
          38,
          39,
          40,
          41,
          42,
          43,
          44,
          45,
          46,
          47,
          48,
          49,
          50,
          51,
          52,
          53,
          54,
          55,
          56,
          57,
          58,
          59,
          60,
          61,
          62,
          63,
          64,
          65,
          66,
          67,
          68,
          69,
          70,
          71,
          72,
          73,
          74,
          75,
          76,
          77,
          78,
          79,
          80,
          81,
          82,
          83,
          84,
          85,
          86,
          87,
          88,
          89,
          90,
          91,
          92,
          93,
          94,
          95,
          96,
          97,
          98,
          99
         ],
         "xaxis": "x2",
         "y": [
          0.4126986191672541,
          "",
          0.808579214151377,
          "",
          "",
          1.5329226597443133,
          1.2346712566774578,
          "",
          0.11728137360265792,
          "",
          0.487112530190662,
          "",
          "",
          "",
          "",
          "",
          0.4715103355538889,
          1.36393955425713,
          1.0502226082110413,
          "",
          0.9396148116674474,
          0.3567195771877608,
          "",
          0.04409514690747496,
          0.33587446418469036,
          "",
          "",
          "",
          "",
          "",
          1.0677142487808473,
          1.5975630060456714,
          0.7256611761490382,
          "",
          "",
          "",
          "",
          "",
          "",
          "",
          "",
          "",
          "",
          "",
          1.7296630118923146,
          1.0651502558754669,
          "",
          1.343514913853657,
          0.3470560095413859,
          "",
          "",
          "",
          "",
          1.2363360123706124,
          "",
          0.7174206844877457,
          "",
          1.666141059778844,
          "",
          1.3360228515468082,
          "",
          1.5231545264377622,
          "",
          "",
          0.8048637903541934,
          1.7948063016275468,
          0.4693693968276844,
          2.2062543022504273,
          "",
          2.5738498593232757,
          0.039083660612690085,
          "",
          "",
          "",
          "",
          "",
          "",
          1.6876716938417997,
          "",
          "",
          1.0479625035760234,
          0.23481042923557344,
          "",
          0.4334707939917036,
          2.9327653976015613,
          0.5680812495431049,
          0.3472720900461823,
          0.627391535168511,
          "",
          "",
          "",
          "",
          "",
          0.25259730212635456,
          "",
          2.1764737705034687,
          "",
          "",
          1.1738371988066787,
          1.1970712143926372
         ],
         "yaxis": "y2"
        },
        {
         "connectgaps": false,
         "fill": "tozeroy",
         "line": {
          "color": "red",
          "dash": "solid",
          "shape": "linear",
          "width": 0.5
         },
         "mode": "lines",
         "name": "Spread",
         "showlegend": false,
         "type": "scatter",
         "x": [
          0,
          1,
          2,
          3,
          4,
          5,
          6,
          7,
          8,
          9,
          10,
          11,
          12,
          13,
          14,
          15,
          16,
          17,
          18,
          19,
          20,
          21,
          22,
          23,
          24,
          25,
          26,
          27,
          28,
          29,
          30,
          31,
          32,
          33,
          34,
          35,
          36,
          37,
          38,
          39,
          40,
          41,
          42,
          43,
          44,
          45,
          46,
          47,
          48,
          49,
          50,
          51,
          52,
          53,
          54,
          55,
          56,
          57,
          58,
          59,
          60,
          61,
          62,
          63,
          64,
          65,
          66,
          67,
          68,
          69,
          70,
          71,
          72,
          73,
          74,
          75,
          76,
          77,
          78,
          79,
          80,
          81,
          82,
          83,
          84,
          85,
          86,
          87,
          88,
          89,
          90,
          91,
          92,
          93,
          94,
          95,
          96,
          97,
          98,
          99
         ],
         "xaxis": "x2",
         "y": [
          "",
          -1.2583031792632098,
          "",
          -0.45969645766130873,
          -0.3104458986742424,
          "",
          "",
          -0.4562293416954373,
          "",
          -0.9212388442960154,
          "",
          -0.9118589066410074,
          -1.6720577123024007,
          -0.43637100788887534,
          -2.306924724138012,
          -1.0596027090351738,
          "",
          "",
          "",
          -0.013165284288696233,
          "",
          "",
          -2.6152441893016185,
          "",
          "",
          -0.3202512474673177,
          -0.14594222138467977,
          -0.7155678972536217,
          -0.4801319214836846,
          -0.7894030870718707,
          "",
          "",
          "",
          -2.041596913685067,
          -0.15265473214033665,
          -2.278264208147862,
          -0.7145539211553719,
          -0.12655236326379818,
          -0.20530922000765306,
          -2.594317075861761,
          -1.6323219388918686,
          -0.1358343423859878,
          -0.8397627129284407,
          -1.4587237102154826,
          "",
          "",
          -0.6637024242987895,
          "",
          "",
          -1.1594499918730181,
          -0.19162114963874122,
          -0.9810800369996807,
          -0.5210512454175455,
          "",
          -1.2229289035394992,
          "",
          -0.8190737697648459,
          "",
          -0.1154234208576063,
          "",
          -0.23025131878441596,
          "",
          -0.3470372635627158,
          -0.13510251097302017,
          "",
          "",
          "",
          "",
          -0.9772726603404503,
          "",
          "",
          -0.45664329187153174,
          -0.664979549342892,
          -1.1883894654372114,
          -3.5702045220827348,
          -3.4071237938414995,
          -1.403076989221307,
          "",
          -1.6332414715328225,
          -2.2698795275255326,
          "",
          "",
          -2.003065255463351,
          "",
          "",
          "",
          "",
          "",
          -0.46731538080842355,
          -1.4378672112900266,
          -0.0478366634712224,
          -1.6296302048896298,
          -2.0429504812018124,
          "",
          -1.3996383969162793,
          "",
          -0.23159224808381362,
          -0.4424967938223179,
          "",
          ""
         ],
         "yaxis": "y2"
        }
       ],
       "layout": {
        "hovermode": "x",
        "legend": {
         "bgcolor": "#F5F6F9",
         "font": {
          "color": "#4D5663"
         }
        },
        "paper_bgcolor": "#F5F6F9",
        "plot_bgcolor": "#F5F6F9",
        "template": {
         "data": {
          "bar": [
           {
            "error_x": {
             "color": "#2a3f5f"
            },
            "error_y": {
             "color": "#2a3f5f"
            },
            "marker": {
             "line": {
              "color": "#E5ECF6",
              "width": 0.5
             }
            },
            "type": "bar"
           }
          ],
          "barpolar": [
           {
            "marker": {
             "line": {
              "color": "#E5ECF6",
              "width": 0.5
             }
            },
            "type": "barpolar"
           }
          ],
          "carpet": [
           {
            "aaxis": {
             "endlinecolor": "#2a3f5f",
             "gridcolor": "white",
             "linecolor": "white",
             "minorgridcolor": "white",
             "startlinecolor": "#2a3f5f"
            },
            "baxis": {
             "endlinecolor": "#2a3f5f",
             "gridcolor": "white",
             "linecolor": "white",
             "minorgridcolor": "white",
             "startlinecolor": "#2a3f5f"
            },
            "type": "carpet"
           }
          ],
          "choropleth": [
           {
            "colorbar": {
             "outlinewidth": 0,
             "ticks": ""
            },
            "type": "choropleth"
           }
          ],
          "contour": [
           {
            "colorbar": {
             "outlinewidth": 0,
             "ticks": ""
            },
            "colorscale": [
             [
              0,
              "#0d0887"
             ],
             [
              0.1111111111111111,
              "#46039f"
             ],
             [
              0.2222222222222222,
              "#7201a8"
             ],
             [
              0.3333333333333333,
              "#9c179e"
             ],
             [
              0.4444444444444444,
              "#bd3786"
             ],
             [
              0.5555555555555556,
              "#d8576b"
             ],
             [
              0.6666666666666666,
              "#ed7953"
             ],
             [
              0.7777777777777778,
              "#fb9f3a"
             ],
             [
              0.8888888888888888,
              "#fdca26"
             ],
             [
              1,
              "#f0f921"
             ]
            ],
            "type": "contour"
           }
          ],
          "contourcarpet": [
           {
            "colorbar": {
             "outlinewidth": 0,
             "ticks": ""
            },
            "type": "contourcarpet"
           }
          ],
          "heatmap": [
           {
            "colorbar": {
             "outlinewidth": 0,
             "ticks": ""
            },
            "colorscale": [
             [
              0,
              "#0d0887"
             ],
             [
              0.1111111111111111,
              "#46039f"
             ],
             [
              0.2222222222222222,
              "#7201a8"
             ],
             [
              0.3333333333333333,
              "#9c179e"
             ],
             [
              0.4444444444444444,
              "#bd3786"
             ],
             [
              0.5555555555555556,
              "#d8576b"
             ],
             [
              0.6666666666666666,
              "#ed7953"
             ],
             [
              0.7777777777777778,
              "#fb9f3a"
             ],
             [
              0.8888888888888888,
              "#fdca26"
             ],
             [
              1,
              "#f0f921"
             ]
            ],
            "type": "heatmap"
           }
          ],
          "heatmapgl": [
           {
            "colorbar": {
             "outlinewidth": 0,
             "ticks": ""
            },
            "colorscale": [
             [
              0,
              "#0d0887"
             ],
             [
              0.1111111111111111,
              "#46039f"
             ],
             [
              0.2222222222222222,
              "#7201a8"
             ],
             [
              0.3333333333333333,
              "#9c179e"
             ],
             [
              0.4444444444444444,
              "#bd3786"
             ],
             [
              0.5555555555555556,
              "#d8576b"
             ],
             [
              0.6666666666666666,
              "#ed7953"
             ],
             [
              0.7777777777777778,
              "#fb9f3a"
             ],
             [
              0.8888888888888888,
              "#fdca26"
             ],
             [
              1,
              "#f0f921"
             ]
            ],
            "type": "heatmapgl"
           }
          ],
          "histogram": [
           {
            "marker": {
             "colorbar": {
              "outlinewidth": 0,
              "ticks": ""
             }
            },
            "type": "histogram"
           }
          ],
          "histogram2d": [
           {
            "colorbar": {
             "outlinewidth": 0,
             "ticks": ""
            },
            "colorscale": [
             [
              0,
              "#0d0887"
             ],
             [
              0.1111111111111111,
              "#46039f"
             ],
             [
              0.2222222222222222,
              "#7201a8"
             ],
             [
              0.3333333333333333,
              "#9c179e"
             ],
             [
              0.4444444444444444,
              "#bd3786"
             ],
             [
              0.5555555555555556,
              "#d8576b"
             ],
             [
              0.6666666666666666,
              "#ed7953"
             ],
             [
              0.7777777777777778,
              "#fb9f3a"
             ],
             [
              0.8888888888888888,
              "#fdca26"
             ],
             [
              1,
              "#f0f921"
             ]
            ],
            "type": "histogram2d"
           }
          ],
          "histogram2dcontour": [
           {
            "colorbar": {
             "outlinewidth": 0,
             "ticks": ""
            },
            "colorscale": [
             [
              0,
              "#0d0887"
             ],
             [
              0.1111111111111111,
              "#46039f"
             ],
             [
              0.2222222222222222,
              "#7201a8"
             ],
             [
              0.3333333333333333,
              "#9c179e"
             ],
             [
              0.4444444444444444,
              "#bd3786"
             ],
             [
              0.5555555555555556,
              "#d8576b"
             ],
             [
              0.6666666666666666,
              "#ed7953"
             ],
             [
              0.7777777777777778,
              "#fb9f3a"
             ],
             [
              0.8888888888888888,
              "#fdca26"
             ],
             [
              1,
              "#f0f921"
             ]
            ],
            "type": "histogram2dcontour"
           }
          ],
          "mesh3d": [
           {
            "colorbar": {
             "outlinewidth": 0,
             "ticks": ""
            },
            "type": "mesh3d"
           }
          ],
          "parcoords": [
           {
            "line": {
             "colorbar": {
              "outlinewidth": 0,
              "ticks": ""
             }
            },
            "type": "parcoords"
           }
          ],
          "pie": [
           {
            "automargin": true,
            "type": "pie"
           }
          ],
          "scatter": [
           {
            "marker": {
             "colorbar": {
              "outlinewidth": 0,
              "ticks": ""
             }
            },
            "type": "scatter"
           }
          ],
          "scatter3d": [
           {
            "line": {
             "colorbar": {
              "outlinewidth": 0,
              "ticks": ""
             }
            },
            "marker": {
             "colorbar": {
              "outlinewidth": 0,
              "ticks": ""
             }
            },
            "type": "scatter3d"
           }
          ],
          "scattercarpet": [
           {
            "marker": {
             "colorbar": {
              "outlinewidth": 0,
              "ticks": ""
             }
            },
            "type": "scattercarpet"
           }
          ],
          "scattergeo": [
           {
            "marker": {
             "colorbar": {
              "outlinewidth": 0,
              "ticks": ""
             }
            },
            "type": "scattergeo"
           }
          ],
          "scattergl": [
           {
            "marker": {
             "colorbar": {
              "outlinewidth": 0,
              "ticks": ""
             }
            },
            "type": "scattergl"
           }
          ],
          "scattermapbox": [
           {
            "marker": {
             "colorbar": {
              "outlinewidth": 0,
              "ticks": ""
             }
            },
            "type": "scattermapbox"
           }
          ],
          "scatterpolar": [
           {
            "marker": {
             "colorbar": {
              "outlinewidth": 0,
              "ticks": ""
             }
            },
            "type": "scatterpolar"
           }
          ],
          "scatterpolargl": [
           {
            "marker": {
             "colorbar": {
              "outlinewidth": 0,
              "ticks": ""
             }
            },
            "type": "scatterpolargl"
           }
          ],
          "scatterternary": [
           {
            "marker": {
             "colorbar": {
              "outlinewidth": 0,
              "ticks": ""
             }
            },
            "type": "scatterternary"
           }
          ],
          "surface": [
           {
            "colorbar": {
             "outlinewidth": 0,
             "ticks": ""
            },
            "colorscale": [
             [
              0,
              "#0d0887"
             ],
             [
              0.1111111111111111,
              "#46039f"
             ],
             [
              0.2222222222222222,
              "#7201a8"
             ],
             [
              0.3333333333333333,
              "#9c179e"
             ],
             [
              0.4444444444444444,
              "#bd3786"
             ],
             [
              0.5555555555555556,
              "#d8576b"
             ],
             [
              0.6666666666666666,
              "#ed7953"
             ],
             [
              0.7777777777777778,
              "#fb9f3a"
             ],
             [
              0.8888888888888888,
              "#fdca26"
             ],
             [
              1,
              "#f0f921"
             ]
            ],
            "type": "surface"
           }
          ],
          "table": [
           {
            "cells": {
             "fill": {
              "color": "#EBF0F8"
             },
             "line": {
              "color": "white"
             }
            },
            "header": {
             "fill": {
              "color": "#C8D4E3"
             },
             "line": {
              "color": "white"
             }
            },
            "type": "table"
           }
          ]
         },
         "layout": {
          "annotationdefaults": {
           "arrowcolor": "#2a3f5f",
           "arrowhead": 0,
           "arrowwidth": 1
          },
          "coloraxis": {
           "colorbar": {
            "outlinewidth": 0,
            "ticks": ""
           }
          },
          "colorscale": {
           "diverging": [
            [
             0,
             "#8e0152"
            ],
            [
             0.1,
             "#c51b7d"
            ],
            [
             0.2,
             "#de77ae"
            ],
            [
             0.3,
             "#f1b6da"
            ],
            [
             0.4,
             "#fde0ef"
            ],
            [
             0.5,
             "#f7f7f7"
            ],
            [
             0.6,
             "#e6f5d0"
            ],
            [
             0.7,
             "#b8e186"
            ],
            [
             0.8,
             "#7fbc41"
            ],
            [
             0.9,
             "#4d9221"
            ],
            [
             1,
             "#276419"
            ]
           ],
           "sequential": [
            [
             0,
             "#0d0887"
            ],
            [
             0.1111111111111111,
             "#46039f"
            ],
            [
             0.2222222222222222,
             "#7201a8"
            ],
            [
             0.3333333333333333,
             "#9c179e"
            ],
            [
             0.4444444444444444,
             "#bd3786"
            ],
            [
             0.5555555555555556,
             "#d8576b"
            ],
            [
             0.6666666666666666,
             "#ed7953"
            ],
            [
             0.7777777777777778,
             "#fb9f3a"
            ],
            [
             0.8888888888888888,
             "#fdca26"
            ],
            [
             1,
             "#f0f921"
            ]
           ],
           "sequentialminus": [
            [
             0,
             "#0d0887"
            ],
            [
             0.1111111111111111,
             "#46039f"
            ],
            [
             0.2222222222222222,
             "#7201a8"
            ],
            [
             0.3333333333333333,
             "#9c179e"
            ],
            [
             0.4444444444444444,
             "#bd3786"
            ],
            [
             0.5555555555555556,
             "#d8576b"
            ],
            [
             0.6666666666666666,
             "#ed7953"
            ],
            [
             0.7777777777777778,
             "#fb9f3a"
            ],
            [
             0.8888888888888888,
             "#fdca26"
            ],
            [
             1,
             "#f0f921"
            ]
           ]
          },
          "colorway": [
           "#636efa",
           "#EF553B",
           "#00cc96",
           "#ab63fa",
           "#FFA15A",
           "#19d3f3",
           "#FF6692",
           "#B6E880",
           "#FF97FF",
           "#FECB52"
          ],
          "font": {
           "color": "#2a3f5f"
          },
          "geo": {
           "bgcolor": "white",
           "lakecolor": "white",
           "landcolor": "#E5ECF6",
           "showlakes": true,
           "showland": true,
           "subunitcolor": "white"
          },
          "hoverlabel": {
           "align": "left"
          },
          "hovermode": "closest",
          "mapbox": {
           "style": "light"
          },
          "paper_bgcolor": "white",
          "plot_bgcolor": "#E5ECF6",
          "polar": {
           "angularaxis": {
            "gridcolor": "white",
            "linecolor": "white",
            "ticks": ""
           },
           "bgcolor": "#E5ECF6",
           "radialaxis": {
            "gridcolor": "white",
            "linecolor": "white",
            "ticks": ""
           }
          },
          "scene": {
           "xaxis": {
            "backgroundcolor": "#E5ECF6",
            "gridcolor": "white",
            "gridwidth": 2,
            "linecolor": "white",
            "showbackground": true,
            "ticks": "",
            "zerolinecolor": "white"
           },
           "yaxis": {
            "backgroundcolor": "#E5ECF6",
            "gridcolor": "white",
            "gridwidth": 2,
            "linecolor": "white",
            "showbackground": true,
            "ticks": "",
            "zerolinecolor": "white"
           },
           "zaxis": {
            "backgroundcolor": "#E5ECF6",
            "gridcolor": "white",
            "gridwidth": 2,
            "linecolor": "white",
            "showbackground": true,
            "ticks": "",
            "zerolinecolor": "white"
           }
          },
          "shapedefaults": {
           "line": {
            "color": "#2a3f5f"
           }
          },
          "ternary": {
           "aaxis": {
            "gridcolor": "white",
            "linecolor": "white",
            "ticks": ""
           },
           "baxis": {
            "gridcolor": "white",
            "linecolor": "white",
            "ticks": ""
           },
           "bgcolor": "#E5ECF6",
           "caxis": {
            "gridcolor": "white",
            "linecolor": "white",
            "ticks": ""
           }
          },
          "title": {
           "x": 0.05
          },
          "xaxis": {
           "automargin": true,
           "gridcolor": "white",
           "linecolor": "white",
           "ticks": "",
           "title": {
            "standoff": 15
           },
           "zerolinecolor": "white",
           "zerolinewidth": 2
          },
          "yaxis": {
           "automargin": true,
           "gridcolor": "white",
           "linecolor": "white",
           "ticks": "",
           "title": {
            "standoff": 15
           },
           "zerolinecolor": "white",
           "zerolinewidth": 2
          }
         }
        },
        "title": {
         "font": {
          "color": "#4D5663"
         }
        },
        "xaxis": {
         "gridcolor": "#E1E5ED",
         "showgrid": true,
         "tickfont": {
          "color": "#4D5663"
         },
         "title": {
          "font": {
           "color": "#4D5663"
          },
          "text": ""
         },
         "zerolinecolor": "#E1E5ED"
        },
        "xaxis2": {
         "anchor": "y2",
         "gridcolor": "#E1E5ED",
         "showgrid": true,
         "showticklabels": false,
         "tickfont": {
          "color": "#4D5663"
         },
         "title": {
          "font": {
           "color": "#4D5663"
          },
          "text": ""
         },
         "zerolinecolor": "#E1E5ED"
        },
        "yaxis": {
         "domain": [
          0.3,
          1
         ],
         "gridcolor": "#E1E5ED",
         "showgrid": true,
         "tickfont": {
          "color": "#4D5663"
         },
         "title": {
          "font": {
           "color": "#4D5663"
          },
          "text": ""
         },
         "zerolinecolor": "#E1E5ED"
        },
        "yaxis2": {
         "domain": [
          0,
          0.25
         ],
         "gridcolor": "#E1E5ED",
         "showgrid": true,
         "tickfont": {
          "color": "#4D5663"
         },
         "title": {
          "font": {
           "color": "#4D5663"
          },
          "text": "Spread"
         },
         "zerolinecolor": "#E1E5ED"
        }
       }
      },
      "text/html": [
       "<div>                            <div id=\"fb05c258-e5be-472c-9e88-a69f6ea0cd52\" class=\"plotly-graph-div\" style=\"height:525px; width:100%;\"></div>            <script type=\"text/javascript\">                require([\"plotly\"], function(Plotly) {                    window.PLOTLYENV=window.PLOTLYENV || {};\n",
       "                    window.PLOTLYENV.BASE_URL='https://plot.ly';                                    if (document.getElementById(\"fb05c258-e5be-472c-9e88-a69f6ea0cd52\")) {                    Plotly.newPlot(                        \"fb05c258-e5be-472c-9e88-a69f6ea0cd52\",                        [{\"line\": {\"color\": \"rgba(255, 153, 51, 1.0)\", \"dash\": \"solid\", \"shape\": \"linear\", \"width\": 1.3}, \"mode\": \"lines\", \"name\": \"A\", \"text\": \"\", \"type\": \"scatter\", \"x\": [0, 1, 2, 3, 4, 5, 6, 7, 8, 9, 10, 11, 12, 13, 14, 15, 16, 17, 18, 19, 20, 21, 22, 23, 24, 25, 26, 27, 28, 29, 30, 31, 32, 33, 34, 35, 36, 37, 38, 39, 40, 41, 42, 43, 44, 45, 46, 47, 48, 49, 50, 51, 52, 53, 54, 55, 56, 57, 58, 59, 60, 61, 62, 63, 64, 65, 66, 67, 68, 69, 70, 71, 72, 73, 74, 75, 76, 77, 78, 79, 80, 81, 82, 83, 84, 85, 86, 87, 88, 89, 90, 91, 92, 93, 94, 95, 96, 97, 98, 99], \"y\": [0.2833623675227722, -1.127271506470818, 0.5301991988413371, -0.9076037526358803, 0.3045832521261345, 1.5802942678868173, 1.9590307813960588, 0.4506493866329785, -0.16613983560977538, 0.46344861995238673, -0.3029747794229369, 1.0872271658066728, -1.6069227916919724, -0.06024722082744196, -1.000922647114807, -0.8428459274937556, 0.29478573314485923, -0.25339222119091565, 0.7187247748507258, 1.3353341377998886, -0.3132263384895011, -0.39118000703348754, -1.7291172658029401, -0.5693280082171505, -0.18087539462310423, 0.6036481562105745, 0.16176229925673608, 0.5404933164826498, -0.050736094303384584, -1.7608032679833248, 1.1206641776550978, 0.2838819671315071, -0.5719968871072524, -0.19937518829329207, -1.2092967930008358, -2.1550539493577956, -0.8506827098252433, 0.09807027557339956, -0.20852721520392994, 0.0912904455286591, 0.8507029232627918, 0.7463037519235868, 0.1599236640979604, -1.462351188047253, 0.457348739903739, 0.7556632254955828, 0.22062598272523387, -0.27599288567352176, -0.08651902719832559, -0.09390592780647052, 0.24038800777499403, 0.9386699960214014, -0.37020709228577187, -1.4755040676184674, 0.4819500836736902, 1.536663027126891, -1.8092408905159583, 0.033277606986312054, 0.09798696404977163, -0.32247346929781884, -1.555270331626882, 0.9876894317407412, 0.00028416691420902416, -0.39456722234572883, -0.08365889875132763, 0.8416210966617714, 0.7546325779328649, 0.6720135507751842, -0.1608911463122692, 0.7573962711229544, -1.174575815424979, -0.6613932481307679, 0.005947420146648111, -0.395531939861682, -1.4391168822911, -1.3339009646738926, -0.3886619660027748, 1.6126444498295815, -1.6794064847194896, -0.30320536220958877, 0.9461461594017028, -0.06348775003781486, -2.124844609404621, 0.08835640937139362, 2.6901798168203337, 0.6518982468613443, 0.16121683466285788, 0.5534423738048103, -0.0540939855612481, -0.33942531987529156, 0.04449274194965574, -1.6732075886435611, -1.3900365917463668, 0.49685876161216186, 0.08337278758692533, 1.4442163263090961, -1.0831084992907014, -1.0583044225528533, 1.1535020255004065, 0.5301801527396007]}, {\"line\": {\"color\": \"rgba(55, 128, 191, 1.0)\", \"dash\": \"solid\", \"shape\": \"linear\", \"width\": 1.3}, \"mode\": \"lines\", \"name\": \"B\", \"text\": \"\", \"type\": \"scatter\", \"x\": [0, 1, 2, 3, 4, 5, 6, 7, 8, 9, 10, 11, 12, 13, 14, 15, 16, 17, 18, 19, 20, 21, 22, 23, 24, 25, 26, 27, 28, 29, 30, 31, 32, 33, 34, 35, 36, 37, 38, 39, 40, 41, 42, 43, 44, 45, 46, 47, 48, 49, 50, 51, 52, 53, 54, 55, 56, 57, 58, 59, 60, 61, 62, 63, 64, 65, 66, 67, 68, 69, 70, 71, 72, 73, 74, 75, 76, 77, 78, 79, 80, 81, 82, 83, 84, 85, 86, 87, 88, 89, 90, 91, 92, 93, 94, 95, 96, 97, 98, 99], \"y\": [-0.12933625164448187, 0.13103167279239178, -0.2783800153100398, -0.4479072949745716, 0.6150291508003769, 0.04737160814250403, 0.724359524718601, 0.9068787283284158, -0.2834212092124333, 1.3846874642484022, -0.7900873096135989, 1.9990860724476802, 0.06513492061042847, 0.3761237870614334, 1.306002077023205, 0.21675678154141828, -0.17672460240902965, -1.6173317754480456, -0.3314978333603156, 1.3484994220885849, -1.2528411501569485, -0.7478995842212484, 0.8861269234986784, -0.6134231551246254, -0.5167498588077946, 0.9238994036778923, 0.30770452064141585, 1.2560612137362714, 0.4293958271803, -0.9714001809114541, 0.0529499288742505, -1.3136810389141642, -1.2976580632562906, 1.842221725391775, -1.0566420608604992, 0.12321025879006645, -0.13612878866987144, 0.22462263883719774, -0.003217995196276888, 2.6856075213904202, 2.4830248621546605, 0.8821380943095746, 0.9996863770264012, -0.003627477831770408, -1.2723142719885756, -0.30948703037988406, 0.8843284070240234, -1.619507799527179, -0.4335750367397115, 1.0655440640665477, 0.43200915741373525, 1.9197500330210822, 0.15084415313177363, -2.71184007998908, 1.7048789872131893, 0.8192423426391454, -0.9901671207511124, -1.6328634527925319, 0.21341038490737793, -1.658496320844627, -1.3250190128424661, -0.535465094697021, 0.3473214304769248, -0.25946471137270866, -0.888522689105521, -0.9531852049657755, 0.28526318110518045, -1.534240751475243, 0.8163815140281812, -1.8164535882003214, -1.213659476037669, -0.20474995625923617, 0.6709269694895401, 0.7928575255755295, 2.1310876397916347, 2.073222829167607, 1.0144150232185323, -0.07502724401221807, -0.04616501318666702, 1.9666741653159439, -0.1018163441743207, -0.2982981792733883, -0.12177935394126996, -0.34511438462030997, -0.24258558078122744, 0.08381699731823941, -0.18605525538332446, -0.07394916136370062, 0.41322139524717544, 1.098441891414735, 0.09232940542087814, -0.043577383753931234, 0.6529138894554455, 0.24426145948580733, 1.4830111845032046, -0.7322574441943723, -0.8515162512068878, -0.6158076287305354, -0.020335173306272214, -0.6668910616530364]}, {\"connectgaps\": false, \"fill\": \"tozeroy\", \"line\": {\"color\": \"green\", \"dash\": \"solid\", \"shape\": \"linear\", \"width\": 0.5}, \"mode\": \"lines\", \"name\": \"Spread\", \"showlegend\": false, \"type\": \"scatter\", \"x\": [0, 1, 2, 3, 4, 5, 6, 7, 8, 9, 10, 11, 12, 13, 14, 15, 16, 17, 18, 19, 20, 21, 22, 23, 24, 25, 26, 27, 28, 29, 30, 31, 32, 33, 34, 35, 36, 37, 38, 39, 40, 41, 42, 43, 44, 45, 46, 47, 48, 49, 50, 51, 52, 53, 54, 55, 56, 57, 58, 59, 60, 61, 62, 63, 64, 65, 66, 67, 68, 69, 70, 71, 72, 73, 74, 75, 76, 77, 78, 79, 80, 81, 82, 83, 84, 85, 86, 87, 88, 89, 90, 91, 92, 93, 94, 95, 96, 97, 98, 99], \"xaxis\": \"x2\", \"y\": [0.4126986191672541, \"\", 0.808579214151377, \"\", \"\", 1.5329226597443133, 1.2346712566774578, \"\", 0.11728137360265792, \"\", 0.487112530190662, \"\", \"\", \"\", \"\", \"\", 0.4715103355538889, 1.36393955425713, 1.0502226082110413, \"\", 0.9396148116674474, 0.3567195771877608, \"\", 0.04409514690747496, 0.33587446418469036, \"\", \"\", \"\", \"\", \"\", 1.0677142487808473, 1.5975630060456714, 0.7256611761490382, \"\", \"\", \"\", \"\", \"\", \"\", \"\", \"\", \"\", \"\", \"\", 1.7296630118923146, 1.0651502558754669, \"\", 1.343514913853657, 0.3470560095413859, \"\", \"\", \"\", \"\", 1.2363360123706124, \"\", 0.7174206844877457, \"\", 1.666141059778844, \"\", 1.3360228515468082, \"\", 1.5231545264377622, \"\", \"\", 0.8048637903541934, 1.7948063016275468, 0.4693693968276844, 2.2062543022504273, \"\", 2.5738498593232757, 0.039083660612690085, \"\", \"\", \"\", \"\", \"\", \"\", 1.6876716938417997, \"\", \"\", 1.0479625035760234, 0.23481042923557344, \"\", 0.4334707939917036, 2.9327653976015613, 0.5680812495431049, 0.3472720900461823, 0.627391535168511, \"\", \"\", \"\", \"\", \"\", 0.25259730212635456, \"\", 2.1764737705034687, \"\", \"\", 1.1738371988066787, 1.1970712143926372], \"yaxis\": \"y2\"}, {\"connectgaps\": false, \"fill\": \"tozeroy\", \"line\": {\"color\": \"red\", \"dash\": \"solid\", \"shape\": \"linear\", \"width\": 0.5}, \"mode\": \"lines\", \"name\": \"Spread\", \"showlegend\": false, \"type\": \"scatter\", \"x\": [0, 1, 2, 3, 4, 5, 6, 7, 8, 9, 10, 11, 12, 13, 14, 15, 16, 17, 18, 19, 20, 21, 22, 23, 24, 25, 26, 27, 28, 29, 30, 31, 32, 33, 34, 35, 36, 37, 38, 39, 40, 41, 42, 43, 44, 45, 46, 47, 48, 49, 50, 51, 52, 53, 54, 55, 56, 57, 58, 59, 60, 61, 62, 63, 64, 65, 66, 67, 68, 69, 70, 71, 72, 73, 74, 75, 76, 77, 78, 79, 80, 81, 82, 83, 84, 85, 86, 87, 88, 89, 90, 91, 92, 93, 94, 95, 96, 97, 98, 99], \"xaxis\": \"x2\", \"y\": [\"\", -1.2583031792632098, \"\", -0.45969645766130873, -0.3104458986742424, \"\", \"\", -0.4562293416954373, \"\", -0.9212388442960154, \"\", -0.9118589066410074, -1.6720577123024007, -0.43637100788887534, -2.306924724138012, -1.0596027090351738, \"\", \"\", \"\", -0.013165284288696233, \"\", \"\", -2.6152441893016185, \"\", \"\", -0.3202512474673177, -0.14594222138467977, -0.7155678972536217, -0.4801319214836846, -0.7894030870718707, \"\", \"\", \"\", -2.041596913685067, -0.15265473214033665, -2.278264208147862, -0.7145539211553719, -0.12655236326379818, -0.20530922000765306, -2.594317075861761, -1.6323219388918686, -0.1358343423859878, -0.8397627129284407, -1.4587237102154826, \"\", \"\", -0.6637024242987895, \"\", \"\", -1.1594499918730181, -0.19162114963874122, -0.9810800369996807, -0.5210512454175455, \"\", -1.2229289035394992, \"\", -0.8190737697648459, \"\", -0.1154234208576063, \"\", -0.23025131878441596, \"\", -0.3470372635627158, -0.13510251097302017, \"\", \"\", \"\", \"\", -0.9772726603404503, \"\", \"\", -0.45664329187153174, -0.664979549342892, -1.1883894654372114, -3.5702045220827348, -3.4071237938414995, -1.403076989221307, \"\", -1.6332414715328225, -2.2698795275255326, \"\", \"\", -2.003065255463351, \"\", \"\", \"\", \"\", \"\", -0.46731538080842355, -1.4378672112900266, -0.0478366634712224, -1.6296302048896298, -2.0429504812018124, \"\", -1.3996383969162793, \"\", -0.23159224808381362, -0.4424967938223179, \"\", \"\"], \"yaxis\": \"y2\"}],                        {\"hovermode\": \"x\", \"legend\": {\"bgcolor\": \"#F5F6F9\", \"font\": {\"color\": \"#4D5663\"}}, \"paper_bgcolor\": \"#F5F6F9\", \"plot_bgcolor\": \"#F5F6F9\", \"template\": {\"data\": {\"bar\": [{\"error_x\": {\"color\": \"#2a3f5f\"}, \"error_y\": {\"color\": \"#2a3f5f\"}, \"marker\": {\"line\": {\"color\": \"#E5ECF6\", \"width\": 0.5}}, \"type\": \"bar\"}], \"barpolar\": [{\"marker\": {\"line\": {\"color\": \"#E5ECF6\", \"width\": 0.5}}, \"type\": \"barpolar\"}], \"carpet\": [{\"aaxis\": {\"endlinecolor\": \"#2a3f5f\", \"gridcolor\": \"white\", \"linecolor\": \"white\", \"minorgridcolor\": \"white\", \"startlinecolor\": \"#2a3f5f\"}, \"baxis\": {\"endlinecolor\": \"#2a3f5f\", \"gridcolor\": \"white\", \"linecolor\": \"white\", \"minorgridcolor\": \"white\", \"startlinecolor\": \"#2a3f5f\"}, \"type\": \"carpet\"}], \"choropleth\": [{\"colorbar\": {\"outlinewidth\": 0, \"ticks\": \"\"}, \"type\": \"choropleth\"}], \"contour\": [{\"colorbar\": {\"outlinewidth\": 0, \"ticks\": \"\"}, \"colorscale\": [[0.0, \"#0d0887\"], [0.1111111111111111, \"#46039f\"], [0.2222222222222222, \"#7201a8\"], [0.3333333333333333, \"#9c179e\"], [0.4444444444444444, \"#bd3786\"], [0.5555555555555556, \"#d8576b\"], [0.6666666666666666, \"#ed7953\"], [0.7777777777777778, \"#fb9f3a\"], [0.8888888888888888, \"#fdca26\"], [1.0, \"#f0f921\"]], \"type\": \"contour\"}], \"contourcarpet\": [{\"colorbar\": {\"outlinewidth\": 0, \"ticks\": \"\"}, \"type\": \"contourcarpet\"}], \"heatmap\": [{\"colorbar\": {\"outlinewidth\": 0, \"ticks\": \"\"}, \"colorscale\": [[0.0, \"#0d0887\"], [0.1111111111111111, \"#46039f\"], [0.2222222222222222, \"#7201a8\"], [0.3333333333333333, \"#9c179e\"], [0.4444444444444444, \"#bd3786\"], [0.5555555555555556, \"#d8576b\"], [0.6666666666666666, \"#ed7953\"], [0.7777777777777778, \"#fb9f3a\"], [0.8888888888888888, \"#fdca26\"], [1.0, \"#f0f921\"]], \"type\": \"heatmap\"}], \"heatmapgl\": [{\"colorbar\": {\"outlinewidth\": 0, \"ticks\": \"\"}, \"colorscale\": [[0.0, \"#0d0887\"], [0.1111111111111111, \"#46039f\"], [0.2222222222222222, \"#7201a8\"], [0.3333333333333333, \"#9c179e\"], [0.4444444444444444, \"#bd3786\"], [0.5555555555555556, \"#d8576b\"], [0.6666666666666666, \"#ed7953\"], [0.7777777777777778, \"#fb9f3a\"], [0.8888888888888888, \"#fdca26\"], [1.0, \"#f0f921\"]], \"type\": \"heatmapgl\"}], \"histogram\": [{\"marker\": {\"colorbar\": {\"outlinewidth\": 0, \"ticks\": \"\"}}, \"type\": \"histogram\"}], \"histogram2d\": [{\"colorbar\": {\"outlinewidth\": 0, \"ticks\": \"\"}, \"colorscale\": [[0.0, \"#0d0887\"], [0.1111111111111111, \"#46039f\"], [0.2222222222222222, \"#7201a8\"], [0.3333333333333333, \"#9c179e\"], [0.4444444444444444, \"#bd3786\"], [0.5555555555555556, \"#d8576b\"], [0.6666666666666666, \"#ed7953\"], [0.7777777777777778, \"#fb9f3a\"], [0.8888888888888888, \"#fdca26\"], [1.0, \"#f0f921\"]], \"type\": \"histogram2d\"}], \"histogram2dcontour\": [{\"colorbar\": {\"outlinewidth\": 0, \"ticks\": \"\"}, \"colorscale\": [[0.0, \"#0d0887\"], [0.1111111111111111, \"#46039f\"], [0.2222222222222222, \"#7201a8\"], [0.3333333333333333, \"#9c179e\"], [0.4444444444444444, \"#bd3786\"], [0.5555555555555556, \"#d8576b\"], [0.6666666666666666, \"#ed7953\"], [0.7777777777777778, \"#fb9f3a\"], [0.8888888888888888, \"#fdca26\"], [1.0, \"#f0f921\"]], \"type\": \"histogram2dcontour\"}], \"mesh3d\": [{\"colorbar\": {\"outlinewidth\": 0, \"ticks\": \"\"}, \"type\": \"mesh3d\"}], \"parcoords\": [{\"line\": {\"colorbar\": {\"outlinewidth\": 0, \"ticks\": \"\"}}, \"type\": \"parcoords\"}], \"pie\": [{\"automargin\": true, \"type\": \"pie\"}], \"scatter\": [{\"marker\": {\"colorbar\": {\"outlinewidth\": 0, \"ticks\": \"\"}}, \"type\": \"scatter\"}], \"scatter3d\": [{\"line\": {\"colorbar\": {\"outlinewidth\": 0, \"ticks\": \"\"}}, \"marker\": {\"colorbar\": {\"outlinewidth\": 0, \"ticks\": \"\"}}, \"type\": \"scatter3d\"}], \"scattercarpet\": [{\"marker\": {\"colorbar\": {\"outlinewidth\": 0, \"ticks\": \"\"}}, \"type\": \"scattercarpet\"}], \"scattergeo\": [{\"marker\": {\"colorbar\": {\"outlinewidth\": 0, \"ticks\": \"\"}}, \"type\": \"scattergeo\"}], \"scattergl\": [{\"marker\": {\"colorbar\": {\"outlinewidth\": 0, \"ticks\": \"\"}}, \"type\": \"scattergl\"}], \"scattermapbox\": [{\"marker\": {\"colorbar\": {\"outlinewidth\": 0, \"ticks\": \"\"}}, \"type\": \"scattermapbox\"}], \"scatterpolar\": [{\"marker\": {\"colorbar\": {\"outlinewidth\": 0, \"ticks\": \"\"}}, \"type\": \"scatterpolar\"}], \"scatterpolargl\": [{\"marker\": {\"colorbar\": {\"outlinewidth\": 0, \"ticks\": \"\"}}, \"type\": \"scatterpolargl\"}], \"scatterternary\": [{\"marker\": {\"colorbar\": {\"outlinewidth\": 0, \"ticks\": \"\"}}, \"type\": \"scatterternary\"}], \"surface\": [{\"colorbar\": {\"outlinewidth\": 0, \"ticks\": \"\"}, \"colorscale\": [[0.0, \"#0d0887\"], [0.1111111111111111, \"#46039f\"], [0.2222222222222222, \"#7201a8\"], [0.3333333333333333, \"#9c179e\"], [0.4444444444444444, \"#bd3786\"], [0.5555555555555556, \"#d8576b\"], [0.6666666666666666, \"#ed7953\"], [0.7777777777777778, \"#fb9f3a\"], [0.8888888888888888, \"#fdca26\"], [1.0, \"#f0f921\"]], \"type\": \"surface\"}], \"table\": [{\"cells\": {\"fill\": {\"color\": \"#EBF0F8\"}, \"line\": {\"color\": \"white\"}}, \"header\": {\"fill\": {\"color\": \"#C8D4E3\"}, \"line\": {\"color\": \"white\"}}, \"type\": \"table\"}]}, \"layout\": {\"annotationdefaults\": {\"arrowcolor\": \"#2a3f5f\", \"arrowhead\": 0, \"arrowwidth\": 1}, \"coloraxis\": {\"colorbar\": {\"outlinewidth\": 0, \"ticks\": \"\"}}, \"colorscale\": {\"diverging\": [[0, \"#8e0152\"], [0.1, \"#c51b7d\"], [0.2, \"#de77ae\"], [0.3, \"#f1b6da\"], [0.4, \"#fde0ef\"], [0.5, \"#f7f7f7\"], [0.6, \"#e6f5d0\"], [0.7, \"#b8e186\"], [0.8, \"#7fbc41\"], [0.9, \"#4d9221\"], [1, \"#276419\"]], \"sequential\": [[0.0, \"#0d0887\"], [0.1111111111111111, \"#46039f\"], [0.2222222222222222, \"#7201a8\"], [0.3333333333333333, \"#9c179e\"], [0.4444444444444444, \"#bd3786\"], [0.5555555555555556, \"#d8576b\"], [0.6666666666666666, \"#ed7953\"], [0.7777777777777778, \"#fb9f3a\"], [0.8888888888888888, \"#fdca26\"], [1.0, \"#f0f921\"]], \"sequentialminus\": [[0.0, \"#0d0887\"], [0.1111111111111111, \"#46039f\"], [0.2222222222222222, \"#7201a8\"], [0.3333333333333333, \"#9c179e\"], [0.4444444444444444, \"#bd3786\"], [0.5555555555555556, \"#d8576b\"], [0.6666666666666666, \"#ed7953\"], [0.7777777777777778, \"#fb9f3a\"], [0.8888888888888888, \"#fdca26\"], [1.0, \"#f0f921\"]]}, \"colorway\": [\"#636efa\", \"#EF553B\", \"#00cc96\", \"#ab63fa\", \"#FFA15A\", \"#19d3f3\", \"#FF6692\", \"#B6E880\", \"#FF97FF\", \"#FECB52\"], \"font\": {\"color\": \"#2a3f5f\"}, \"geo\": {\"bgcolor\": \"white\", \"lakecolor\": \"white\", \"landcolor\": \"#E5ECF6\", \"showlakes\": true, \"showland\": true, \"subunitcolor\": \"white\"}, \"hoverlabel\": {\"align\": \"left\"}, \"hovermode\": \"closest\", \"mapbox\": {\"style\": \"light\"}, \"paper_bgcolor\": \"white\", \"plot_bgcolor\": \"#E5ECF6\", \"polar\": {\"angularaxis\": {\"gridcolor\": \"white\", \"linecolor\": \"white\", \"ticks\": \"\"}, \"bgcolor\": \"#E5ECF6\", \"radialaxis\": {\"gridcolor\": \"white\", \"linecolor\": \"white\", \"ticks\": \"\"}}, \"scene\": {\"xaxis\": {\"backgroundcolor\": \"#E5ECF6\", \"gridcolor\": \"white\", \"gridwidth\": 2, \"linecolor\": \"white\", \"showbackground\": true, \"ticks\": \"\", \"zerolinecolor\": \"white\"}, \"yaxis\": {\"backgroundcolor\": \"#E5ECF6\", \"gridcolor\": \"white\", \"gridwidth\": 2, \"linecolor\": \"white\", \"showbackground\": true, \"ticks\": \"\", \"zerolinecolor\": \"white\"}, \"zaxis\": {\"backgroundcolor\": \"#E5ECF6\", \"gridcolor\": \"white\", \"gridwidth\": 2, \"linecolor\": \"white\", \"showbackground\": true, \"ticks\": \"\", \"zerolinecolor\": \"white\"}}, \"shapedefaults\": {\"line\": {\"color\": \"#2a3f5f\"}}, \"ternary\": {\"aaxis\": {\"gridcolor\": \"white\", \"linecolor\": \"white\", \"ticks\": \"\"}, \"baxis\": {\"gridcolor\": \"white\", \"linecolor\": \"white\", \"ticks\": \"\"}, \"bgcolor\": \"#E5ECF6\", \"caxis\": {\"gridcolor\": \"white\", \"linecolor\": \"white\", \"ticks\": \"\"}}, \"title\": {\"x\": 0.05}, \"xaxis\": {\"automargin\": true, \"gridcolor\": \"white\", \"linecolor\": \"white\", \"ticks\": \"\", \"title\": {\"standoff\": 15}, \"zerolinecolor\": \"white\", \"zerolinewidth\": 2}, \"yaxis\": {\"automargin\": true, \"gridcolor\": \"white\", \"linecolor\": \"white\", \"ticks\": \"\", \"title\": {\"standoff\": 15}, \"zerolinecolor\": \"white\", \"zerolinewidth\": 2}}}, \"title\": {\"font\": {\"color\": \"#4D5663\"}}, \"xaxis\": {\"gridcolor\": \"#E1E5ED\", \"showgrid\": true, \"tickfont\": {\"color\": \"#4D5663\"}, \"title\": {\"font\": {\"color\": \"#4D5663\"}, \"text\": \"\"}, \"zerolinecolor\": \"#E1E5ED\"}, \"xaxis2\": {\"anchor\": \"y2\", \"gridcolor\": \"#E1E5ED\", \"showgrid\": true, \"showticklabels\": false, \"tickfont\": {\"color\": \"#4D5663\"}, \"title\": {\"font\": {\"color\": \"#4D5663\"}, \"text\": \"\"}, \"zerolinecolor\": \"#E1E5ED\"}, \"yaxis\": {\"domain\": [0.3, 1], \"gridcolor\": \"#E1E5ED\", \"showgrid\": true, \"tickfont\": {\"color\": \"#4D5663\"}, \"title\": {\"font\": {\"color\": \"#4D5663\"}, \"text\": \"\"}, \"zerolinecolor\": \"#E1E5ED\"}, \"yaxis2\": {\"domain\": [0, 0.25], \"gridcolor\": \"#E1E5ED\", \"showgrid\": true, \"tickfont\": {\"color\": \"#4D5663\"}, \"title\": {\"font\": {\"color\": \"#4D5663\"}, \"text\": \"Spread\"}, \"zerolinecolor\": \"#E1E5ED\"}},                        {\"showLink\": true, \"linkText\": \"Export to plot.ly\", \"plotlyServerURL\": \"https://plot.ly\", \"responsive\": true}                    ).then(function(){\n",
       "                            \n",
       "var gd = document.getElementById('fb05c258-e5be-472c-9e88-a69f6ea0cd52');\n",
       "var x = new MutationObserver(function (mutations, observer) {{\n",
       "        var display = window.getComputedStyle(gd).display;\n",
       "        if (!display || display === 'none') {{\n",
       "            console.log([gd, 'removed!']);\n",
       "            Plotly.purge(gd);\n",
       "            observer.disconnect();\n",
       "        }}\n",
       "}});\n",
       "\n",
       "// Listen for the removal of the full notebook cells\n",
       "var notebookContainer = gd.closest('#notebook-container');\n",
       "if (notebookContainer) {{\n",
       "    x.observe(notebookContainer, {childList: true});\n",
       "}}\n",
       "\n",
       "// Listen for the clearing of the current output cell\n",
       "var outputEl = gd.closest('.output');\n",
       "if (outputEl) {{\n",
       "    x.observe(outputEl, {childList: true});\n",
       "}}\n",
       "\n",
       "                        })                };                });            </script>        </div>"
      ]
     },
     "metadata": {},
     "output_type": "display_data"
    }
   ],
   "source": [
    "df[['A','B']].iplot(kind='spread')"
   ]
  },
  {
   "cell_type": "markdown",
   "metadata": {},
   "source": [
    "## Bubble Plot"
   ]
  },
  {
   "cell_type": "code",
   "execution_count": 38,
   "metadata": {},
   "outputs": [
    {
     "data": {
      "application/vnd.plotly.v1+json": {
       "config": {
        "linkText": "Export to plot.ly",
        "plotlyServerURL": "https://plot.ly",
        "showLink": true
       },
       "data": [
        {
         "marker": {
          "color": [
           "rgb(255, 153, 51)",
           "rgb(55, 128, 191)",
           "rgb(50, 171, 96)",
           "rgb(128, 0, 128)",
           "rgb(219, 64, 82)",
           "rgb(0, 128, 128)",
           "rgb(255, 255, 51)",
           "rgb(128, 128, 0)",
           "rgb(251, 128, 114)",
           "rgb(128, 177, 211)"
          ],
          "line": {
           "width": 1.3
          },
          "size": [
           58,
           106,
           67,
           51,
           33,
           46,
           59,
           102,
           40,
           82,
           55,
           76,
           56,
           57,
           32,
           84,
           70,
           80,
           69,
           88,
           81,
           43,
           62,
           47,
           78,
           40,
           74,
           68,
           55,
           53,
           49,
           64,
           77,
           29,
           57,
           46,
           61,
           74,
           67,
           61,
           61,
           12,
           80,
           43,
           51,
           41,
           58,
           25,
           80,
           42,
           73,
           33,
           64,
           33,
           12,
           66,
           79,
           60,
           40,
           50,
           45,
           30,
           53,
           112,
           69,
           55,
           77,
           71,
           56,
           74,
           28,
           77,
           51,
           36,
           99,
           40,
           60,
           46,
           36,
           104,
           67,
           66,
           40,
           44,
           74,
           88,
           57,
           19,
           97,
           66,
           54,
           16,
           25,
           27,
           97,
           44,
           93,
           65,
           48,
           93
          ],
          "symbol": "circle"
         },
         "mode": "markers",
         "text": "",
         "type": "scatter",
         "x": [
          0.2833623675227722,
          -1.127271506470818,
          0.5301991988413371,
          -0.9076037526358803,
          0.3045832521261345,
          1.5802942678868173,
          1.9590307813960588,
          0.4506493866329785,
          -0.16613983560977538,
          0.46344861995238673,
          -0.3029747794229369,
          1.0872271658066728,
          -1.6069227916919724,
          -0.06024722082744196,
          -1.000922647114807,
          -0.8428459274937556,
          0.29478573314485923,
          -0.25339222119091565,
          0.7187247748507258,
          1.3353341377998886,
          -0.3132263384895011,
          -0.39118000703348754,
          -1.7291172658029401,
          -0.5693280082171505,
          -0.18087539462310423,
          0.6036481562105745,
          0.16176229925673608,
          0.5404933164826498,
          -0.050736094303384584,
          -1.7608032679833248,
          1.1206641776550978,
          0.2838819671315071,
          -0.5719968871072524,
          -0.19937518829329207,
          -1.2092967930008358,
          -2.1550539493577956,
          -0.8506827098252433,
          0.09807027557339956,
          -0.20852721520392994,
          0.0912904455286591,
          0.8507029232627918,
          0.7463037519235868,
          0.1599236640979604,
          -1.462351188047253,
          0.457348739903739,
          0.7556632254955828,
          0.22062598272523387,
          -0.27599288567352176,
          -0.08651902719832559,
          -0.09390592780647052,
          0.24038800777499403,
          0.9386699960214014,
          -0.37020709228577187,
          -1.4755040676184674,
          0.4819500836736902,
          1.536663027126891,
          -1.8092408905159583,
          0.033277606986312054,
          0.09798696404977163,
          -0.32247346929781884,
          -1.555270331626882,
          0.9876894317407412,
          0.00028416691420902416,
          -0.39456722234572883,
          -0.08365889875132763,
          0.8416210966617714,
          0.7546325779328649,
          0.6720135507751842,
          -0.1608911463122692,
          0.7573962711229544,
          -1.174575815424979,
          -0.6613932481307679,
          0.005947420146648111,
          -0.395531939861682,
          -1.4391168822911,
          -1.3339009646738926,
          -0.3886619660027748,
          1.6126444498295815,
          -1.6794064847194896,
          -0.30320536220958877,
          0.9461461594017028,
          -0.06348775003781486,
          -2.124844609404621,
          0.08835640937139362,
          2.6901798168203337,
          0.6518982468613443,
          0.16121683466285788,
          0.5534423738048103,
          -0.0540939855612481,
          -0.33942531987529156,
          0.04449274194965574,
          -1.6732075886435611,
          -1.3900365917463668,
          0.49685876161216186,
          0.08337278758692533,
          1.4442163263090961,
          -1.0831084992907014,
          -1.0583044225528533,
          1.1535020255004065,
          0.5301801527396007
         ],
         "y": [
          -0.12933625164448187,
          0.13103167279239178,
          -0.2783800153100398,
          -0.4479072949745716,
          0.6150291508003769,
          0.04737160814250403,
          0.724359524718601,
          0.9068787283284158,
          -0.2834212092124333,
          1.3846874642484022,
          -0.7900873096135989,
          1.9990860724476802,
          0.06513492061042847,
          0.3761237870614334,
          1.306002077023205,
          0.21675678154141828,
          -0.17672460240902965,
          -1.6173317754480456,
          -0.3314978333603156,
          1.3484994220885849,
          -1.2528411501569485,
          -0.7478995842212484,
          0.8861269234986784,
          -0.6134231551246254,
          -0.5167498588077946,
          0.9238994036778923,
          0.30770452064141585,
          1.2560612137362714,
          0.4293958271803,
          -0.9714001809114541,
          0.0529499288742505,
          -1.3136810389141642,
          -1.2976580632562906,
          1.842221725391775,
          -1.0566420608604992,
          0.12321025879006645,
          -0.13612878866987144,
          0.22462263883719774,
          -0.003217995196276888,
          2.6856075213904202,
          2.4830248621546605,
          0.8821380943095746,
          0.9996863770264012,
          -0.003627477831770408,
          -1.2723142719885756,
          -0.30948703037988406,
          0.8843284070240234,
          -1.619507799527179,
          -0.4335750367397115,
          1.0655440640665477,
          0.43200915741373525,
          1.9197500330210822,
          0.15084415313177363,
          -2.71184007998908,
          1.7048789872131893,
          0.8192423426391454,
          -0.9901671207511124,
          -1.6328634527925319,
          0.21341038490737793,
          -1.658496320844627,
          -1.3250190128424661,
          -0.535465094697021,
          0.3473214304769248,
          -0.25946471137270866,
          -0.888522689105521,
          -0.9531852049657755,
          0.28526318110518045,
          -1.534240751475243,
          0.8163815140281812,
          -1.8164535882003214,
          -1.213659476037669,
          -0.20474995625923617,
          0.6709269694895401,
          0.7928575255755295,
          2.1310876397916347,
          2.073222829167607,
          1.0144150232185323,
          -0.07502724401221807,
          -0.04616501318666702,
          1.9666741653159439,
          -0.1018163441743207,
          -0.2982981792733883,
          -0.12177935394126996,
          -0.34511438462030997,
          -0.24258558078122744,
          0.08381699731823941,
          -0.18605525538332446,
          -0.07394916136370062,
          0.41322139524717544,
          1.098441891414735,
          0.09232940542087814,
          -0.043577383753931234,
          0.6529138894554455,
          0.24426145948580733,
          1.4830111845032046,
          -0.7322574441943723,
          -0.8515162512068878,
          -0.6158076287305354,
          -0.020335173306272214,
          -0.6668910616530364
         ]
        }
       ],
       "layout": {
        "legend": {
         "bgcolor": "#F5F6F9",
         "font": {
          "color": "#4D5663"
         }
        },
        "paper_bgcolor": "#F5F6F9",
        "plot_bgcolor": "#F5F6F9",
        "template": {
         "data": {
          "bar": [
           {
            "error_x": {
             "color": "#2a3f5f"
            },
            "error_y": {
             "color": "#2a3f5f"
            },
            "marker": {
             "line": {
              "color": "#E5ECF6",
              "width": 0.5
             }
            },
            "type": "bar"
           }
          ],
          "barpolar": [
           {
            "marker": {
             "line": {
              "color": "#E5ECF6",
              "width": 0.5
             }
            },
            "type": "barpolar"
           }
          ],
          "carpet": [
           {
            "aaxis": {
             "endlinecolor": "#2a3f5f",
             "gridcolor": "white",
             "linecolor": "white",
             "minorgridcolor": "white",
             "startlinecolor": "#2a3f5f"
            },
            "baxis": {
             "endlinecolor": "#2a3f5f",
             "gridcolor": "white",
             "linecolor": "white",
             "minorgridcolor": "white",
             "startlinecolor": "#2a3f5f"
            },
            "type": "carpet"
           }
          ],
          "choropleth": [
           {
            "colorbar": {
             "outlinewidth": 0,
             "ticks": ""
            },
            "type": "choropleth"
           }
          ],
          "contour": [
           {
            "colorbar": {
             "outlinewidth": 0,
             "ticks": ""
            },
            "colorscale": [
             [
              0,
              "#0d0887"
             ],
             [
              0.1111111111111111,
              "#46039f"
             ],
             [
              0.2222222222222222,
              "#7201a8"
             ],
             [
              0.3333333333333333,
              "#9c179e"
             ],
             [
              0.4444444444444444,
              "#bd3786"
             ],
             [
              0.5555555555555556,
              "#d8576b"
             ],
             [
              0.6666666666666666,
              "#ed7953"
             ],
             [
              0.7777777777777778,
              "#fb9f3a"
             ],
             [
              0.8888888888888888,
              "#fdca26"
             ],
             [
              1,
              "#f0f921"
             ]
            ],
            "type": "contour"
           }
          ],
          "contourcarpet": [
           {
            "colorbar": {
             "outlinewidth": 0,
             "ticks": ""
            },
            "type": "contourcarpet"
           }
          ],
          "heatmap": [
           {
            "colorbar": {
             "outlinewidth": 0,
             "ticks": ""
            },
            "colorscale": [
             [
              0,
              "#0d0887"
             ],
             [
              0.1111111111111111,
              "#46039f"
             ],
             [
              0.2222222222222222,
              "#7201a8"
             ],
             [
              0.3333333333333333,
              "#9c179e"
             ],
             [
              0.4444444444444444,
              "#bd3786"
             ],
             [
              0.5555555555555556,
              "#d8576b"
             ],
             [
              0.6666666666666666,
              "#ed7953"
             ],
             [
              0.7777777777777778,
              "#fb9f3a"
             ],
             [
              0.8888888888888888,
              "#fdca26"
             ],
             [
              1,
              "#f0f921"
             ]
            ],
            "type": "heatmap"
           }
          ],
          "heatmapgl": [
           {
            "colorbar": {
             "outlinewidth": 0,
             "ticks": ""
            },
            "colorscale": [
             [
              0,
              "#0d0887"
             ],
             [
              0.1111111111111111,
              "#46039f"
             ],
             [
              0.2222222222222222,
              "#7201a8"
             ],
             [
              0.3333333333333333,
              "#9c179e"
             ],
             [
              0.4444444444444444,
              "#bd3786"
             ],
             [
              0.5555555555555556,
              "#d8576b"
             ],
             [
              0.6666666666666666,
              "#ed7953"
             ],
             [
              0.7777777777777778,
              "#fb9f3a"
             ],
             [
              0.8888888888888888,
              "#fdca26"
             ],
             [
              1,
              "#f0f921"
             ]
            ],
            "type": "heatmapgl"
           }
          ],
          "histogram": [
           {
            "marker": {
             "colorbar": {
              "outlinewidth": 0,
              "ticks": ""
             }
            },
            "type": "histogram"
           }
          ],
          "histogram2d": [
           {
            "colorbar": {
             "outlinewidth": 0,
             "ticks": ""
            },
            "colorscale": [
             [
              0,
              "#0d0887"
             ],
             [
              0.1111111111111111,
              "#46039f"
             ],
             [
              0.2222222222222222,
              "#7201a8"
             ],
             [
              0.3333333333333333,
              "#9c179e"
             ],
             [
              0.4444444444444444,
              "#bd3786"
             ],
             [
              0.5555555555555556,
              "#d8576b"
             ],
             [
              0.6666666666666666,
              "#ed7953"
             ],
             [
              0.7777777777777778,
              "#fb9f3a"
             ],
             [
              0.8888888888888888,
              "#fdca26"
             ],
             [
              1,
              "#f0f921"
             ]
            ],
            "type": "histogram2d"
           }
          ],
          "histogram2dcontour": [
           {
            "colorbar": {
             "outlinewidth": 0,
             "ticks": ""
            },
            "colorscale": [
             [
              0,
              "#0d0887"
             ],
             [
              0.1111111111111111,
              "#46039f"
             ],
             [
              0.2222222222222222,
              "#7201a8"
             ],
             [
              0.3333333333333333,
              "#9c179e"
             ],
             [
              0.4444444444444444,
              "#bd3786"
             ],
             [
              0.5555555555555556,
              "#d8576b"
             ],
             [
              0.6666666666666666,
              "#ed7953"
             ],
             [
              0.7777777777777778,
              "#fb9f3a"
             ],
             [
              0.8888888888888888,
              "#fdca26"
             ],
             [
              1,
              "#f0f921"
             ]
            ],
            "type": "histogram2dcontour"
           }
          ],
          "mesh3d": [
           {
            "colorbar": {
             "outlinewidth": 0,
             "ticks": ""
            },
            "type": "mesh3d"
           }
          ],
          "parcoords": [
           {
            "line": {
             "colorbar": {
              "outlinewidth": 0,
              "ticks": ""
             }
            },
            "type": "parcoords"
           }
          ],
          "pie": [
           {
            "automargin": true,
            "type": "pie"
           }
          ],
          "scatter": [
           {
            "marker": {
             "colorbar": {
              "outlinewidth": 0,
              "ticks": ""
             }
            },
            "type": "scatter"
           }
          ],
          "scatter3d": [
           {
            "line": {
             "colorbar": {
              "outlinewidth": 0,
              "ticks": ""
             }
            },
            "marker": {
             "colorbar": {
              "outlinewidth": 0,
              "ticks": ""
             }
            },
            "type": "scatter3d"
           }
          ],
          "scattercarpet": [
           {
            "marker": {
             "colorbar": {
              "outlinewidth": 0,
              "ticks": ""
             }
            },
            "type": "scattercarpet"
           }
          ],
          "scattergeo": [
           {
            "marker": {
             "colorbar": {
              "outlinewidth": 0,
              "ticks": ""
             }
            },
            "type": "scattergeo"
           }
          ],
          "scattergl": [
           {
            "marker": {
             "colorbar": {
              "outlinewidth": 0,
              "ticks": ""
             }
            },
            "type": "scattergl"
           }
          ],
          "scattermapbox": [
           {
            "marker": {
             "colorbar": {
              "outlinewidth": 0,
              "ticks": ""
             }
            },
            "type": "scattermapbox"
           }
          ],
          "scatterpolar": [
           {
            "marker": {
             "colorbar": {
              "outlinewidth": 0,
              "ticks": ""
             }
            },
            "type": "scatterpolar"
           }
          ],
          "scatterpolargl": [
           {
            "marker": {
             "colorbar": {
              "outlinewidth": 0,
              "ticks": ""
             }
            },
            "type": "scatterpolargl"
           }
          ],
          "scatterternary": [
           {
            "marker": {
             "colorbar": {
              "outlinewidth": 0,
              "ticks": ""
             }
            },
            "type": "scatterternary"
           }
          ],
          "surface": [
           {
            "colorbar": {
             "outlinewidth": 0,
             "ticks": ""
            },
            "colorscale": [
             [
              0,
              "#0d0887"
             ],
             [
              0.1111111111111111,
              "#46039f"
             ],
             [
              0.2222222222222222,
              "#7201a8"
             ],
             [
              0.3333333333333333,
              "#9c179e"
             ],
             [
              0.4444444444444444,
              "#bd3786"
             ],
             [
              0.5555555555555556,
              "#d8576b"
             ],
             [
              0.6666666666666666,
              "#ed7953"
             ],
             [
              0.7777777777777778,
              "#fb9f3a"
             ],
             [
              0.8888888888888888,
              "#fdca26"
             ],
             [
              1,
              "#f0f921"
             ]
            ],
            "type": "surface"
           }
          ],
          "table": [
           {
            "cells": {
             "fill": {
              "color": "#EBF0F8"
             },
             "line": {
              "color": "white"
             }
            },
            "header": {
             "fill": {
              "color": "#C8D4E3"
             },
             "line": {
              "color": "white"
             }
            },
            "type": "table"
           }
          ]
         },
         "layout": {
          "annotationdefaults": {
           "arrowcolor": "#2a3f5f",
           "arrowhead": 0,
           "arrowwidth": 1
          },
          "coloraxis": {
           "colorbar": {
            "outlinewidth": 0,
            "ticks": ""
           }
          },
          "colorscale": {
           "diverging": [
            [
             0,
             "#8e0152"
            ],
            [
             0.1,
             "#c51b7d"
            ],
            [
             0.2,
             "#de77ae"
            ],
            [
             0.3,
             "#f1b6da"
            ],
            [
             0.4,
             "#fde0ef"
            ],
            [
             0.5,
             "#f7f7f7"
            ],
            [
             0.6,
             "#e6f5d0"
            ],
            [
             0.7,
             "#b8e186"
            ],
            [
             0.8,
             "#7fbc41"
            ],
            [
             0.9,
             "#4d9221"
            ],
            [
             1,
             "#276419"
            ]
           ],
           "sequential": [
            [
             0,
             "#0d0887"
            ],
            [
             0.1111111111111111,
             "#46039f"
            ],
            [
             0.2222222222222222,
             "#7201a8"
            ],
            [
             0.3333333333333333,
             "#9c179e"
            ],
            [
             0.4444444444444444,
             "#bd3786"
            ],
            [
             0.5555555555555556,
             "#d8576b"
            ],
            [
             0.6666666666666666,
             "#ed7953"
            ],
            [
             0.7777777777777778,
             "#fb9f3a"
            ],
            [
             0.8888888888888888,
             "#fdca26"
            ],
            [
             1,
             "#f0f921"
            ]
           ],
           "sequentialminus": [
            [
             0,
             "#0d0887"
            ],
            [
             0.1111111111111111,
             "#46039f"
            ],
            [
             0.2222222222222222,
             "#7201a8"
            ],
            [
             0.3333333333333333,
             "#9c179e"
            ],
            [
             0.4444444444444444,
             "#bd3786"
            ],
            [
             0.5555555555555556,
             "#d8576b"
            ],
            [
             0.6666666666666666,
             "#ed7953"
            ],
            [
             0.7777777777777778,
             "#fb9f3a"
            ],
            [
             0.8888888888888888,
             "#fdca26"
            ],
            [
             1,
             "#f0f921"
            ]
           ]
          },
          "colorway": [
           "#636efa",
           "#EF553B",
           "#00cc96",
           "#ab63fa",
           "#FFA15A",
           "#19d3f3",
           "#FF6692",
           "#B6E880",
           "#FF97FF",
           "#FECB52"
          ],
          "font": {
           "color": "#2a3f5f"
          },
          "geo": {
           "bgcolor": "white",
           "lakecolor": "white",
           "landcolor": "#E5ECF6",
           "showlakes": true,
           "showland": true,
           "subunitcolor": "white"
          },
          "hoverlabel": {
           "align": "left"
          },
          "hovermode": "closest",
          "mapbox": {
           "style": "light"
          },
          "paper_bgcolor": "white",
          "plot_bgcolor": "#E5ECF6",
          "polar": {
           "angularaxis": {
            "gridcolor": "white",
            "linecolor": "white",
            "ticks": ""
           },
           "bgcolor": "#E5ECF6",
           "radialaxis": {
            "gridcolor": "white",
            "linecolor": "white",
            "ticks": ""
           }
          },
          "scene": {
           "xaxis": {
            "backgroundcolor": "#E5ECF6",
            "gridcolor": "white",
            "gridwidth": 2,
            "linecolor": "white",
            "showbackground": true,
            "ticks": "",
            "zerolinecolor": "white"
           },
           "yaxis": {
            "backgroundcolor": "#E5ECF6",
            "gridcolor": "white",
            "gridwidth": 2,
            "linecolor": "white",
            "showbackground": true,
            "ticks": "",
            "zerolinecolor": "white"
           },
           "zaxis": {
            "backgroundcolor": "#E5ECF6",
            "gridcolor": "white",
            "gridwidth": 2,
            "linecolor": "white",
            "showbackground": true,
            "ticks": "",
            "zerolinecolor": "white"
           }
          },
          "shapedefaults": {
           "line": {
            "color": "#2a3f5f"
           }
          },
          "ternary": {
           "aaxis": {
            "gridcolor": "white",
            "linecolor": "white",
            "ticks": ""
           },
           "baxis": {
            "gridcolor": "white",
            "linecolor": "white",
            "ticks": ""
           },
           "bgcolor": "#E5ECF6",
           "caxis": {
            "gridcolor": "white",
            "linecolor": "white",
            "ticks": ""
           }
          },
          "title": {
           "x": 0.05
          },
          "xaxis": {
           "automargin": true,
           "gridcolor": "white",
           "linecolor": "white",
           "ticks": "",
           "title": {
            "standoff": 15
           },
           "zerolinecolor": "white",
           "zerolinewidth": 2
          },
          "yaxis": {
           "automargin": true,
           "gridcolor": "white",
           "linecolor": "white",
           "ticks": "",
           "title": {
            "standoff": 15
           },
           "zerolinecolor": "white",
           "zerolinewidth": 2
          }
         }
        },
        "title": {
         "font": {
          "color": "#4D5663"
         }
        },
        "xaxis": {
         "gridcolor": "#E1E5ED",
         "showgrid": true,
         "tickfont": {
          "color": "#4D5663"
         },
         "title": {
          "font": {
           "color": "#4D5663"
          },
          "text": ""
         },
         "zerolinecolor": "#E1E5ED"
        },
        "yaxis": {
         "gridcolor": "#E1E5ED",
         "showgrid": true,
         "tickfont": {
          "color": "#4D5663"
         },
         "title": {
          "font": {
           "color": "#4D5663"
          },
          "text": ""
         },
         "zerolinecolor": "#E1E5ED"
        }
       }
      },
      "text/html": [
       "<div>                            <div id=\"dba3b02d-8d53-4173-8229-4eb2c4725281\" class=\"plotly-graph-div\" style=\"height:525px; width:100%;\"></div>            <script type=\"text/javascript\">                require([\"plotly\"], function(Plotly) {                    window.PLOTLYENV=window.PLOTLYENV || {};\n",
       "                    window.PLOTLYENV.BASE_URL='https://plot.ly';                                    if (document.getElementById(\"dba3b02d-8d53-4173-8229-4eb2c4725281\")) {                    Plotly.newPlot(                        \"dba3b02d-8d53-4173-8229-4eb2c4725281\",                        [{\"marker\": {\"color\": [\"rgb(255, 153, 51)\", \"rgb(55, 128, 191)\", \"rgb(50, 171, 96)\", \"rgb(128, 0, 128)\", \"rgb(219, 64, 82)\", \"rgb(0, 128, 128)\", \"rgb(255, 255, 51)\", \"rgb(128, 128, 0)\", \"rgb(251, 128, 114)\", \"rgb(128, 177, 211)\"], \"line\": {\"width\": 1.3}, \"size\": [58, 106, 67, 51, 33, 46, 59, 102, 40, 82, 55, 76, 56, 57, 32, 84, 70, 80, 69, 88, 81, 43, 62, 47, 78, 40, 74, 68, 55, 53, 49, 64, 77, 29, 57, 46, 61, 74, 67, 61, 61, 12, 80, 43, 51, 41, 58, 25, 80, 42, 73, 33, 64, 33, 12, 66, 79, 60, 40, 50, 45, 30, 53, 112, 69, 55, 77, 71, 56, 74, 28, 77, 51, 36, 99, 40, 60, 46, 36, 104, 67, 66, 40, 44, 74, 88, 57, 19, 97, 66, 54, 16, 25, 27, 97, 44, 93, 65, 48, 93], \"symbol\": \"circle\"}, \"mode\": \"markers\", \"text\": \"\", \"type\": \"scatter\", \"x\": [0.2833623675227722, -1.127271506470818, 0.5301991988413371, -0.9076037526358803, 0.3045832521261345, 1.5802942678868173, 1.9590307813960588, 0.4506493866329785, -0.16613983560977538, 0.46344861995238673, -0.3029747794229369, 1.0872271658066728, -1.6069227916919724, -0.06024722082744196, -1.000922647114807, -0.8428459274937556, 0.29478573314485923, -0.25339222119091565, 0.7187247748507258, 1.3353341377998886, -0.3132263384895011, -0.39118000703348754, -1.7291172658029401, -0.5693280082171505, -0.18087539462310423, 0.6036481562105745, 0.16176229925673608, 0.5404933164826498, -0.050736094303384584, -1.7608032679833248, 1.1206641776550978, 0.2838819671315071, -0.5719968871072524, -0.19937518829329207, -1.2092967930008358, -2.1550539493577956, -0.8506827098252433, 0.09807027557339956, -0.20852721520392994, 0.0912904455286591, 0.8507029232627918, 0.7463037519235868, 0.1599236640979604, -1.462351188047253, 0.457348739903739, 0.7556632254955828, 0.22062598272523387, -0.27599288567352176, -0.08651902719832559, -0.09390592780647052, 0.24038800777499403, 0.9386699960214014, -0.37020709228577187, -1.4755040676184674, 0.4819500836736902, 1.536663027126891, -1.8092408905159583, 0.033277606986312054, 0.09798696404977163, -0.32247346929781884, -1.555270331626882, 0.9876894317407412, 0.00028416691420902416, -0.39456722234572883, -0.08365889875132763, 0.8416210966617714, 0.7546325779328649, 0.6720135507751842, -0.1608911463122692, 0.7573962711229544, -1.174575815424979, -0.6613932481307679, 0.005947420146648111, -0.395531939861682, -1.4391168822911, -1.3339009646738926, -0.3886619660027748, 1.6126444498295815, -1.6794064847194896, -0.30320536220958877, 0.9461461594017028, -0.06348775003781486, -2.124844609404621, 0.08835640937139362, 2.6901798168203337, 0.6518982468613443, 0.16121683466285788, 0.5534423738048103, -0.0540939855612481, -0.33942531987529156, 0.04449274194965574, -1.6732075886435611, -1.3900365917463668, 0.49685876161216186, 0.08337278758692533, 1.4442163263090961, -1.0831084992907014, -1.0583044225528533, 1.1535020255004065, 0.5301801527396007], \"y\": [-0.12933625164448187, 0.13103167279239178, -0.2783800153100398, -0.4479072949745716, 0.6150291508003769, 0.04737160814250403, 0.724359524718601, 0.9068787283284158, -0.2834212092124333, 1.3846874642484022, -0.7900873096135989, 1.9990860724476802, 0.06513492061042847, 0.3761237870614334, 1.306002077023205, 0.21675678154141828, -0.17672460240902965, -1.6173317754480456, -0.3314978333603156, 1.3484994220885849, -1.2528411501569485, -0.7478995842212484, 0.8861269234986784, -0.6134231551246254, -0.5167498588077946, 0.9238994036778923, 0.30770452064141585, 1.2560612137362714, 0.4293958271803, -0.9714001809114541, 0.0529499288742505, -1.3136810389141642, -1.2976580632562906, 1.842221725391775, -1.0566420608604992, 0.12321025879006645, -0.13612878866987144, 0.22462263883719774, -0.003217995196276888, 2.6856075213904202, 2.4830248621546605, 0.8821380943095746, 0.9996863770264012, -0.003627477831770408, -1.2723142719885756, -0.30948703037988406, 0.8843284070240234, -1.619507799527179, -0.4335750367397115, 1.0655440640665477, 0.43200915741373525, 1.9197500330210822, 0.15084415313177363, -2.71184007998908, 1.7048789872131893, 0.8192423426391454, -0.9901671207511124, -1.6328634527925319, 0.21341038490737793, -1.658496320844627, -1.3250190128424661, -0.535465094697021, 0.3473214304769248, -0.25946471137270866, -0.888522689105521, -0.9531852049657755, 0.28526318110518045, -1.534240751475243, 0.8163815140281812, -1.8164535882003214, -1.213659476037669, -0.20474995625923617, 0.6709269694895401, 0.7928575255755295, 2.1310876397916347, 2.073222829167607, 1.0144150232185323, -0.07502724401221807, -0.04616501318666702, 1.9666741653159439, -0.1018163441743207, -0.2982981792733883, -0.12177935394126996, -0.34511438462030997, -0.24258558078122744, 0.08381699731823941, -0.18605525538332446, -0.07394916136370062, 0.41322139524717544, 1.098441891414735, 0.09232940542087814, -0.043577383753931234, 0.6529138894554455, 0.24426145948580733, 1.4830111845032046, -0.7322574441943723, -0.8515162512068878, -0.6158076287305354, -0.020335173306272214, -0.6668910616530364]}],                        {\"legend\": {\"bgcolor\": \"#F5F6F9\", \"font\": {\"color\": \"#4D5663\"}}, \"paper_bgcolor\": \"#F5F6F9\", \"plot_bgcolor\": \"#F5F6F9\", \"template\": {\"data\": {\"bar\": [{\"error_x\": {\"color\": \"#2a3f5f\"}, \"error_y\": {\"color\": \"#2a3f5f\"}, \"marker\": {\"line\": {\"color\": \"#E5ECF6\", \"width\": 0.5}}, \"type\": \"bar\"}], \"barpolar\": [{\"marker\": {\"line\": {\"color\": \"#E5ECF6\", \"width\": 0.5}}, \"type\": \"barpolar\"}], \"carpet\": [{\"aaxis\": {\"endlinecolor\": \"#2a3f5f\", \"gridcolor\": \"white\", \"linecolor\": \"white\", \"minorgridcolor\": \"white\", \"startlinecolor\": \"#2a3f5f\"}, \"baxis\": {\"endlinecolor\": \"#2a3f5f\", \"gridcolor\": \"white\", \"linecolor\": \"white\", \"minorgridcolor\": \"white\", \"startlinecolor\": \"#2a3f5f\"}, \"type\": \"carpet\"}], \"choropleth\": [{\"colorbar\": {\"outlinewidth\": 0, \"ticks\": \"\"}, \"type\": \"choropleth\"}], \"contour\": [{\"colorbar\": {\"outlinewidth\": 0, \"ticks\": \"\"}, \"colorscale\": [[0.0, \"#0d0887\"], [0.1111111111111111, \"#46039f\"], [0.2222222222222222, \"#7201a8\"], [0.3333333333333333, \"#9c179e\"], [0.4444444444444444, \"#bd3786\"], [0.5555555555555556, \"#d8576b\"], [0.6666666666666666, \"#ed7953\"], [0.7777777777777778, \"#fb9f3a\"], [0.8888888888888888, \"#fdca26\"], [1.0, \"#f0f921\"]], \"type\": \"contour\"}], \"contourcarpet\": [{\"colorbar\": {\"outlinewidth\": 0, \"ticks\": \"\"}, \"type\": \"contourcarpet\"}], \"heatmap\": [{\"colorbar\": {\"outlinewidth\": 0, \"ticks\": \"\"}, \"colorscale\": [[0.0, \"#0d0887\"], [0.1111111111111111, \"#46039f\"], [0.2222222222222222, \"#7201a8\"], [0.3333333333333333, \"#9c179e\"], [0.4444444444444444, \"#bd3786\"], [0.5555555555555556, \"#d8576b\"], [0.6666666666666666, \"#ed7953\"], [0.7777777777777778, \"#fb9f3a\"], [0.8888888888888888, \"#fdca26\"], [1.0, \"#f0f921\"]], \"type\": \"heatmap\"}], \"heatmapgl\": [{\"colorbar\": {\"outlinewidth\": 0, \"ticks\": \"\"}, \"colorscale\": [[0.0, \"#0d0887\"], [0.1111111111111111, \"#46039f\"], [0.2222222222222222, \"#7201a8\"], [0.3333333333333333, \"#9c179e\"], [0.4444444444444444, \"#bd3786\"], [0.5555555555555556, \"#d8576b\"], [0.6666666666666666, \"#ed7953\"], [0.7777777777777778, \"#fb9f3a\"], [0.8888888888888888, \"#fdca26\"], [1.0, \"#f0f921\"]], \"type\": \"heatmapgl\"}], \"histogram\": [{\"marker\": {\"colorbar\": {\"outlinewidth\": 0, \"ticks\": \"\"}}, \"type\": \"histogram\"}], \"histogram2d\": [{\"colorbar\": {\"outlinewidth\": 0, \"ticks\": \"\"}, \"colorscale\": [[0.0, \"#0d0887\"], [0.1111111111111111, \"#46039f\"], [0.2222222222222222, \"#7201a8\"], [0.3333333333333333, \"#9c179e\"], [0.4444444444444444, \"#bd3786\"], [0.5555555555555556, \"#d8576b\"], [0.6666666666666666, \"#ed7953\"], [0.7777777777777778, \"#fb9f3a\"], [0.8888888888888888, \"#fdca26\"], [1.0, \"#f0f921\"]], \"type\": \"histogram2d\"}], \"histogram2dcontour\": [{\"colorbar\": {\"outlinewidth\": 0, \"ticks\": \"\"}, \"colorscale\": [[0.0, \"#0d0887\"], [0.1111111111111111, \"#46039f\"], [0.2222222222222222, \"#7201a8\"], [0.3333333333333333, \"#9c179e\"], [0.4444444444444444, \"#bd3786\"], [0.5555555555555556, \"#d8576b\"], [0.6666666666666666, \"#ed7953\"], [0.7777777777777778, \"#fb9f3a\"], [0.8888888888888888, \"#fdca26\"], [1.0, \"#f0f921\"]], \"type\": \"histogram2dcontour\"}], \"mesh3d\": [{\"colorbar\": {\"outlinewidth\": 0, \"ticks\": \"\"}, \"type\": \"mesh3d\"}], \"parcoords\": [{\"line\": {\"colorbar\": {\"outlinewidth\": 0, \"ticks\": \"\"}}, \"type\": \"parcoords\"}], \"pie\": [{\"automargin\": true, \"type\": \"pie\"}], \"scatter\": [{\"marker\": {\"colorbar\": {\"outlinewidth\": 0, \"ticks\": \"\"}}, \"type\": \"scatter\"}], \"scatter3d\": [{\"line\": {\"colorbar\": {\"outlinewidth\": 0, \"ticks\": \"\"}}, \"marker\": {\"colorbar\": {\"outlinewidth\": 0, \"ticks\": \"\"}}, \"type\": \"scatter3d\"}], \"scattercarpet\": [{\"marker\": {\"colorbar\": {\"outlinewidth\": 0, \"ticks\": \"\"}}, \"type\": \"scattercarpet\"}], \"scattergeo\": [{\"marker\": {\"colorbar\": {\"outlinewidth\": 0, \"ticks\": \"\"}}, \"type\": \"scattergeo\"}], \"scattergl\": [{\"marker\": {\"colorbar\": {\"outlinewidth\": 0, \"ticks\": \"\"}}, \"type\": \"scattergl\"}], \"scattermapbox\": [{\"marker\": {\"colorbar\": {\"outlinewidth\": 0, \"ticks\": \"\"}}, \"type\": \"scattermapbox\"}], \"scatterpolar\": [{\"marker\": {\"colorbar\": {\"outlinewidth\": 0, \"ticks\": \"\"}}, \"type\": \"scatterpolar\"}], \"scatterpolargl\": [{\"marker\": {\"colorbar\": {\"outlinewidth\": 0, \"ticks\": \"\"}}, \"type\": \"scatterpolargl\"}], \"scatterternary\": [{\"marker\": {\"colorbar\": {\"outlinewidth\": 0, \"ticks\": \"\"}}, \"type\": \"scatterternary\"}], \"surface\": [{\"colorbar\": {\"outlinewidth\": 0, \"ticks\": \"\"}, \"colorscale\": [[0.0, \"#0d0887\"], [0.1111111111111111, \"#46039f\"], [0.2222222222222222, \"#7201a8\"], [0.3333333333333333, \"#9c179e\"], [0.4444444444444444, \"#bd3786\"], [0.5555555555555556, \"#d8576b\"], [0.6666666666666666, \"#ed7953\"], [0.7777777777777778, \"#fb9f3a\"], [0.8888888888888888, \"#fdca26\"], [1.0, \"#f0f921\"]], \"type\": \"surface\"}], \"table\": [{\"cells\": {\"fill\": {\"color\": \"#EBF0F8\"}, \"line\": {\"color\": \"white\"}}, \"header\": {\"fill\": {\"color\": \"#C8D4E3\"}, \"line\": {\"color\": \"white\"}}, \"type\": \"table\"}]}, \"layout\": {\"annotationdefaults\": {\"arrowcolor\": \"#2a3f5f\", \"arrowhead\": 0, \"arrowwidth\": 1}, \"coloraxis\": {\"colorbar\": {\"outlinewidth\": 0, \"ticks\": \"\"}}, \"colorscale\": {\"diverging\": [[0, \"#8e0152\"], [0.1, \"#c51b7d\"], [0.2, \"#de77ae\"], [0.3, \"#f1b6da\"], [0.4, \"#fde0ef\"], [0.5, \"#f7f7f7\"], [0.6, \"#e6f5d0\"], [0.7, \"#b8e186\"], [0.8, \"#7fbc41\"], [0.9, \"#4d9221\"], [1, \"#276419\"]], \"sequential\": [[0.0, \"#0d0887\"], [0.1111111111111111, \"#46039f\"], [0.2222222222222222, \"#7201a8\"], [0.3333333333333333, \"#9c179e\"], [0.4444444444444444, \"#bd3786\"], [0.5555555555555556, \"#d8576b\"], [0.6666666666666666, \"#ed7953\"], [0.7777777777777778, \"#fb9f3a\"], [0.8888888888888888, \"#fdca26\"], [1.0, \"#f0f921\"]], \"sequentialminus\": [[0.0, \"#0d0887\"], [0.1111111111111111, \"#46039f\"], [0.2222222222222222, \"#7201a8\"], [0.3333333333333333, \"#9c179e\"], [0.4444444444444444, \"#bd3786\"], [0.5555555555555556, \"#d8576b\"], [0.6666666666666666, \"#ed7953\"], [0.7777777777777778, \"#fb9f3a\"], [0.8888888888888888, \"#fdca26\"], [1.0, \"#f0f921\"]]}, \"colorway\": [\"#636efa\", \"#EF553B\", \"#00cc96\", \"#ab63fa\", \"#FFA15A\", \"#19d3f3\", \"#FF6692\", \"#B6E880\", \"#FF97FF\", \"#FECB52\"], \"font\": {\"color\": \"#2a3f5f\"}, \"geo\": {\"bgcolor\": \"white\", \"lakecolor\": \"white\", \"landcolor\": \"#E5ECF6\", \"showlakes\": true, \"showland\": true, \"subunitcolor\": \"white\"}, \"hoverlabel\": {\"align\": \"left\"}, \"hovermode\": \"closest\", \"mapbox\": {\"style\": \"light\"}, \"paper_bgcolor\": \"white\", \"plot_bgcolor\": \"#E5ECF6\", \"polar\": {\"angularaxis\": {\"gridcolor\": \"white\", \"linecolor\": \"white\", \"ticks\": \"\"}, \"bgcolor\": \"#E5ECF6\", \"radialaxis\": {\"gridcolor\": \"white\", \"linecolor\": \"white\", \"ticks\": \"\"}}, \"scene\": {\"xaxis\": {\"backgroundcolor\": \"#E5ECF6\", \"gridcolor\": \"white\", \"gridwidth\": 2, \"linecolor\": \"white\", \"showbackground\": true, \"ticks\": \"\", \"zerolinecolor\": \"white\"}, \"yaxis\": {\"backgroundcolor\": \"#E5ECF6\", \"gridcolor\": \"white\", \"gridwidth\": 2, \"linecolor\": \"white\", \"showbackground\": true, \"ticks\": \"\", \"zerolinecolor\": \"white\"}, \"zaxis\": {\"backgroundcolor\": \"#E5ECF6\", \"gridcolor\": \"white\", \"gridwidth\": 2, \"linecolor\": \"white\", \"showbackground\": true, \"ticks\": \"\", \"zerolinecolor\": \"white\"}}, \"shapedefaults\": {\"line\": {\"color\": \"#2a3f5f\"}}, \"ternary\": {\"aaxis\": {\"gridcolor\": \"white\", \"linecolor\": \"white\", \"ticks\": \"\"}, \"baxis\": {\"gridcolor\": \"white\", \"linecolor\": \"white\", \"ticks\": \"\"}, \"bgcolor\": \"#E5ECF6\", \"caxis\": {\"gridcolor\": \"white\", \"linecolor\": \"white\", \"ticks\": \"\"}}, \"title\": {\"x\": 0.05}, \"xaxis\": {\"automargin\": true, \"gridcolor\": \"white\", \"linecolor\": \"white\", \"ticks\": \"\", \"title\": {\"standoff\": 15}, \"zerolinecolor\": \"white\", \"zerolinewidth\": 2}, \"yaxis\": {\"automargin\": true, \"gridcolor\": \"white\", \"linecolor\": \"white\", \"ticks\": \"\", \"title\": {\"standoff\": 15}, \"zerolinecolor\": \"white\", \"zerolinewidth\": 2}}}, \"title\": {\"font\": {\"color\": \"#4D5663\"}}, \"xaxis\": {\"gridcolor\": \"#E1E5ED\", \"showgrid\": true, \"tickfont\": {\"color\": \"#4D5663\"}, \"title\": {\"font\": {\"color\": \"#4D5663\"}, \"text\": \"\"}, \"zerolinecolor\": \"#E1E5ED\"}, \"yaxis\": {\"gridcolor\": \"#E1E5ED\", \"showgrid\": true, \"tickfont\": {\"color\": \"#4D5663\"}, \"title\": {\"font\": {\"color\": \"#4D5663\"}, \"text\": \"\"}, \"zerolinecolor\": \"#E1E5ED\"}},                        {\"showLink\": true, \"linkText\": \"Export to plot.ly\", \"plotlyServerURL\": \"https://plot.ly\", \"responsive\": true}                    ).then(function(){\n",
       "                            \n",
       "var gd = document.getElementById('dba3b02d-8d53-4173-8229-4eb2c4725281');\n",
       "var x = new MutationObserver(function (mutations, observer) {{\n",
       "        var display = window.getComputedStyle(gd).display;\n",
       "        if (!display || display === 'none') {{\n",
       "            console.log([gd, 'removed!']);\n",
       "            Plotly.purge(gd);\n",
       "            observer.disconnect();\n",
       "        }}\n",
       "}});\n",
       "\n",
       "// Listen for the removal of the full notebook cells\n",
       "var notebookContainer = gd.closest('#notebook-container');\n",
       "if (notebookContainer) {{\n",
       "    x.observe(notebookContainer, {childList: true});\n",
       "}}\n",
       "\n",
       "// Listen for the clearing of the current output cell\n",
       "var outputEl = gd.closest('.output');\n",
       "if (outputEl) {{\n",
       "    x.observe(outputEl, {childList: true});\n",
       "}}\n",
       "\n",
       "                        })                };                });            </script>        </div>"
      ]
     },
     "metadata": {},
     "output_type": "display_data"
    }
   ],
   "source": [
    "df.iplot(kind='bubble', x='A', y='B', size='C')"
   ]
  },
  {
   "cell_type": "markdown",
   "metadata": {},
   "source": [
    "## Scatter Matrix"
   ]
  },
  {
   "cell_type": "code",
   "execution_count": 39,
   "metadata": {},
   "outputs": [
    {
     "data": {
      "application/vnd.plotly.v1+json": {
       "config": {
        "linkText": "Export to plot.ly",
        "plotlyServerURL": "https://plot.ly",
        "showLink": true
       },
       "data": [
        {
         "histfunc": "count",
         "histnorm": "",
         "marker": {
          "color": "rgba(255, 153, 51, 1.0)",
          "line": {
           "color": "#4D5663",
           "width": 1.3
          }
         },
         "name": "A",
         "nbinsx": 10,
         "opacity": 0.8,
         "orientation": "v",
         "type": "histogram",
         "x": [
          0.2833623675227722,
          -1.127271506470818,
          0.5301991988413371,
          -0.9076037526358803,
          0.3045832521261345,
          1.5802942678868173,
          1.9590307813960588,
          0.4506493866329785,
          -0.16613983560977538,
          0.46344861995238673,
          -0.3029747794229369,
          1.0872271658066728,
          -1.6069227916919724,
          -0.06024722082744196,
          -1.000922647114807,
          -0.8428459274937556,
          0.29478573314485923,
          -0.25339222119091565,
          0.7187247748507258,
          1.3353341377998886,
          -0.3132263384895011,
          -0.39118000703348754,
          -1.7291172658029401,
          -0.5693280082171505,
          -0.18087539462310423,
          0.6036481562105745,
          0.16176229925673608,
          0.5404933164826498,
          -0.050736094303384584,
          -1.7608032679833248,
          1.1206641776550978,
          0.2838819671315071,
          -0.5719968871072524,
          -0.19937518829329207,
          -1.2092967930008358,
          -2.1550539493577956,
          -0.8506827098252433,
          0.09807027557339956,
          -0.20852721520392994,
          0.0912904455286591,
          0.8507029232627918,
          0.7463037519235868,
          0.1599236640979604,
          -1.462351188047253,
          0.457348739903739,
          0.7556632254955828,
          0.22062598272523387,
          -0.27599288567352176,
          -0.08651902719832559,
          -0.09390592780647052,
          0.24038800777499403,
          0.9386699960214014,
          -0.37020709228577187,
          -1.4755040676184674,
          0.4819500836736902,
          1.536663027126891,
          -1.8092408905159583,
          0.033277606986312054,
          0.09798696404977163,
          -0.32247346929781884,
          -1.555270331626882,
          0.9876894317407412,
          0.00028416691420902416,
          -0.39456722234572883,
          -0.08365889875132763,
          0.8416210966617714,
          0.7546325779328649,
          0.6720135507751842,
          -0.1608911463122692,
          0.7573962711229544,
          -1.174575815424979,
          -0.6613932481307679,
          0.005947420146648111,
          -0.395531939861682,
          -1.4391168822911,
          -1.3339009646738926,
          -0.3886619660027748,
          1.6126444498295815,
          -1.6794064847194896,
          -0.30320536220958877,
          0.9461461594017028,
          -0.06348775003781486,
          -2.124844609404621,
          0.08835640937139362,
          2.6901798168203337,
          0.6518982468613443,
          0.16121683466285788,
          0.5534423738048103,
          -0.0540939855612481,
          -0.33942531987529156,
          0.04449274194965574,
          -1.6732075886435611,
          -1.3900365917463668,
          0.49685876161216186,
          0.08337278758692533,
          1.4442163263090961,
          -1.0831084992907014,
          -1.0583044225528533,
          1.1535020255004065,
          0.5301801527396007
         ],
         "xaxis": "x",
         "yaxis": "y"
        },
        {
         "line": {
          "color": "rgba(128, 128, 128, 1.0)",
          "dash": "solid",
          "shape": "linear",
          "width": 1.3
         },
         "marker": {
          "size": 2,
          "symbol": "circle"
         },
         "mode": "markers",
         "name": "A",
         "text": "",
         "type": "scatter",
         "x": [
          -0.12933625164448187,
          0.13103167279239178,
          -0.2783800153100398,
          -0.4479072949745716,
          0.6150291508003769,
          0.04737160814250403,
          0.724359524718601,
          0.9068787283284158,
          -0.2834212092124333,
          1.3846874642484022,
          -0.7900873096135989,
          1.9990860724476802,
          0.06513492061042847,
          0.3761237870614334,
          1.306002077023205,
          0.21675678154141828,
          -0.17672460240902965,
          -1.6173317754480456,
          -0.3314978333603156,
          1.3484994220885849,
          -1.2528411501569485,
          -0.7478995842212484,
          0.8861269234986784,
          -0.6134231551246254,
          -0.5167498588077946,
          0.9238994036778923,
          0.30770452064141585,
          1.2560612137362714,
          0.4293958271803,
          -0.9714001809114541,
          0.0529499288742505,
          -1.3136810389141642,
          -1.2976580632562906,
          1.842221725391775,
          -1.0566420608604992,
          0.12321025879006645,
          -0.13612878866987144,
          0.22462263883719774,
          -0.003217995196276888,
          2.6856075213904202,
          2.4830248621546605,
          0.8821380943095746,
          0.9996863770264012,
          -0.003627477831770408,
          -1.2723142719885756,
          -0.30948703037988406,
          0.8843284070240234,
          -1.619507799527179,
          -0.4335750367397115,
          1.0655440640665477,
          0.43200915741373525,
          1.9197500330210822,
          0.15084415313177363,
          -2.71184007998908,
          1.7048789872131893,
          0.8192423426391454,
          -0.9901671207511124,
          -1.6328634527925319,
          0.21341038490737793,
          -1.658496320844627,
          -1.3250190128424661,
          -0.535465094697021,
          0.3473214304769248,
          -0.25946471137270866,
          -0.888522689105521,
          -0.9531852049657755,
          0.28526318110518045,
          -1.534240751475243,
          0.8163815140281812,
          -1.8164535882003214,
          -1.213659476037669,
          -0.20474995625923617,
          0.6709269694895401,
          0.7928575255755295,
          2.1310876397916347,
          2.073222829167607,
          1.0144150232185323,
          -0.07502724401221807,
          -0.04616501318666702,
          1.9666741653159439,
          -0.1018163441743207,
          -0.2982981792733883,
          -0.12177935394126996,
          -0.34511438462030997,
          -0.24258558078122744,
          0.08381699731823941,
          -0.18605525538332446,
          -0.07394916136370062,
          0.41322139524717544,
          1.098441891414735,
          0.09232940542087814,
          -0.043577383753931234,
          0.6529138894554455,
          0.24426145948580733,
          1.4830111845032046,
          -0.7322574441943723,
          -0.8515162512068878,
          -0.6158076287305354,
          -0.020335173306272214,
          -0.6668910616530364
         ],
         "xaxis": "x2",
         "y": [
          0.2833623675227722,
          -1.127271506470818,
          0.5301991988413371,
          -0.9076037526358803,
          0.3045832521261345,
          1.5802942678868173,
          1.9590307813960588,
          0.4506493866329785,
          -0.16613983560977538,
          0.46344861995238673,
          -0.3029747794229369,
          1.0872271658066728,
          -1.6069227916919724,
          -0.06024722082744196,
          -1.000922647114807,
          -0.8428459274937556,
          0.29478573314485923,
          -0.25339222119091565,
          0.7187247748507258,
          1.3353341377998886,
          -0.3132263384895011,
          -0.39118000703348754,
          -1.7291172658029401,
          -0.5693280082171505,
          -0.18087539462310423,
          0.6036481562105745,
          0.16176229925673608,
          0.5404933164826498,
          -0.050736094303384584,
          -1.7608032679833248,
          1.1206641776550978,
          0.2838819671315071,
          -0.5719968871072524,
          -0.19937518829329207,
          -1.2092967930008358,
          -2.1550539493577956,
          -0.8506827098252433,
          0.09807027557339956,
          -0.20852721520392994,
          0.0912904455286591,
          0.8507029232627918,
          0.7463037519235868,
          0.1599236640979604,
          -1.462351188047253,
          0.457348739903739,
          0.7556632254955828,
          0.22062598272523387,
          -0.27599288567352176,
          -0.08651902719832559,
          -0.09390592780647052,
          0.24038800777499403,
          0.9386699960214014,
          -0.37020709228577187,
          -1.4755040676184674,
          0.4819500836736902,
          1.536663027126891,
          -1.8092408905159583,
          0.033277606986312054,
          0.09798696404977163,
          -0.32247346929781884,
          -1.555270331626882,
          0.9876894317407412,
          0.00028416691420902416,
          -0.39456722234572883,
          -0.08365889875132763,
          0.8416210966617714,
          0.7546325779328649,
          0.6720135507751842,
          -0.1608911463122692,
          0.7573962711229544,
          -1.174575815424979,
          -0.6613932481307679,
          0.005947420146648111,
          -0.395531939861682,
          -1.4391168822911,
          -1.3339009646738926,
          -0.3886619660027748,
          1.6126444498295815,
          -1.6794064847194896,
          -0.30320536220958877,
          0.9461461594017028,
          -0.06348775003781486,
          -2.124844609404621,
          0.08835640937139362,
          2.6901798168203337,
          0.6518982468613443,
          0.16121683466285788,
          0.5534423738048103,
          -0.0540939855612481,
          -0.33942531987529156,
          0.04449274194965574,
          -1.6732075886435611,
          -1.3900365917463668,
          0.49685876161216186,
          0.08337278758692533,
          1.4442163263090961,
          -1.0831084992907014,
          -1.0583044225528533,
          1.1535020255004065,
          0.5301801527396007
         ],
         "yaxis": "y2"
        },
        {
         "line": {
          "color": "rgba(128, 128, 128, 1.0)",
          "dash": "solid",
          "shape": "linear",
          "width": 1.3
         },
         "marker": {
          "size": 2,
          "symbol": "circle"
         },
         "mode": "markers",
         "name": "A",
         "text": "",
         "type": "scatter",
         "x": [
          0.018304062145121796,
          2.019560754593152,
          0.42626945686576057,
          -0.2739679545653923,
          -0.997470781234299,
          -0.4503484953971212,
          0.05658522896126178,
          1.8703946758539833,
          -0.7282192165981017,
          1.0130887851430903,
          -0.10412595903727308,
          0.7723039698034716,
          -0.06025944559918106,
          -0.010354771633410958,
          -1.0602696860984755,
          1.1050084100426039,
          0.5485003927777916,
          0.9620419540774584,
          0.49128914698941123,
          1.2894853079161406,
          0.992477393767811,
          -0.6008012606025712,
          0.19476008014146914,
          -0.43162557226475934,
          0.867260093335228,
          -0.6997608098644535,
          0.6877716080348647,
          0.4660829399051041,
          -0.08536836649304284,
          -0.18964437507119677,
          -0.3322133063995614,
          0.27578424620315134,
          0.8063923437482271,
          -1.1628782053179392,
          0.0016177627350909575,
          -0.46436331315096663,
          0.15959018813893852,
          0.7077743871910742,
          0.39785969275151184,
          0.15125646833970402,
          0.14721214493331997,
          -1.8890937356112523,
          0.9370721993704706,
          -0.5804723441556117,
          -0.2350651451925488,
          -0.6674631147974077,
          0.02178475613693451,
          -1.3371935361464589,
          0.9526116704709032,
          -0.6081704213007355,
          0.6571963675789121,
          -0.9820874029605368,
          0.2725657620170841,
          -0.9904415670560973,
          -1.849058299728199,
          0.38015458845456834,
          0.8909796578205339,
          0.11902953150791908,
          -0.7012940906761457,
          -0.29974258165132417,
          -0.49365558541711935,
          -1.1159286304908431,
          -0.1567280612065704,
          2.2497285275914063,
          0.4956714825395612,
          -0.07547408536663255,
          0.8232769911074701,
          0.5900584624509049,
          -0.05725963313849215,
          0.6819320413184793,
          -1.1910889539700689,
          0.8093801574983543,
          -0.23897977149795457,
          -0.8901446846458919,
          1.720009001354134,
          -0.6975196389152628,
          0.11004468433955364,
          -0.46526464429070824,
          -0.8936350951103114,
          1.928652152916678,
          0.4101906275374475,
          0.3741917471953431,
          -0.7062904196750375,
          -0.5253432726929733,
          0.6971537769431922,
          1.2856277367726674,
          -0.012212380541684805,
          -1.5985386798165575,
          1.6404222204367034,
          0.3708504880946784,
          -0.1297059977919652,
          -1.705705487812127,
          -1.3506013383049886,
          -1.22973244817741,
          1.653108443530469,
          -0.555410614110448,
          1.498197880074332,
          0.3382822390084572,
          -0.3597481333139245,
          1.4929199677948024
         ],
         "xaxis": "x3",
         "y": [
          0.2833623675227722,
          -1.127271506470818,
          0.5301991988413371,
          -0.9076037526358803,
          0.3045832521261345,
          1.5802942678868173,
          1.9590307813960588,
          0.4506493866329785,
          -0.16613983560977538,
          0.46344861995238673,
          -0.3029747794229369,
          1.0872271658066728,
          -1.6069227916919724,
          -0.06024722082744196,
          -1.000922647114807,
          -0.8428459274937556,
          0.29478573314485923,
          -0.25339222119091565,
          0.7187247748507258,
          1.3353341377998886,
          -0.3132263384895011,
          -0.39118000703348754,
          -1.7291172658029401,
          -0.5693280082171505,
          -0.18087539462310423,
          0.6036481562105745,
          0.16176229925673608,
          0.5404933164826498,
          -0.050736094303384584,
          -1.7608032679833248,
          1.1206641776550978,
          0.2838819671315071,
          -0.5719968871072524,
          -0.19937518829329207,
          -1.2092967930008358,
          -2.1550539493577956,
          -0.8506827098252433,
          0.09807027557339956,
          -0.20852721520392994,
          0.0912904455286591,
          0.8507029232627918,
          0.7463037519235868,
          0.1599236640979604,
          -1.462351188047253,
          0.457348739903739,
          0.7556632254955828,
          0.22062598272523387,
          -0.27599288567352176,
          -0.08651902719832559,
          -0.09390592780647052,
          0.24038800777499403,
          0.9386699960214014,
          -0.37020709228577187,
          -1.4755040676184674,
          0.4819500836736902,
          1.536663027126891,
          -1.8092408905159583,
          0.033277606986312054,
          0.09798696404977163,
          -0.32247346929781884,
          -1.555270331626882,
          0.9876894317407412,
          0.00028416691420902416,
          -0.39456722234572883,
          -0.08365889875132763,
          0.8416210966617714,
          0.7546325779328649,
          0.6720135507751842,
          -0.1608911463122692,
          0.7573962711229544,
          -1.174575815424979,
          -0.6613932481307679,
          0.005947420146648111,
          -0.395531939861682,
          -1.4391168822911,
          -1.3339009646738926,
          -0.3886619660027748,
          1.6126444498295815,
          -1.6794064847194896,
          -0.30320536220958877,
          0.9461461594017028,
          -0.06348775003781486,
          -2.124844609404621,
          0.08835640937139362,
          2.6901798168203337,
          0.6518982468613443,
          0.16121683466285788,
          0.5534423738048103,
          -0.0540939855612481,
          -0.33942531987529156,
          0.04449274194965574,
          -1.6732075886435611,
          -1.3900365917463668,
          0.49685876161216186,
          0.08337278758692533,
          1.4442163263090961,
          -1.0831084992907014,
          -1.0583044225528533,
          1.1535020255004065,
          0.5301801527396007
         ],
         "yaxis": "y3"
        },
        {
         "line": {
          "color": "rgba(128, 128, 128, 1.0)",
          "dash": "solid",
          "shape": "linear",
          "width": 1.3
         },
         "marker": {
          "size": 2,
          "symbol": "circle"
         },
         "mode": "markers",
         "name": "A",
         "text": "",
         "type": "scatter",
         "x": [
          -0.10216109838905961,
          -0.7656310421934167,
          0.4627481919278918,
          0.9676006214274528,
          0.926423776406431,
          -1.2317828753206672,
          -0.5628576478198102,
          2.504698142086036,
          -0.7737906758600905,
          1.164448663529737,
          0.2194657342618466,
          -1.5607971961887463,
          -1.416330514049092,
          0.6022444830440444,
          -0.9967003017604306,
          0.7165759040467021,
          -1.0270307209633915,
          0.24244449524876405,
          -0.5716852539984539,
          -0.48018727006504236,
          -0.6222621259478935,
          0.5345674934143281,
          0.43066330589856916,
          0.39671996353224714,
          -1.7478511876548124,
          -0.6558305603981607,
          -1.7588752942876509,
          -0.27901605793121487,
          -0.749927124658345,
          0.03519509179408801,
          0.6844835308390853,
          0.8016764794186388,
          -1.805456628608875,
          0.5493382492540594,
          -0.28810485415561893,
          1.776034726551925,
          1.3884960787525806,
          0.4234279651141638,
          -0.08072519087184314,
          -0.14366992536775397,
          -0.3110525320622555,
          -2.258851020385416,
          -0.8778884219465041,
          0.7169531573259034,
          -1.1175552516652947,
          1.998555339200149,
          0.010143811692055183,
          0.9997061409217312,
          0.6864193461963589,
          1.3033752026755039,
          0.17058949843208143,
          1.145439503574977,
          2.4733397056527635,
          0.10495562776449723,
          -1.7114608332231993,
          -2.4304805906032483,
          -0.4285963627332784,
          0.7020655166841565,
          -0.8396898673496372,
          2.524079694264786,
          0.531847360975319,
          -0.5108953101574714,
          -0.7592884951649482,
          -1.9399899488852062,
          0.4312887366747811,
          -1.5001091717186794,
          -1.0353191820511753,
          -1.1859422371830854,
          0.7329268277853427,
          -1.383494128063116,
          0.4132636032392495,
          0.5860992364708144,
          0.463041573680821,
          -1.3695660492015935,
          0.029227875593643714,
          0.566167264096036,
          -1.0254797983782813,
          1.1173861364049216,
          0.5543321247277112,
          1.7776006208415918,
          0.0037431964315748014,
          0.26877480651159624,
          1.769753103285265,
          -0.8217700822449036,
          -0.5765004269474363,
          -0.34946119392723046,
          -2.009057551334199,
          -0.18911911189835176,
          0.08196592547320265,
          -0.6713467690769955,
          1.592816275040431,
          -1.0030357365117704,
          -0.06681179500629934,
          1.7912023856489334,
          0.07609350198462528,
          -1.3227640709596251,
          -1.0083682068497435,
          1.2363708695953775,
          -1.3210175973343643,
          -0.003250788169452081
         ],
         "xaxis": "x4",
         "y": [
          0.2833623675227722,
          -1.127271506470818,
          0.5301991988413371,
          -0.9076037526358803,
          0.3045832521261345,
          1.5802942678868173,
          1.9590307813960588,
          0.4506493866329785,
          -0.16613983560977538,
          0.46344861995238673,
          -0.3029747794229369,
          1.0872271658066728,
          -1.6069227916919724,
          -0.06024722082744196,
          -1.000922647114807,
          -0.8428459274937556,
          0.29478573314485923,
          -0.25339222119091565,
          0.7187247748507258,
          1.3353341377998886,
          -0.3132263384895011,
          -0.39118000703348754,
          -1.7291172658029401,
          -0.5693280082171505,
          -0.18087539462310423,
          0.6036481562105745,
          0.16176229925673608,
          0.5404933164826498,
          -0.050736094303384584,
          -1.7608032679833248,
          1.1206641776550978,
          0.2838819671315071,
          -0.5719968871072524,
          -0.19937518829329207,
          -1.2092967930008358,
          -2.1550539493577956,
          -0.8506827098252433,
          0.09807027557339956,
          -0.20852721520392994,
          0.0912904455286591,
          0.8507029232627918,
          0.7463037519235868,
          0.1599236640979604,
          -1.462351188047253,
          0.457348739903739,
          0.7556632254955828,
          0.22062598272523387,
          -0.27599288567352176,
          -0.08651902719832559,
          -0.09390592780647052,
          0.24038800777499403,
          0.9386699960214014,
          -0.37020709228577187,
          -1.4755040676184674,
          0.4819500836736902,
          1.536663027126891,
          -1.8092408905159583,
          0.033277606986312054,
          0.09798696404977163,
          -0.32247346929781884,
          -1.555270331626882,
          0.9876894317407412,
          0.00028416691420902416,
          -0.39456722234572883,
          -0.08365889875132763,
          0.8416210966617714,
          0.7546325779328649,
          0.6720135507751842,
          -0.1608911463122692,
          0.7573962711229544,
          -1.174575815424979,
          -0.6613932481307679,
          0.005947420146648111,
          -0.395531939861682,
          -1.4391168822911,
          -1.3339009646738926,
          -0.3886619660027748,
          1.6126444498295815,
          -1.6794064847194896,
          -0.30320536220958877,
          0.9461461594017028,
          -0.06348775003781486,
          -2.124844609404621,
          0.08835640937139362,
          2.6901798168203337,
          0.6518982468613443,
          0.16121683466285788,
          0.5534423738048103,
          -0.0540939855612481,
          -0.33942531987529156,
          0.04449274194965574,
          -1.6732075886435611,
          -1.3900365917463668,
          0.49685876161216186,
          0.08337278758692533,
          1.4442163263090961,
          -1.0831084992907014,
          -1.0583044225528533,
          1.1535020255004065,
          0.5301801527396007
         ],
         "yaxis": "y4"
        },
        {
         "line": {
          "color": "rgba(128, 128, 128, 1.0)",
          "dash": "solid",
          "shape": "linear",
          "width": 1.3
         },
         "marker": {
          "size": 2,
          "symbol": "circle"
         },
         "mode": "markers",
         "name": "B",
         "text": "",
         "type": "scatter",
         "x": [
          0.2833623675227722,
          -1.127271506470818,
          0.5301991988413371,
          -0.9076037526358803,
          0.3045832521261345,
          1.5802942678868173,
          1.9590307813960588,
          0.4506493866329785,
          -0.16613983560977538,
          0.46344861995238673,
          -0.3029747794229369,
          1.0872271658066728,
          -1.6069227916919724,
          -0.06024722082744196,
          -1.000922647114807,
          -0.8428459274937556,
          0.29478573314485923,
          -0.25339222119091565,
          0.7187247748507258,
          1.3353341377998886,
          -0.3132263384895011,
          -0.39118000703348754,
          -1.7291172658029401,
          -0.5693280082171505,
          -0.18087539462310423,
          0.6036481562105745,
          0.16176229925673608,
          0.5404933164826498,
          -0.050736094303384584,
          -1.7608032679833248,
          1.1206641776550978,
          0.2838819671315071,
          -0.5719968871072524,
          -0.19937518829329207,
          -1.2092967930008358,
          -2.1550539493577956,
          -0.8506827098252433,
          0.09807027557339956,
          -0.20852721520392994,
          0.0912904455286591,
          0.8507029232627918,
          0.7463037519235868,
          0.1599236640979604,
          -1.462351188047253,
          0.457348739903739,
          0.7556632254955828,
          0.22062598272523387,
          -0.27599288567352176,
          -0.08651902719832559,
          -0.09390592780647052,
          0.24038800777499403,
          0.9386699960214014,
          -0.37020709228577187,
          -1.4755040676184674,
          0.4819500836736902,
          1.536663027126891,
          -1.8092408905159583,
          0.033277606986312054,
          0.09798696404977163,
          -0.32247346929781884,
          -1.555270331626882,
          0.9876894317407412,
          0.00028416691420902416,
          -0.39456722234572883,
          -0.08365889875132763,
          0.8416210966617714,
          0.7546325779328649,
          0.6720135507751842,
          -0.1608911463122692,
          0.7573962711229544,
          -1.174575815424979,
          -0.6613932481307679,
          0.005947420146648111,
          -0.395531939861682,
          -1.4391168822911,
          -1.3339009646738926,
          -0.3886619660027748,
          1.6126444498295815,
          -1.6794064847194896,
          -0.30320536220958877,
          0.9461461594017028,
          -0.06348775003781486,
          -2.124844609404621,
          0.08835640937139362,
          2.6901798168203337,
          0.6518982468613443,
          0.16121683466285788,
          0.5534423738048103,
          -0.0540939855612481,
          -0.33942531987529156,
          0.04449274194965574,
          -1.6732075886435611,
          -1.3900365917463668,
          0.49685876161216186,
          0.08337278758692533,
          1.4442163263090961,
          -1.0831084992907014,
          -1.0583044225528533,
          1.1535020255004065,
          0.5301801527396007
         ],
         "xaxis": "x5",
         "y": [
          -0.12933625164448187,
          0.13103167279239178,
          -0.2783800153100398,
          -0.4479072949745716,
          0.6150291508003769,
          0.04737160814250403,
          0.724359524718601,
          0.9068787283284158,
          -0.2834212092124333,
          1.3846874642484022,
          -0.7900873096135989,
          1.9990860724476802,
          0.06513492061042847,
          0.3761237870614334,
          1.306002077023205,
          0.21675678154141828,
          -0.17672460240902965,
          -1.6173317754480456,
          -0.3314978333603156,
          1.3484994220885849,
          -1.2528411501569485,
          -0.7478995842212484,
          0.8861269234986784,
          -0.6134231551246254,
          -0.5167498588077946,
          0.9238994036778923,
          0.30770452064141585,
          1.2560612137362714,
          0.4293958271803,
          -0.9714001809114541,
          0.0529499288742505,
          -1.3136810389141642,
          -1.2976580632562906,
          1.842221725391775,
          -1.0566420608604992,
          0.12321025879006645,
          -0.13612878866987144,
          0.22462263883719774,
          -0.003217995196276888,
          2.6856075213904202,
          2.4830248621546605,
          0.8821380943095746,
          0.9996863770264012,
          -0.003627477831770408,
          -1.2723142719885756,
          -0.30948703037988406,
          0.8843284070240234,
          -1.619507799527179,
          -0.4335750367397115,
          1.0655440640665477,
          0.43200915741373525,
          1.9197500330210822,
          0.15084415313177363,
          -2.71184007998908,
          1.7048789872131893,
          0.8192423426391454,
          -0.9901671207511124,
          -1.6328634527925319,
          0.21341038490737793,
          -1.658496320844627,
          -1.3250190128424661,
          -0.535465094697021,
          0.3473214304769248,
          -0.25946471137270866,
          -0.888522689105521,
          -0.9531852049657755,
          0.28526318110518045,
          -1.534240751475243,
          0.8163815140281812,
          -1.8164535882003214,
          -1.213659476037669,
          -0.20474995625923617,
          0.6709269694895401,
          0.7928575255755295,
          2.1310876397916347,
          2.073222829167607,
          1.0144150232185323,
          -0.07502724401221807,
          -0.04616501318666702,
          1.9666741653159439,
          -0.1018163441743207,
          -0.2982981792733883,
          -0.12177935394126996,
          -0.34511438462030997,
          -0.24258558078122744,
          0.08381699731823941,
          -0.18605525538332446,
          -0.07394916136370062,
          0.41322139524717544,
          1.098441891414735,
          0.09232940542087814,
          -0.043577383753931234,
          0.6529138894554455,
          0.24426145948580733,
          1.4830111845032046,
          -0.7322574441943723,
          -0.8515162512068878,
          -0.6158076287305354,
          -0.020335173306272214,
          -0.6668910616530364
         ],
         "yaxis": "y5"
        },
        {
         "histfunc": "count",
         "histnorm": "",
         "marker": {
          "color": "rgba(55, 128, 191, 1.0)",
          "line": {
           "color": "#4D5663",
           "width": 1.3
          }
         },
         "name": "B",
         "nbinsx": 10,
         "opacity": 0.8,
         "orientation": "v",
         "type": "histogram",
         "x": [
          -0.12933625164448187,
          0.13103167279239178,
          -0.2783800153100398,
          -0.4479072949745716,
          0.6150291508003769,
          0.04737160814250403,
          0.724359524718601,
          0.9068787283284158,
          -0.2834212092124333,
          1.3846874642484022,
          -0.7900873096135989,
          1.9990860724476802,
          0.06513492061042847,
          0.3761237870614334,
          1.306002077023205,
          0.21675678154141828,
          -0.17672460240902965,
          -1.6173317754480456,
          -0.3314978333603156,
          1.3484994220885849,
          -1.2528411501569485,
          -0.7478995842212484,
          0.8861269234986784,
          -0.6134231551246254,
          -0.5167498588077946,
          0.9238994036778923,
          0.30770452064141585,
          1.2560612137362714,
          0.4293958271803,
          -0.9714001809114541,
          0.0529499288742505,
          -1.3136810389141642,
          -1.2976580632562906,
          1.842221725391775,
          -1.0566420608604992,
          0.12321025879006645,
          -0.13612878866987144,
          0.22462263883719774,
          -0.003217995196276888,
          2.6856075213904202,
          2.4830248621546605,
          0.8821380943095746,
          0.9996863770264012,
          -0.003627477831770408,
          -1.2723142719885756,
          -0.30948703037988406,
          0.8843284070240234,
          -1.619507799527179,
          -0.4335750367397115,
          1.0655440640665477,
          0.43200915741373525,
          1.9197500330210822,
          0.15084415313177363,
          -2.71184007998908,
          1.7048789872131893,
          0.8192423426391454,
          -0.9901671207511124,
          -1.6328634527925319,
          0.21341038490737793,
          -1.658496320844627,
          -1.3250190128424661,
          -0.535465094697021,
          0.3473214304769248,
          -0.25946471137270866,
          -0.888522689105521,
          -0.9531852049657755,
          0.28526318110518045,
          -1.534240751475243,
          0.8163815140281812,
          -1.8164535882003214,
          -1.213659476037669,
          -0.20474995625923617,
          0.6709269694895401,
          0.7928575255755295,
          2.1310876397916347,
          2.073222829167607,
          1.0144150232185323,
          -0.07502724401221807,
          -0.04616501318666702,
          1.9666741653159439,
          -0.1018163441743207,
          -0.2982981792733883,
          -0.12177935394126996,
          -0.34511438462030997,
          -0.24258558078122744,
          0.08381699731823941,
          -0.18605525538332446,
          -0.07394916136370062,
          0.41322139524717544,
          1.098441891414735,
          0.09232940542087814,
          -0.043577383753931234,
          0.6529138894554455,
          0.24426145948580733,
          1.4830111845032046,
          -0.7322574441943723,
          -0.8515162512068878,
          -0.6158076287305354,
          -0.020335173306272214,
          -0.6668910616530364
         ],
         "xaxis": "x6",
         "yaxis": "y6"
        },
        {
         "line": {
          "color": "rgba(128, 128, 128, 1.0)",
          "dash": "solid",
          "shape": "linear",
          "width": 1.3
         },
         "marker": {
          "size": 2,
          "symbol": "circle"
         },
         "mode": "markers",
         "name": "B",
         "text": "",
         "type": "scatter",
         "x": [
          0.018304062145121796,
          2.019560754593152,
          0.42626945686576057,
          -0.2739679545653923,
          -0.997470781234299,
          -0.4503484953971212,
          0.05658522896126178,
          1.8703946758539833,
          -0.7282192165981017,
          1.0130887851430903,
          -0.10412595903727308,
          0.7723039698034716,
          -0.06025944559918106,
          -0.010354771633410958,
          -1.0602696860984755,
          1.1050084100426039,
          0.5485003927777916,
          0.9620419540774584,
          0.49128914698941123,
          1.2894853079161406,
          0.992477393767811,
          -0.6008012606025712,
          0.19476008014146914,
          -0.43162557226475934,
          0.867260093335228,
          -0.6997608098644535,
          0.6877716080348647,
          0.4660829399051041,
          -0.08536836649304284,
          -0.18964437507119677,
          -0.3322133063995614,
          0.27578424620315134,
          0.8063923437482271,
          -1.1628782053179392,
          0.0016177627350909575,
          -0.46436331315096663,
          0.15959018813893852,
          0.7077743871910742,
          0.39785969275151184,
          0.15125646833970402,
          0.14721214493331997,
          -1.8890937356112523,
          0.9370721993704706,
          -0.5804723441556117,
          -0.2350651451925488,
          -0.6674631147974077,
          0.02178475613693451,
          -1.3371935361464589,
          0.9526116704709032,
          -0.6081704213007355,
          0.6571963675789121,
          -0.9820874029605368,
          0.2725657620170841,
          -0.9904415670560973,
          -1.849058299728199,
          0.38015458845456834,
          0.8909796578205339,
          0.11902953150791908,
          -0.7012940906761457,
          -0.29974258165132417,
          -0.49365558541711935,
          -1.1159286304908431,
          -0.1567280612065704,
          2.2497285275914063,
          0.4956714825395612,
          -0.07547408536663255,
          0.8232769911074701,
          0.5900584624509049,
          -0.05725963313849215,
          0.6819320413184793,
          -1.1910889539700689,
          0.8093801574983543,
          -0.23897977149795457,
          -0.8901446846458919,
          1.720009001354134,
          -0.6975196389152628,
          0.11004468433955364,
          -0.46526464429070824,
          -0.8936350951103114,
          1.928652152916678,
          0.4101906275374475,
          0.3741917471953431,
          -0.7062904196750375,
          -0.5253432726929733,
          0.6971537769431922,
          1.2856277367726674,
          -0.012212380541684805,
          -1.5985386798165575,
          1.6404222204367034,
          0.3708504880946784,
          -0.1297059977919652,
          -1.705705487812127,
          -1.3506013383049886,
          -1.22973244817741,
          1.653108443530469,
          -0.555410614110448,
          1.498197880074332,
          0.3382822390084572,
          -0.3597481333139245,
          1.4929199677948024
         ],
         "xaxis": "x7",
         "y": [
          -0.12933625164448187,
          0.13103167279239178,
          -0.2783800153100398,
          -0.4479072949745716,
          0.6150291508003769,
          0.04737160814250403,
          0.724359524718601,
          0.9068787283284158,
          -0.2834212092124333,
          1.3846874642484022,
          -0.7900873096135989,
          1.9990860724476802,
          0.06513492061042847,
          0.3761237870614334,
          1.306002077023205,
          0.21675678154141828,
          -0.17672460240902965,
          -1.6173317754480456,
          -0.3314978333603156,
          1.3484994220885849,
          -1.2528411501569485,
          -0.7478995842212484,
          0.8861269234986784,
          -0.6134231551246254,
          -0.5167498588077946,
          0.9238994036778923,
          0.30770452064141585,
          1.2560612137362714,
          0.4293958271803,
          -0.9714001809114541,
          0.0529499288742505,
          -1.3136810389141642,
          -1.2976580632562906,
          1.842221725391775,
          -1.0566420608604992,
          0.12321025879006645,
          -0.13612878866987144,
          0.22462263883719774,
          -0.003217995196276888,
          2.6856075213904202,
          2.4830248621546605,
          0.8821380943095746,
          0.9996863770264012,
          -0.003627477831770408,
          -1.2723142719885756,
          -0.30948703037988406,
          0.8843284070240234,
          -1.619507799527179,
          -0.4335750367397115,
          1.0655440640665477,
          0.43200915741373525,
          1.9197500330210822,
          0.15084415313177363,
          -2.71184007998908,
          1.7048789872131893,
          0.8192423426391454,
          -0.9901671207511124,
          -1.6328634527925319,
          0.21341038490737793,
          -1.658496320844627,
          -1.3250190128424661,
          -0.535465094697021,
          0.3473214304769248,
          -0.25946471137270866,
          -0.888522689105521,
          -0.9531852049657755,
          0.28526318110518045,
          -1.534240751475243,
          0.8163815140281812,
          -1.8164535882003214,
          -1.213659476037669,
          -0.20474995625923617,
          0.6709269694895401,
          0.7928575255755295,
          2.1310876397916347,
          2.073222829167607,
          1.0144150232185323,
          -0.07502724401221807,
          -0.04616501318666702,
          1.9666741653159439,
          -0.1018163441743207,
          -0.2982981792733883,
          -0.12177935394126996,
          -0.34511438462030997,
          -0.24258558078122744,
          0.08381699731823941,
          -0.18605525538332446,
          -0.07394916136370062,
          0.41322139524717544,
          1.098441891414735,
          0.09232940542087814,
          -0.043577383753931234,
          0.6529138894554455,
          0.24426145948580733,
          1.4830111845032046,
          -0.7322574441943723,
          -0.8515162512068878,
          -0.6158076287305354,
          -0.020335173306272214,
          -0.6668910616530364
         ],
         "yaxis": "y7"
        },
        {
         "line": {
          "color": "rgba(128, 128, 128, 1.0)",
          "dash": "solid",
          "shape": "linear",
          "width": 1.3
         },
         "marker": {
          "size": 2,
          "symbol": "circle"
         },
         "mode": "markers",
         "name": "B",
         "text": "",
         "type": "scatter",
         "x": [
          -0.10216109838905961,
          -0.7656310421934167,
          0.4627481919278918,
          0.9676006214274528,
          0.926423776406431,
          -1.2317828753206672,
          -0.5628576478198102,
          2.504698142086036,
          -0.7737906758600905,
          1.164448663529737,
          0.2194657342618466,
          -1.5607971961887463,
          -1.416330514049092,
          0.6022444830440444,
          -0.9967003017604306,
          0.7165759040467021,
          -1.0270307209633915,
          0.24244449524876405,
          -0.5716852539984539,
          -0.48018727006504236,
          -0.6222621259478935,
          0.5345674934143281,
          0.43066330589856916,
          0.39671996353224714,
          -1.7478511876548124,
          -0.6558305603981607,
          -1.7588752942876509,
          -0.27901605793121487,
          -0.749927124658345,
          0.03519509179408801,
          0.6844835308390853,
          0.8016764794186388,
          -1.805456628608875,
          0.5493382492540594,
          -0.28810485415561893,
          1.776034726551925,
          1.3884960787525806,
          0.4234279651141638,
          -0.08072519087184314,
          -0.14366992536775397,
          -0.3110525320622555,
          -2.258851020385416,
          -0.8778884219465041,
          0.7169531573259034,
          -1.1175552516652947,
          1.998555339200149,
          0.010143811692055183,
          0.9997061409217312,
          0.6864193461963589,
          1.3033752026755039,
          0.17058949843208143,
          1.145439503574977,
          2.4733397056527635,
          0.10495562776449723,
          -1.7114608332231993,
          -2.4304805906032483,
          -0.4285963627332784,
          0.7020655166841565,
          -0.8396898673496372,
          2.524079694264786,
          0.531847360975319,
          -0.5108953101574714,
          -0.7592884951649482,
          -1.9399899488852062,
          0.4312887366747811,
          -1.5001091717186794,
          -1.0353191820511753,
          -1.1859422371830854,
          0.7329268277853427,
          -1.383494128063116,
          0.4132636032392495,
          0.5860992364708144,
          0.463041573680821,
          -1.3695660492015935,
          0.029227875593643714,
          0.566167264096036,
          -1.0254797983782813,
          1.1173861364049216,
          0.5543321247277112,
          1.7776006208415918,
          0.0037431964315748014,
          0.26877480651159624,
          1.769753103285265,
          -0.8217700822449036,
          -0.5765004269474363,
          -0.34946119392723046,
          -2.009057551334199,
          -0.18911911189835176,
          0.08196592547320265,
          -0.6713467690769955,
          1.592816275040431,
          -1.0030357365117704,
          -0.06681179500629934,
          1.7912023856489334,
          0.07609350198462528,
          -1.3227640709596251,
          -1.0083682068497435,
          1.2363708695953775,
          -1.3210175973343643,
          -0.003250788169452081
         ],
         "xaxis": "x8",
         "y": [
          -0.12933625164448187,
          0.13103167279239178,
          -0.2783800153100398,
          -0.4479072949745716,
          0.6150291508003769,
          0.04737160814250403,
          0.724359524718601,
          0.9068787283284158,
          -0.2834212092124333,
          1.3846874642484022,
          -0.7900873096135989,
          1.9990860724476802,
          0.06513492061042847,
          0.3761237870614334,
          1.306002077023205,
          0.21675678154141828,
          -0.17672460240902965,
          -1.6173317754480456,
          -0.3314978333603156,
          1.3484994220885849,
          -1.2528411501569485,
          -0.7478995842212484,
          0.8861269234986784,
          -0.6134231551246254,
          -0.5167498588077946,
          0.9238994036778923,
          0.30770452064141585,
          1.2560612137362714,
          0.4293958271803,
          -0.9714001809114541,
          0.0529499288742505,
          -1.3136810389141642,
          -1.2976580632562906,
          1.842221725391775,
          -1.0566420608604992,
          0.12321025879006645,
          -0.13612878866987144,
          0.22462263883719774,
          -0.003217995196276888,
          2.6856075213904202,
          2.4830248621546605,
          0.8821380943095746,
          0.9996863770264012,
          -0.003627477831770408,
          -1.2723142719885756,
          -0.30948703037988406,
          0.8843284070240234,
          -1.619507799527179,
          -0.4335750367397115,
          1.0655440640665477,
          0.43200915741373525,
          1.9197500330210822,
          0.15084415313177363,
          -2.71184007998908,
          1.7048789872131893,
          0.8192423426391454,
          -0.9901671207511124,
          -1.6328634527925319,
          0.21341038490737793,
          -1.658496320844627,
          -1.3250190128424661,
          -0.535465094697021,
          0.3473214304769248,
          -0.25946471137270866,
          -0.888522689105521,
          -0.9531852049657755,
          0.28526318110518045,
          -1.534240751475243,
          0.8163815140281812,
          -1.8164535882003214,
          -1.213659476037669,
          -0.20474995625923617,
          0.6709269694895401,
          0.7928575255755295,
          2.1310876397916347,
          2.073222829167607,
          1.0144150232185323,
          -0.07502724401221807,
          -0.04616501318666702,
          1.9666741653159439,
          -0.1018163441743207,
          -0.2982981792733883,
          -0.12177935394126996,
          -0.34511438462030997,
          -0.24258558078122744,
          0.08381699731823941,
          -0.18605525538332446,
          -0.07394916136370062,
          0.41322139524717544,
          1.098441891414735,
          0.09232940542087814,
          -0.043577383753931234,
          0.6529138894554455,
          0.24426145948580733,
          1.4830111845032046,
          -0.7322574441943723,
          -0.8515162512068878,
          -0.6158076287305354,
          -0.020335173306272214,
          -0.6668910616530364
         ],
         "yaxis": "y8"
        },
        {
         "line": {
          "color": "rgba(128, 128, 128, 1.0)",
          "dash": "solid",
          "shape": "linear",
          "width": 1.3
         },
         "marker": {
          "size": 2,
          "symbol": "circle"
         },
         "mode": "markers",
         "name": "C",
         "text": "",
         "type": "scatter",
         "x": [
          0.2833623675227722,
          -1.127271506470818,
          0.5301991988413371,
          -0.9076037526358803,
          0.3045832521261345,
          1.5802942678868173,
          1.9590307813960588,
          0.4506493866329785,
          -0.16613983560977538,
          0.46344861995238673,
          -0.3029747794229369,
          1.0872271658066728,
          -1.6069227916919724,
          -0.06024722082744196,
          -1.000922647114807,
          -0.8428459274937556,
          0.29478573314485923,
          -0.25339222119091565,
          0.7187247748507258,
          1.3353341377998886,
          -0.3132263384895011,
          -0.39118000703348754,
          -1.7291172658029401,
          -0.5693280082171505,
          -0.18087539462310423,
          0.6036481562105745,
          0.16176229925673608,
          0.5404933164826498,
          -0.050736094303384584,
          -1.7608032679833248,
          1.1206641776550978,
          0.2838819671315071,
          -0.5719968871072524,
          -0.19937518829329207,
          -1.2092967930008358,
          -2.1550539493577956,
          -0.8506827098252433,
          0.09807027557339956,
          -0.20852721520392994,
          0.0912904455286591,
          0.8507029232627918,
          0.7463037519235868,
          0.1599236640979604,
          -1.462351188047253,
          0.457348739903739,
          0.7556632254955828,
          0.22062598272523387,
          -0.27599288567352176,
          -0.08651902719832559,
          -0.09390592780647052,
          0.24038800777499403,
          0.9386699960214014,
          -0.37020709228577187,
          -1.4755040676184674,
          0.4819500836736902,
          1.536663027126891,
          -1.8092408905159583,
          0.033277606986312054,
          0.09798696404977163,
          -0.32247346929781884,
          -1.555270331626882,
          0.9876894317407412,
          0.00028416691420902416,
          -0.39456722234572883,
          -0.08365889875132763,
          0.8416210966617714,
          0.7546325779328649,
          0.6720135507751842,
          -0.1608911463122692,
          0.7573962711229544,
          -1.174575815424979,
          -0.6613932481307679,
          0.005947420146648111,
          -0.395531939861682,
          -1.4391168822911,
          -1.3339009646738926,
          -0.3886619660027748,
          1.6126444498295815,
          -1.6794064847194896,
          -0.30320536220958877,
          0.9461461594017028,
          -0.06348775003781486,
          -2.124844609404621,
          0.08835640937139362,
          2.6901798168203337,
          0.6518982468613443,
          0.16121683466285788,
          0.5534423738048103,
          -0.0540939855612481,
          -0.33942531987529156,
          0.04449274194965574,
          -1.6732075886435611,
          -1.3900365917463668,
          0.49685876161216186,
          0.08337278758692533,
          1.4442163263090961,
          -1.0831084992907014,
          -1.0583044225528533,
          1.1535020255004065,
          0.5301801527396007
         ],
         "xaxis": "x9",
         "y": [
          0.018304062145121796,
          2.019560754593152,
          0.42626945686576057,
          -0.2739679545653923,
          -0.997470781234299,
          -0.4503484953971212,
          0.05658522896126178,
          1.8703946758539833,
          -0.7282192165981017,
          1.0130887851430903,
          -0.10412595903727308,
          0.7723039698034716,
          -0.06025944559918106,
          -0.010354771633410958,
          -1.0602696860984755,
          1.1050084100426039,
          0.5485003927777916,
          0.9620419540774584,
          0.49128914698941123,
          1.2894853079161406,
          0.992477393767811,
          -0.6008012606025712,
          0.19476008014146914,
          -0.43162557226475934,
          0.867260093335228,
          -0.6997608098644535,
          0.6877716080348647,
          0.4660829399051041,
          -0.08536836649304284,
          -0.18964437507119677,
          -0.3322133063995614,
          0.27578424620315134,
          0.8063923437482271,
          -1.1628782053179392,
          0.0016177627350909575,
          -0.46436331315096663,
          0.15959018813893852,
          0.7077743871910742,
          0.39785969275151184,
          0.15125646833970402,
          0.14721214493331997,
          -1.8890937356112523,
          0.9370721993704706,
          -0.5804723441556117,
          -0.2350651451925488,
          -0.6674631147974077,
          0.02178475613693451,
          -1.3371935361464589,
          0.9526116704709032,
          -0.6081704213007355,
          0.6571963675789121,
          -0.9820874029605368,
          0.2725657620170841,
          -0.9904415670560973,
          -1.849058299728199,
          0.38015458845456834,
          0.8909796578205339,
          0.11902953150791908,
          -0.7012940906761457,
          -0.29974258165132417,
          -0.49365558541711935,
          -1.1159286304908431,
          -0.1567280612065704,
          2.2497285275914063,
          0.4956714825395612,
          -0.07547408536663255,
          0.8232769911074701,
          0.5900584624509049,
          -0.05725963313849215,
          0.6819320413184793,
          -1.1910889539700689,
          0.8093801574983543,
          -0.23897977149795457,
          -0.8901446846458919,
          1.720009001354134,
          -0.6975196389152628,
          0.11004468433955364,
          -0.46526464429070824,
          -0.8936350951103114,
          1.928652152916678,
          0.4101906275374475,
          0.3741917471953431,
          -0.7062904196750375,
          -0.5253432726929733,
          0.6971537769431922,
          1.2856277367726674,
          -0.012212380541684805,
          -1.5985386798165575,
          1.6404222204367034,
          0.3708504880946784,
          -0.1297059977919652,
          -1.705705487812127,
          -1.3506013383049886,
          -1.22973244817741,
          1.653108443530469,
          -0.555410614110448,
          1.498197880074332,
          0.3382822390084572,
          -0.3597481333139245,
          1.4929199677948024
         ],
         "yaxis": "y9"
        },
        {
         "line": {
          "color": "rgba(128, 128, 128, 1.0)",
          "dash": "solid",
          "shape": "linear",
          "width": 1.3
         },
         "marker": {
          "size": 2,
          "symbol": "circle"
         },
         "mode": "markers",
         "name": "C",
         "text": "",
         "type": "scatter",
         "x": [
          -0.12933625164448187,
          0.13103167279239178,
          -0.2783800153100398,
          -0.4479072949745716,
          0.6150291508003769,
          0.04737160814250403,
          0.724359524718601,
          0.9068787283284158,
          -0.2834212092124333,
          1.3846874642484022,
          -0.7900873096135989,
          1.9990860724476802,
          0.06513492061042847,
          0.3761237870614334,
          1.306002077023205,
          0.21675678154141828,
          -0.17672460240902965,
          -1.6173317754480456,
          -0.3314978333603156,
          1.3484994220885849,
          -1.2528411501569485,
          -0.7478995842212484,
          0.8861269234986784,
          -0.6134231551246254,
          -0.5167498588077946,
          0.9238994036778923,
          0.30770452064141585,
          1.2560612137362714,
          0.4293958271803,
          -0.9714001809114541,
          0.0529499288742505,
          -1.3136810389141642,
          -1.2976580632562906,
          1.842221725391775,
          -1.0566420608604992,
          0.12321025879006645,
          -0.13612878866987144,
          0.22462263883719774,
          -0.003217995196276888,
          2.6856075213904202,
          2.4830248621546605,
          0.8821380943095746,
          0.9996863770264012,
          -0.003627477831770408,
          -1.2723142719885756,
          -0.30948703037988406,
          0.8843284070240234,
          -1.619507799527179,
          -0.4335750367397115,
          1.0655440640665477,
          0.43200915741373525,
          1.9197500330210822,
          0.15084415313177363,
          -2.71184007998908,
          1.7048789872131893,
          0.8192423426391454,
          -0.9901671207511124,
          -1.6328634527925319,
          0.21341038490737793,
          -1.658496320844627,
          -1.3250190128424661,
          -0.535465094697021,
          0.3473214304769248,
          -0.25946471137270866,
          -0.888522689105521,
          -0.9531852049657755,
          0.28526318110518045,
          -1.534240751475243,
          0.8163815140281812,
          -1.8164535882003214,
          -1.213659476037669,
          -0.20474995625923617,
          0.6709269694895401,
          0.7928575255755295,
          2.1310876397916347,
          2.073222829167607,
          1.0144150232185323,
          -0.07502724401221807,
          -0.04616501318666702,
          1.9666741653159439,
          -0.1018163441743207,
          -0.2982981792733883,
          -0.12177935394126996,
          -0.34511438462030997,
          -0.24258558078122744,
          0.08381699731823941,
          -0.18605525538332446,
          -0.07394916136370062,
          0.41322139524717544,
          1.098441891414735,
          0.09232940542087814,
          -0.043577383753931234,
          0.6529138894554455,
          0.24426145948580733,
          1.4830111845032046,
          -0.7322574441943723,
          -0.8515162512068878,
          -0.6158076287305354,
          -0.020335173306272214,
          -0.6668910616530364
         ],
         "xaxis": "x10",
         "y": [
          0.018304062145121796,
          2.019560754593152,
          0.42626945686576057,
          -0.2739679545653923,
          -0.997470781234299,
          -0.4503484953971212,
          0.05658522896126178,
          1.8703946758539833,
          -0.7282192165981017,
          1.0130887851430903,
          -0.10412595903727308,
          0.7723039698034716,
          -0.06025944559918106,
          -0.010354771633410958,
          -1.0602696860984755,
          1.1050084100426039,
          0.5485003927777916,
          0.9620419540774584,
          0.49128914698941123,
          1.2894853079161406,
          0.992477393767811,
          -0.6008012606025712,
          0.19476008014146914,
          -0.43162557226475934,
          0.867260093335228,
          -0.6997608098644535,
          0.6877716080348647,
          0.4660829399051041,
          -0.08536836649304284,
          -0.18964437507119677,
          -0.3322133063995614,
          0.27578424620315134,
          0.8063923437482271,
          -1.1628782053179392,
          0.0016177627350909575,
          -0.46436331315096663,
          0.15959018813893852,
          0.7077743871910742,
          0.39785969275151184,
          0.15125646833970402,
          0.14721214493331997,
          -1.8890937356112523,
          0.9370721993704706,
          -0.5804723441556117,
          -0.2350651451925488,
          -0.6674631147974077,
          0.02178475613693451,
          -1.3371935361464589,
          0.9526116704709032,
          -0.6081704213007355,
          0.6571963675789121,
          -0.9820874029605368,
          0.2725657620170841,
          -0.9904415670560973,
          -1.849058299728199,
          0.38015458845456834,
          0.8909796578205339,
          0.11902953150791908,
          -0.7012940906761457,
          -0.29974258165132417,
          -0.49365558541711935,
          -1.1159286304908431,
          -0.1567280612065704,
          2.2497285275914063,
          0.4956714825395612,
          -0.07547408536663255,
          0.8232769911074701,
          0.5900584624509049,
          -0.05725963313849215,
          0.6819320413184793,
          -1.1910889539700689,
          0.8093801574983543,
          -0.23897977149795457,
          -0.8901446846458919,
          1.720009001354134,
          -0.6975196389152628,
          0.11004468433955364,
          -0.46526464429070824,
          -0.8936350951103114,
          1.928652152916678,
          0.4101906275374475,
          0.3741917471953431,
          -0.7062904196750375,
          -0.5253432726929733,
          0.6971537769431922,
          1.2856277367726674,
          -0.012212380541684805,
          -1.5985386798165575,
          1.6404222204367034,
          0.3708504880946784,
          -0.1297059977919652,
          -1.705705487812127,
          -1.3506013383049886,
          -1.22973244817741,
          1.653108443530469,
          -0.555410614110448,
          1.498197880074332,
          0.3382822390084572,
          -0.3597481333139245,
          1.4929199677948024
         ],
         "yaxis": "y10"
        },
        {
         "histfunc": "count",
         "histnorm": "",
         "marker": {
          "color": "rgba(50, 171, 96, 1.0)",
          "line": {
           "color": "#4D5663",
           "width": 1.3
          }
         },
         "name": "C",
         "nbinsx": 10,
         "opacity": 0.8,
         "orientation": "v",
         "type": "histogram",
         "x": [
          0.018304062145121796,
          2.019560754593152,
          0.42626945686576057,
          -0.2739679545653923,
          -0.997470781234299,
          -0.4503484953971212,
          0.05658522896126178,
          1.8703946758539833,
          -0.7282192165981017,
          1.0130887851430903,
          -0.10412595903727308,
          0.7723039698034716,
          -0.06025944559918106,
          -0.010354771633410958,
          -1.0602696860984755,
          1.1050084100426039,
          0.5485003927777916,
          0.9620419540774584,
          0.49128914698941123,
          1.2894853079161406,
          0.992477393767811,
          -0.6008012606025712,
          0.19476008014146914,
          -0.43162557226475934,
          0.867260093335228,
          -0.6997608098644535,
          0.6877716080348647,
          0.4660829399051041,
          -0.08536836649304284,
          -0.18964437507119677,
          -0.3322133063995614,
          0.27578424620315134,
          0.8063923437482271,
          -1.1628782053179392,
          0.0016177627350909575,
          -0.46436331315096663,
          0.15959018813893852,
          0.7077743871910742,
          0.39785969275151184,
          0.15125646833970402,
          0.14721214493331997,
          -1.8890937356112523,
          0.9370721993704706,
          -0.5804723441556117,
          -0.2350651451925488,
          -0.6674631147974077,
          0.02178475613693451,
          -1.3371935361464589,
          0.9526116704709032,
          -0.6081704213007355,
          0.6571963675789121,
          -0.9820874029605368,
          0.2725657620170841,
          -0.9904415670560973,
          -1.849058299728199,
          0.38015458845456834,
          0.8909796578205339,
          0.11902953150791908,
          -0.7012940906761457,
          -0.29974258165132417,
          -0.49365558541711935,
          -1.1159286304908431,
          -0.1567280612065704,
          2.2497285275914063,
          0.4956714825395612,
          -0.07547408536663255,
          0.8232769911074701,
          0.5900584624509049,
          -0.05725963313849215,
          0.6819320413184793,
          -1.1910889539700689,
          0.8093801574983543,
          -0.23897977149795457,
          -0.8901446846458919,
          1.720009001354134,
          -0.6975196389152628,
          0.11004468433955364,
          -0.46526464429070824,
          -0.8936350951103114,
          1.928652152916678,
          0.4101906275374475,
          0.3741917471953431,
          -0.7062904196750375,
          -0.5253432726929733,
          0.6971537769431922,
          1.2856277367726674,
          -0.012212380541684805,
          -1.5985386798165575,
          1.6404222204367034,
          0.3708504880946784,
          -0.1297059977919652,
          -1.705705487812127,
          -1.3506013383049886,
          -1.22973244817741,
          1.653108443530469,
          -0.555410614110448,
          1.498197880074332,
          0.3382822390084572,
          -0.3597481333139245,
          1.4929199677948024
         ],
         "xaxis": "x11",
         "yaxis": "y11"
        },
        {
         "line": {
          "color": "rgba(128, 128, 128, 1.0)",
          "dash": "solid",
          "shape": "linear",
          "width": 1.3
         },
         "marker": {
          "size": 2,
          "symbol": "circle"
         },
         "mode": "markers",
         "name": "C",
         "text": "",
         "type": "scatter",
         "x": [
          -0.10216109838905961,
          -0.7656310421934167,
          0.4627481919278918,
          0.9676006214274528,
          0.926423776406431,
          -1.2317828753206672,
          -0.5628576478198102,
          2.504698142086036,
          -0.7737906758600905,
          1.164448663529737,
          0.2194657342618466,
          -1.5607971961887463,
          -1.416330514049092,
          0.6022444830440444,
          -0.9967003017604306,
          0.7165759040467021,
          -1.0270307209633915,
          0.24244449524876405,
          -0.5716852539984539,
          -0.48018727006504236,
          -0.6222621259478935,
          0.5345674934143281,
          0.43066330589856916,
          0.39671996353224714,
          -1.7478511876548124,
          -0.6558305603981607,
          -1.7588752942876509,
          -0.27901605793121487,
          -0.749927124658345,
          0.03519509179408801,
          0.6844835308390853,
          0.8016764794186388,
          -1.805456628608875,
          0.5493382492540594,
          -0.28810485415561893,
          1.776034726551925,
          1.3884960787525806,
          0.4234279651141638,
          -0.08072519087184314,
          -0.14366992536775397,
          -0.3110525320622555,
          -2.258851020385416,
          -0.8778884219465041,
          0.7169531573259034,
          -1.1175552516652947,
          1.998555339200149,
          0.010143811692055183,
          0.9997061409217312,
          0.6864193461963589,
          1.3033752026755039,
          0.17058949843208143,
          1.145439503574977,
          2.4733397056527635,
          0.10495562776449723,
          -1.7114608332231993,
          -2.4304805906032483,
          -0.4285963627332784,
          0.7020655166841565,
          -0.8396898673496372,
          2.524079694264786,
          0.531847360975319,
          -0.5108953101574714,
          -0.7592884951649482,
          -1.9399899488852062,
          0.4312887366747811,
          -1.5001091717186794,
          -1.0353191820511753,
          -1.1859422371830854,
          0.7329268277853427,
          -1.383494128063116,
          0.4132636032392495,
          0.5860992364708144,
          0.463041573680821,
          -1.3695660492015935,
          0.029227875593643714,
          0.566167264096036,
          -1.0254797983782813,
          1.1173861364049216,
          0.5543321247277112,
          1.7776006208415918,
          0.0037431964315748014,
          0.26877480651159624,
          1.769753103285265,
          -0.8217700822449036,
          -0.5765004269474363,
          -0.34946119392723046,
          -2.009057551334199,
          -0.18911911189835176,
          0.08196592547320265,
          -0.6713467690769955,
          1.592816275040431,
          -1.0030357365117704,
          -0.06681179500629934,
          1.7912023856489334,
          0.07609350198462528,
          -1.3227640709596251,
          -1.0083682068497435,
          1.2363708695953775,
          -1.3210175973343643,
          -0.003250788169452081
         ],
         "xaxis": "x12",
         "y": [
          0.018304062145121796,
          2.019560754593152,
          0.42626945686576057,
          -0.2739679545653923,
          -0.997470781234299,
          -0.4503484953971212,
          0.05658522896126178,
          1.8703946758539833,
          -0.7282192165981017,
          1.0130887851430903,
          -0.10412595903727308,
          0.7723039698034716,
          -0.06025944559918106,
          -0.010354771633410958,
          -1.0602696860984755,
          1.1050084100426039,
          0.5485003927777916,
          0.9620419540774584,
          0.49128914698941123,
          1.2894853079161406,
          0.992477393767811,
          -0.6008012606025712,
          0.19476008014146914,
          -0.43162557226475934,
          0.867260093335228,
          -0.6997608098644535,
          0.6877716080348647,
          0.4660829399051041,
          -0.08536836649304284,
          -0.18964437507119677,
          -0.3322133063995614,
          0.27578424620315134,
          0.8063923437482271,
          -1.1628782053179392,
          0.0016177627350909575,
          -0.46436331315096663,
          0.15959018813893852,
          0.7077743871910742,
          0.39785969275151184,
          0.15125646833970402,
          0.14721214493331997,
          -1.8890937356112523,
          0.9370721993704706,
          -0.5804723441556117,
          -0.2350651451925488,
          -0.6674631147974077,
          0.02178475613693451,
          -1.3371935361464589,
          0.9526116704709032,
          -0.6081704213007355,
          0.6571963675789121,
          -0.9820874029605368,
          0.2725657620170841,
          -0.9904415670560973,
          -1.849058299728199,
          0.38015458845456834,
          0.8909796578205339,
          0.11902953150791908,
          -0.7012940906761457,
          -0.29974258165132417,
          -0.49365558541711935,
          -1.1159286304908431,
          -0.1567280612065704,
          2.2497285275914063,
          0.4956714825395612,
          -0.07547408536663255,
          0.8232769911074701,
          0.5900584624509049,
          -0.05725963313849215,
          0.6819320413184793,
          -1.1910889539700689,
          0.8093801574983543,
          -0.23897977149795457,
          -0.8901446846458919,
          1.720009001354134,
          -0.6975196389152628,
          0.11004468433955364,
          -0.46526464429070824,
          -0.8936350951103114,
          1.928652152916678,
          0.4101906275374475,
          0.3741917471953431,
          -0.7062904196750375,
          -0.5253432726929733,
          0.6971537769431922,
          1.2856277367726674,
          -0.012212380541684805,
          -1.5985386798165575,
          1.6404222204367034,
          0.3708504880946784,
          -0.1297059977919652,
          -1.705705487812127,
          -1.3506013383049886,
          -1.22973244817741,
          1.653108443530469,
          -0.555410614110448,
          1.498197880074332,
          0.3382822390084572,
          -0.3597481333139245,
          1.4929199677948024
         ],
         "yaxis": "y12"
        },
        {
         "line": {
          "color": "rgba(128, 128, 128, 1.0)",
          "dash": "solid",
          "shape": "linear",
          "width": 1.3
         },
         "marker": {
          "size": 2,
          "symbol": "circle"
         },
         "mode": "markers",
         "name": "D",
         "text": "",
         "type": "scatter",
         "x": [
          0.2833623675227722,
          -1.127271506470818,
          0.5301991988413371,
          -0.9076037526358803,
          0.3045832521261345,
          1.5802942678868173,
          1.9590307813960588,
          0.4506493866329785,
          -0.16613983560977538,
          0.46344861995238673,
          -0.3029747794229369,
          1.0872271658066728,
          -1.6069227916919724,
          -0.06024722082744196,
          -1.000922647114807,
          -0.8428459274937556,
          0.29478573314485923,
          -0.25339222119091565,
          0.7187247748507258,
          1.3353341377998886,
          -0.3132263384895011,
          -0.39118000703348754,
          -1.7291172658029401,
          -0.5693280082171505,
          -0.18087539462310423,
          0.6036481562105745,
          0.16176229925673608,
          0.5404933164826498,
          -0.050736094303384584,
          -1.7608032679833248,
          1.1206641776550978,
          0.2838819671315071,
          -0.5719968871072524,
          -0.19937518829329207,
          -1.2092967930008358,
          -2.1550539493577956,
          -0.8506827098252433,
          0.09807027557339956,
          -0.20852721520392994,
          0.0912904455286591,
          0.8507029232627918,
          0.7463037519235868,
          0.1599236640979604,
          -1.462351188047253,
          0.457348739903739,
          0.7556632254955828,
          0.22062598272523387,
          -0.27599288567352176,
          -0.08651902719832559,
          -0.09390592780647052,
          0.24038800777499403,
          0.9386699960214014,
          -0.37020709228577187,
          -1.4755040676184674,
          0.4819500836736902,
          1.536663027126891,
          -1.8092408905159583,
          0.033277606986312054,
          0.09798696404977163,
          -0.32247346929781884,
          -1.555270331626882,
          0.9876894317407412,
          0.00028416691420902416,
          -0.39456722234572883,
          -0.08365889875132763,
          0.8416210966617714,
          0.7546325779328649,
          0.6720135507751842,
          -0.1608911463122692,
          0.7573962711229544,
          -1.174575815424979,
          -0.6613932481307679,
          0.005947420146648111,
          -0.395531939861682,
          -1.4391168822911,
          -1.3339009646738926,
          -0.3886619660027748,
          1.6126444498295815,
          -1.6794064847194896,
          -0.30320536220958877,
          0.9461461594017028,
          -0.06348775003781486,
          -2.124844609404621,
          0.08835640937139362,
          2.6901798168203337,
          0.6518982468613443,
          0.16121683466285788,
          0.5534423738048103,
          -0.0540939855612481,
          -0.33942531987529156,
          0.04449274194965574,
          -1.6732075886435611,
          -1.3900365917463668,
          0.49685876161216186,
          0.08337278758692533,
          1.4442163263090961,
          -1.0831084992907014,
          -1.0583044225528533,
          1.1535020255004065,
          0.5301801527396007
         ],
         "xaxis": "x13",
         "y": [
          -0.10216109838905961,
          -0.7656310421934167,
          0.4627481919278918,
          0.9676006214274528,
          0.926423776406431,
          -1.2317828753206672,
          -0.5628576478198102,
          2.504698142086036,
          -0.7737906758600905,
          1.164448663529737,
          0.2194657342618466,
          -1.5607971961887463,
          -1.416330514049092,
          0.6022444830440444,
          -0.9967003017604306,
          0.7165759040467021,
          -1.0270307209633915,
          0.24244449524876405,
          -0.5716852539984539,
          -0.48018727006504236,
          -0.6222621259478935,
          0.5345674934143281,
          0.43066330589856916,
          0.39671996353224714,
          -1.7478511876548124,
          -0.6558305603981607,
          -1.7588752942876509,
          -0.27901605793121487,
          -0.749927124658345,
          0.03519509179408801,
          0.6844835308390853,
          0.8016764794186388,
          -1.805456628608875,
          0.5493382492540594,
          -0.28810485415561893,
          1.776034726551925,
          1.3884960787525806,
          0.4234279651141638,
          -0.08072519087184314,
          -0.14366992536775397,
          -0.3110525320622555,
          -2.258851020385416,
          -0.8778884219465041,
          0.7169531573259034,
          -1.1175552516652947,
          1.998555339200149,
          0.010143811692055183,
          0.9997061409217312,
          0.6864193461963589,
          1.3033752026755039,
          0.17058949843208143,
          1.145439503574977,
          2.4733397056527635,
          0.10495562776449723,
          -1.7114608332231993,
          -2.4304805906032483,
          -0.4285963627332784,
          0.7020655166841565,
          -0.8396898673496372,
          2.524079694264786,
          0.531847360975319,
          -0.5108953101574714,
          -0.7592884951649482,
          -1.9399899488852062,
          0.4312887366747811,
          -1.5001091717186794,
          -1.0353191820511753,
          -1.1859422371830854,
          0.7329268277853427,
          -1.383494128063116,
          0.4132636032392495,
          0.5860992364708144,
          0.463041573680821,
          -1.3695660492015935,
          0.029227875593643714,
          0.566167264096036,
          -1.0254797983782813,
          1.1173861364049216,
          0.5543321247277112,
          1.7776006208415918,
          0.0037431964315748014,
          0.26877480651159624,
          1.769753103285265,
          -0.8217700822449036,
          -0.5765004269474363,
          -0.34946119392723046,
          -2.009057551334199,
          -0.18911911189835176,
          0.08196592547320265,
          -0.6713467690769955,
          1.592816275040431,
          -1.0030357365117704,
          -0.06681179500629934,
          1.7912023856489334,
          0.07609350198462528,
          -1.3227640709596251,
          -1.0083682068497435,
          1.2363708695953775,
          -1.3210175973343643,
          -0.003250788169452081
         ],
         "yaxis": "y13"
        },
        {
         "line": {
          "color": "rgba(128, 128, 128, 1.0)",
          "dash": "solid",
          "shape": "linear",
          "width": 1.3
         },
         "marker": {
          "size": 2,
          "symbol": "circle"
         },
         "mode": "markers",
         "name": "D",
         "text": "",
         "type": "scatter",
         "x": [
          -0.12933625164448187,
          0.13103167279239178,
          -0.2783800153100398,
          -0.4479072949745716,
          0.6150291508003769,
          0.04737160814250403,
          0.724359524718601,
          0.9068787283284158,
          -0.2834212092124333,
          1.3846874642484022,
          -0.7900873096135989,
          1.9990860724476802,
          0.06513492061042847,
          0.3761237870614334,
          1.306002077023205,
          0.21675678154141828,
          -0.17672460240902965,
          -1.6173317754480456,
          -0.3314978333603156,
          1.3484994220885849,
          -1.2528411501569485,
          -0.7478995842212484,
          0.8861269234986784,
          -0.6134231551246254,
          -0.5167498588077946,
          0.9238994036778923,
          0.30770452064141585,
          1.2560612137362714,
          0.4293958271803,
          -0.9714001809114541,
          0.0529499288742505,
          -1.3136810389141642,
          -1.2976580632562906,
          1.842221725391775,
          -1.0566420608604992,
          0.12321025879006645,
          -0.13612878866987144,
          0.22462263883719774,
          -0.003217995196276888,
          2.6856075213904202,
          2.4830248621546605,
          0.8821380943095746,
          0.9996863770264012,
          -0.003627477831770408,
          -1.2723142719885756,
          -0.30948703037988406,
          0.8843284070240234,
          -1.619507799527179,
          -0.4335750367397115,
          1.0655440640665477,
          0.43200915741373525,
          1.9197500330210822,
          0.15084415313177363,
          -2.71184007998908,
          1.7048789872131893,
          0.8192423426391454,
          -0.9901671207511124,
          -1.6328634527925319,
          0.21341038490737793,
          -1.658496320844627,
          -1.3250190128424661,
          -0.535465094697021,
          0.3473214304769248,
          -0.25946471137270866,
          -0.888522689105521,
          -0.9531852049657755,
          0.28526318110518045,
          -1.534240751475243,
          0.8163815140281812,
          -1.8164535882003214,
          -1.213659476037669,
          -0.20474995625923617,
          0.6709269694895401,
          0.7928575255755295,
          2.1310876397916347,
          2.073222829167607,
          1.0144150232185323,
          -0.07502724401221807,
          -0.04616501318666702,
          1.9666741653159439,
          -0.1018163441743207,
          -0.2982981792733883,
          -0.12177935394126996,
          -0.34511438462030997,
          -0.24258558078122744,
          0.08381699731823941,
          -0.18605525538332446,
          -0.07394916136370062,
          0.41322139524717544,
          1.098441891414735,
          0.09232940542087814,
          -0.043577383753931234,
          0.6529138894554455,
          0.24426145948580733,
          1.4830111845032046,
          -0.7322574441943723,
          -0.8515162512068878,
          -0.6158076287305354,
          -0.020335173306272214,
          -0.6668910616530364
         ],
         "xaxis": "x14",
         "y": [
          -0.10216109838905961,
          -0.7656310421934167,
          0.4627481919278918,
          0.9676006214274528,
          0.926423776406431,
          -1.2317828753206672,
          -0.5628576478198102,
          2.504698142086036,
          -0.7737906758600905,
          1.164448663529737,
          0.2194657342618466,
          -1.5607971961887463,
          -1.416330514049092,
          0.6022444830440444,
          -0.9967003017604306,
          0.7165759040467021,
          -1.0270307209633915,
          0.24244449524876405,
          -0.5716852539984539,
          -0.48018727006504236,
          -0.6222621259478935,
          0.5345674934143281,
          0.43066330589856916,
          0.39671996353224714,
          -1.7478511876548124,
          -0.6558305603981607,
          -1.7588752942876509,
          -0.27901605793121487,
          -0.749927124658345,
          0.03519509179408801,
          0.6844835308390853,
          0.8016764794186388,
          -1.805456628608875,
          0.5493382492540594,
          -0.28810485415561893,
          1.776034726551925,
          1.3884960787525806,
          0.4234279651141638,
          -0.08072519087184314,
          -0.14366992536775397,
          -0.3110525320622555,
          -2.258851020385416,
          -0.8778884219465041,
          0.7169531573259034,
          -1.1175552516652947,
          1.998555339200149,
          0.010143811692055183,
          0.9997061409217312,
          0.6864193461963589,
          1.3033752026755039,
          0.17058949843208143,
          1.145439503574977,
          2.4733397056527635,
          0.10495562776449723,
          -1.7114608332231993,
          -2.4304805906032483,
          -0.4285963627332784,
          0.7020655166841565,
          -0.8396898673496372,
          2.524079694264786,
          0.531847360975319,
          -0.5108953101574714,
          -0.7592884951649482,
          -1.9399899488852062,
          0.4312887366747811,
          -1.5001091717186794,
          -1.0353191820511753,
          -1.1859422371830854,
          0.7329268277853427,
          -1.383494128063116,
          0.4132636032392495,
          0.5860992364708144,
          0.463041573680821,
          -1.3695660492015935,
          0.029227875593643714,
          0.566167264096036,
          -1.0254797983782813,
          1.1173861364049216,
          0.5543321247277112,
          1.7776006208415918,
          0.0037431964315748014,
          0.26877480651159624,
          1.769753103285265,
          -0.8217700822449036,
          -0.5765004269474363,
          -0.34946119392723046,
          -2.009057551334199,
          -0.18911911189835176,
          0.08196592547320265,
          -0.6713467690769955,
          1.592816275040431,
          -1.0030357365117704,
          -0.06681179500629934,
          1.7912023856489334,
          0.07609350198462528,
          -1.3227640709596251,
          -1.0083682068497435,
          1.2363708695953775,
          -1.3210175973343643,
          -0.003250788169452081
         ],
         "yaxis": "y14"
        },
        {
         "line": {
          "color": "rgba(128, 128, 128, 1.0)",
          "dash": "solid",
          "shape": "linear",
          "width": 1.3
         },
         "marker": {
          "size": 2,
          "symbol": "circle"
         },
         "mode": "markers",
         "name": "D",
         "text": "",
         "type": "scatter",
         "x": [
          0.018304062145121796,
          2.019560754593152,
          0.42626945686576057,
          -0.2739679545653923,
          -0.997470781234299,
          -0.4503484953971212,
          0.05658522896126178,
          1.8703946758539833,
          -0.7282192165981017,
          1.0130887851430903,
          -0.10412595903727308,
          0.7723039698034716,
          -0.06025944559918106,
          -0.010354771633410958,
          -1.0602696860984755,
          1.1050084100426039,
          0.5485003927777916,
          0.9620419540774584,
          0.49128914698941123,
          1.2894853079161406,
          0.992477393767811,
          -0.6008012606025712,
          0.19476008014146914,
          -0.43162557226475934,
          0.867260093335228,
          -0.6997608098644535,
          0.6877716080348647,
          0.4660829399051041,
          -0.08536836649304284,
          -0.18964437507119677,
          -0.3322133063995614,
          0.27578424620315134,
          0.8063923437482271,
          -1.1628782053179392,
          0.0016177627350909575,
          -0.46436331315096663,
          0.15959018813893852,
          0.7077743871910742,
          0.39785969275151184,
          0.15125646833970402,
          0.14721214493331997,
          -1.8890937356112523,
          0.9370721993704706,
          -0.5804723441556117,
          -0.2350651451925488,
          -0.6674631147974077,
          0.02178475613693451,
          -1.3371935361464589,
          0.9526116704709032,
          -0.6081704213007355,
          0.6571963675789121,
          -0.9820874029605368,
          0.2725657620170841,
          -0.9904415670560973,
          -1.849058299728199,
          0.38015458845456834,
          0.8909796578205339,
          0.11902953150791908,
          -0.7012940906761457,
          -0.29974258165132417,
          -0.49365558541711935,
          -1.1159286304908431,
          -0.1567280612065704,
          2.2497285275914063,
          0.4956714825395612,
          -0.07547408536663255,
          0.8232769911074701,
          0.5900584624509049,
          -0.05725963313849215,
          0.6819320413184793,
          -1.1910889539700689,
          0.8093801574983543,
          -0.23897977149795457,
          -0.8901446846458919,
          1.720009001354134,
          -0.6975196389152628,
          0.11004468433955364,
          -0.46526464429070824,
          -0.8936350951103114,
          1.928652152916678,
          0.4101906275374475,
          0.3741917471953431,
          -0.7062904196750375,
          -0.5253432726929733,
          0.6971537769431922,
          1.2856277367726674,
          -0.012212380541684805,
          -1.5985386798165575,
          1.6404222204367034,
          0.3708504880946784,
          -0.1297059977919652,
          -1.705705487812127,
          -1.3506013383049886,
          -1.22973244817741,
          1.653108443530469,
          -0.555410614110448,
          1.498197880074332,
          0.3382822390084572,
          -0.3597481333139245,
          1.4929199677948024
         ],
         "xaxis": "x15",
         "y": [
          -0.10216109838905961,
          -0.7656310421934167,
          0.4627481919278918,
          0.9676006214274528,
          0.926423776406431,
          -1.2317828753206672,
          -0.5628576478198102,
          2.504698142086036,
          -0.7737906758600905,
          1.164448663529737,
          0.2194657342618466,
          -1.5607971961887463,
          -1.416330514049092,
          0.6022444830440444,
          -0.9967003017604306,
          0.7165759040467021,
          -1.0270307209633915,
          0.24244449524876405,
          -0.5716852539984539,
          -0.48018727006504236,
          -0.6222621259478935,
          0.5345674934143281,
          0.43066330589856916,
          0.39671996353224714,
          -1.7478511876548124,
          -0.6558305603981607,
          -1.7588752942876509,
          -0.27901605793121487,
          -0.749927124658345,
          0.03519509179408801,
          0.6844835308390853,
          0.8016764794186388,
          -1.805456628608875,
          0.5493382492540594,
          -0.28810485415561893,
          1.776034726551925,
          1.3884960787525806,
          0.4234279651141638,
          -0.08072519087184314,
          -0.14366992536775397,
          -0.3110525320622555,
          -2.258851020385416,
          -0.8778884219465041,
          0.7169531573259034,
          -1.1175552516652947,
          1.998555339200149,
          0.010143811692055183,
          0.9997061409217312,
          0.6864193461963589,
          1.3033752026755039,
          0.17058949843208143,
          1.145439503574977,
          2.4733397056527635,
          0.10495562776449723,
          -1.7114608332231993,
          -2.4304805906032483,
          -0.4285963627332784,
          0.7020655166841565,
          -0.8396898673496372,
          2.524079694264786,
          0.531847360975319,
          -0.5108953101574714,
          -0.7592884951649482,
          -1.9399899488852062,
          0.4312887366747811,
          -1.5001091717186794,
          -1.0353191820511753,
          -1.1859422371830854,
          0.7329268277853427,
          -1.383494128063116,
          0.4132636032392495,
          0.5860992364708144,
          0.463041573680821,
          -1.3695660492015935,
          0.029227875593643714,
          0.566167264096036,
          -1.0254797983782813,
          1.1173861364049216,
          0.5543321247277112,
          1.7776006208415918,
          0.0037431964315748014,
          0.26877480651159624,
          1.769753103285265,
          -0.8217700822449036,
          -0.5765004269474363,
          -0.34946119392723046,
          -2.009057551334199,
          -0.18911911189835176,
          0.08196592547320265,
          -0.6713467690769955,
          1.592816275040431,
          -1.0030357365117704,
          -0.06681179500629934,
          1.7912023856489334,
          0.07609350198462528,
          -1.3227640709596251,
          -1.0083682068497435,
          1.2363708695953775,
          -1.3210175973343643,
          -0.003250788169452081
         ],
         "yaxis": "y15"
        },
        {
         "histfunc": "count",
         "histnorm": "",
         "marker": {
          "color": "rgba(128, 0, 128, 1.0)",
          "line": {
           "color": "#4D5663",
           "width": 1.3
          }
         },
         "name": "D",
         "nbinsx": 10,
         "opacity": 0.8,
         "orientation": "v",
         "type": "histogram",
         "x": [
          -0.10216109838905961,
          -0.7656310421934167,
          0.4627481919278918,
          0.9676006214274528,
          0.926423776406431,
          -1.2317828753206672,
          -0.5628576478198102,
          2.504698142086036,
          -0.7737906758600905,
          1.164448663529737,
          0.2194657342618466,
          -1.5607971961887463,
          -1.416330514049092,
          0.6022444830440444,
          -0.9967003017604306,
          0.7165759040467021,
          -1.0270307209633915,
          0.24244449524876405,
          -0.5716852539984539,
          -0.48018727006504236,
          -0.6222621259478935,
          0.5345674934143281,
          0.43066330589856916,
          0.39671996353224714,
          -1.7478511876548124,
          -0.6558305603981607,
          -1.7588752942876509,
          -0.27901605793121487,
          -0.749927124658345,
          0.03519509179408801,
          0.6844835308390853,
          0.8016764794186388,
          -1.805456628608875,
          0.5493382492540594,
          -0.28810485415561893,
          1.776034726551925,
          1.3884960787525806,
          0.4234279651141638,
          -0.08072519087184314,
          -0.14366992536775397,
          -0.3110525320622555,
          -2.258851020385416,
          -0.8778884219465041,
          0.7169531573259034,
          -1.1175552516652947,
          1.998555339200149,
          0.010143811692055183,
          0.9997061409217312,
          0.6864193461963589,
          1.3033752026755039,
          0.17058949843208143,
          1.145439503574977,
          2.4733397056527635,
          0.10495562776449723,
          -1.7114608332231993,
          -2.4304805906032483,
          -0.4285963627332784,
          0.7020655166841565,
          -0.8396898673496372,
          2.524079694264786,
          0.531847360975319,
          -0.5108953101574714,
          -0.7592884951649482,
          -1.9399899488852062,
          0.4312887366747811,
          -1.5001091717186794,
          -1.0353191820511753,
          -1.1859422371830854,
          0.7329268277853427,
          -1.383494128063116,
          0.4132636032392495,
          0.5860992364708144,
          0.463041573680821,
          -1.3695660492015935,
          0.029227875593643714,
          0.566167264096036,
          -1.0254797983782813,
          1.1173861364049216,
          0.5543321247277112,
          1.7776006208415918,
          0.0037431964315748014,
          0.26877480651159624,
          1.769753103285265,
          -0.8217700822449036,
          -0.5765004269474363,
          -0.34946119392723046,
          -2.009057551334199,
          -0.18911911189835176,
          0.08196592547320265,
          -0.6713467690769955,
          1.592816275040431,
          -1.0030357365117704,
          -0.06681179500629934,
          1.7912023856489334,
          0.07609350198462528,
          -1.3227640709596251,
          -1.0083682068497435,
          1.2363708695953775,
          -1.3210175973343643,
          -0.003250788169452081
         ],
         "xaxis": "x16",
         "yaxis": "y16"
        }
       ],
       "layout": {
        "bargap": 0.02,
        "legend": {
         "bgcolor": "#F5F6F9",
         "font": {
          "color": "#4D5663"
         }
        },
        "paper_bgcolor": "#F5F6F9",
        "plot_bgcolor": "#F5F6F9",
        "showlegend": false,
        "template": {
         "data": {
          "bar": [
           {
            "error_x": {
             "color": "#2a3f5f"
            },
            "error_y": {
             "color": "#2a3f5f"
            },
            "marker": {
             "line": {
              "color": "#E5ECF6",
              "width": 0.5
             }
            },
            "type": "bar"
           }
          ],
          "barpolar": [
           {
            "marker": {
             "line": {
              "color": "#E5ECF6",
              "width": 0.5
             }
            },
            "type": "barpolar"
           }
          ],
          "carpet": [
           {
            "aaxis": {
             "endlinecolor": "#2a3f5f",
             "gridcolor": "white",
             "linecolor": "white",
             "minorgridcolor": "white",
             "startlinecolor": "#2a3f5f"
            },
            "baxis": {
             "endlinecolor": "#2a3f5f",
             "gridcolor": "white",
             "linecolor": "white",
             "minorgridcolor": "white",
             "startlinecolor": "#2a3f5f"
            },
            "type": "carpet"
           }
          ],
          "choropleth": [
           {
            "colorbar": {
             "outlinewidth": 0,
             "ticks": ""
            },
            "type": "choropleth"
           }
          ],
          "contour": [
           {
            "colorbar": {
             "outlinewidth": 0,
             "ticks": ""
            },
            "colorscale": [
             [
              0,
              "#0d0887"
             ],
             [
              0.1111111111111111,
              "#46039f"
             ],
             [
              0.2222222222222222,
              "#7201a8"
             ],
             [
              0.3333333333333333,
              "#9c179e"
             ],
             [
              0.4444444444444444,
              "#bd3786"
             ],
             [
              0.5555555555555556,
              "#d8576b"
             ],
             [
              0.6666666666666666,
              "#ed7953"
             ],
             [
              0.7777777777777778,
              "#fb9f3a"
             ],
             [
              0.8888888888888888,
              "#fdca26"
             ],
             [
              1,
              "#f0f921"
             ]
            ],
            "type": "contour"
           }
          ],
          "contourcarpet": [
           {
            "colorbar": {
             "outlinewidth": 0,
             "ticks": ""
            },
            "type": "contourcarpet"
           }
          ],
          "heatmap": [
           {
            "colorbar": {
             "outlinewidth": 0,
             "ticks": ""
            },
            "colorscale": [
             [
              0,
              "#0d0887"
             ],
             [
              0.1111111111111111,
              "#46039f"
             ],
             [
              0.2222222222222222,
              "#7201a8"
             ],
             [
              0.3333333333333333,
              "#9c179e"
             ],
             [
              0.4444444444444444,
              "#bd3786"
             ],
             [
              0.5555555555555556,
              "#d8576b"
             ],
             [
              0.6666666666666666,
              "#ed7953"
             ],
             [
              0.7777777777777778,
              "#fb9f3a"
             ],
             [
              0.8888888888888888,
              "#fdca26"
             ],
             [
              1,
              "#f0f921"
             ]
            ],
            "type": "heatmap"
           }
          ],
          "heatmapgl": [
           {
            "colorbar": {
             "outlinewidth": 0,
             "ticks": ""
            },
            "colorscale": [
             [
              0,
              "#0d0887"
             ],
             [
              0.1111111111111111,
              "#46039f"
             ],
             [
              0.2222222222222222,
              "#7201a8"
             ],
             [
              0.3333333333333333,
              "#9c179e"
             ],
             [
              0.4444444444444444,
              "#bd3786"
             ],
             [
              0.5555555555555556,
              "#d8576b"
             ],
             [
              0.6666666666666666,
              "#ed7953"
             ],
             [
              0.7777777777777778,
              "#fb9f3a"
             ],
             [
              0.8888888888888888,
              "#fdca26"
             ],
             [
              1,
              "#f0f921"
             ]
            ],
            "type": "heatmapgl"
           }
          ],
          "histogram": [
           {
            "marker": {
             "colorbar": {
              "outlinewidth": 0,
              "ticks": ""
             }
            },
            "type": "histogram"
           }
          ],
          "histogram2d": [
           {
            "colorbar": {
             "outlinewidth": 0,
             "ticks": ""
            },
            "colorscale": [
             [
              0,
              "#0d0887"
             ],
             [
              0.1111111111111111,
              "#46039f"
             ],
             [
              0.2222222222222222,
              "#7201a8"
             ],
             [
              0.3333333333333333,
              "#9c179e"
             ],
             [
              0.4444444444444444,
              "#bd3786"
             ],
             [
              0.5555555555555556,
              "#d8576b"
             ],
             [
              0.6666666666666666,
              "#ed7953"
             ],
             [
              0.7777777777777778,
              "#fb9f3a"
             ],
             [
              0.8888888888888888,
              "#fdca26"
             ],
             [
              1,
              "#f0f921"
             ]
            ],
            "type": "histogram2d"
           }
          ],
          "histogram2dcontour": [
           {
            "colorbar": {
             "outlinewidth": 0,
             "ticks": ""
            },
            "colorscale": [
             [
              0,
              "#0d0887"
             ],
             [
              0.1111111111111111,
              "#46039f"
             ],
             [
              0.2222222222222222,
              "#7201a8"
             ],
             [
              0.3333333333333333,
              "#9c179e"
             ],
             [
              0.4444444444444444,
              "#bd3786"
             ],
             [
              0.5555555555555556,
              "#d8576b"
             ],
             [
              0.6666666666666666,
              "#ed7953"
             ],
             [
              0.7777777777777778,
              "#fb9f3a"
             ],
             [
              0.8888888888888888,
              "#fdca26"
             ],
             [
              1,
              "#f0f921"
             ]
            ],
            "type": "histogram2dcontour"
           }
          ],
          "mesh3d": [
           {
            "colorbar": {
             "outlinewidth": 0,
             "ticks": ""
            },
            "type": "mesh3d"
           }
          ],
          "parcoords": [
           {
            "line": {
             "colorbar": {
              "outlinewidth": 0,
              "ticks": ""
             }
            },
            "type": "parcoords"
           }
          ],
          "pie": [
           {
            "automargin": true,
            "type": "pie"
           }
          ],
          "scatter": [
           {
            "marker": {
             "colorbar": {
              "outlinewidth": 0,
              "ticks": ""
             }
            },
            "type": "scatter"
           }
          ],
          "scatter3d": [
           {
            "line": {
             "colorbar": {
              "outlinewidth": 0,
              "ticks": ""
             }
            },
            "marker": {
             "colorbar": {
              "outlinewidth": 0,
              "ticks": ""
             }
            },
            "type": "scatter3d"
           }
          ],
          "scattercarpet": [
           {
            "marker": {
             "colorbar": {
              "outlinewidth": 0,
              "ticks": ""
             }
            },
            "type": "scattercarpet"
           }
          ],
          "scattergeo": [
           {
            "marker": {
             "colorbar": {
              "outlinewidth": 0,
              "ticks": ""
             }
            },
            "type": "scattergeo"
           }
          ],
          "scattergl": [
           {
            "marker": {
             "colorbar": {
              "outlinewidth": 0,
              "ticks": ""
             }
            },
            "type": "scattergl"
           }
          ],
          "scattermapbox": [
           {
            "marker": {
             "colorbar": {
              "outlinewidth": 0,
              "ticks": ""
             }
            },
            "type": "scattermapbox"
           }
          ],
          "scatterpolar": [
           {
            "marker": {
             "colorbar": {
              "outlinewidth": 0,
              "ticks": ""
             }
            },
            "type": "scatterpolar"
           }
          ],
          "scatterpolargl": [
           {
            "marker": {
             "colorbar": {
              "outlinewidth": 0,
              "ticks": ""
             }
            },
            "type": "scatterpolargl"
           }
          ],
          "scatterternary": [
           {
            "marker": {
             "colorbar": {
              "outlinewidth": 0,
              "ticks": ""
             }
            },
            "type": "scatterternary"
           }
          ],
          "surface": [
           {
            "colorbar": {
             "outlinewidth": 0,
             "ticks": ""
            },
            "colorscale": [
             [
              0,
              "#0d0887"
             ],
             [
              0.1111111111111111,
              "#46039f"
             ],
             [
              0.2222222222222222,
              "#7201a8"
             ],
             [
              0.3333333333333333,
              "#9c179e"
             ],
             [
              0.4444444444444444,
              "#bd3786"
             ],
             [
              0.5555555555555556,
              "#d8576b"
             ],
             [
              0.6666666666666666,
              "#ed7953"
             ],
             [
              0.7777777777777778,
              "#fb9f3a"
             ],
             [
              0.8888888888888888,
              "#fdca26"
             ],
             [
              1,
              "#f0f921"
             ]
            ],
            "type": "surface"
           }
          ],
          "table": [
           {
            "cells": {
             "fill": {
              "color": "#EBF0F8"
             },
             "line": {
              "color": "white"
             }
            },
            "header": {
             "fill": {
              "color": "#C8D4E3"
             },
             "line": {
              "color": "white"
             }
            },
            "type": "table"
           }
          ]
         },
         "layout": {
          "annotationdefaults": {
           "arrowcolor": "#2a3f5f",
           "arrowhead": 0,
           "arrowwidth": 1
          },
          "coloraxis": {
           "colorbar": {
            "outlinewidth": 0,
            "ticks": ""
           }
          },
          "colorscale": {
           "diverging": [
            [
             0,
             "#8e0152"
            ],
            [
             0.1,
             "#c51b7d"
            ],
            [
             0.2,
             "#de77ae"
            ],
            [
             0.3,
             "#f1b6da"
            ],
            [
             0.4,
             "#fde0ef"
            ],
            [
             0.5,
             "#f7f7f7"
            ],
            [
             0.6,
             "#e6f5d0"
            ],
            [
             0.7,
             "#b8e186"
            ],
            [
             0.8,
             "#7fbc41"
            ],
            [
             0.9,
             "#4d9221"
            ],
            [
             1,
             "#276419"
            ]
           ],
           "sequential": [
            [
             0,
             "#0d0887"
            ],
            [
             0.1111111111111111,
             "#46039f"
            ],
            [
             0.2222222222222222,
             "#7201a8"
            ],
            [
             0.3333333333333333,
             "#9c179e"
            ],
            [
             0.4444444444444444,
             "#bd3786"
            ],
            [
             0.5555555555555556,
             "#d8576b"
            ],
            [
             0.6666666666666666,
             "#ed7953"
            ],
            [
             0.7777777777777778,
             "#fb9f3a"
            ],
            [
             0.8888888888888888,
             "#fdca26"
            ],
            [
             1,
             "#f0f921"
            ]
           ],
           "sequentialminus": [
            [
             0,
             "#0d0887"
            ],
            [
             0.1111111111111111,
             "#46039f"
            ],
            [
             0.2222222222222222,
             "#7201a8"
            ],
            [
             0.3333333333333333,
             "#9c179e"
            ],
            [
             0.4444444444444444,
             "#bd3786"
            ],
            [
             0.5555555555555556,
             "#d8576b"
            ],
            [
             0.6666666666666666,
             "#ed7953"
            ],
            [
             0.7777777777777778,
             "#fb9f3a"
            ],
            [
             0.8888888888888888,
             "#fdca26"
            ],
            [
             1,
             "#f0f921"
            ]
           ]
          },
          "colorway": [
           "#636efa",
           "#EF553B",
           "#00cc96",
           "#ab63fa",
           "#FFA15A",
           "#19d3f3",
           "#FF6692",
           "#B6E880",
           "#FF97FF",
           "#FECB52"
          ],
          "font": {
           "color": "#2a3f5f"
          },
          "geo": {
           "bgcolor": "white",
           "lakecolor": "white",
           "landcolor": "#E5ECF6",
           "showlakes": true,
           "showland": true,
           "subunitcolor": "white"
          },
          "hoverlabel": {
           "align": "left"
          },
          "hovermode": "closest",
          "mapbox": {
           "style": "light"
          },
          "paper_bgcolor": "white",
          "plot_bgcolor": "#E5ECF6",
          "polar": {
           "angularaxis": {
            "gridcolor": "white",
            "linecolor": "white",
            "ticks": ""
           },
           "bgcolor": "#E5ECF6",
           "radialaxis": {
            "gridcolor": "white",
            "linecolor": "white",
            "ticks": ""
           }
          },
          "scene": {
           "xaxis": {
            "backgroundcolor": "#E5ECF6",
            "gridcolor": "white",
            "gridwidth": 2,
            "linecolor": "white",
            "showbackground": true,
            "ticks": "",
            "zerolinecolor": "white"
           },
           "yaxis": {
            "backgroundcolor": "#E5ECF6",
            "gridcolor": "white",
            "gridwidth": 2,
            "linecolor": "white",
            "showbackground": true,
            "ticks": "",
            "zerolinecolor": "white"
           },
           "zaxis": {
            "backgroundcolor": "#E5ECF6",
            "gridcolor": "white",
            "gridwidth": 2,
            "linecolor": "white",
            "showbackground": true,
            "ticks": "",
            "zerolinecolor": "white"
           }
          },
          "shapedefaults": {
           "line": {
            "color": "#2a3f5f"
           }
          },
          "ternary": {
           "aaxis": {
            "gridcolor": "white",
            "linecolor": "white",
            "ticks": ""
           },
           "baxis": {
            "gridcolor": "white",
            "linecolor": "white",
            "ticks": ""
           },
           "bgcolor": "#E5ECF6",
           "caxis": {
            "gridcolor": "white",
            "linecolor": "white",
            "ticks": ""
           }
          },
          "title": {
           "x": 0.05
          },
          "xaxis": {
           "automargin": true,
           "gridcolor": "white",
           "linecolor": "white",
           "ticks": "",
           "title": {
            "standoff": 15
           },
           "zerolinecolor": "white",
           "zerolinewidth": 2
          },
          "yaxis": {
           "automargin": true,
           "gridcolor": "white",
           "linecolor": "white",
           "ticks": "",
           "title": {
            "standoff": 15
           },
           "zerolinecolor": "white",
           "zerolinewidth": 2
          }
         }
        },
        "title": {
         "font": {
          "color": "#4D5663"
         }
        },
        "xaxis": {
         "anchor": "y",
         "domain": [
          0,
          0.2125
         ],
         "gridcolor": "#E1E5ED",
         "showgrid": false,
         "tickfont": {
          "color": "#4D5663"
         },
         "title": {
          "font": {
           "color": "#4D5663"
          },
          "text": ""
         },
         "zerolinecolor": "#E1E5ED"
        },
        "xaxis10": {
         "anchor": "y10",
         "domain": [
          0.2625,
          0.475
         ],
         "gridcolor": "#E1E5ED",
         "showgrid": false,
         "tickfont": {
          "color": "#4D5663"
         },
         "title": {
          "font": {
           "color": "#4D5663"
          },
          "text": ""
         },
         "zerolinecolor": "#E1E5ED"
        },
        "xaxis11": {
         "anchor": "y11",
         "domain": [
          0.525,
          0.7375
         ],
         "gridcolor": "#E1E5ED",
         "showgrid": false,
         "tickfont": {
          "color": "#4D5663"
         },
         "title": {
          "font": {
           "color": "#4D5663"
          },
          "text": ""
         },
         "zerolinecolor": "#E1E5ED"
        },
        "xaxis12": {
         "anchor": "y12",
         "domain": [
          0.7875,
          1
         ],
         "gridcolor": "#E1E5ED",
         "showgrid": false,
         "tickfont": {
          "color": "#4D5663"
         },
         "title": {
          "font": {
           "color": "#4D5663"
          },
          "text": ""
         },
         "zerolinecolor": "#E1E5ED"
        },
        "xaxis13": {
         "anchor": "y13",
         "domain": [
          0,
          0.2125
         ],
         "gridcolor": "#E1E5ED",
         "showgrid": false,
         "tickfont": {
          "color": "#4D5663"
         },
         "title": {
          "font": {
           "color": "#4D5663"
          },
          "text": ""
         },
         "zerolinecolor": "#E1E5ED"
        },
        "xaxis14": {
         "anchor": "y14",
         "domain": [
          0.2625,
          0.475
         ],
         "gridcolor": "#E1E5ED",
         "showgrid": false,
         "tickfont": {
          "color": "#4D5663"
         },
         "title": {
          "font": {
           "color": "#4D5663"
          },
          "text": ""
         },
         "zerolinecolor": "#E1E5ED"
        },
        "xaxis15": {
         "anchor": "y15",
         "domain": [
          0.525,
          0.7375
         ],
         "gridcolor": "#E1E5ED",
         "showgrid": false,
         "tickfont": {
          "color": "#4D5663"
         },
         "title": {
          "font": {
           "color": "#4D5663"
          },
          "text": ""
         },
         "zerolinecolor": "#E1E5ED"
        },
        "xaxis16": {
         "anchor": "y16",
         "domain": [
          0.7875,
          1
         ],
         "gridcolor": "#E1E5ED",
         "showgrid": false,
         "tickfont": {
          "color": "#4D5663"
         },
         "title": {
          "font": {
           "color": "#4D5663"
          },
          "text": ""
         },
         "zerolinecolor": "#E1E5ED"
        },
        "xaxis2": {
         "anchor": "y2",
         "domain": [
          0.2625,
          0.475
         ],
         "gridcolor": "#E1E5ED",
         "showgrid": false,
         "tickfont": {
          "color": "#4D5663"
         },
         "title": {
          "font": {
           "color": "#4D5663"
          },
          "text": ""
         },
         "zerolinecolor": "#E1E5ED"
        },
        "xaxis3": {
         "anchor": "y3",
         "domain": [
          0.525,
          0.7375
         ],
         "gridcolor": "#E1E5ED",
         "showgrid": false,
         "tickfont": {
          "color": "#4D5663"
         },
         "title": {
          "font": {
           "color": "#4D5663"
          },
          "text": ""
         },
         "zerolinecolor": "#E1E5ED"
        },
        "xaxis4": {
         "anchor": "y4",
         "domain": [
          0.7875,
          1
         ],
         "gridcolor": "#E1E5ED",
         "showgrid": false,
         "tickfont": {
          "color": "#4D5663"
         },
         "title": {
          "font": {
           "color": "#4D5663"
          },
          "text": ""
         },
         "zerolinecolor": "#E1E5ED"
        },
        "xaxis5": {
         "anchor": "y5",
         "domain": [
          0,
          0.2125
         ],
         "gridcolor": "#E1E5ED",
         "showgrid": false,
         "tickfont": {
          "color": "#4D5663"
         },
         "title": {
          "font": {
           "color": "#4D5663"
          },
          "text": ""
         },
         "zerolinecolor": "#E1E5ED"
        },
        "xaxis6": {
         "anchor": "y6",
         "domain": [
          0.2625,
          0.475
         ],
         "gridcolor": "#E1E5ED",
         "showgrid": false,
         "tickfont": {
          "color": "#4D5663"
         },
         "title": {
          "font": {
           "color": "#4D5663"
          },
          "text": ""
         },
         "zerolinecolor": "#E1E5ED"
        },
        "xaxis7": {
         "anchor": "y7",
         "domain": [
          0.525,
          0.7375
         ],
         "gridcolor": "#E1E5ED",
         "showgrid": false,
         "tickfont": {
          "color": "#4D5663"
         },
         "title": {
          "font": {
           "color": "#4D5663"
          },
          "text": ""
         },
         "zerolinecolor": "#E1E5ED"
        },
        "xaxis8": {
         "anchor": "y8",
         "domain": [
          0.7875,
          1
         ],
         "gridcolor": "#E1E5ED",
         "showgrid": false,
         "tickfont": {
          "color": "#4D5663"
         },
         "title": {
          "font": {
           "color": "#4D5663"
          },
          "text": ""
         },
         "zerolinecolor": "#E1E5ED"
        },
        "xaxis9": {
         "anchor": "y9",
         "domain": [
          0,
          0.2125
         ],
         "gridcolor": "#E1E5ED",
         "showgrid": false,
         "tickfont": {
          "color": "#4D5663"
         },
         "title": {
          "font": {
           "color": "#4D5663"
          },
          "text": ""
         },
         "zerolinecolor": "#E1E5ED"
        },
        "yaxis": {
         "anchor": "x",
         "domain": [
          0.8025,
          1
         ],
         "gridcolor": "#E1E5ED",
         "showgrid": false,
         "tickfont": {
          "color": "#4D5663"
         },
         "title": {
          "font": {
           "color": "#4D5663"
          },
          "text": ""
         },
         "zerolinecolor": "#E1E5ED"
        },
        "yaxis10": {
         "anchor": "x10",
         "domain": [
          0.2675,
          0.465
         ],
         "gridcolor": "#E1E5ED",
         "showgrid": false,
         "tickfont": {
          "color": "#4D5663"
         },
         "title": {
          "font": {
           "color": "#4D5663"
          },
          "text": ""
         },
         "zerolinecolor": "#E1E5ED"
        },
        "yaxis11": {
         "anchor": "x11",
         "domain": [
          0.2675,
          0.465
         ],
         "gridcolor": "#E1E5ED",
         "showgrid": false,
         "tickfont": {
          "color": "#4D5663"
         },
         "title": {
          "font": {
           "color": "#4D5663"
          },
          "text": ""
         },
         "zerolinecolor": "#E1E5ED"
        },
        "yaxis12": {
         "anchor": "x12",
         "domain": [
          0.2675,
          0.465
         ],
         "gridcolor": "#E1E5ED",
         "showgrid": false,
         "tickfont": {
          "color": "#4D5663"
         },
         "title": {
          "font": {
           "color": "#4D5663"
          },
          "text": ""
         },
         "zerolinecolor": "#E1E5ED"
        },
        "yaxis13": {
         "anchor": "x13",
         "domain": [
          0,
          0.1975
         ],
         "gridcolor": "#E1E5ED",
         "showgrid": false,
         "tickfont": {
          "color": "#4D5663"
         },
         "title": {
          "font": {
           "color": "#4D5663"
          },
          "text": ""
         },
         "zerolinecolor": "#E1E5ED"
        },
        "yaxis14": {
         "anchor": "x14",
         "domain": [
          0,
          0.1975
         ],
         "gridcolor": "#E1E5ED",
         "showgrid": false,
         "tickfont": {
          "color": "#4D5663"
         },
         "title": {
          "font": {
           "color": "#4D5663"
          },
          "text": ""
         },
         "zerolinecolor": "#E1E5ED"
        },
        "yaxis15": {
         "anchor": "x15",
         "domain": [
          0,
          0.1975
         ],
         "gridcolor": "#E1E5ED",
         "showgrid": false,
         "tickfont": {
          "color": "#4D5663"
         },
         "title": {
          "font": {
           "color": "#4D5663"
          },
          "text": ""
         },
         "zerolinecolor": "#E1E5ED"
        },
        "yaxis16": {
         "anchor": "x16",
         "domain": [
          0,
          0.1975
         ],
         "gridcolor": "#E1E5ED",
         "showgrid": false,
         "tickfont": {
          "color": "#4D5663"
         },
         "title": {
          "font": {
           "color": "#4D5663"
          },
          "text": ""
         },
         "zerolinecolor": "#E1E5ED"
        },
        "yaxis2": {
         "anchor": "x2",
         "domain": [
          0.8025,
          1
         ],
         "gridcolor": "#E1E5ED",
         "showgrid": false,
         "tickfont": {
          "color": "#4D5663"
         },
         "title": {
          "font": {
           "color": "#4D5663"
          },
          "text": ""
         },
         "zerolinecolor": "#E1E5ED"
        },
        "yaxis3": {
         "anchor": "x3",
         "domain": [
          0.8025,
          1
         ],
         "gridcolor": "#E1E5ED",
         "showgrid": false,
         "tickfont": {
          "color": "#4D5663"
         },
         "title": {
          "font": {
           "color": "#4D5663"
          },
          "text": ""
         },
         "zerolinecolor": "#E1E5ED"
        },
        "yaxis4": {
         "anchor": "x4",
         "domain": [
          0.8025,
          1
         ],
         "gridcolor": "#E1E5ED",
         "showgrid": false,
         "tickfont": {
          "color": "#4D5663"
         },
         "title": {
          "font": {
           "color": "#4D5663"
          },
          "text": ""
         },
         "zerolinecolor": "#E1E5ED"
        },
        "yaxis5": {
         "anchor": "x5",
         "domain": [
          0.535,
          0.7325
         ],
         "gridcolor": "#E1E5ED",
         "showgrid": false,
         "tickfont": {
          "color": "#4D5663"
         },
         "title": {
          "font": {
           "color": "#4D5663"
          },
          "text": ""
         },
         "zerolinecolor": "#E1E5ED"
        },
        "yaxis6": {
         "anchor": "x6",
         "domain": [
          0.535,
          0.7325
         ],
         "gridcolor": "#E1E5ED",
         "showgrid": false,
         "tickfont": {
          "color": "#4D5663"
         },
         "title": {
          "font": {
           "color": "#4D5663"
          },
          "text": ""
         },
         "zerolinecolor": "#E1E5ED"
        },
        "yaxis7": {
         "anchor": "x7",
         "domain": [
          0.535,
          0.7325
         ],
         "gridcolor": "#E1E5ED",
         "showgrid": false,
         "tickfont": {
          "color": "#4D5663"
         },
         "title": {
          "font": {
           "color": "#4D5663"
          },
          "text": ""
         },
         "zerolinecolor": "#E1E5ED"
        },
        "yaxis8": {
         "anchor": "x8",
         "domain": [
          0.535,
          0.7325
         ],
         "gridcolor": "#E1E5ED",
         "showgrid": false,
         "tickfont": {
          "color": "#4D5663"
         },
         "title": {
          "font": {
           "color": "#4D5663"
          },
          "text": ""
         },
         "zerolinecolor": "#E1E5ED"
        },
        "yaxis9": {
         "anchor": "x9",
         "domain": [
          0.2675,
          0.465
         ],
         "gridcolor": "#E1E5ED",
         "showgrid": false,
         "tickfont": {
          "color": "#4D5663"
         },
         "title": {
          "font": {
           "color": "#4D5663"
          },
          "text": ""
         },
         "zerolinecolor": "#E1E5ED"
        }
       }
      },
      "text/html": [
       "<div>                            <div id=\"0f2bbb90-5b16-4f80-9a40-a5928a99f1ee\" class=\"plotly-graph-div\" style=\"height:525px; width:100%;\"></div>            <script type=\"text/javascript\">                require([\"plotly\"], function(Plotly) {                    window.PLOTLYENV=window.PLOTLYENV || {};\n",
       "                    window.PLOTLYENV.BASE_URL='https://plot.ly';                                    if (document.getElementById(\"0f2bbb90-5b16-4f80-9a40-a5928a99f1ee\")) {                    Plotly.newPlot(                        \"0f2bbb90-5b16-4f80-9a40-a5928a99f1ee\",                        [{\"histfunc\": \"count\", \"histnorm\": \"\", \"marker\": {\"color\": \"rgba(255, 153, 51, 1.0)\", \"line\": {\"color\": \"#4D5663\", \"width\": 1.3}}, \"name\": \"A\", \"nbinsx\": 10, \"opacity\": 0.8, \"orientation\": \"v\", \"type\": \"histogram\", \"x\": [0.2833623675227722, -1.127271506470818, 0.5301991988413371, -0.9076037526358803, 0.3045832521261345, 1.5802942678868173, 1.9590307813960588, 0.4506493866329785, -0.16613983560977538, 0.46344861995238673, -0.3029747794229369, 1.0872271658066728, -1.6069227916919724, -0.06024722082744196, -1.000922647114807, -0.8428459274937556, 0.29478573314485923, -0.25339222119091565, 0.7187247748507258, 1.3353341377998886, -0.3132263384895011, -0.39118000703348754, -1.7291172658029401, -0.5693280082171505, -0.18087539462310423, 0.6036481562105745, 0.16176229925673608, 0.5404933164826498, -0.050736094303384584, -1.7608032679833248, 1.1206641776550978, 0.2838819671315071, -0.5719968871072524, -0.19937518829329207, -1.2092967930008358, -2.1550539493577956, -0.8506827098252433, 0.09807027557339956, -0.20852721520392994, 0.0912904455286591, 0.8507029232627918, 0.7463037519235868, 0.1599236640979604, -1.462351188047253, 0.457348739903739, 0.7556632254955828, 0.22062598272523387, -0.27599288567352176, -0.08651902719832559, -0.09390592780647052, 0.24038800777499403, 0.9386699960214014, -0.37020709228577187, -1.4755040676184674, 0.4819500836736902, 1.536663027126891, -1.8092408905159583, 0.033277606986312054, 0.09798696404977163, -0.32247346929781884, -1.555270331626882, 0.9876894317407412, 0.00028416691420902416, -0.39456722234572883, -0.08365889875132763, 0.8416210966617714, 0.7546325779328649, 0.6720135507751842, -0.1608911463122692, 0.7573962711229544, -1.174575815424979, -0.6613932481307679, 0.005947420146648111, -0.395531939861682, -1.4391168822911, -1.3339009646738926, -0.3886619660027748, 1.6126444498295815, -1.6794064847194896, -0.30320536220958877, 0.9461461594017028, -0.06348775003781486, -2.124844609404621, 0.08835640937139362, 2.6901798168203337, 0.6518982468613443, 0.16121683466285788, 0.5534423738048103, -0.0540939855612481, -0.33942531987529156, 0.04449274194965574, -1.6732075886435611, -1.3900365917463668, 0.49685876161216186, 0.08337278758692533, 1.4442163263090961, -1.0831084992907014, -1.0583044225528533, 1.1535020255004065, 0.5301801527396007], \"xaxis\": \"x\", \"yaxis\": \"y\"}, {\"line\": {\"color\": \"rgba(128, 128, 128, 1.0)\", \"dash\": \"solid\", \"shape\": \"linear\", \"width\": 1.3}, \"marker\": {\"size\": 2, \"symbol\": \"circle\"}, \"mode\": \"markers\", \"name\": \"A\", \"text\": \"\", \"type\": \"scatter\", \"x\": [-0.12933625164448187, 0.13103167279239178, -0.2783800153100398, -0.4479072949745716, 0.6150291508003769, 0.04737160814250403, 0.724359524718601, 0.9068787283284158, -0.2834212092124333, 1.3846874642484022, -0.7900873096135989, 1.9990860724476802, 0.06513492061042847, 0.3761237870614334, 1.306002077023205, 0.21675678154141828, -0.17672460240902965, -1.6173317754480456, -0.3314978333603156, 1.3484994220885849, -1.2528411501569485, -0.7478995842212484, 0.8861269234986784, -0.6134231551246254, -0.5167498588077946, 0.9238994036778923, 0.30770452064141585, 1.2560612137362714, 0.4293958271803, -0.9714001809114541, 0.0529499288742505, -1.3136810389141642, -1.2976580632562906, 1.842221725391775, -1.0566420608604992, 0.12321025879006645, -0.13612878866987144, 0.22462263883719774, -0.003217995196276888, 2.6856075213904202, 2.4830248621546605, 0.8821380943095746, 0.9996863770264012, -0.003627477831770408, -1.2723142719885756, -0.30948703037988406, 0.8843284070240234, -1.619507799527179, -0.4335750367397115, 1.0655440640665477, 0.43200915741373525, 1.9197500330210822, 0.15084415313177363, -2.71184007998908, 1.7048789872131893, 0.8192423426391454, -0.9901671207511124, -1.6328634527925319, 0.21341038490737793, -1.658496320844627, -1.3250190128424661, -0.535465094697021, 0.3473214304769248, -0.25946471137270866, -0.888522689105521, -0.9531852049657755, 0.28526318110518045, -1.534240751475243, 0.8163815140281812, -1.8164535882003214, -1.213659476037669, -0.20474995625923617, 0.6709269694895401, 0.7928575255755295, 2.1310876397916347, 2.073222829167607, 1.0144150232185323, -0.07502724401221807, -0.04616501318666702, 1.9666741653159439, -0.1018163441743207, -0.2982981792733883, -0.12177935394126996, -0.34511438462030997, -0.24258558078122744, 0.08381699731823941, -0.18605525538332446, -0.07394916136370062, 0.41322139524717544, 1.098441891414735, 0.09232940542087814, -0.043577383753931234, 0.6529138894554455, 0.24426145948580733, 1.4830111845032046, -0.7322574441943723, -0.8515162512068878, -0.6158076287305354, -0.020335173306272214, -0.6668910616530364], \"xaxis\": \"x2\", \"y\": [0.2833623675227722, -1.127271506470818, 0.5301991988413371, -0.9076037526358803, 0.3045832521261345, 1.5802942678868173, 1.9590307813960588, 0.4506493866329785, -0.16613983560977538, 0.46344861995238673, -0.3029747794229369, 1.0872271658066728, -1.6069227916919724, -0.06024722082744196, -1.000922647114807, -0.8428459274937556, 0.29478573314485923, -0.25339222119091565, 0.7187247748507258, 1.3353341377998886, -0.3132263384895011, -0.39118000703348754, -1.7291172658029401, -0.5693280082171505, -0.18087539462310423, 0.6036481562105745, 0.16176229925673608, 0.5404933164826498, -0.050736094303384584, -1.7608032679833248, 1.1206641776550978, 0.2838819671315071, -0.5719968871072524, -0.19937518829329207, -1.2092967930008358, -2.1550539493577956, -0.8506827098252433, 0.09807027557339956, -0.20852721520392994, 0.0912904455286591, 0.8507029232627918, 0.7463037519235868, 0.1599236640979604, -1.462351188047253, 0.457348739903739, 0.7556632254955828, 0.22062598272523387, -0.27599288567352176, -0.08651902719832559, -0.09390592780647052, 0.24038800777499403, 0.9386699960214014, -0.37020709228577187, -1.4755040676184674, 0.4819500836736902, 1.536663027126891, -1.8092408905159583, 0.033277606986312054, 0.09798696404977163, -0.32247346929781884, -1.555270331626882, 0.9876894317407412, 0.00028416691420902416, -0.39456722234572883, -0.08365889875132763, 0.8416210966617714, 0.7546325779328649, 0.6720135507751842, -0.1608911463122692, 0.7573962711229544, -1.174575815424979, -0.6613932481307679, 0.005947420146648111, -0.395531939861682, -1.4391168822911, -1.3339009646738926, -0.3886619660027748, 1.6126444498295815, -1.6794064847194896, -0.30320536220958877, 0.9461461594017028, -0.06348775003781486, -2.124844609404621, 0.08835640937139362, 2.6901798168203337, 0.6518982468613443, 0.16121683466285788, 0.5534423738048103, -0.0540939855612481, -0.33942531987529156, 0.04449274194965574, -1.6732075886435611, -1.3900365917463668, 0.49685876161216186, 0.08337278758692533, 1.4442163263090961, -1.0831084992907014, -1.0583044225528533, 1.1535020255004065, 0.5301801527396007], \"yaxis\": \"y2\"}, {\"line\": {\"color\": \"rgba(128, 128, 128, 1.0)\", \"dash\": \"solid\", \"shape\": \"linear\", \"width\": 1.3}, \"marker\": {\"size\": 2, \"symbol\": \"circle\"}, \"mode\": \"markers\", \"name\": \"A\", \"text\": \"\", \"type\": \"scatter\", \"x\": [0.018304062145121796, 2.019560754593152, 0.42626945686576057, -0.2739679545653923, -0.997470781234299, -0.4503484953971212, 0.05658522896126178, 1.8703946758539833, -0.7282192165981017, 1.0130887851430903, -0.10412595903727308, 0.7723039698034716, -0.06025944559918106, -0.010354771633410958, -1.0602696860984755, 1.1050084100426039, 0.5485003927777916, 0.9620419540774584, 0.49128914698941123, 1.2894853079161406, 0.992477393767811, -0.6008012606025712, 0.19476008014146914, -0.43162557226475934, 0.867260093335228, -0.6997608098644535, 0.6877716080348647, 0.4660829399051041, -0.08536836649304284, -0.18964437507119677, -0.3322133063995614, 0.27578424620315134, 0.8063923437482271, -1.1628782053179392, 0.0016177627350909575, -0.46436331315096663, 0.15959018813893852, 0.7077743871910742, 0.39785969275151184, 0.15125646833970402, 0.14721214493331997, -1.8890937356112523, 0.9370721993704706, -0.5804723441556117, -0.2350651451925488, -0.6674631147974077, 0.02178475613693451, -1.3371935361464589, 0.9526116704709032, -0.6081704213007355, 0.6571963675789121, -0.9820874029605368, 0.2725657620170841, -0.9904415670560973, -1.849058299728199, 0.38015458845456834, 0.8909796578205339, 0.11902953150791908, -0.7012940906761457, -0.29974258165132417, -0.49365558541711935, -1.1159286304908431, -0.1567280612065704, 2.2497285275914063, 0.4956714825395612, -0.07547408536663255, 0.8232769911074701, 0.5900584624509049, -0.05725963313849215, 0.6819320413184793, -1.1910889539700689, 0.8093801574983543, -0.23897977149795457, -0.8901446846458919, 1.720009001354134, -0.6975196389152628, 0.11004468433955364, -0.46526464429070824, -0.8936350951103114, 1.928652152916678, 0.4101906275374475, 0.3741917471953431, -0.7062904196750375, -0.5253432726929733, 0.6971537769431922, 1.2856277367726674, -0.012212380541684805, -1.5985386798165575, 1.6404222204367034, 0.3708504880946784, -0.1297059977919652, -1.705705487812127, -1.3506013383049886, -1.22973244817741, 1.653108443530469, -0.555410614110448, 1.498197880074332, 0.3382822390084572, -0.3597481333139245, 1.4929199677948024], \"xaxis\": \"x3\", \"y\": [0.2833623675227722, -1.127271506470818, 0.5301991988413371, -0.9076037526358803, 0.3045832521261345, 1.5802942678868173, 1.9590307813960588, 0.4506493866329785, -0.16613983560977538, 0.46344861995238673, -0.3029747794229369, 1.0872271658066728, -1.6069227916919724, -0.06024722082744196, -1.000922647114807, -0.8428459274937556, 0.29478573314485923, -0.25339222119091565, 0.7187247748507258, 1.3353341377998886, -0.3132263384895011, -0.39118000703348754, -1.7291172658029401, -0.5693280082171505, -0.18087539462310423, 0.6036481562105745, 0.16176229925673608, 0.5404933164826498, -0.050736094303384584, -1.7608032679833248, 1.1206641776550978, 0.2838819671315071, -0.5719968871072524, -0.19937518829329207, -1.2092967930008358, -2.1550539493577956, -0.8506827098252433, 0.09807027557339956, -0.20852721520392994, 0.0912904455286591, 0.8507029232627918, 0.7463037519235868, 0.1599236640979604, -1.462351188047253, 0.457348739903739, 0.7556632254955828, 0.22062598272523387, -0.27599288567352176, -0.08651902719832559, -0.09390592780647052, 0.24038800777499403, 0.9386699960214014, -0.37020709228577187, -1.4755040676184674, 0.4819500836736902, 1.536663027126891, -1.8092408905159583, 0.033277606986312054, 0.09798696404977163, -0.32247346929781884, -1.555270331626882, 0.9876894317407412, 0.00028416691420902416, -0.39456722234572883, -0.08365889875132763, 0.8416210966617714, 0.7546325779328649, 0.6720135507751842, -0.1608911463122692, 0.7573962711229544, -1.174575815424979, -0.6613932481307679, 0.005947420146648111, -0.395531939861682, -1.4391168822911, -1.3339009646738926, -0.3886619660027748, 1.6126444498295815, -1.6794064847194896, -0.30320536220958877, 0.9461461594017028, -0.06348775003781486, -2.124844609404621, 0.08835640937139362, 2.6901798168203337, 0.6518982468613443, 0.16121683466285788, 0.5534423738048103, -0.0540939855612481, -0.33942531987529156, 0.04449274194965574, -1.6732075886435611, -1.3900365917463668, 0.49685876161216186, 0.08337278758692533, 1.4442163263090961, -1.0831084992907014, -1.0583044225528533, 1.1535020255004065, 0.5301801527396007], \"yaxis\": \"y3\"}, {\"line\": {\"color\": \"rgba(128, 128, 128, 1.0)\", \"dash\": \"solid\", \"shape\": \"linear\", \"width\": 1.3}, \"marker\": {\"size\": 2, \"symbol\": \"circle\"}, \"mode\": \"markers\", \"name\": \"A\", \"text\": \"\", \"type\": \"scatter\", \"x\": [-0.10216109838905961, -0.7656310421934167, 0.4627481919278918, 0.9676006214274528, 0.926423776406431, -1.2317828753206672, -0.5628576478198102, 2.504698142086036, -0.7737906758600905, 1.164448663529737, 0.2194657342618466, -1.5607971961887463, -1.416330514049092, 0.6022444830440444, -0.9967003017604306, 0.7165759040467021, -1.0270307209633915, 0.24244449524876405, -0.5716852539984539, -0.48018727006504236, -0.6222621259478935, 0.5345674934143281, 0.43066330589856916, 0.39671996353224714, -1.7478511876548124, -0.6558305603981607, -1.7588752942876509, -0.27901605793121487, -0.749927124658345, 0.03519509179408801, 0.6844835308390853, 0.8016764794186388, -1.805456628608875, 0.5493382492540594, -0.28810485415561893, 1.776034726551925, 1.3884960787525806, 0.4234279651141638, -0.08072519087184314, -0.14366992536775397, -0.3110525320622555, -2.258851020385416, -0.8778884219465041, 0.7169531573259034, -1.1175552516652947, 1.998555339200149, 0.010143811692055183, 0.9997061409217312, 0.6864193461963589, 1.3033752026755039, 0.17058949843208143, 1.145439503574977, 2.4733397056527635, 0.10495562776449723, -1.7114608332231993, -2.4304805906032483, -0.4285963627332784, 0.7020655166841565, -0.8396898673496372, 2.524079694264786, 0.531847360975319, -0.5108953101574714, -0.7592884951649482, -1.9399899488852062, 0.4312887366747811, -1.5001091717186794, -1.0353191820511753, -1.1859422371830854, 0.7329268277853427, -1.383494128063116, 0.4132636032392495, 0.5860992364708144, 0.463041573680821, -1.3695660492015935, 0.029227875593643714, 0.566167264096036, -1.0254797983782813, 1.1173861364049216, 0.5543321247277112, 1.7776006208415918, 0.0037431964315748014, 0.26877480651159624, 1.769753103285265, -0.8217700822449036, -0.5765004269474363, -0.34946119392723046, -2.009057551334199, -0.18911911189835176, 0.08196592547320265, -0.6713467690769955, 1.592816275040431, -1.0030357365117704, -0.06681179500629934, 1.7912023856489334, 0.07609350198462528, -1.3227640709596251, -1.0083682068497435, 1.2363708695953775, -1.3210175973343643, -0.003250788169452081], \"xaxis\": \"x4\", \"y\": [0.2833623675227722, -1.127271506470818, 0.5301991988413371, -0.9076037526358803, 0.3045832521261345, 1.5802942678868173, 1.9590307813960588, 0.4506493866329785, -0.16613983560977538, 0.46344861995238673, -0.3029747794229369, 1.0872271658066728, -1.6069227916919724, -0.06024722082744196, -1.000922647114807, -0.8428459274937556, 0.29478573314485923, -0.25339222119091565, 0.7187247748507258, 1.3353341377998886, -0.3132263384895011, -0.39118000703348754, -1.7291172658029401, -0.5693280082171505, -0.18087539462310423, 0.6036481562105745, 0.16176229925673608, 0.5404933164826498, -0.050736094303384584, -1.7608032679833248, 1.1206641776550978, 0.2838819671315071, -0.5719968871072524, -0.19937518829329207, -1.2092967930008358, -2.1550539493577956, -0.8506827098252433, 0.09807027557339956, -0.20852721520392994, 0.0912904455286591, 0.8507029232627918, 0.7463037519235868, 0.1599236640979604, -1.462351188047253, 0.457348739903739, 0.7556632254955828, 0.22062598272523387, -0.27599288567352176, -0.08651902719832559, -0.09390592780647052, 0.24038800777499403, 0.9386699960214014, -0.37020709228577187, -1.4755040676184674, 0.4819500836736902, 1.536663027126891, -1.8092408905159583, 0.033277606986312054, 0.09798696404977163, -0.32247346929781884, -1.555270331626882, 0.9876894317407412, 0.00028416691420902416, -0.39456722234572883, -0.08365889875132763, 0.8416210966617714, 0.7546325779328649, 0.6720135507751842, -0.1608911463122692, 0.7573962711229544, -1.174575815424979, -0.6613932481307679, 0.005947420146648111, -0.395531939861682, -1.4391168822911, -1.3339009646738926, -0.3886619660027748, 1.6126444498295815, -1.6794064847194896, -0.30320536220958877, 0.9461461594017028, -0.06348775003781486, -2.124844609404621, 0.08835640937139362, 2.6901798168203337, 0.6518982468613443, 0.16121683466285788, 0.5534423738048103, -0.0540939855612481, -0.33942531987529156, 0.04449274194965574, -1.6732075886435611, -1.3900365917463668, 0.49685876161216186, 0.08337278758692533, 1.4442163263090961, -1.0831084992907014, -1.0583044225528533, 1.1535020255004065, 0.5301801527396007], \"yaxis\": \"y4\"}, {\"line\": {\"color\": \"rgba(128, 128, 128, 1.0)\", \"dash\": \"solid\", \"shape\": \"linear\", \"width\": 1.3}, \"marker\": {\"size\": 2, \"symbol\": \"circle\"}, \"mode\": \"markers\", \"name\": \"B\", \"text\": \"\", \"type\": \"scatter\", \"x\": [0.2833623675227722, -1.127271506470818, 0.5301991988413371, -0.9076037526358803, 0.3045832521261345, 1.5802942678868173, 1.9590307813960588, 0.4506493866329785, -0.16613983560977538, 0.46344861995238673, -0.3029747794229369, 1.0872271658066728, -1.6069227916919724, -0.06024722082744196, -1.000922647114807, -0.8428459274937556, 0.29478573314485923, -0.25339222119091565, 0.7187247748507258, 1.3353341377998886, -0.3132263384895011, -0.39118000703348754, -1.7291172658029401, -0.5693280082171505, -0.18087539462310423, 0.6036481562105745, 0.16176229925673608, 0.5404933164826498, -0.050736094303384584, -1.7608032679833248, 1.1206641776550978, 0.2838819671315071, -0.5719968871072524, -0.19937518829329207, -1.2092967930008358, -2.1550539493577956, -0.8506827098252433, 0.09807027557339956, -0.20852721520392994, 0.0912904455286591, 0.8507029232627918, 0.7463037519235868, 0.1599236640979604, -1.462351188047253, 0.457348739903739, 0.7556632254955828, 0.22062598272523387, -0.27599288567352176, -0.08651902719832559, -0.09390592780647052, 0.24038800777499403, 0.9386699960214014, -0.37020709228577187, -1.4755040676184674, 0.4819500836736902, 1.536663027126891, -1.8092408905159583, 0.033277606986312054, 0.09798696404977163, -0.32247346929781884, -1.555270331626882, 0.9876894317407412, 0.00028416691420902416, -0.39456722234572883, -0.08365889875132763, 0.8416210966617714, 0.7546325779328649, 0.6720135507751842, -0.1608911463122692, 0.7573962711229544, -1.174575815424979, -0.6613932481307679, 0.005947420146648111, -0.395531939861682, -1.4391168822911, -1.3339009646738926, -0.3886619660027748, 1.6126444498295815, -1.6794064847194896, -0.30320536220958877, 0.9461461594017028, -0.06348775003781486, -2.124844609404621, 0.08835640937139362, 2.6901798168203337, 0.6518982468613443, 0.16121683466285788, 0.5534423738048103, -0.0540939855612481, -0.33942531987529156, 0.04449274194965574, -1.6732075886435611, -1.3900365917463668, 0.49685876161216186, 0.08337278758692533, 1.4442163263090961, -1.0831084992907014, -1.0583044225528533, 1.1535020255004065, 0.5301801527396007], \"xaxis\": \"x5\", \"y\": [-0.12933625164448187, 0.13103167279239178, -0.2783800153100398, -0.4479072949745716, 0.6150291508003769, 0.04737160814250403, 0.724359524718601, 0.9068787283284158, -0.2834212092124333, 1.3846874642484022, -0.7900873096135989, 1.9990860724476802, 0.06513492061042847, 0.3761237870614334, 1.306002077023205, 0.21675678154141828, -0.17672460240902965, -1.6173317754480456, -0.3314978333603156, 1.3484994220885849, -1.2528411501569485, -0.7478995842212484, 0.8861269234986784, -0.6134231551246254, -0.5167498588077946, 0.9238994036778923, 0.30770452064141585, 1.2560612137362714, 0.4293958271803, -0.9714001809114541, 0.0529499288742505, -1.3136810389141642, -1.2976580632562906, 1.842221725391775, -1.0566420608604992, 0.12321025879006645, -0.13612878866987144, 0.22462263883719774, -0.003217995196276888, 2.6856075213904202, 2.4830248621546605, 0.8821380943095746, 0.9996863770264012, -0.003627477831770408, -1.2723142719885756, -0.30948703037988406, 0.8843284070240234, -1.619507799527179, -0.4335750367397115, 1.0655440640665477, 0.43200915741373525, 1.9197500330210822, 0.15084415313177363, -2.71184007998908, 1.7048789872131893, 0.8192423426391454, -0.9901671207511124, -1.6328634527925319, 0.21341038490737793, -1.658496320844627, -1.3250190128424661, -0.535465094697021, 0.3473214304769248, -0.25946471137270866, -0.888522689105521, -0.9531852049657755, 0.28526318110518045, -1.534240751475243, 0.8163815140281812, -1.8164535882003214, -1.213659476037669, -0.20474995625923617, 0.6709269694895401, 0.7928575255755295, 2.1310876397916347, 2.073222829167607, 1.0144150232185323, -0.07502724401221807, -0.04616501318666702, 1.9666741653159439, -0.1018163441743207, -0.2982981792733883, -0.12177935394126996, -0.34511438462030997, -0.24258558078122744, 0.08381699731823941, -0.18605525538332446, -0.07394916136370062, 0.41322139524717544, 1.098441891414735, 0.09232940542087814, -0.043577383753931234, 0.6529138894554455, 0.24426145948580733, 1.4830111845032046, -0.7322574441943723, -0.8515162512068878, -0.6158076287305354, -0.020335173306272214, -0.6668910616530364], \"yaxis\": \"y5\"}, {\"histfunc\": \"count\", \"histnorm\": \"\", \"marker\": {\"color\": \"rgba(55, 128, 191, 1.0)\", \"line\": {\"color\": \"#4D5663\", \"width\": 1.3}}, \"name\": \"B\", \"nbinsx\": 10, \"opacity\": 0.8, \"orientation\": \"v\", \"type\": \"histogram\", \"x\": [-0.12933625164448187, 0.13103167279239178, -0.2783800153100398, -0.4479072949745716, 0.6150291508003769, 0.04737160814250403, 0.724359524718601, 0.9068787283284158, -0.2834212092124333, 1.3846874642484022, -0.7900873096135989, 1.9990860724476802, 0.06513492061042847, 0.3761237870614334, 1.306002077023205, 0.21675678154141828, -0.17672460240902965, -1.6173317754480456, -0.3314978333603156, 1.3484994220885849, -1.2528411501569485, -0.7478995842212484, 0.8861269234986784, -0.6134231551246254, -0.5167498588077946, 0.9238994036778923, 0.30770452064141585, 1.2560612137362714, 0.4293958271803, -0.9714001809114541, 0.0529499288742505, -1.3136810389141642, -1.2976580632562906, 1.842221725391775, -1.0566420608604992, 0.12321025879006645, -0.13612878866987144, 0.22462263883719774, -0.003217995196276888, 2.6856075213904202, 2.4830248621546605, 0.8821380943095746, 0.9996863770264012, -0.003627477831770408, -1.2723142719885756, -0.30948703037988406, 0.8843284070240234, -1.619507799527179, -0.4335750367397115, 1.0655440640665477, 0.43200915741373525, 1.9197500330210822, 0.15084415313177363, -2.71184007998908, 1.7048789872131893, 0.8192423426391454, -0.9901671207511124, -1.6328634527925319, 0.21341038490737793, -1.658496320844627, -1.3250190128424661, -0.535465094697021, 0.3473214304769248, -0.25946471137270866, -0.888522689105521, -0.9531852049657755, 0.28526318110518045, -1.534240751475243, 0.8163815140281812, -1.8164535882003214, -1.213659476037669, -0.20474995625923617, 0.6709269694895401, 0.7928575255755295, 2.1310876397916347, 2.073222829167607, 1.0144150232185323, -0.07502724401221807, -0.04616501318666702, 1.9666741653159439, -0.1018163441743207, -0.2982981792733883, -0.12177935394126996, -0.34511438462030997, -0.24258558078122744, 0.08381699731823941, -0.18605525538332446, -0.07394916136370062, 0.41322139524717544, 1.098441891414735, 0.09232940542087814, -0.043577383753931234, 0.6529138894554455, 0.24426145948580733, 1.4830111845032046, -0.7322574441943723, -0.8515162512068878, -0.6158076287305354, -0.020335173306272214, -0.6668910616530364], \"xaxis\": \"x6\", \"yaxis\": \"y6\"}, {\"line\": {\"color\": \"rgba(128, 128, 128, 1.0)\", \"dash\": \"solid\", \"shape\": \"linear\", \"width\": 1.3}, \"marker\": {\"size\": 2, \"symbol\": \"circle\"}, \"mode\": \"markers\", \"name\": \"B\", \"text\": \"\", \"type\": \"scatter\", \"x\": [0.018304062145121796, 2.019560754593152, 0.42626945686576057, -0.2739679545653923, -0.997470781234299, -0.4503484953971212, 0.05658522896126178, 1.8703946758539833, -0.7282192165981017, 1.0130887851430903, -0.10412595903727308, 0.7723039698034716, -0.06025944559918106, -0.010354771633410958, -1.0602696860984755, 1.1050084100426039, 0.5485003927777916, 0.9620419540774584, 0.49128914698941123, 1.2894853079161406, 0.992477393767811, -0.6008012606025712, 0.19476008014146914, -0.43162557226475934, 0.867260093335228, -0.6997608098644535, 0.6877716080348647, 0.4660829399051041, -0.08536836649304284, -0.18964437507119677, -0.3322133063995614, 0.27578424620315134, 0.8063923437482271, -1.1628782053179392, 0.0016177627350909575, -0.46436331315096663, 0.15959018813893852, 0.7077743871910742, 0.39785969275151184, 0.15125646833970402, 0.14721214493331997, -1.8890937356112523, 0.9370721993704706, -0.5804723441556117, -0.2350651451925488, -0.6674631147974077, 0.02178475613693451, -1.3371935361464589, 0.9526116704709032, -0.6081704213007355, 0.6571963675789121, -0.9820874029605368, 0.2725657620170841, -0.9904415670560973, -1.849058299728199, 0.38015458845456834, 0.8909796578205339, 0.11902953150791908, -0.7012940906761457, -0.29974258165132417, -0.49365558541711935, -1.1159286304908431, -0.1567280612065704, 2.2497285275914063, 0.4956714825395612, -0.07547408536663255, 0.8232769911074701, 0.5900584624509049, -0.05725963313849215, 0.6819320413184793, -1.1910889539700689, 0.8093801574983543, -0.23897977149795457, -0.8901446846458919, 1.720009001354134, -0.6975196389152628, 0.11004468433955364, -0.46526464429070824, -0.8936350951103114, 1.928652152916678, 0.4101906275374475, 0.3741917471953431, -0.7062904196750375, -0.5253432726929733, 0.6971537769431922, 1.2856277367726674, -0.012212380541684805, -1.5985386798165575, 1.6404222204367034, 0.3708504880946784, -0.1297059977919652, -1.705705487812127, -1.3506013383049886, -1.22973244817741, 1.653108443530469, -0.555410614110448, 1.498197880074332, 0.3382822390084572, -0.3597481333139245, 1.4929199677948024], \"xaxis\": \"x7\", \"y\": [-0.12933625164448187, 0.13103167279239178, -0.2783800153100398, -0.4479072949745716, 0.6150291508003769, 0.04737160814250403, 0.724359524718601, 0.9068787283284158, -0.2834212092124333, 1.3846874642484022, -0.7900873096135989, 1.9990860724476802, 0.06513492061042847, 0.3761237870614334, 1.306002077023205, 0.21675678154141828, -0.17672460240902965, -1.6173317754480456, -0.3314978333603156, 1.3484994220885849, -1.2528411501569485, -0.7478995842212484, 0.8861269234986784, -0.6134231551246254, -0.5167498588077946, 0.9238994036778923, 0.30770452064141585, 1.2560612137362714, 0.4293958271803, -0.9714001809114541, 0.0529499288742505, -1.3136810389141642, -1.2976580632562906, 1.842221725391775, -1.0566420608604992, 0.12321025879006645, -0.13612878866987144, 0.22462263883719774, -0.003217995196276888, 2.6856075213904202, 2.4830248621546605, 0.8821380943095746, 0.9996863770264012, -0.003627477831770408, -1.2723142719885756, -0.30948703037988406, 0.8843284070240234, -1.619507799527179, -0.4335750367397115, 1.0655440640665477, 0.43200915741373525, 1.9197500330210822, 0.15084415313177363, -2.71184007998908, 1.7048789872131893, 0.8192423426391454, -0.9901671207511124, -1.6328634527925319, 0.21341038490737793, -1.658496320844627, -1.3250190128424661, -0.535465094697021, 0.3473214304769248, -0.25946471137270866, -0.888522689105521, -0.9531852049657755, 0.28526318110518045, -1.534240751475243, 0.8163815140281812, -1.8164535882003214, -1.213659476037669, -0.20474995625923617, 0.6709269694895401, 0.7928575255755295, 2.1310876397916347, 2.073222829167607, 1.0144150232185323, -0.07502724401221807, -0.04616501318666702, 1.9666741653159439, -0.1018163441743207, -0.2982981792733883, -0.12177935394126996, -0.34511438462030997, -0.24258558078122744, 0.08381699731823941, -0.18605525538332446, -0.07394916136370062, 0.41322139524717544, 1.098441891414735, 0.09232940542087814, -0.043577383753931234, 0.6529138894554455, 0.24426145948580733, 1.4830111845032046, -0.7322574441943723, -0.8515162512068878, -0.6158076287305354, -0.020335173306272214, -0.6668910616530364], \"yaxis\": \"y7\"}, {\"line\": {\"color\": \"rgba(128, 128, 128, 1.0)\", \"dash\": \"solid\", \"shape\": \"linear\", \"width\": 1.3}, \"marker\": {\"size\": 2, \"symbol\": \"circle\"}, \"mode\": \"markers\", \"name\": \"B\", \"text\": \"\", \"type\": \"scatter\", \"x\": [-0.10216109838905961, -0.7656310421934167, 0.4627481919278918, 0.9676006214274528, 0.926423776406431, -1.2317828753206672, -0.5628576478198102, 2.504698142086036, -0.7737906758600905, 1.164448663529737, 0.2194657342618466, -1.5607971961887463, -1.416330514049092, 0.6022444830440444, -0.9967003017604306, 0.7165759040467021, -1.0270307209633915, 0.24244449524876405, -0.5716852539984539, -0.48018727006504236, -0.6222621259478935, 0.5345674934143281, 0.43066330589856916, 0.39671996353224714, -1.7478511876548124, -0.6558305603981607, -1.7588752942876509, -0.27901605793121487, -0.749927124658345, 0.03519509179408801, 0.6844835308390853, 0.8016764794186388, -1.805456628608875, 0.5493382492540594, -0.28810485415561893, 1.776034726551925, 1.3884960787525806, 0.4234279651141638, -0.08072519087184314, -0.14366992536775397, -0.3110525320622555, -2.258851020385416, -0.8778884219465041, 0.7169531573259034, -1.1175552516652947, 1.998555339200149, 0.010143811692055183, 0.9997061409217312, 0.6864193461963589, 1.3033752026755039, 0.17058949843208143, 1.145439503574977, 2.4733397056527635, 0.10495562776449723, -1.7114608332231993, -2.4304805906032483, -0.4285963627332784, 0.7020655166841565, -0.8396898673496372, 2.524079694264786, 0.531847360975319, -0.5108953101574714, -0.7592884951649482, -1.9399899488852062, 0.4312887366747811, -1.5001091717186794, -1.0353191820511753, -1.1859422371830854, 0.7329268277853427, -1.383494128063116, 0.4132636032392495, 0.5860992364708144, 0.463041573680821, -1.3695660492015935, 0.029227875593643714, 0.566167264096036, -1.0254797983782813, 1.1173861364049216, 0.5543321247277112, 1.7776006208415918, 0.0037431964315748014, 0.26877480651159624, 1.769753103285265, -0.8217700822449036, -0.5765004269474363, -0.34946119392723046, -2.009057551334199, -0.18911911189835176, 0.08196592547320265, -0.6713467690769955, 1.592816275040431, -1.0030357365117704, -0.06681179500629934, 1.7912023856489334, 0.07609350198462528, -1.3227640709596251, -1.0083682068497435, 1.2363708695953775, -1.3210175973343643, -0.003250788169452081], \"xaxis\": \"x8\", \"y\": [-0.12933625164448187, 0.13103167279239178, -0.2783800153100398, -0.4479072949745716, 0.6150291508003769, 0.04737160814250403, 0.724359524718601, 0.9068787283284158, -0.2834212092124333, 1.3846874642484022, -0.7900873096135989, 1.9990860724476802, 0.06513492061042847, 0.3761237870614334, 1.306002077023205, 0.21675678154141828, -0.17672460240902965, -1.6173317754480456, -0.3314978333603156, 1.3484994220885849, -1.2528411501569485, -0.7478995842212484, 0.8861269234986784, -0.6134231551246254, -0.5167498588077946, 0.9238994036778923, 0.30770452064141585, 1.2560612137362714, 0.4293958271803, -0.9714001809114541, 0.0529499288742505, -1.3136810389141642, -1.2976580632562906, 1.842221725391775, -1.0566420608604992, 0.12321025879006645, -0.13612878866987144, 0.22462263883719774, -0.003217995196276888, 2.6856075213904202, 2.4830248621546605, 0.8821380943095746, 0.9996863770264012, -0.003627477831770408, -1.2723142719885756, -0.30948703037988406, 0.8843284070240234, -1.619507799527179, -0.4335750367397115, 1.0655440640665477, 0.43200915741373525, 1.9197500330210822, 0.15084415313177363, -2.71184007998908, 1.7048789872131893, 0.8192423426391454, -0.9901671207511124, -1.6328634527925319, 0.21341038490737793, -1.658496320844627, -1.3250190128424661, -0.535465094697021, 0.3473214304769248, -0.25946471137270866, -0.888522689105521, -0.9531852049657755, 0.28526318110518045, -1.534240751475243, 0.8163815140281812, -1.8164535882003214, -1.213659476037669, -0.20474995625923617, 0.6709269694895401, 0.7928575255755295, 2.1310876397916347, 2.073222829167607, 1.0144150232185323, -0.07502724401221807, -0.04616501318666702, 1.9666741653159439, -0.1018163441743207, -0.2982981792733883, -0.12177935394126996, -0.34511438462030997, -0.24258558078122744, 0.08381699731823941, -0.18605525538332446, -0.07394916136370062, 0.41322139524717544, 1.098441891414735, 0.09232940542087814, -0.043577383753931234, 0.6529138894554455, 0.24426145948580733, 1.4830111845032046, -0.7322574441943723, -0.8515162512068878, -0.6158076287305354, -0.020335173306272214, -0.6668910616530364], \"yaxis\": \"y8\"}, {\"line\": {\"color\": \"rgba(128, 128, 128, 1.0)\", \"dash\": \"solid\", \"shape\": \"linear\", \"width\": 1.3}, \"marker\": {\"size\": 2, \"symbol\": \"circle\"}, \"mode\": \"markers\", \"name\": \"C\", \"text\": \"\", \"type\": \"scatter\", \"x\": [0.2833623675227722, -1.127271506470818, 0.5301991988413371, -0.9076037526358803, 0.3045832521261345, 1.5802942678868173, 1.9590307813960588, 0.4506493866329785, -0.16613983560977538, 0.46344861995238673, -0.3029747794229369, 1.0872271658066728, -1.6069227916919724, -0.06024722082744196, -1.000922647114807, -0.8428459274937556, 0.29478573314485923, -0.25339222119091565, 0.7187247748507258, 1.3353341377998886, -0.3132263384895011, -0.39118000703348754, -1.7291172658029401, -0.5693280082171505, -0.18087539462310423, 0.6036481562105745, 0.16176229925673608, 0.5404933164826498, -0.050736094303384584, -1.7608032679833248, 1.1206641776550978, 0.2838819671315071, -0.5719968871072524, -0.19937518829329207, -1.2092967930008358, -2.1550539493577956, -0.8506827098252433, 0.09807027557339956, -0.20852721520392994, 0.0912904455286591, 0.8507029232627918, 0.7463037519235868, 0.1599236640979604, -1.462351188047253, 0.457348739903739, 0.7556632254955828, 0.22062598272523387, -0.27599288567352176, -0.08651902719832559, -0.09390592780647052, 0.24038800777499403, 0.9386699960214014, -0.37020709228577187, -1.4755040676184674, 0.4819500836736902, 1.536663027126891, -1.8092408905159583, 0.033277606986312054, 0.09798696404977163, -0.32247346929781884, -1.555270331626882, 0.9876894317407412, 0.00028416691420902416, -0.39456722234572883, -0.08365889875132763, 0.8416210966617714, 0.7546325779328649, 0.6720135507751842, -0.1608911463122692, 0.7573962711229544, -1.174575815424979, -0.6613932481307679, 0.005947420146648111, -0.395531939861682, -1.4391168822911, -1.3339009646738926, -0.3886619660027748, 1.6126444498295815, -1.6794064847194896, -0.30320536220958877, 0.9461461594017028, -0.06348775003781486, -2.124844609404621, 0.08835640937139362, 2.6901798168203337, 0.6518982468613443, 0.16121683466285788, 0.5534423738048103, -0.0540939855612481, -0.33942531987529156, 0.04449274194965574, -1.6732075886435611, -1.3900365917463668, 0.49685876161216186, 0.08337278758692533, 1.4442163263090961, -1.0831084992907014, -1.0583044225528533, 1.1535020255004065, 0.5301801527396007], \"xaxis\": \"x9\", \"y\": [0.018304062145121796, 2.019560754593152, 0.42626945686576057, -0.2739679545653923, -0.997470781234299, -0.4503484953971212, 0.05658522896126178, 1.8703946758539833, -0.7282192165981017, 1.0130887851430903, -0.10412595903727308, 0.7723039698034716, -0.06025944559918106, -0.010354771633410958, -1.0602696860984755, 1.1050084100426039, 0.5485003927777916, 0.9620419540774584, 0.49128914698941123, 1.2894853079161406, 0.992477393767811, -0.6008012606025712, 0.19476008014146914, -0.43162557226475934, 0.867260093335228, -0.6997608098644535, 0.6877716080348647, 0.4660829399051041, -0.08536836649304284, -0.18964437507119677, -0.3322133063995614, 0.27578424620315134, 0.8063923437482271, -1.1628782053179392, 0.0016177627350909575, -0.46436331315096663, 0.15959018813893852, 0.7077743871910742, 0.39785969275151184, 0.15125646833970402, 0.14721214493331997, -1.8890937356112523, 0.9370721993704706, -0.5804723441556117, -0.2350651451925488, -0.6674631147974077, 0.02178475613693451, -1.3371935361464589, 0.9526116704709032, -0.6081704213007355, 0.6571963675789121, -0.9820874029605368, 0.2725657620170841, -0.9904415670560973, -1.849058299728199, 0.38015458845456834, 0.8909796578205339, 0.11902953150791908, -0.7012940906761457, -0.29974258165132417, -0.49365558541711935, -1.1159286304908431, -0.1567280612065704, 2.2497285275914063, 0.4956714825395612, -0.07547408536663255, 0.8232769911074701, 0.5900584624509049, -0.05725963313849215, 0.6819320413184793, -1.1910889539700689, 0.8093801574983543, -0.23897977149795457, -0.8901446846458919, 1.720009001354134, -0.6975196389152628, 0.11004468433955364, -0.46526464429070824, -0.8936350951103114, 1.928652152916678, 0.4101906275374475, 0.3741917471953431, -0.7062904196750375, -0.5253432726929733, 0.6971537769431922, 1.2856277367726674, -0.012212380541684805, -1.5985386798165575, 1.6404222204367034, 0.3708504880946784, -0.1297059977919652, -1.705705487812127, -1.3506013383049886, -1.22973244817741, 1.653108443530469, -0.555410614110448, 1.498197880074332, 0.3382822390084572, -0.3597481333139245, 1.4929199677948024], \"yaxis\": \"y9\"}, {\"line\": {\"color\": \"rgba(128, 128, 128, 1.0)\", \"dash\": \"solid\", \"shape\": \"linear\", \"width\": 1.3}, \"marker\": {\"size\": 2, \"symbol\": \"circle\"}, \"mode\": \"markers\", \"name\": \"C\", \"text\": \"\", \"type\": \"scatter\", \"x\": [-0.12933625164448187, 0.13103167279239178, -0.2783800153100398, -0.4479072949745716, 0.6150291508003769, 0.04737160814250403, 0.724359524718601, 0.9068787283284158, -0.2834212092124333, 1.3846874642484022, -0.7900873096135989, 1.9990860724476802, 0.06513492061042847, 0.3761237870614334, 1.306002077023205, 0.21675678154141828, -0.17672460240902965, -1.6173317754480456, -0.3314978333603156, 1.3484994220885849, -1.2528411501569485, -0.7478995842212484, 0.8861269234986784, -0.6134231551246254, -0.5167498588077946, 0.9238994036778923, 0.30770452064141585, 1.2560612137362714, 0.4293958271803, -0.9714001809114541, 0.0529499288742505, -1.3136810389141642, -1.2976580632562906, 1.842221725391775, -1.0566420608604992, 0.12321025879006645, -0.13612878866987144, 0.22462263883719774, -0.003217995196276888, 2.6856075213904202, 2.4830248621546605, 0.8821380943095746, 0.9996863770264012, -0.003627477831770408, -1.2723142719885756, -0.30948703037988406, 0.8843284070240234, -1.619507799527179, -0.4335750367397115, 1.0655440640665477, 0.43200915741373525, 1.9197500330210822, 0.15084415313177363, -2.71184007998908, 1.7048789872131893, 0.8192423426391454, -0.9901671207511124, -1.6328634527925319, 0.21341038490737793, -1.658496320844627, -1.3250190128424661, -0.535465094697021, 0.3473214304769248, -0.25946471137270866, -0.888522689105521, -0.9531852049657755, 0.28526318110518045, -1.534240751475243, 0.8163815140281812, -1.8164535882003214, -1.213659476037669, -0.20474995625923617, 0.6709269694895401, 0.7928575255755295, 2.1310876397916347, 2.073222829167607, 1.0144150232185323, -0.07502724401221807, -0.04616501318666702, 1.9666741653159439, -0.1018163441743207, -0.2982981792733883, -0.12177935394126996, -0.34511438462030997, -0.24258558078122744, 0.08381699731823941, -0.18605525538332446, -0.07394916136370062, 0.41322139524717544, 1.098441891414735, 0.09232940542087814, -0.043577383753931234, 0.6529138894554455, 0.24426145948580733, 1.4830111845032046, -0.7322574441943723, -0.8515162512068878, -0.6158076287305354, -0.020335173306272214, -0.6668910616530364], \"xaxis\": \"x10\", \"y\": [0.018304062145121796, 2.019560754593152, 0.42626945686576057, -0.2739679545653923, -0.997470781234299, -0.4503484953971212, 0.05658522896126178, 1.8703946758539833, -0.7282192165981017, 1.0130887851430903, -0.10412595903727308, 0.7723039698034716, -0.06025944559918106, -0.010354771633410958, -1.0602696860984755, 1.1050084100426039, 0.5485003927777916, 0.9620419540774584, 0.49128914698941123, 1.2894853079161406, 0.992477393767811, -0.6008012606025712, 0.19476008014146914, -0.43162557226475934, 0.867260093335228, -0.6997608098644535, 0.6877716080348647, 0.4660829399051041, -0.08536836649304284, -0.18964437507119677, -0.3322133063995614, 0.27578424620315134, 0.8063923437482271, -1.1628782053179392, 0.0016177627350909575, -0.46436331315096663, 0.15959018813893852, 0.7077743871910742, 0.39785969275151184, 0.15125646833970402, 0.14721214493331997, -1.8890937356112523, 0.9370721993704706, -0.5804723441556117, -0.2350651451925488, -0.6674631147974077, 0.02178475613693451, -1.3371935361464589, 0.9526116704709032, -0.6081704213007355, 0.6571963675789121, -0.9820874029605368, 0.2725657620170841, -0.9904415670560973, -1.849058299728199, 0.38015458845456834, 0.8909796578205339, 0.11902953150791908, -0.7012940906761457, -0.29974258165132417, -0.49365558541711935, -1.1159286304908431, -0.1567280612065704, 2.2497285275914063, 0.4956714825395612, -0.07547408536663255, 0.8232769911074701, 0.5900584624509049, -0.05725963313849215, 0.6819320413184793, -1.1910889539700689, 0.8093801574983543, -0.23897977149795457, -0.8901446846458919, 1.720009001354134, -0.6975196389152628, 0.11004468433955364, -0.46526464429070824, -0.8936350951103114, 1.928652152916678, 0.4101906275374475, 0.3741917471953431, -0.7062904196750375, -0.5253432726929733, 0.6971537769431922, 1.2856277367726674, -0.012212380541684805, -1.5985386798165575, 1.6404222204367034, 0.3708504880946784, -0.1297059977919652, -1.705705487812127, -1.3506013383049886, -1.22973244817741, 1.653108443530469, -0.555410614110448, 1.498197880074332, 0.3382822390084572, -0.3597481333139245, 1.4929199677948024], \"yaxis\": \"y10\"}, {\"histfunc\": \"count\", \"histnorm\": \"\", \"marker\": {\"color\": \"rgba(50, 171, 96, 1.0)\", \"line\": {\"color\": \"#4D5663\", \"width\": 1.3}}, \"name\": \"C\", \"nbinsx\": 10, \"opacity\": 0.8, \"orientation\": \"v\", \"type\": \"histogram\", \"x\": [0.018304062145121796, 2.019560754593152, 0.42626945686576057, -0.2739679545653923, -0.997470781234299, -0.4503484953971212, 0.05658522896126178, 1.8703946758539833, -0.7282192165981017, 1.0130887851430903, -0.10412595903727308, 0.7723039698034716, -0.06025944559918106, -0.010354771633410958, -1.0602696860984755, 1.1050084100426039, 0.5485003927777916, 0.9620419540774584, 0.49128914698941123, 1.2894853079161406, 0.992477393767811, -0.6008012606025712, 0.19476008014146914, -0.43162557226475934, 0.867260093335228, -0.6997608098644535, 0.6877716080348647, 0.4660829399051041, -0.08536836649304284, -0.18964437507119677, -0.3322133063995614, 0.27578424620315134, 0.8063923437482271, -1.1628782053179392, 0.0016177627350909575, -0.46436331315096663, 0.15959018813893852, 0.7077743871910742, 0.39785969275151184, 0.15125646833970402, 0.14721214493331997, -1.8890937356112523, 0.9370721993704706, -0.5804723441556117, -0.2350651451925488, -0.6674631147974077, 0.02178475613693451, -1.3371935361464589, 0.9526116704709032, -0.6081704213007355, 0.6571963675789121, -0.9820874029605368, 0.2725657620170841, -0.9904415670560973, -1.849058299728199, 0.38015458845456834, 0.8909796578205339, 0.11902953150791908, -0.7012940906761457, -0.29974258165132417, -0.49365558541711935, -1.1159286304908431, -0.1567280612065704, 2.2497285275914063, 0.4956714825395612, -0.07547408536663255, 0.8232769911074701, 0.5900584624509049, -0.05725963313849215, 0.6819320413184793, -1.1910889539700689, 0.8093801574983543, -0.23897977149795457, -0.8901446846458919, 1.720009001354134, -0.6975196389152628, 0.11004468433955364, -0.46526464429070824, -0.8936350951103114, 1.928652152916678, 0.4101906275374475, 0.3741917471953431, -0.7062904196750375, -0.5253432726929733, 0.6971537769431922, 1.2856277367726674, -0.012212380541684805, -1.5985386798165575, 1.6404222204367034, 0.3708504880946784, -0.1297059977919652, -1.705705487812127, -1.3506013383049886, -1.22973244817741, 1.653108443530469, -0.555410614110448, 1.498197880074332, 0.3382822390084572, -0.3597481333139245, 1.4929199677948024], \"xaxis\": \"x11\", \"yaxis\": \"y11\"}, {\"line\": {\"color\": \"rgba(128, 128, 128, 1.0)\", \"dash\": \"solid\", \"shape\": \"linear\", \"width\": 1.3}, \"marker\": {\"size\": 2, \"symbol\": \"circle\"}, \"mode\": \"markers\", \"name\": \"C\", \"text\": \"\", \"type\": \"scatter\", \"x\": [-0.10216109838905961, -0.7656310421934167, 0.4627481919278918, 0.9676006214274528, 0.926423776406431, -1.2317828753206672, -0.5628576478198102, 2.504698142086036, -0.7737906758600905, 1.164448663529737, 0.2194657342618466, -1.5607971961887463, -1.416330514049092, 0.6022444830440444, -0.9967003017604306, 0.7165759040467021, -1.0270307209633915, 0.24244449524876405, -0.5716852539984539, -0.48018727006504236, -0.6222621259478935, 0.5345674934143281, 0.43066330589856916, 0.39671996353224714, -1.7478511876548124, -0.6558305603981607, -1.7588752942876509, -0.27901605793121487, -0.749927124658345, 0.03519509179408801, 0.6844835308390853, 0.8016764794186388, -1.805456628608875, 0.5493382492540594, -0.28810485415561893, 1.776034726551925, 1.3884960787525806, 0.4234279651141638, -0.08072519087184314, -0.14366992536775397, -0.3110525320622555, -2.258851020385416, -0.8778884219465041, 0.7169531573259034, -1.1175552516652947, 1.998555339200149, 0.010143811692055183, 0.9997061409217312, 0.6864193461963589, 1.3033752026755039, 0.17058949843208143, 1.145439503574977, 2.4733397056527635, 0.10495562776449723, -1.7114608332231993, -2.4304805906032483, -0.4285963627332784, 0.7020655166841565, -0.8396898673496372, 2.524079694264786, 0.531847360975319, -0.5108953101574714, -0.7592884951649482, -1.9399899488852062, 0.4312887366747811, -1.5001091717186794, -1.0353191820511753, -1.1859422371830854, 0.7329268277853427, -1.383494128063116, 0.4132636032392495, 0.5860992364708144, 0.463041573680821, -1.3695660492015935, 0.029227875593643714, 0.566167264096036, -1.0254797983782813, 1.1173861364049216, 0.5543321247277112, 1.7776006208415918, 0.0037431964315748014, 0.26877480651159624, 1.769753103285265, -0.8217700822449036, -0.5765004269474363, -0.34946119392723046, -2.009057551334199, -0.18911911189835176, 0.08196592547320265, -0.6713467690769955, 1.592816275040431, -1.0030357365117704, -0.06681179500629934, 1.7912023856489334, 0.07609350198462528, -1.3227640709596251, -1.0083682068497435, 1.2363708695953775, -1.3210175973343643, -0.003250788169452081], \"xaxis\": \"x12\", \"y\": [0.018304062145121796, 2.019560754593152, 0.42626945686576057, -0.2739679545653923, -0.997470781234299, -0.4503484953971212, 0.05658522896126178, 1.8703946758539833, -0.7282192165981017, 1.0130887851430903, -0.10412595903727308, 0.7723039698034716, -0.06025944559918106, -0.010354771633410958, -1.0602696860984755, 1.1050084100426039, 0.5485003927777916, 0.9620419540774584, 0.49128914698941123, 1.2894853079161406, 0.992477393767811, -0.6008012606025712, 0.19476008014146914, -0.43162557226475934, 0.867260093335228, -0.6997608098644535, 0.6877716080348647, 0.4660829399051041, -0.08536836649304284, -0.18964437507119677, -0.3322133063995614, 0.27578424620315134, 0.8063923437482271, -1.1628782053179392, 0.0016177627350909575, -0.46436331315096663, 0.15959018813893852, 0.7077743871910742, 0.39785969275151184, 0.15125646833970402, 0.14721214493331997, -1.8890937356112523, 0.9370721993704706, -0.5804723441556117, -0.2350651451925488, -0.6674631147974077, 0.02178475613693451, -1.3371935361464589, 0.9526116704709032, -0.6081704213007355, 0.6571963675789121, -0.9820874029605368, 0.2725657620170841, -0.9904415670560973, -1.849058299728199, 0.38015458845456834, 0.8909796578205339, 0.11902953150791908, -0.7012940906761457, -0.29974258165132417, -0.49365558541711935, -1.1159286304908431, -0.1567280612065704, 2.2497285275914063, 0.4956714825395612, -0.07547408536663255, 0.8232769911074701, 0.5900584624509049, -0.05725963313849215, 0.6819320413184793, -1.1910889539700689, 0.8093801574983543, -0.23897977149795457, -0.8901446846458919, 1.720009001354134, -0.6975196389152628, 0.11004468433955364, -0.46526464429070824, -0.8936350951103114, 1.928652152916678, 0.4101906275374475, 0.3741917471953431, -0.7062904196750375, -0.5253432726929733, 0.6971537769431922, 1.2856277367726674, -0.012212380541684805, -1.5985386798165575, 1.6404222204367034, 0.3708504880946784, -0.1297059977919652, -1.705705487812127, -1.3506013383049886, -1.22973244817741, 1.653108443530469, -0.555410614110448, 1.498197880074332, 0.3382822390084572, -0.3597481333139245, 1.4929199677948024], \"yaxis\": \"y12\"}, {\"line\": {\"color\": \"rgba(128, 128, 128, 1.0)\", \"dash\": \"solid\", \"shape\": \"linear\", \"width\": 1.3}, \"marker\": {\"size\": 2, \"symbol\": \"circle\"}, \"mode\": \"markers\", \"name\": \"D\", \"text\": \"\", \"type\": \"scatter\", \"x\": [0.2833623675227722, -1.127271506470818, 0.5301991988413371, -0.9076037526358803, 0.3045832521261345, 1.5802942678868173, 1.9590307813960588, 0.4506493866329785, -0.16613983560977538, 0.46344861995238673, -0.3029747794229369, 1.0872271658066728, -1.6069227916919724, -0.06024722082744196, -1.000922647114807, -0.8428459274937556, 0.29478573314485923, -0.25339222119091565, 0.7187247748507258, 1.3353341377998886, -0.3132263384895011, -0.39118000703348754, -1.7291172658029401, -0.5693280082171505, -0.18087539462310423, 0.6036481562105745, 0.16176229925673608, 0.5404933164826498, -0.050736094303384584, -1.7608032679833248, 1.1206641776550978, 0.2838819671315071, -0.5719968871072524, -0.19937518829329207, -1.2092967930008358, -2.1550539493577956, -0.8506827098252433, 0.09807027557339956, -0.20852721520392994, 0.0912904455286591, 0.8507029232627918, 0.7463037519235868, 0.1599236640979604, -1.462351188047253, 0.457348739903739, 0.7556632254955828, 0.22062598272523387, -0.27599288567352176, -0.08651902719832559, -0.09390592780647052, 0.24038800777499403, 0.9386699960214014, -0.37020709228577187, -1.4755040676184674, 0.4819500836736902, 1.536663027126891, -1.8092408905159583, 0.033277606986312054, 0.09798696404977163, -0.32247346929781884, -1.555270331626882, 0.9876894317407412, 0.00028416691420902416, -0.39456722234572883, -0.08365889875132763, 0.8416210966617714, 0.7546325779328649, 0.6720135507751842, -0.1608911463122692, 0.7573962711229544, -1.174575815424979, -0.6613932481307679, 0.005947420146648111, -0.395531939861682, -1.4391168822911, -1.3339009646738926, -0.3886619660027748, 1.6126444498295815, -1.6794064847194896, -0.30320536220958877, 0.9461461594017028, -0.06348775003781486, -2.124844609404621, 0.08835640937139362, 2.6901798168203337, 0.6518982468613443, 0.16121683466285788, 0.5534423738048103, -0.0540939855612481, -0.33942531987529156, 0.04449274194965574, -1.6732075886435611, -1.3900365917463668, 0.49685876161216186, 0.08337278758692533, 1.4442163263090961, -1.0831084992907014, -1.0583044225528533, 1.1535020255004065, 0.5301801527396007], \"xaxis\": \"x13\", \"y\": [-0.10216109838905961, -0.7656310421934167, 0.4627481919278918, 0.9676006214274528, 0.926423776406431, -1.2317828753206672, -0.5628576478198102, 2.504698142086036, -0.7737906758600905, 1.164448663529737, 0.2194657342618466, -1.5607971961887463, -1.416330514049092, 0.6022444830440444, -0.9967003017604306, 0.7165759040467021, -1.0270307209633915, 0.24244449524876405, -0.5716852539984539, -0.48018727006504236, -0.6222621259478935, 0.5345674934143281, 0.43066330589856916, 0.39671996353224714, -1.7478511876548124, -0.6558305603981607, -1.7588752942876509, -0.27901605793121487, -0.749927124658345, 0.03519509179408801, 0.6844835308390853, 0.8016764794186388, -1.805456628608875, 0.5493382492540594, -0.28810485415561893, 1.776034726551925, 1.3884960787525806, 0.4234279651141638, -0.08072519087184314, -0.14366992536775397, -0.3110525320622555, -2.258851020385416, -0.8778884219465041, 0.7169531573259034, -1.1175552516652947, 1.998555339200149, 0.010143811692055183, 0.9997061409217312, 0.6864193461963589, 1.3033752026755039, 0.17058949843208143, 1.145439503574977, 2.4733397056527635, 0.10495562776449723, -1.7114608332231993, -2.4304805906032483, -0.4285963627332784, 0.7020655166841565, -0.8396898673496372, 2.524079694264786, 0.531847360975319, -0.5108953101574714, -0.7592884951649482, -1.9399899488852062, 0.4312887366747811, -1.5001091717186794, -1.0353191820511753, -1.1859422371830854, 0.7329268277853427, -1.383494128063116, 0.4132636032392495, 0.5860992364708144, 0.463041573680821, -1.3695660492015935, 0.029227875593643714, 0.566167264096036, -1.0254797983782813, 1.1173861364049216, 0.5543321247277112, 1.7776006208415918, 0.0037431964315748014, 0.26877480651159624, 1.769753103285265, -0.8217700822449036, -0.5765004269474363, -0.34946119392723046, -2.009057551334199, -0.18911911189835176, 0.08196592547320265, -0.6713467690769955, 1.592816275040431, -1.0030357365117704, -0.06681179500629934, 1.7912023856489334, 0.07609350198462528, -1.3227640709596251, -1.0083682068497435, 1.2363708695953775, -1.3210175973343643, -0.003250788169452081], \"yaxis\": \"y13\"}, {\"line\": {\"color\": \"rgba(128, 128, 128, 1.0)\", \"dash\": \"solid\", \"shape\": \"linear\", \"width\": 1.3}, \"marker\": {\"size\": 2, \"symbol\": \"circle\"}, \"mode\": \"markers\", \"name\": \"D\", \"text\": \"\", \"type\": \"scatter\", \"x\": [-0.12933625164448187, 0.13103167279239178, -0.2783800153100398, -0.4479072949745716, 0.6150291508003769, 0.04737160814250403, 0.724359524718601, 0.9068787283284158, -0.2834212092124333, 1.3846874642484022, -0.7900873096135989, 1.9990860724476802, 0.06513492061042847, 0.3761237870614334, 1.306002077023205, 0.21675678154141828, -0.17672460240902965, -1.6173317754480456, -0.3314978333603156, 1.3484994220885849, -1.2528411501569485, -0.7478995842212484, 0.8861269234986784, -0.6134231551246254, -0.5167498588077946, 0.9238994036778923, 0.30770452064141585, 1.2560612137362714, 0.4293958271803, -0.9714001809114541, 0.0529499288742505, -1.3136810389141642, -1.2976580632562906, 1.842221725391775, -1.0566420608604992, 0.12321025879006645, -0.13612878866987144, 0.22462263883719774, -0.003217995196276888, 2.6856075213904202, 2.4830248621546605, 0.8821380943095746, 0.9996863770264012, -0.003627477831770408, -1.2723142719885756, -0.30948703037988406, 0.8843284070240234, -1.619507799527179, -0.4335750367397115, 1.0655440640665477, 0.43200915741373525, 1.9197500330210822, 0.15084415313177363, -2.71184007998908, 1.7048789872131893, 0.8192423426391454, -0.9901671207511124, -1.6328634527925319, 0.21341038490737793, -1.658496320844627, -1.3250190128424661, -0.535465094697021, 0.3473214304769248, -0.25946471137270866, -0.888522689105521, -0.9531852049657755, 0.28526318110518045, -1.534240751475243, 0.8163815140281812, -1.8164535882003214, -1.213659476037669, -0.20474995625923617, 0.6709269694895401, 0.7928575255755295, 2.1310876397916347, 2.073222829167607, 1.0144150232185323, -0.07502724401221807, -0.04616501318666702, 1.9666741653159439, -0.1018163441743207, -0.2982981792733883, -0.12177935394126996, -0.34511438462030997, -0.24258558078122744, 0.08381699731823941, -0.18605525538332446, -0.07394916136370062, 0.41322139524717544, 1.098441891414735, 0.09232940542087814, -0.043577383753931234, 0.6529138894554455, 0.24426145948580733, 1.4830111845032046, -0.7322574441943723, -0.8515162512068878, -0.6158076287305354, -0.020335173306272214, -0.6668910616530364], \"xaxis\": \"x14\", \"y\": [-0.10216109838905961, -0.7656310421934167, 0.4627481919278918, 0.9676006214274528, 0.926423776406431, -1.2317828753206672, -0.5628576478198102, 2.504698142086036, -0.7737906758600905, 1.164448663529737, 0.2194657342618466, -1.5607971961887463, -1.416330514049092, 0.6022444830440444, -0.9967003017604306, 0.7165759040467021, -1.0270307209633915, 0.24244449524876405, -0.5716852539984539, -0.48018727006504236, -0.6222621259478935, 0.5345674934143281, 0.43066330589856916, 0.39671996353224714, -1.7478511876548124, -0.6558305603981607, -1.7588752942876509, -0.27901605793121487, -0.749927124658345, 0.03519509179408801, 0.6844835308390853, 0.8016764794186388, -1.805456628608875, 0.5493382492540594, -0.28810485415561893, 1.776034726551925, 1.3884960787525806, 0.4234279651141638, -0.08072519087184314, -0.14366992536775397, -0.3110525320622555, -2.258851020385416, -0.8778884219465041, 0.7169531573259034, -1.1175552516652947, 1.998555339200149, 0.010143811692055183, 0.9997061409217312, 0.6864193461963589, 1.3033752026755039, 0.17058949843208143, 1.145439503574977, 2.4733397056527635, 0.10495562776449723, -1.7114608332231993, -2.4304805906032483, -0.4285963627332784, 0.7020655166841565, -0.8396898673496372, 2.524079694264786, 0.531847360975319, -0.5108953101574714, -0.7592884951649482, -1.9399899488852062, 0.4312887366747811, -1.5001091717186794, -1.0353191820511753, -1.1859422371830854, 0.7329268277853427, -1.383494128063116, 0.4132636032392495, 0.5860992364708144, 0.463041573680821, -1.3695660492015935, 0.029227875593643714, 0.566167264096036, -1.0254797983782813, 1.1173861364049216, 0.5543321247277112, 1.7776006208415918, 0.0037431964315748014, 0.26877480651159624, 1.769753103285265, -0.8217700822449036, -0.5765004269474363, -0.34946119392723046, -2.009057551334199, -0.18911911189835176, 0.08196592547320265, -0.6713467690769955, 1.592816275040431, -1.0030357365117704, -0.06681179500629934, 1.7912023856489334, 0.07609350198462528, -1.3227640709596251, -1.0083682068497435, 1.2363708695953775, -1.3210175973343643, -0.003250788169452081], \"yaxis\": \"y14\"}, {\"line\": {\"color\": \"rgba(128, 128, 128, 1.0)\", \"dash\": \"solid\", \"shape\": \"linear\", \"width\": 1.3}, \"marker\": {\"size\": 2, \"symbol\": \"circle\"}, \"mode\": \"markers\", \"name\": \"D\", \"text\": \"\", \"type\": \"scatter\", \"x\": [0.018304062145121796, 2.019560754593152, 0.42626945686576057, -0.2739679545653923, -0.997470781234299, -0.4503484953971212, 0.05658522896126178, 1.8703946758539833, -0.7282192165981017, 1.0130887851430903, -0.10412595903727308, 0.7723039698034716, -0.06025944559918106, -0.010354771633410958, -1.0602696860984755, 1.1050084100426039, 0.5485003927777916, 0.9620419540774584, 0.49128914698941123, 1.2894853079161406, 0.992477393767811, -0.6008012606025712, 0.19476008014146914, -0.43162557226475934, 0.867260093335228, -0.6997608098644535, 0.6877716080348647, 0.4660829399051041, -0.08536836649304284, -0.18964437507119677, -0.3322133063995614, 0.27578424620315134, 0.8063923437482271, -1.1628782053179392, 0.0016177627350909575, -0.46436331315096663, 0.15959018813893852, 0.7077743871910742, 0.39785969275151184, 0.15125646833970402, 0.14721214493331997, -1.8890937356112523, 0.9370721993704706, -0.5804723441556117, -0.2350651451925488, -0.6674631147974077, 0.02178475613693451, -1.3371935361464589, 0.9526116704709032, -0.6081704213007355, 0.6571963675789121, -0.9820874029605368, 0.2725657620170841, -0.9904415670560973, -1.849058299728199, 0.38015458845456834, 0.8909796578205339, 0.11902953150791908, -0.7012940906761457, -0.29974258165132417, -0.49365558541711935, -1.1159286304908431, -0.1567280612065704, 2.2497285275914063, 0.4956714825395612, -0.07547408536663255, 0.8232769911074701, 0.5900584624509049, -0.05725963313849215, 0.6819320413184793, -1.1910889539700689, 0.8093801574983543, -0.23897977149795457, -0.8901446846458919, 1.720009001354134, -0.6975196389152628, 0.11004468433955364, -0.46526464429070824, -0.8936350951103114, 1.928652152916678, 0.4101906275374475, 0.3741917471953431, -0.7062904196750375, -0.5253432726929733, 0.6971537769431922, 1.2856277367726674, -0.012212380541684805, -1.5985386798165575, 1.6404222204367034, 0.3708504880946784, -0.1297059977919652, -1.705705487812127, -1.3506013383049886, -1.22973244817741, 1.653108443530469, -0.555410614110448, 1.498197880074332, 0.3382822390084572, -0.3597481333139245, 1.4929199677948024], \"xaxis\": \"x15\", \"y\": [-0.10216109838905961, -0.7656310421934167, 0.4627481919278918, 0.9676006214274528, 0.926423776406431, -1.2317828753206672, -0.5628576478198102, 2.504698142086036, -0.7737906758600905, 1.164448663529737, 0.2194657342618466, -1.5607971961887463, -1.416330514049092, 0.6022444830440444, -0.9967003017604306, 0.7165759040467021, -1.0270307209633915, 0.24244449524876405, -0.5716852539984539, -0.48018727006504236, -0.6222621259478935, 0.5345674934143281, 0.43066330589856916, 0.39671996353224714, -1.7478511876548124, -0.6558305603981607, -1.7588752942876509, -0.27901605793121487, -0.749927124658345, 0.03519509179408801, 0.6844835308390853, 0.8016764794186388, -1.805456628608875, 0.5493382492540594, -0.28810485415561893, 1.776034726551925, 1.3884960787525806, 0.4234279651141638, -0.08072519087184314, -0.14366992536775397, -0.3110525320622555, -2.258851020385416, -0.8778884219465041, 0.7169531573259034, -1.1175552516652947, 1.998555339200149, 0.010143811692055183, 0.9997061409217312, 0.6864193461963589, 1.3033752026755039, 0.17058949843208143, 1.145439503574977, 2.4733397056527635, 0.10495562776449723, -1.7114608332231993, -2.4304805906032483, -0.4285963627332784, 0.7020655166841565, -0.8396898673496372, 2.524079694264786, 0.531847360975319, -0.5108953101574714, -0.7592884951649482, -1.9399899488852062, 0.4312887366747811, -1.5001091717186794, -1.0353191820511753, -1.1859422371830854, 0.7329268277853427, -1.383494128063116, 0.4132636032392495, 0.5860992364708144, 0.463041573680821, -1.3695660492015935, 0.029227875593643714, 0.566167264096036, -1.0254797983782813, 1.1173861364049216, 0.5543321247277112, 1.7776006208415918, 0.0037431964315748014, 0.26877480651159624, 1.769753103285265, -0.8217700822449036, -0.5765004269474363, -0.34946119392723046, -2.009057551334199, -0.18911911189835176, 0.08196592547320265, -0.6713467690769955, 1.592816275040431, -1.0030357365117704, -0.06681179500629934, 1.7912023856489334, 0.07609350198462528, -1.3227640709596251, -1.0083682068497435, 1.2363708695953775, -1.3210175973343643, -0.003250788169452081], \"yaxis\": \"y15\"}, {\"histfunc\": \"count\", \"histnorm\": \"\", \"marker\": {\"color\": \"rgba(128, 0, 128, 1.0)\", \"line\": {\"color\": \"#4D5663\", \"width\": 1.3}}, \"name\": \"D\", \"nbinsx\": 10, \"opacity\": 0.8, \"orientation\": \"v\", \"type\": \"histogram\", \"x\": [-0.10216109838905961, -0.7656310421934167, 0.4627481919278918, 0.9676006214274528, 0.926423776406431, -1.2317828753206672, -0.5628576478198102, 2.504698142086036, -0.7737906758600905, 1.164448663529737, 0.2194657342618466, -1.5607971961887463, -1.416330514049092, 0.6022444830440444, -0.9967003017604306, 0.7165759040467021, -1.0270307209633915, 0.24244449524876405, -0.5716852539984539, -0.48018727006504236, -0.6222621259478935, 0.5345674934143281, 0.43066330589856916, 0.39671996353224714, -1.7478511876548124, -0.6558305603981607, -1.7588752942876509, -0.27901605793121487, -0.749927124658345, 0.03519509179408801, 0.6844835308390853, 0.8016764794186388, -1.805456628608875, 0.5493382492540594, -0.28810485415561893, 1.776034726551925, 1.3884960787525806, 0.4234279651141638, -0.08072519087184314, -0.14366992536775397, -0.3110525320622555, -2.258851020385416, -0.8778884219465041, 0.7169531573259034, -1.1175552516652947, 1.998555339200149, 0.010143811692055183, 0.9997061409217312, 0.6864193461963589, 1.3033752026755039, 0.17058949843208143, 1.145439503574977, 2.4733397056527635, 0.10495562776449723, -1.7114608332231993, -2.4304805906032483, -0.4285963627332784, 0.7020655166841565, -0.8396898673496372, 2.524079694264786, 0.531847360975319, -0.5108953101574714, -0.7592884951649482, -1.9399899488852062, 0.4312887366747811, -1.5001091717186794, -1.0353191820511753, -1.1859422371830854, 0.7329268277853427, -1.383494128063116, 0.4132636032392495, 0.5860992364708144, 0.463041573680821, -1.3695660492015935, 0.029227875593643714, 0.566167264096036, -1.0254797983782813, 1.1173861364049216, 0.5543321247277112, 1.7776006208415918, 0.0037431964315748014, 0.26877480651159624, 1.769753103285265, -0.8217700822449036, -0.5765004269474363, -0.34946119392723046, -2.009057551334199, -0.18911911189835176, 0.08196592547320265, -0.6713467690769955, 1.592816275040431, -1.0030357365117704, -0.06681179500629934, 1.7912023856489334, 0.07609350198462528, -1.3227640709596251, -1.0083682068497435, 1.2363708695953775, -1.3210175973343643, -0.003250788169452081], \"xaxis\": \"x16\", \"yaxis\": \"y16\"}],                        {\"bargap\": 0.02, \"legend\": {\"bgcolor\": \"#F5F6F9\", \"font\": {\"color\": \"#4D5663\"}}, \"paper_bgcolor\": \"#F5F6F9\", \"plot_bgcolor\": \"#F5F6F9\", \"showlegend\": false, \"template\": {\"data\": {\"bar\": [{\"error_x\": {\"color\": \"#2a3f5f\"}, \"error_y\": {\"color\": \"#2a3f5f\"}, \"marker\": {\"line\": {\"color\": \"#E5ECF6\", \"width\": 0.5}}, \"type\": \"bar\"}], \"barpolar\": [{\"marker\": {\"line\": {\"color\": \"#E5ECF6\", \"width\": 0.5}}, \"type\": \"barpolar\"}], \"carpet\": [{\"aaxis\": {\"endlinecolor\": \"#2a3f5f\", \"gridcolor\": \"white\", \"linecolor\": \"white\", \"minorgridcolor\": \"white\", \"startlinecolor\": \"#2a3f5f\"}, \"baxis\": {\"endlinecolor\": \"#2a3f5f\", \"gridcolor\": \"white\", \"linecolor\": \"white\", \"minorgridcolor\": \"white\", \"startlinecolor\": \"#2a3f5f\"}, \"type\": \"carpet\"}], \"choropleth\": [{\"colorbar\": {\"outlinewidth\": 0, \"ticks\": \"\"}, \"type\": \"choropleth\"}], \"contour\": [{\"colorbar\": {\"outlinewidth\": 0, \"ticks\": \"\"}, \"colorscale\": [[0.0, \"#0d0887\"], [0.1111111111111111, \"#46039f\"], [0.2222222222222222, \"#7201a8\"], [0.3333333333333333, \"#9c179e\"], [0.4444444444444444, \"#bd3786\"], [0.5555555555555556, \"#d8576b\"], [0.6666666666666666, \"#ed7953\"], [0.7777777777777778, \"#fb9f3a\"], [0.8888888888888888, \"#fdca26\"], [1.0, \"#f0f921\"]], \"type\": \"contour\"}], \"contourcarpet\": [{\"colorbar\": {\"outlinewidth\": 0, \"ticks\": \"\"}, \"type\": \"contourcarpet\"}], \"heatmap\": [{\"colorbar\": {\"outlinewidth\": 0, \"ticks\": \"\"}, \"colorscale\": [[0.0, \"#0d0887\"], [0.1111111111111111, \"#46039f\"], [0.2222222222222222, \"#7201a8\"], [0.3333333333333333, \"#9c179e\"], [0.4444444444444444, \"#bd3786\"], [0.5555555555555556, \"#d8576b\"], [0.6666666666666666, \"#ed7953\"], [0.7777777777777778, \"#fb9f3a\"], [0.8888888888888888, \"#fdca26\"], [1.0, \"#f0f921\"]], \"type\": \"heatmap\"}], \"heatmapgl\": [{\"colorbar\": {\"outlinewidth\": 0, \"ticks\": \"\"}, \"colorscale\": [[0.0, \"#0d0887\"], [0.1111111111111111, \"#46039f\"], [0.2222222222222222, \"#7201a8\"], [0.3333333333333333, \"#9c179e\"], [0.4444444444444444, \"#bd3786\"], [0.5555555555555556, \"#d8576b\"], [0.6666666666666666, \"#ed7953\"], [0.7777777777777778, \"#fb9f3a\"], [0.8888888888888888, \"#fdca26\"], [1.0, \"#f0f921\"]], \"type\": \"heatmapgl\"}], \"histogram\": [{\"marker\": {\"colorbar\": {\"outlinewidth\": 0, \"ticks\": \"\"}}, \"type\": \"histogram\"}], \"histogram2d\": [{\"colorbar\": {\"outlinewidth\": 0, \"ticks\": \"\"}, \"colorscale\": [[0.0, \"#0d0887\"], [0.1111111111111111, \"#46039f\"], [0.2222222222222222, \"#7201a8\"], [0.3333333333333333, \"#9c179e\"], [0.4444444444444444, \"#bd3786\"], [0.5555555555555556, \"#d8576b\"], [0.6666666666666666, \"#ed7953\"], [0.7777777777777778, \"#fb9f3a\"], [0.8888888888888888, \"#fdca26\"], [1.0, \"#f0f921\"]], \"type\": \"histogram2d\"}], \"histogram2dcontour\": [{\"colorbar\": {\"outlinewidth\": 0, \"ticks\": \"\"}, \"colorscale\": [[0.0, \"#0d0887\"], [0.1111111111111111, \"#46039f\"], [0.2222222222222222, \"#7201a8\"], [0.3333333333333333, \"#9c179e\"], [0.4444444444444444, \"#bd3786\"], [0.5555555555555556, \"#d8576b\"], [0.6666666666666666, \"#ed7953\"], [0.7777777777777778, \"#fb9f3a\"], [0.8888888888888888, \"#fdca26\"], [1.0, \"#f0f921\"]], \"type\": \"histogram2dcontour\"}], \"mesh3d\": [{\"colorbar\": {\"outlinewidth\": 0, \"ticks\": \"\"}, \"type\": \"mesh3d\"}], \"parcoords\": [{\"line\": {\"colorbar\": {\"outlinewidth\": 0, \"ticks\": \"\"}}, \"type\": \"parcoords\"}], \"pie\": [{\"automargin\": true, \"type\": \"pie\"}], \"scatter\": [{\"marker\": {\"colorbar\": {\"outlinewidth\": 0, \"ticks\": \"\"}}, \"type\": \"scatter\"}], \"scatter3d\": [{\"line\": {\"colorbar\": {\"outlinewidth\": 0, \"ticks\": \"\"}}, \"marker\": {\"colorbar\": {\"outlinewidth\": 0, \"ticks\": \"\"}}, \"type\": \"scatter3d\"}], \"scattercarpet\": [{\"marker\": {\"colorbar\": {\"outlinewidth\": 0, \"ticks\": \"\"}}, \"type\": \"scattercarpet\"}], \"scattergeo\": [{\"marker\": {\"colorbar\": {\"outlinewidth\": 0, \"ticks\": \"\"}}, \"type\": \"scattergeo\"}], \"scattergl\": [{\"marker\": {\"colorbar\": {\"outlinewidth\": 0, \"ticks\": \"\"}}, \"type\": \"scattergl\"}], \"scattermapbox\": [{\"marker\": {\"colorbar\": {\"outlinewidth\": 0, \"ticks\": \"\"}}, \"type\": \"scattermapbox\"}], \"scatterpolar\": [{\"marker\": {\"colorbar\": {\"outlinewidth\": 0, \"ticks\": \"\"}}, \"type\": \"scatterpolar\"}], \"scatterpolargl\": [{\"marker\": {\"colorbar\": {\"outlinewidth\": 0, \"ticks\": \"\"}}, \"type\": \"scatterpolargl\"}], \"scatterternary\": [{\"marker\": {\"colorbar\": {\"outlinewidth\": 0, \"ticks\": \"\"}}, \"type\": \"scatterternary\"}], \"surface\": [{\"colorbar\": {\"outlinewidth\": 0, \"ticks\": \"\"}, \"colorscale\": [[0.0, \"#0d0887\"], [0.1111111111111111, \"#46039f\"], [0.2222222222222222, \"#7201a8\"], [0.3333333333333333, \"#9c179e\"], [0.4444444444444444, \"#bd3786\"], [0.5555555555555556, \"#d8576b\"], [0.6666666666666666, \"#ed7953\"], [0.7777777777777778, \"#fb9f3a\"], [0.8888888888888888, \"#fdca26\"], [1.0, \"#f0f921\"]], \"type\": \"surface\"}], \"table\": [{\"cells\": {\"fill\": {\"color\": \"#EBF0F8\"}, \"line\": {\"color\": \"white\"}}, \"header\": {\"fill\": {\"color\": \"#C8D4E3\"}, \"line\": {\"color\": \"white\"}}, \"type\": \"table\"}]}, \"layout\": {\"annotationdefaults\": {\"arrowcolor\": \"#2a3f5f\", \"arrowhead\": 0, \"arrowwidth\": 1}, \"coloraxis\": {\"colorbar\": {\"outlinewidth\": 0, \"ticks\": \"\"}}, \"colorscale\": {\"diverging\": [[0, \"#8e0152\"], [0.1, \"#c51b7d\"], [0.2, \"#de77ae\"], [0.3, \"#f1b6da\"], [0.4, \"#fde0ef\"], [0.5, \"#f7f7f7\"], [0.6, \"#e6f5d0\"], [0.7, \"#b8e186\"], [0.8, \"#7fbc41\"], [0.9, \"#4d9221\"], [1, \"#276419\"]], \"sequential\": [[0.0, \"#0d0887\"], [0.1111111111111111, \"#46039f\"], [0.2222222222222222, \"#7201a8\"], [0.3333333333333333, \"#9c179e\"], [0.4444444444444444, \"#bd3786\"], [0.5555555555555556, \"#d8576b\"], [0.6666666666666666, \"#ed7953\"], [0.7777777777777778, \"#fb9f3a\"], [0.8888888888888888, \"#fdca26\"], [1.0, \"#f0f921\"]], \"sequentialminus\": [[0.0, \"#0d0887\"], [0.1111111111111111, \"#46039f\"], [0.2222222222222222, \"#7201a8\"], [0.3333333333333333, \"#9c179e\"], [0.4444444444444444, \"#bd3786\"], [0.5555555555555556, \"#d8576b\"], [0.6666666666666666, \"#ed7953\"], [0.7777777777777778, \"#fb9f3a\"], [0.8888888888888888, \"#fdca26\"], [1.0, \"#f0f921\"]]}, \"colorway\": [\"#636efa\", \"#EF553B\", \"#00cc96\", \"#ab63fa\", \"#FFA15A\", \"#19d3f3\", \"#FF6692\", \"#B6E880\", \"#FF97FF\", \"#FECB52\"], \"font\": {\"color\": \"#2a3f5f\"}, \"geo\": {\"bgcolor\": \"white\", \"lakecolor\": \"white\", \"landcolor\": \"#E5ECF6\", \"showlakes\": true, \"showland\": true, \"subunitcolor\": \"white\"}, \"hoverlabel\": {\"align\": \"left\"}, \"hovermode\": \"closest\", \"mapbox\": {\"style\": \"light\"}, \"paper_bgcolor\": \"white\", \"plot_bgcolor\": \"#E5ECF6\", \"polar\": {\"angularaxis\": {\"gridcolor\": \"white\", \"linecolor\": \"white\", \"ticks\": \"\"}, \"bgcolor\": \"#E5ECF6\", \"radialaxis\": {\"gridcolor\": \"white\", \"linecolor\": \"white\", \"ticks\": \"\"}}, \"scene\": {\"xaxis\": {\"backgroundcolor\": \"#E5ECF6\", \"gridcolor\": \"white\", \"gridwidth\": 2, \"linecolor\": \"white\", \"showbackground\": true, \"ticks\": \"\", \"zerolinecolor\": \"white\"}, \"yaxis\": {\"backgroundcolor\": \"#E5ECF6\", \"gridcolor\": \"white\", \"gridwidth\": 2, \"linecolor\": \"white\", \"showbackground\": true, \"ticks\": \"\", \"zerolinecolor\": \"white\"}, \"zaxis\": {\"backgroundcolor\": \"#E5ECF6\", \"gridcolor\": \"white\", \"gridwidth\": 2, \"linecolor\": \"white\", \"showbackground\": true, \"ticks\": \"\", \"zerolinecolor\": \"white\"}}, \"shapedefaults\": {\"line\": {\"color\": \"#2a3f5f\"}}, \"ternary\": {\"aaxis\": {\"gridcolor\": \"white\", \"linecolor\": \"white\", \"ticks\": \"\"}, \"baxis\": {\"gridcolor\": \"white\", \"linecolor\": \"white\", \"ticks\": \"\"}, \"bgcolor\": \"#E5ECF6\", \"caxis\": {\"gridcolor\": \"white\", \"linecolor\": \"white\", \"ticks\": \"\"}}, \"title\": {\"x\": 0.05}, \"xaxis\": {\"automargin\": true, \"gridcolor\": \"white\", \"linecolor\": \"white\", \"ticks\": \"\", \"title\": {\"standoff\": 15}, \"zerolinecolor\": \"white\", \"zerolinewidth\": 2}, \"yaxis\": {\"automargin\": true, \"gridcolor\": \"white\", \"linecolor\": \"white\", \"ticks\": \"\", \"title\": {\"standoff\": 15}, \"zerolinecolor\": \"white\", \"zerolinewidth\": 2}}}, \"title\": {\"font\": {\"color\": \"#4D5663\"}}, \"xaxis\": {\"anchor\": \"y\", \"domain\": [0.0, 0.2125], \"gridcolor\": \"#E1E5ED\", \"showgrid\": false, \"tickfont\": {\"color\": \"#4D5663\"}, \"title\": {\"font\": {\"color\": \"#4D5663\"}, \"text\": \"\"}, \"zerolinecolor\": \"#E1E5ED\"}, \"xaxis10\": {\"anchor\": \"y10\", \"domain\": [0.2625, 0.475], \"gridcolor\": \"#E1E5ED\", \"showgrid\": false, \"tickfont\": {\"color\": \"#4D5663\"}, \"title\": {\"font\": {\"color\": \"#4D5663\"}, \"text\": \"\"}, \"zerolinecolor\": \"#E1E5ED\"}, \"xaxis11\": {\"anchor\": \"y11\", \"domain\": [0.525, 0.7375], \"gridcolor\": \"#E1E5ED\", \"showgrid\": false, \"tickfont\": {\"color\": \"#4D5663\"}, \"title\": {\"font\": {\"color\": \"#4D5663\"}, \"text\": \"\"}, \"zerolinecolor\": \"#E1E5ED\"}, \"xaxis12\": {\"anchor\": \"y12\", \"domain\": [0.7875, 1.0], \"gridcolor\": \"#E1E5ED\", \"showgrid\": false, \"tickfont\": {\"color\": \"#4D5663\"}, \"title\": {\"font\": {\"color\": \"#4D5663\"}, \"text\": \"\"}, \"zerolinecolor\": \"#E1E5ED\"}, \"xaxis13\": {\"anchor\": \"y13\", \"domain\": [0.0, 0.2125], \"gridcolor\": \"#E1E5ED\", \"showgrid\": false, \"tickfont\": {\"color\": \"#4D5663\"}, \"title\": {\"font\": {\"color\": \"#4D5663\"}, \"text\": \"\"}, \"zerolinecolor\": \"#E1E5ED\"}, \"xaxis14\": {\"anchor\": \"y14\", \"domain\": [0.2625, 0.475], \"gridcolor\": \"#E1E5ED\", \"showgrid\": false, \"tickfont\": {\"color\": \"#4D5663\"}, \"title\": {\"font\": {\"color\": \"#4D5663\"}, \"text\": \"\"}, \"zerolinecolor\": \"#E1E5ED\"}, \"xaxis15\": {\"anchor\": \"y15\", \"domain\": [0.525, 0.7375], \"gridcolor\": \"#E1E5ED\", \"showgrid\": false, \"tickfont\": {\"color\": \"#4D5663\"}, \"title\": {\"font\": {\"color\": \"#4D5663\"}, \"text\": \"\"}, \"zerolinecolor\": \"#E1E5ED\"}, \"xaxis16\": {\"anchor\": \"y16\", \"domain\": [0.7875, 1.0], \"gridcolor\": \"#E1E5ED\", \"showgrid\": false, \"tickfont\": {\"color\": \"#4D5663\"}, \"title\": {\"font\": {\"color\": \"#4D5663\"}, \"text\": \"\"}, \"zerolinecolor\": \"#E1E5ED\"}, \"xaxis2\": {\"anchor\": \"y2\", \"domain\": [0.2625, 0.475], \"gridcolor\": \"#E1E5ED\", \"showgrid\": false, \"tickfont\": {\"color\": \"#4D5663\"}, \"title\": {\"font\": {\"color\": \"#4D5663\"}, \"text\": \"\"}, \"zerolinecolor\": \"#E1E5ED\"}, \"xaxis3\": {\"anchor\": \"y3\", \"domain\": [0.525, 0.7375], \"gridcolor\": \"#E1E5ED\", \"showgrid\": false, \"tickfont\": {\"color\": \"#4D5663\"}, \"title\": {\"font\": {\"color\": \"#4D5663\"}, \"text\": \"\"}, \"zerolinecolor\": \"#E1E5ED\"}, \"xaxis4\": {\"anchor\": \"y4\", \"domain\": [0.7875, 1.0], \"gridcolor\": \"#E1E5ED\", \"showgrid\": false, \"tickfont\": {\"color\": \"#4D5663\"}, \"title\": {\"font\": {\"color\": \"#4D5663\"}, \"text\": \"\"}, \"zerolinecolor\": \"#E1E5ED\"}, \"xaxis5\": {\"anchor\": \"y5\", \"domain\": [0.0, 0.2125], \"gridcolor\": \"#E1E5ED\", \"showgrid\": false, \"tickfont\": {\"color\": \"#4D5663\"}, \"title\": {\"font\": {\"color\": \"#4D5663\"}, \"text\": \"\"}, \"zerolinecolor\": \"#E1E5ED\"}, \"xaxis6\": {\"anchor\": \"y6\", \"domain\": [0.2625, 0.475], \"gridcolor\": \"#E1E5ED\", \"showgrid\": false, \"tickfont\": {\"color\": \"#4D5663\"}, \"title\": {\"font\": {\"color\": \"#4D5663\"}, \"text\": \"\"}, \"zerolinecolor\": \"#E1E5ED\"}, \"xaxis7\": {\"anchor\": \"y7\", \"domain\": [0.525, 0.7375], \"gridcolor\": \"#E1E5ED\", \"showgrid\": false, \"tickfont\": {\"color\": \"#4D5663\"}, \"title\": {\"font\": {\"color\": \"#4D5663\"}, \"text\": \"\"}, \"zerolinecolor\": \"#E1E5ED\"}, \"xaxis8\": {\"anchor\": \"y8\", \"domain\": [0.7875, 1.0], \"gridcolor\": \"#E1E5ED\", \"showgrid\": false, \"tickfont\": {\"color\": \"#4D5663\"}, \"title\": {\"font\": {\"color\": \"#4D5663\"}, \"text\": \"\"}, \"zerolinecolor\": \"#E1E5ED\"}, \"xaxis9\": {\"anchor\": \"y9\", \"domain\": [0.0, 0.2125], \"gridcolor\": \"#E1E5ED\", \"showgrid\": false, \"tickfont\": {\"color\": \"#4D5663\"}, \"title\": {\"font\": {\"color\": \"#4D5663\"}, \"text\": \"\"}, \"zerolinecolor\": \"#E1E5ED\"}, \"yaxis\": {\"anchor\": \"x\", \"domain\": [0.8025, 1.0], \"gridcolor\": \"#E1E5ED\", \"showgrid\": false, \"tickfont\": {\"color\": \"#4D5663\"}, \"title\": {\"font\": {\"color\": \"#4D5663\"}, \"text\": \"\"}, \"zerolinecolor\": \"#E1E5ED\"}, \"yaxis10\": {\"anchor\": \"x10\", \"domain\": [0.2675, 0.465], \"gridcolor\": \"#E1E5ED\", \"showgrid\": false, \"tickfont\": {\"color\": \"#4D5663\"}, \"title\": {\"font\": {\"color\": \"#4D5663\"}, \"text\": \"\"}, \"zerolinecolor\": \"#E1E5ED\"}, \"yaxis11\": {\"anchor\": \"x11\", \"domain\": [0.2675, 0.465], \"gridcolor\": \"#E1E5ED\", \"showgrid\": false, \"tickfont\": {\"color\": \"#4D5663\"}, \"title\": {\"font\": {\"color\": \"#4D5663\"}, \"text\": \"\"}, \"zerolinecolor\": \"#E1E5ED\"}, \"yaxis12\": {\"anchor\": \"x12\", \"domain\": [0.2675, 0.465], \"gridcolor\": \"#E1E5ED\", \"showgrid\": false, \"tickfont\": {\"color\": \"#4D5663\"}, \"title\": {\"font\": {\"color\": \"#4D5663\"}, \"text\": \"\"}, \"zerolinecolor\": \"#E1E5ED\"}, \"yaxis13\": {\"anchor\": \"x13\", \"domain\": [0.0, 0.1975], \"gridcolor\": \"#E1E5ED\", \"showgrid\": false, \"tickfont\": {\"color\": \"#4D5663\"}, \"title\": {\"font\": {\"color\": \"#4D5663\"}, \"text\": \"\"}, \"zerolinecolor\": \"#E1E5ED\"}, \"yaxis14\": {\"anchor\": \"x14\", \"domain\": [0.0, 0.1975], \"gridcolor\": \"#E1E5ED\", \"showgrid\": false, \"tickfont\": {\"color\": \"#4D5663\"}, \"title\": {\"font\": {\"color\": \"#4D5663\"}, \"text\": \"\"}, \"zerolinecolor\": \"#E1E5ED\"}, \"yaxis15\": {\"anchor\": \"x15\", \"domain\": [0.0, 0.1975], \"gridcolor\": \"#E1E5ED\", \"showgrid\": false, \"tickfont\": {\"color\": \"#4D5663\"}, \"title\": {\"font\": {\"color\": \"#4D5663\"}, \"text\": \"\"}, \"zerolinecolor\": \"#E1E5ED\"}, \"yaxis16\": {\"anchor\": \"x16\", \"domain\": [0.0, 0.1975], \"gridcolor\": \"#E1E5ED\", \"showgrid\": false, \"tickfont\": {\"color\": \"#4D5663\"}, \"title\": {\"font\": {\"color\": \"#4D5663\"}, \"text\": \"\"}, \"zerolinecolor\": \"#E1E5ED\"}, \"yaxis2\": {\"anchor\": \"x2\", \"domain\": [0.8025, 1.0], \"gridcolor\": \"#E1E5ED\", \"showgrid\": false, \"tickfont\": {\"color\": \"#4D5663\"}, \"title\": {\"font\": {\"color\": \"#4D5663\"}, \"text\": \"\"}, \"zerolinecolor\": \"#E1E5ED\"}, \"yaxis3\": {\"anchor\": \"x3\", \"domain\": [0.8025, 1.0], \"gridcolor\": \"#E1E5ED\", \"showgrid\": false, \"tickfont\": {\"color\": \"#4D5663\"}, \"title\": {\"font\": {\"color\": \"#4D5663\"}, \"text\": \"\"}, \"zerolinecolor\": \"#E1E5ED\"}, \"yaxis4\": {\"anchor\": \"x4\", \"domain\": [0.8025, 1.0], \"gridcolor\": \"#E1E5ED\", \"showgrid\": false, \"tickfont\": {\"color\": \"#4D5663\"}, \"title\": {\"font\": {\"color\": \"#4D5663\"}, \"text\": \"\"}, \"zerolinecolor\": \"#E1E5ED\"}, \"yaxis5\": {\"anchor\": \"x5\", \"domain\": [0.535, 0.7325], \"gridcolor\": \"#E1E5ED\", \"showgrid\": false, \"tickfont\": {\"color\": \"#4D5663\"}, \"title\": {\"font\": {\"color\": \"#4D5663\"}, \"text\": \"\"}, \"zerolinecolor\": \"#E1E5ED\"}, \"yaxis6\": {\"anchor\": \"x6\", \"domain\": [0.535, 0.7325], \"gridcolor\": \"#E1E5ED\", \"showgrid\": false, \"tickfont\": {\"color\": \"#4D5663\"}, \"title\": {\"font\": {\"color\": \"#4D5663\"}, \"text\": \"\"}, \"zerolinecolor\": \"#E1E5ED\"}, \"yaxis7\": {\"anchor\": \"x7\", \"domain\": [0.535, 0.7325], \"gridcolor\": \"#E1E5ED\", \"showgrid\": false, \"tickfont\": {\"color\": \"#4D5663\"}, \"title\": {\"font\": {\"color\": \"#4D5663\"}, \"text\": \"\"}, \"zerolinecolor\": \"#E1E5ED\"}, \"yaxis8\": {\"anchor\": \"x8\", \"domain\": [0.535, 0.7325], \"gridcolor\": \"#E1E5ED\", \"showgrid\": false, \"tickfont\": {\"color\": \"#4D5663\"}, \"title\": {\"font\": {\"color\": \"#4D5663\"}, \"text\": \"\"}, \"zerolinecolor\": \"#E1E5ED\"}, \"yaxis9\": {\"anchor\": \"x9\", \"domain\": [0.2675, 0.465], \"gridcolor\": \"#E1E5ED\", \"showgrid\": false, \"tickfont\": {\"color\": \"#4D5663\"}, \"title\": {\"font\": {\"color\": \"#4D5663\"}, \"text\": \"\"}, \"zerolinecolor\": \"#E1E5ED\"}},                        {\"showLink\": true, \"linkText\": \"Export to plot.ly\", \"plotlyServerURL\": \"https://plot.ly\", \"responsive\": true}                    ).then(function(){\n",
       "                            \n",
       "var gd = document.getElementById('0f2bbb90-5b16-4f80-9a40-a5928a99f1ee');\n",
       "var x = new MutationObserver(function (mutations, observer) {{\n",
       "        var display = window.getComputedStyle(gd).display;\n",
       "        if (!display || display === 'none') {{\n",
       "            console.log([gd, 'removed!']);\n",
       "            Plotly.purge(gd);\n",
       "            observer.disconnect();\n",
       "        }}\n",
       "}});\n",
       "\n",
       "// Listen for the removal of the full notebook cells\n",
       "var notebookContainer = gd.closest('#notebook-container');\n",
       "if (notebookContainer) {{\n",
       "    x.observe(notebookContainer, {childList: true});\n",
       "}}\n",
       "\n",
       "// Listen for the clearing of the current output cell\n",
       "var outputEl = gd.closest('.output');\n",
       "if (outputEl) {{\n",
       "    x.observe(outputEl, {childList: true});\n",
       "}}\n",
       "\n",
       "                        })                };                });            </script>        </div>"
      ]
     },
     "metadata": {},
     "output_type": "display_data"
    }
   ],
   "source": [
    "df.scatter_matrix()"
   ]
  },
  {
   "cell_type": "code",
   "execution_count": null,
   "metadata": {},
   "outputs": [],
   "source": []
  }
 ],
 "metadata": {
  "kernelspec": {
   "display_name": "Python 3",
   "language": "python",
   "name": "python3"
  },
  "language_info": {
   "codemirror_mode": {
    "name": "ipython",
    "version": 3
   },
   "file_extension": ".py",
   "mimetype": "text/x-python",
   "name": "python",
   "nbconvert_exporter": "python",
   "pygments_lexer": "ipython3",
   "version": "3.7.4"
  },
  "toc": {
   "base_numbering": 1,
   "nav_menu": {},
   "number_sections": true,
   "sideBar": true,
   "skip_h1_title": false,
   "title_cell": "Table of Contents",
   "title_sidebar": "Contents",
   "toc_cell": false,
   "toc_position": {},
   "toc_section_display": true,
   "toc_window_display": true
  }
 },
 "nbformat": 4,
 "nbformat_minor": 2
}
