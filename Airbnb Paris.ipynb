{
 "cells": [
  {
   "cell_type": "markdown",
   "metadata": {},
   "source": [
    "# The Best airbnb in Paris #\n",
    "+ the below file crunches #s from airbnb's paris listings open data, published on November 7, 2019 (link = http://insideairbnb.com/get-the-data.html)\n",
    "    + the dataset includes 65,493 total entries\n",
    "    + the average price per night is $121.60\n"
   ]
  },
  {
   "cell_type": "markdown",
   "metadata": {},
   "source": [
    "## Part 1: setting up the data"
   ]
  },
  {
   "cell_type": "code",
   "execution_count": 1,
   "metadata": {},
   "outputs": [],
   "source": [
    "# import libraries \n",
    "import pandas as pd\n",
    "import os"
   ]
  },
  {
   "cell_type": "code",
   "execution_count": 2,
   "metadata": {},
   "outputs": [
    {
     "data": {
      "text/plain": [
       "'/Users/BrendanErhard/Desktop/Python/airbnb'"
      ]
     },
     "execution_count": 2,
     "metadata": {},
     "output_type": "execute_result"
    }
   ],
   "source": [
    "# get current working directory\n",
    "os.getcwd()"
   ]
  },
  {
   "cell_type": "code",
   "execution_count": 3,
   "metadata": {},
   "outputs": [],
   "source": [
    "# load the data set, set DataFrame = Paris\n",
    "paris = pd.read_csv('listings_by_arrond.csv')"
   ]
  },
  {
   "cell_type": "markdown",
   "metadata": {},
   "source": [
    "## Part 2: exploring the data ##"
   ]
  },
  {
   "cell_type": "code",
   "execution_count": 4,
   "metadata": {},
   "outputs": [
    {
     "data": {
      "text/html": [
       "<div>\n",
       "<style scoped>\n",
       "    .dataframe tbody tr th:only-of-type {\n",
       "        vertical-align: middle;\n",
       "    }\n",
       "\n",
       "    .dataframe tbody tr th {\n",
       "        vertical-align: top;\n",
       "    }\n",
       "\n",
       "    .dataframe thead th {\n",
       "        text-align: right;\n",
       "    }\n",
       "</style>\n",
       "<table border=\"1\" class=\"dataframe\">\n",
       "  <thead>\n",
       "    <tr style=\"text-align: right;\">\n",
       "      <th></th>\n",
       "      <th>id</th>\n",
       "      <th>name</th>\n",
       "      <th>host_id</th>\n",
       "      <th>host_name</th>\n",
       "      <th>neighbourhood_group</th>\n",
       "      <th>neighbourhood</th>\n",
       "      <th>latitude</th>\n",
       "      <th>longitude</th>\n",
       "      <th>room_type</th>\n",
       "      <th>price</th>\n",
       "      <th>minimum_nights</th>\n",
       "      <th>number_of_reviews</th>\n",
       "      <th>last_review</th>\n",
       "      <th>reviews_per_month</th>\n",
       "      <th>calculated_host_listings_count</th>\n",
       "      <th>availability_365</th>\n",
       "    </tr>\n",
       "  </thead>\n",
       "  <tbody>\n",
       "    <tr>\n",
       "      <th>0</th>\n",
       "      <td>33065009</td>\n",
       "      <td>Beautiful apartment center of Paris with terrace</td>\n",
       "      <td>28313443</td>\n",
       "      <td>Michael &amp; Johanna</td>\n",
       "      <td>NaN</td>\n",
       "      <td>Bourse</td>\n",
       "      <td>48.86847</td>\n",
       "      <td>2.35209</td>\n",
       "      <td>Entire home/apt</td>\n",
       "      <td>256</td>\n",
       "      <td>2</td>\n",
       "      <td>29</td>\n",
       "      <td>2019-11-03</td>\n",
       "      <td>4.12</td>\n",
       "      <td>73</td>\n",
       "      <td>284</td>\n",
       "    </tr>\n",
       "    <tr>\n",
       "      <th>1</th>\n",
       "      <td>33008241</td>\n",
       "      <td>Magnificent apt located in the heart of Paris</td>\n",
       "      <td>248419822</td>\n",
       "      <td>Mickael</td>\n",
       "      <td>NaN</td>\n",
       "      <td>Temple</td>\n",
       "      <td>48.86512</td>\n",
       "      <td>2.35333</td>\n",
       "      <td>Entire home/apt</td>\n",
       "      <td>85</td>\n",
       "      <td>1</td>\n",
       "      <td>15</td>\n",
       "      <td>2019-11-01</td>\n",
       "      <td>2.18</td>\n",
       "      <td>1</td>\n",
       "      <td>5</td>\n",
       "    </tr>\n",
       "    <tr>\n",
       "      <th>2</th>\n",
       "      <td>39024702</td>\n",
       "      <td>Cosy flat 4P- 3e - Grands Boulevards</td>\n",
       "      <td>115296025</td>\n",
       "      <td>Lucas &amp; Mathilde</td>\n",
       "      <td>NaN</td>\n",
       "      <td>Bourse</td>\n",
       "      <td>48.86914</td>\n",
       "      <td>2.34817</td>\n",
       "      <td>Entire home/apt</td>\n",
       "      <td>88</td>\n",
       "      <td>1</td>\n",
       "      <td>0</td>\n",
       "      <td>NaN</td>\n",
       "      <td>NaN</td>\n",
       "      <td>22</td>\n",
       "      <td>341</td>\n",
       "    </tr>\n",
       "    <tr>\n",
       "      <th>3</th>\n",
       "      <td>38382924</td>\n",
       "      <td>Cosy apartment in Montmartre</td>\n",
       "      <td>24650806</td>\n",
       "      <td>Sarah</td>\n",
       "      <td>NaN</td>\n",
       "      <td>Buttes-Montmartre</td>\n",
       "      <td>48.88619</td>\n",
       "      <td>2.33730</td>\n",
       "      <td>Entire home/apt</td>\n",
       "      <td>92</td>\n",
       "      <td>2</td>\n",
       "      <td>0</td>\n",
       "      <td>NaN</td>\n",
       "      <td>NaN</td>\n",
       "      <td>1</td>\n",
       "      <td>31</td>\n",
       "    </tr>\n",
       "    <tr>\n",
       "      <th>4</th>\n",
       "      <td>29010030</td>\n",
       "      <td>Apartment in Pigalle, Paris</td>\n",
       "      <td>86758450</td>\n",
       "      <td>Laura</td>\n",
       "      <td>NaN</td>\n",
       "      <td>Buttes-Montmartre</td>\n",
       "      <td>48.88314</td>\n",
       "      <td>2.33878</td>\n",
       "      <td>Entire home/apt</td>\n",
       "      <td>85</td>\n",
       "      <td>2</td>\n",
       "      <td>4</td>\n",
       "      <td>2019-04-17</td>\n",
       "      <td>0.30</td>\n",
       "      <td>1</td>\n",
       "      <td>312</td>\n",
       "    </tr>\n",
       "  </tbody>\n",
       "</table>\n",
       "</div>"
      ],
      "text/plain": [
       "         id                                              name    host_id  \\\n",
       "0  33065009  Beautiful apartment center of Paris with terrace   28313443   \n",
       "1  33008241     Magnificent apt located in the heart of Paris  248419822   \n",
       "2  39024702              Cosy flat 4P- 3e - Grands Boulevards  115296025   \n",
       "3  38382924                      Cosy apartment in Montmartre   24650806   \n",
       "4  29010030                       Apartment in Pigalle, Paris   86758450   \n",
       "\n",
       "           host_name  neighbourhood_group      neighbourhood  latitude  \\\n",
       "0  Michael & Johanna                  NaN             Bourse  48.86847   \n",
       "1            Mickael                  NaN             Temple  48.86512   \n",
       "2   Lucas & Mathilde                  NaN             Bourse  48.86914   \n",
       "3              Sarah                  NaN  Buttes-Montmartre  48.88619   \n",
       "4              Laura                  NaN  Buttes-Montmartre  48.88314   \n",
       "\n",
       "   longitude        room_type  price  minimum_nights  number_of_reviews  \\\n",
       "0    2.35209  Entire home/apt    256               2                 29   \n",
       "1    2.35333  Entire home/apt     85               1                 15   \n",
       "2    2.34817  Entire home/apt     88               1                  0   \n",
       "3    2.33730  Entire home/apt     92               2                  0   \n",
       "4    2.33878  Entire home/apt     85               2                  4   \n",
       "\n",
       "  last_review  reviews_per_month  calculated_host_listings_count  \\\n",
       "0  2019-11-03               4.12                              73   \n",
       "1  2019-11-01               2.18                               1   \n",
       "2         NaN                NaN                              22   \n",
       "3         NaN                NaN                               1   \n",
       "4  2019-04-17               0.30                               1   \n",
       "\n",
       "   availability_365  \n",
       "0               284  \n",
       "1                 5  \n",
       "2               341  \n",
       "3                31  \n",
       "4               312  "
      ]
     },
     "execution_count": 4,
     "metadata": {},
     "output_type": "execute_result"
    }
   ],
   "source": [
    "# explore the data set by printing out a preview of 5 rows\n",
    "paris.head()"
   ]
  },
  {
   "cell_type": "code",
   "execution_count": 5,
   "metadata": {},
   "outputs": [
    {
     "name": "stdout",
     "output_type": "stream",
     "text": [
      "id\n",
      "name\n",
      "host_id\n",
      "host_name\n",
      "neighbourhood_group\n",
      "neighbourhood\n",
      "latitude\n",
      "longitude\n",
      "room_type\n",
      "price\n",
      "minimum_nights\n",
      "number_of_reviews\n",
      "last_review\n",
      "reviews_per_month\n",
      "calculated_host_listings_count\n",
      "availability_365\n"
     ]
    }
   ],
   "source": [
    "# print the column names with a for loop\n",
    "for col in paris.columns:\n",
    "    print(col)"
   ]
  },
  {
   "cell_type": "code",
   "execution_count": 6,
   "metadata": {},
   "outputs": [
    {
     "data": {
      "text/plain": [
       "array(['Bourse', 'Temple', 'Buttes-Montmartre', 'Opéra', 'Hôtel-de-Ville',\n",
       "       'Luxembourg', 'Batignolles-Monceau', 'Ménilmontant', 'Élysée',\n",
       "       'Popincourt', 'Buttes-Chaumont', 'Vaugirard', 'Palais-Bourbon',\n",
       "       'Passy', 'Entrepôt', 'Reuilly', 'Louvre', 'Gobelins',\n",
       "       'Observatoire', 'Panthéon'], dtype=object)"
      ]
     },
     "execution_count": 6,
     "metadata": {},
     "output_type": "execute_result"
    }
   ],
   "source": [
    "# print the names of all unique neighborhoods\n",
    "paris.neighbourhood.unique()"
   ]
  },
  {
   "cell_type": "code",
   "execution_count": 7,
   "metadata": {},
   "outputs": [
    {
     "data": {
      "text/plain": [
       "array([nan])"
      ]
     },
     "execution_count": 7,
     "metadata": {},
     "output_type": "execute_result"
    }
   ],
   "source": [
    "# print the names of all neighborhood groups - looks like this column has no values\n",
    "paris.neighbourhood_group.unique()"
   ]
  },
  {
   "cell_type": "code",
   "execution_count": 8,
   "metadata": {},
   "outputs": [
    {
     "data": {
      "text/plain": [
       "id                                65493\n",
       "name                              65426\n",
       "host_id                           65493\n",
       "host_name                         65424\n",
       "neighbourhood_group                   0\n",
       "neighbourhood                     65493\n",
       "latitude                          65493\n",
       "longitude                         65493\n",
       "room_type                         65493\n",
       "price                             65493\n",
       "minimum_nights                    65493\n",
       "number_of_reviews                 65493\n",
       "last_review                       52602\n",
       "reviews_per_month                 52602\n",
       "calculated_host_listings_count    65493\n",
       "availability_365                  65493\n",
       "dtype: int64"
      ]
     },
     "execution_count": 8,
     "metadata": {},
     "output_type": "execute_result"
    }
   ],
   "source": [
    "# print out the data count of each column - looks like neighrobhood group is not relevant\n",
    "paris.count()"
   ]
  },
  {
   "cell_type": "code",
   "execution_count": 9,
   "metadata": {},
   "outputs": [
    {
     "data": {
      "text/html": [
       "<div>\n",
       "<style scoped>\n",
       "    .dataframe tbody tr th:only-of-type {\n",
       "        vertical-align: middle;\n",
       "    }\n",
       "\n",
       "    .dataframe tbody tr th {\n",
       "        vertical-align: top;\n",
       "    }\n",
       "\n",
       "    .dataframe thead th {\n",
       "        text-align: right;\n",
       "    }\n",
       "</style>\n",
       "<table border=\"1\" class=\"dataframe\">\n",
       "  <thead>\n",
       "    <tr style=\"text-align: right;\">\n",
       "      <th></th>\n",
       "      <th>id</th>\n",
       "      <th>name</th>\n",
       "      <th>host_id</th>\n",
       "      <th>host_name</th>\n",
       "      <th>neighbourhood</th>\n",
       "      <th>latitude</th>\n",
       "      <th>longitude</th>\n",
       "      <th>room_type</th>\n",
       "      <th>price</th>\n",
       "      <th>minimum_nights</th>\n",
       "      <th>number_of_reviews</th>\n",
       "      <th>last_review</th>\n",
       "      <th>reviews_per_month</th>\n",
       "      <th>calculated_host_listings_count</th>\n",
       "      <th>availability_365</th>\n",
       "    </tr>\n",
       "  </thead>\n",
       "  <tbody>\n",
       "    <tr>\n",
       "      <th>0</th>\n",
       "      <td>33065009</td>\n",
       "      <td>Beautiful apartment center of Paris with terrace</td>\n",
       "      <td>28313443</td>\n",
       "      <td>Michael &amp; Johanna</td>\n",
       "      <td>Bourse</td>\n",
       "      <td>48.86847</td>\n",
       "      <td>2.35209</td>\n",
       "      <td>Entire home/apt</td>\n",
       "      <td>256</td>\n",
       "      <td>2</td>\n",
       "      <td>29</td>\n",
       "      <td>2019-11-03</td>\n",
       "      <td>4.12</td>\n",
       "      <td>73</td>\n",
       "      <td>284</td>\n",
       "    </tr>\n",
       "    <tr>\n",
       "      <th>1</th>\n",
       "      <td>33008241</td>\n",
       "      <td>Magnificent apt located in the heart of Paris</td>\n",
       "      <td>248419822</td>\n",
       "      <td>Mickael</td>\n",
       "      <td>Temple</td>\n",
       "      <td>48.86512</td>\n",
       "      <td>2.35333</td>\n",
       "      <td>Entire home/apt</td>\n",
       "      <td>85</td>\n",
       "      <td>1</td>\n",
       "      <td>15</td>\n",
       "      <td>2019-11-01</td>\n",
       "      <td>2.18</td>\n",
       "      <td>1</td>\n",
       "      <td>5</td>\n",
       "    </tr>\n",
       "    <tr>\n",
       "      <th>2</th>\n",
       "      <td>39024702</td>\n",
       "      <td>Cosy flat 4P- 3e - Grands Boulevards</td>\n",
       "      <td>115296025</td>\n",
       "      <td>Lucas &amp; Mathilde</td>\n",
       "      <td>Bourse</td>\n",
       "      <td>48.86914</td>\n",
       "      <td>2.34817</td>\n",
       "      <td>Entire home/apt</td>\n",
       "      <td>88</td>\n",
       "      <td>1</td>\n",
       "      <td>0</td>\n",
       "      <td>NaN</td>\n",
       "      <td>NaN</td>\n",
       "      <td>22</td>\n",
       "      <td>341</td>\n",
       "    </tr>\n",
       "    <tr>\n",
       "      <th>3</th>\n",
       "      <td>38382924</td>\n",
       "      <td>Cosy apartment in Montmartre</td>\n",
       "      <td>24650806</td>\n",
       "      <td>Sarah</td>\n",
       "      <td>Buttes-Montmartre</td>\n",
       "      <td>48.88619</td>\n",
       "      <td>2.33730</td>\n",
       "      <td>Entire home/apt</td>\n",
       "      <td>92</td>\n",
       "      <td>2</td>\n",
       "      <td>0</td>\n",
       "      <td>NaN</td>\n",
       "      <td>NaN</td>\n",
       "      <td>1</td>\n",
       "      <td>31</td>\n",
       "    </tr>\n",
       "    <tr>\n",
       "      <th>4</th>\n",
       "      <td>29010030</td>\n",
       "      <td>Apartment in Pigalle, Paris</td>\n",
       "      <td>86758450</td>\n",
       "      <td>Laura</td>\n",
       "      <td>Buttes-Montmartre</td>\n",
       "      <td>48.88314</td>\n",
       "      <td>2.33878</td>\n",
       "      <td>Entire home/apt</td>\n",
       "      <td>85</td>\n",
       "      <td>2</td>\n",
       "      <td>4</td>\n",
       "      <td>2019-04-17</td>\n",
       "      <td>0.30</td>\n",
       "      <td>1</td>\n",
       "      <td>312</td>\n",
       "    </tr>\n",
       "  </tbody>\n",
       "</table>\n",
       "</div>"
      ],
      "text/plain": [
       "         id                                              name    host_id  \\\n",
       "0  33065009  Beautiful apartment center of Paris with terrace   28313443   \n",
       "1  33008241     Magnificent apt located in the heart of Paris  248419822   \n",
       "2  39024702              Cosy flat 4P- 3e - Grands Boulevards  115296025   \n",
       "3  38382924                      Cosy apartment in Montmartre   24650806   \n",
       "4  29010030                       Apartment in Pigalle, Paris   86758450   \n",
       "\n",
       "           host_name      neighbourhood  latitude  longitude        room_type  \\\n",
       "0  Michael & Johanna             Bourse  48.86847    2.35209  Entire home/apt   \n",
       "1            Mickael             Temple  48.86512    2.35333  Entire home/apt   \n",
       "2   Lucas & Mathilde             Bourse  48.86914    2.34817  Entire home/apt   \n",
       "3              Sarah  Buttes-Montmartre  48.88619    2.33730  Entire home/apt   \n",
       "4              Laura  Buttes-Montmartre  48.88314    2.33878  Entire home/apt   \n",
       "\n",
       "   price  minimum_nights  number_of_reviews last_review  reviews_per_month  \\\n",
       "0    256               2                 29  2019-11-03               4.12   \n",
       "1     85               1                 15  2019-11-01               2.18   \n",
       "2     88               1                  0         NaN                NaN   \n",
       "3     92               2                  0         NaN                NaN   \n",
       "4     85               2                  4  2019-04-17               0.30   \n",
       "\n",
       "   calculated_host_listings_count  availability_365  \n",
       "0                              73               284  \n",
       "1                               1                 5  \n",
       "2                              22               341  \n",
       "3                               1                31  \n",
       "4                               1               312  "
      ]
     },
     "execution_count": 9,
     "metadata": {},
     "output_type": "execute_result"
    }
   ],
   "source": [
    "# drop neighborhood group from the dataset\n",
    "paris_1 = paris.drop(['neighbourhood_group'], axis=1)\n",
    "paris_1.head()"
   ]
  },
  {
   "cell_type": "markdown",
   "metadata": {},
   "source": [
    "## Part 3: Basic stats about the data set ##"
   ]
  },
  {
   "cell_type": "code",
   "execution_count": 10,
   "metadata": {},
   "outputs": [
    {
     "data": {
      "text/plain": [
       "65493"
      ]
     },
     "execution_count": 10,
     "metadata": {},
     "output_type": "execute_result"
    }
   ],
   "source": [
    "# How many listings are there in total?\n",
    "paris_1.neighbourhood.count()"
   ]
  },
  {
   "cell_type": "code",
   "execution_count": 11,
   "metadata": {},
   "outputs": [
    {
     "data": {
      "text/plain": [
       "10000"
      ]
     },
     "execution_count": 11,
     "metadata": {},
     "output_type": "execute_result"
    }
   ],
   "source": [
    "# what is the highest price?\n",
    "paris_1.price.max()"
   ]
  },
  {
   "cell_type": "code",
   "execution_count": 12,
   "metadata": {},
   "outputs": [
    {
     "data": {
      "text/plain": [
       "0"
      ]
     },
     "execution_count": 12,
     "metadata": {},
     "output_type": "execute_result"
    }
   ],
   "source": [
    "# what is the min price?\n",
    "paris_1.price.min()"
   ]
  },
  {
   "cell_type": "code",
   "execution_count": 13,
   "metadata": {},
   "outputs": [
    {
     "data": {
      "text/plain": [
       "121.59795703357611"
      ]
     },
     "execution_count": 13,
     "metadata": {},
     "output_type": "execute_result"
    }
   ],
   "source": [
    "# what is the avg price?\n",
    "paris_1.price.mean()"
   ]
  },
  {
   "cell_type": "code",
   "execution_count": 14,
   "metadata": {},
   "outputs": [
    {
     "data": {
      "text/plain": [
       "id                                   39948388\n",
       "host_id                             307842143\n",
       "neighbourhood                          Élysée\n",
       "latitude                              48.9058\n",
       "longitude                             2.47339\n",
       "room_type                         Shared room\n",
       "price                                   10000\n",
       "minimum_nights                           9999\n",
       "number_of_reviews                         844\n",
       "reviews_per_month                       47.38\n",
       "calculated_host_listings_count            216\n",
       "availability_365                          365\n",
       "dtype: object"
      ]
     },
     "execution_count": 14,
     "metadata": {},
     "output_type": "execute_result"
    }
   ],
   "source": [
    "# in what neighborhood is the highest price per night?\n",
    "paris_1[paris_1['price'] == paris_1['price']].max()"
   ]
  },
  {
   "cell_type": "markdown",
   "metadata": {},
   "source": [
    "## The most expensive apartment in Paris ##\n",
    "+ The most expensive apartment in Paris can be found at the below link:\n",
    "        + https://www.airbnb.com/rooms/7225849?source_impression_id=p3_1578014765_02SH0cbx1%2BZZvyzk\n",
    "+ it is now $10,500 per night and able to host 8 guests (2 bedrooms, 5 beds, 2 baths)\n",
    "+ 10,500 is outrageous. All in the unit has 23 reviews (the last was in 2016 so looks like Martin got greedy)"
   ]
  },
  {
   "cell_type": "code",
   "execution_count": 15,
   "metadata": {},
   "outputs": [
    {
     "data": {
      "text/html": [
       "<div>\n",
       "<style scoped>\n",
       "    .dataframe tbody tr th:only-of-type {\n",
       "        vertical-align: middle;\n",
       "    }\n",
       "\n",
       "    .dataframe tbody tr th {\n",
       "        vertical-align: top;\n",
       "    }\n",
       "\n",
       "    .dataframe thead th {\n",
       "        text-align: right;\n",
       "    }\n",
       "</style>\n",
       "<table border=\"1\" class=\"dataframe\">\n",
       "  <thead>\n",
       "    <tr style=\"text-align: right;\">\n",
       "      <th></th>\n",
       "      <th>id</th>\n",
       "      <th>name</th>\n",
       "      <th>host_id</th>\n",
       "      <th>host_name</th>\n",
       "      <th>neighbourhood</th>\n",
       "      <th>latitude</th>\n",
       "      <th>longitude</th>\n",
       "      <th>room_type</th>\n",
       "      <th>price</th>\n",
       "      <th>minimum_nights</th>\n",
       "      <th>number_of_reviews</th>\n",
       "      <th>last_review</th>\n",
       "      <th>reviews_per_month</th>\n",
       "      <th>calculated_host_listings_count</th>\n",
       "      <th>availability_365</th>\n",
       "    </tr>\n",
       "  </thead>\n",
       "  <tbody>\n",
       "    <tr>\n",
       "      <th>14472</th>\n",
       "      <td>7225849</td>\n",
       "      <td>Artistic apartment, Montmartre</td>\n",
       "      <td>34063120</td>\n",
       "      <td>Martin</td>\n",
       "      <td>Buttes-Montmartre</td>\n",
       "      <td>48.89011</td>\n",
       "      <td>2.34674</td>\n",
       "      <td>Entire home/apt</td>\n",
       "      <td>9379</td>\n",
       "      <td>2</td>\n",
       "      <td>23</td>\n",
       "      <td>2016-07-07</td>\n",
       "      <td>0.45</td>\n",
       "      <td>1</td>\n",
       "      <td>0</td>\n",
       "    </tr>\n",
       "  </tbody>\n",
       "</table>\n",
       "</div>"
      ],
      "text/plain": [
       "            id                            name   host_id host_name  \\\n",
       "14472  7225849  Artistic apartment, Montmartre  34063120    Martin   \n",
       "\n",
       "           neighbourhood  latitude  longitude        room_type  price  \\\n",
       "14472  Buttes-Montmartre  48.89011    2.34674  Entire home/apt   9379   \n",
       "\n",
       "       minimum_nights  number_of_reviews last_review  reviews_per_month  \\\n",
       "14472               2                 23  2016-07-07               0.45   \n",
       "\n",
       "       calculated_host_listings_count  availability_365  \n",
       "14472                               1                 0  "
      ]
     },
     "execution_count": 15,
     "metadata": {},
     "output_type": "execute_result"
    }
   ],
   "source": [
    "# it looks like the most expensive is ~9,379 per night - lets see the listing\n",
    "paris_1.loc[paris_1['price'] == 9379]"
   ]
  },
  {
   "cell_type": "markdown",
   "metadata": {},
   "source": [
    "## Other outrageoulsy priced apartments ##\n",
    "+ There are 2 that go for $8,240 per night - both can be found at the links below:\n",
    "    + https://www.airbnb.com/rooms/35984086?source_impression_id=p3_1578015035_k%2FcTrVcXZT90%2BBKy\n",
    "        + looks like the price has changed\n",
    "    + https://www.airbnb.com/rooms/36019554/slideshow/899325891?adults=1&children=0&infants=0\n"
   ]
  },
  {
   "cell_type": "code",
   "execution_count": 16,
   "metadata": {},
   "outputs": [
    {
     "data": {
      "text/html": [
       "<div>\n",
       "<style scoped>\n",
       "    .dataframe tbody tr th:only-of-type {\n",
       "        vertical-align: middle;\n",
       "    }\n",
       "\n",
       "    .dataframe tbody tr th {\n",
       "        vertical-align: top;\n",
       "    }\n",
       "\n",
       "    .dataframe thead th {\n",
       "        text-align: right;\n",
       "    }\n",
       "</style>\n",
       "<table border=\"1\" class=\"dataframe\">\n",
       "  <thead>\n",
       "    <tr style=\"text-align: right;\">\n",
       "      <th></th>\n",
       "      <th>id</th>\n",
       "      <th>name</th>\n",
       "      <th>host_id</th>\n",
       "      <th>host_name</th>\n",
       "      <th>neighbourhood</th>\n",
       "      <th>latitude</th>\n",
       "      <th>longitude</th>\n",
       "      <th>room_type</th>\n",
       "      <th>price</th>\n",
       "      <th>minimum_nights</th>\n",
       "      <th>number_of_reviews</th>\n",
       "      <th>last_review</th>\n",
       "      <th>reviews_per_month</th>\n",
       "      <th>calculated_host_listings_count</th>\n",
       "      <th>availability_365</th>\n",
       "    </tr>\n",
       "  </thead>\n",
       "  <tbody>\n",
       "    <tr>\n",
       "      <th>22820</th>\n",
       "      <td>35984086</td>\n",
       "      <td>Luxury 6Bdr 5Bth in Heritage Building-LOUVRE VIEW</td>\n",
       "      <td>156775524</td>\n",
       "      <td>Marie &amp; Louis</td>\n",
       "      <td>Louvre</td>\n",
       "      <td>48.86286</td>\n",
       "      <td>2.33705</td>\n",
       "      <td>Entire home/apt</td>\n",
       "      <td>8240</td>\n",
       "      <td>1</td>\n",
       "      <td>9</td>\n",
       "      <td>2019-07-14</td>\n",
       "      <td>1.96</td>\n",
       "      <td>14</td>\n",
       "      <td>343</td>\n",
       "    </tr>\n",
       "    <tr>\n",
       "      <th>24607</th>\n",
       "      <td>36019554</td>\n",
       "      <td>Luxury 2 bedroom 2,5 bathroom Louvre &amp; Notre Dame</td>\n",
       "      <td>156775524</td>\n",
       "      <td>Marie &amp; Louis</td>\n",
       "      <td>Louvre</td>\n",
       "      <td>48.85795</td>\n",
       "      <td>2.34742</td>\n",
       "      <td>Entire home/apt</td>\n",
       "      <td>8240</td>\n",
       "      <td>1</td>\n",
       "      <td>6</td>\n",
       "      <td>2019-11-05</td>\n",
       "      <td>1.35</td>\n",
       "      <td>14</td>\n",
       "      <td>324</td>\n",
       "    </tr>\n",
       "  </tbody>\n",
       "</table>\n",
       "</div>"
      ],
      "text/plain": [
       "             id                                               name    host_id  \\\n",
       "22820  35984086  Luxury 6Bdr 5Bth in Heritage Building-LOUVRE VIEW  156775524   \n",
       "24607  36019554  Luxury 2 bedroom 2,5 bathroom Louvre & Notre Dame  156775524   \n",
       "\n",
       "           host_name neighbourhood  latitude  longitude        room_type  \\\n",
       "22820  Marie & Louis        Louvre  48.86286    2.33705  Entire home/apt   \n",
       "24607  Marie & Louis        Louvre  48.85795    2.34742  Entire home/apt   \n",
       "\n",
       "       price  minimum_nights  number_of_reviews last_review  \\\n",
       "22820   8240               1                  9  2019-07-14   \n",
       "24607   8240               1                  6  2019-11-05   \n",
       "\n",
       "       reviews_per_month  calculated_host_listings_count  availability_365  \n",
       "22820               1.96                              14               343  \n",
       "24607               1.35                              14               324  "
      ]
     },
     "execution_count": 16,
     "metadata": {},
     "output_type": "execute_result"
    }
   ],
   "source": [
    "# now let's look at some other entries\n",
    "paris_1.loc[paris_1['price'] == 8240]"
   ]
  },
  {
   "cell_type": "markdown",
   "metadata": {},
   "source": [
    "## Part 5 -  aggregate by arrondisement ##"
   ]
  },
  {
   "cell_type": "code",
   "execution_count": 17,
   "metadata": {},
   "outputs": [
    {
     "data": {
      "text/html": [
       "<div>\n",
       "<style scoped>\n",
       "    .dataframe tbody tr th:only-of-type {\n",
       "        vertical-align: middle;\n",
       "    }\n",
       "\n",
       "    .dataframe tbody tr th {\n",
       "        vertical-align: top;\n",
       "    }\n",
       "\n",
       "    .dataframe thead th {\n",
       "        text-align: right;\n",
       "    }\n",
       "</style>\n",
       "<table border=\"1\" class=\"dataframe\">\n",
       "  <thead>\n",
       "    <tr style=\"text-align: right;\">\n",
       "      <th></th>\n",
       "      <th>id</th>\n",
       "      <th>name</th>\n",
       "      <th>host_id</th>\n",
       "      <th>host_name</th>\n",
       "      <th>neighbourhood</th>\n",
       "      <th>latitude</th>\n",
       "      <th>longitude</th>\n",
       "      <th>room_type</th>\n",
       "      <th>price</th>\n",
       "      <th>minimum_nights</th>\n",
       "      <th>number_of_reviews</th>\n",
       "      <th>last_review</th>\n",
       "      <th>reviews_per_month</th>\n",
       "      <th>calculated_host_listings_count</th>\n",
       "      <th>availability_365</th>\n",
       "    </tr>\n",
       "  </thead>\n",
       "  <tbody>\n",
       "    <tr>\n",
       "      <th>31</th>\n",
       "      <td>29625184</td>\n",
       "      <td>Studio de charme 28m2 en plein centre de paris</td>\n",
       "      <td>10912698</td>\n",
       "      <td>Frédéric</td>\n",
       "      <td>Luxembourg</td>\n",
       "      <td>48.85479</td>\n",
       "      <td>2.34128</td>\n",
       "      <td>Entire home/apt</td>\n",
       "      <td>65</td>\n",
       "      <td>1</td>\n",
       "      <td>18</td>\n",
       "      <td>2019-10-19</td>\n",
       "      <td>1.58</td>\n",
       "      <td>1</td>\n",
       "      <td>9</td>\n",
       "    </tr>\n",
       "    <tr>\n",
       "      <th>85</th>\n",
       "      <td>8528840</td>\n",
       "      <td>Apartment Cherche-Midi/Ferrandi</td>\n",
       "      <td>3799292</td>\n",
       "      <td>Nathalie</td>\n",
       "      <td>Luxembourg</td>\n",
       "      <td>48.84748</td>\n",
       "      <td>2.32243</td>\n",
       "      <td>Entire home/apt</td>\n",
       "      <td>145</td>\n",
       "      <td>2</td>\n",
       "      <td>52</td>\n",
       "      <td>2019-10-27</td>\n",
       "      <td>1.44</td>\n",
       "      <td>1</td>\n",
       "      <td>46</td>\n",
       "    </tr>\n",
       "    <tr>\n",
       "      <th>6889</th>\n",
       "      <td>19447111</td>\n",
       "      <td>Chic studio in mobility lease by Luxembourg Park.</td>\n",
       "      <td>123627658</td>\n",
       "      <td>Adriana</td>\n",
       "      <td>Luxembourg</td>\n",
       "      <td>48.84921</td>\n",
       "      <td>2.34145</td>\n",
       "      <td>Entire home/apt</td>\n",
       "      <td>65</td>\n",
       "      <td>30</td>\n",
       "      <td>72</td>\n",
       "      <td>2019-10-16</td>\n",
       "      <td>2.83</td>\n",
       "      <td>1</td>\n",
       "      <td>0</td>\n",
       "    </tr>\n",
       "    <tr>\n",
       "      <th>6911</th>\n",
       "      <td>36668472</td>\n",
       "      <td>Luxury apartment next to Luxembourg Garden</td>\n",
       "      <td>32695990</td>\n",
       "      <td>Alestria</td>\n",
       "      <td>Luxembourg</td>\n",
       "      <td>48.84414</td>\n",
       "      <td>2.33748</td>\n",
       "      <td>Entire home/apt</td>\n",
       "      <td>300</td>\n",
       "      <td>2</td>\n",
       "      <td>8</td>\n",
       "      <td>2019-10-20</td>\n",
       "      <td>3.38</td>\n",
       "      <td>1</td>\n",
       "      <td>95</td>\n",
       "    </tr>\n",
       "    <tr>\n",
       "      <th>6923</th>\n",
       "      <td>33630582</td>\n",
       "      <td>Beautiful apartment Luxembourg / Saint Germain</td>\n",
       "      <td>28313443</td>\n",
       "      <td>Michael &amp; Johanna</td>\n",
       "      <td>Luxembourg</td>\n",
       "      <td>48.84442</td>\n",
       "      <td>2.32243</td>\n",
       "      <td>Entire home/apt</td>\n",
       "      <td>163</td>\n",
       "      <td>3</td>\n",
       "      <td>18</td>\n",
       "      <td>2019-10-31</td>\n",
       "      <td>3.51</td>\n",
       "      <td>73</td>\n",
       "      <td>327</td>\n",
       "    </tr>\n",
       "  </tbody>\n",
       "</table>\n",
       "</div>"
      ],
      "text/plain": [
       "            id                                               name    host_id  \\\n",
       "31    29625184     Studio de charme 28m2 en plein centre de paris   10912698   \n",
       "85     8528840                    Apartment Cherche-Midi/Ferrandi    3799292   \n",
       "6889  19447111  Chic studio in mobility lease by Luxembourg Park.  123627658   \n",
       "6911  36668472         Luxury apartment next to Luxembourg Garden   32695990   \n",
       "6923  33630582     Beautiful apartment Luxembourg / Saint Germain   28313443   \n",
       "\n",
       "              host_name neighbourhood  latitude  longitude        room_type  \\\n",
       "31             Frédéric    Luxembourg  48.85479    2.34128  Entire home/apt   \n",
       "85             Nathalie    Luxembourg  48.84748    2.32243  Entire home/apt   \n",
       "6889            Adriana    Luxembourg  48.84921    2.34145  Entire home/apt   \n",
       "6911           Alestria    Luxembourg  48.84414    2.33748  Entire home/apt   \n",
       "6923  Michael & Johanna    Luxembourg  48.84442    2.32243  Entire home/apt   \n",
       "\n",
       "      price  minimum_nights  number_of_reviews last_review  reviews_per_month  \\\n",
       "31       65               1                 18  2019-10-19               1.58   \n",
       "85      145               2                 52  2019-10-27               1.44   \n",
       "6889     65              30                 72  2019-10-16               2.83   \n",
       "6911    300               2                  8  2019-10-20               3.38   \n",
       "6923    163               3                 18  2019-10-31               3.51   \n",
       "\n",
       "      calculated_host_listings_count  availability_365  \n",
       "31                                 1                 9  \n",
       "85                                 1                46  \n",
       "6889                               1                 0  \n",
       "6911                               1                95  \n",
       "6923                              73               327  "
      ]
     },
     "execution_count": 17,
     "metadata": {},
     "output_type": "execute_result"
    }
   ],
   "source": [
    "# create new df, selecting only lisitngs from Luxembourgh, with >1 revie (so as not fake)\n",
    "# and the unit is the entire home/apt\n",
    "\n",
    "luxem = paris_1[(paris_1.neighbourhood == ('Luxembourg')) & (paris_1.number_of_reviews > 1) & (paris_1.room_type == 'Entire home/apt')]\n",
    "luxem.head()\n",
    "\n",
    "# a simple google search will bring up the airbnb listing\n"
   ]
  },
  {
   "cell_type": "code",
   "execution_count": 18,
   "metadata": {},
   "outputs": [
    {
     "data": {
      "text/plain": [
       "(1244, 15)"
      ]
     },
     "execution_count": 18,
     "metadata": {},
     "output_type": "execute_result"
    }
   ],
   "source": [
    "# how many data points total?\n",
    "luxem.shape"
   ]
  },
  {
   "cell_type": "code",
   "execution_count": 19,
   "metadata": {},
   "outputs": [
    {
     "data": {
      "text/plain": [
       "id                                1244\n",
       "name                              1244\n",
       "host_id                           1244\n",
       "host_name                         1243\n",
       "neighbourhood                     1244\n",
       "latitude                          1244\n",
       "longitude                         1244\n",
       "room_type                         1244\n",
       "price                             1244\n",
       "minimum_nights                    1244\n",
       "number_of_reviews                 1244\n",
       "last_review                       1244\n",
       "reviews_per_month                 1244\n",
       "calculated_host_listings_count    1244\n",
       "availability_365                  1244\n",
       "dtype: int64"
      ]
     },
     "execution_count": 19,
     "metadata": {},
     "output_type": "execute_result"
    }
   ],
   "source": [
    "# count # of values for each column\n",
    "luxem.count()"
   ]
  },
  {
   "cell_type": "code",
   "execution_count": 20,
   "metadata": {},
   "outputs": [
    {
     "data": {
      "text/plain": [
       "164.09324758842445"
      ]
     },
     "execution_count": 20,
     "metadata": {},
     "output_type": "execute_result"
    }
   ],
   "source": [
    "# avg price per neighborhood?\n",
    "luxem['price'].mean()"
   ]
  },
  {
   "cell_type": "code",
   "execution_count": 21,
   "metadata": {},
   "outputs": [
    {
     "data": {
      "text/html": [
       "<div>\n",
       "<style scoped>\n",
       "    .dataframe tbody tr th:only-of-type {\n",
       "        vertical-align: middle;\n",
       "    }\n",
       "\n",
       "    .dataframe tbody tr th {\n",
       "        vertical-align: top;\n",
       "    }\n",
       "\n",
       "    .dataframe thead th {\n",
       "        text-align: right;\n",
       "    }\n",
       "</style>\n",
       "<table border=\"1\" class=\"dataframe\">\n",
       "  <thead>\n",
       "    <tr style=\"text-align: right;\">\n",
       "      <th></th>\n",
       "      <th>id</th>\n",
       "      <th>name</th>\n",
       "      <th>host_id</th>\n",
       "      <th>host_name</th>\n",
       "      <th>neighbourhood</th>\n",
       "      <th>latitude</th>\n",
       "      <th>longitude</th>\n",
       "      <th>room_type</th>\n",
       "      <th>price</th>\n",
       "      <th>minimum_nights</th>\n",
       "      <th>number_of_reviews</th>\n",
       "      <th>last_review</th>\n",
       "      <th>reviews_per_month</th>\n",
       "      <th>calculated_host_listings_count</th>\n",
       "      <th>availability_365</th>\n",
       "    </tr>\n",
       "  </thead>\n",
       "  <tbody>\n",
       "    <tr>\n",
       "      <th>14</th>\n",
       "      <td>24869018</td>\n",
       "      <td>Zen, bright &amp; quiet studio • Pigalle - Montmartre</td>\n",
       "      <td>188002822</td>\n",
       "      <td>Louis</td>\n",
       "      <td>Buttes-Montmartre</td>\n",
       "      <td>48.88564</td>\n",
       "      <td>2.33380</td>\n",
       "      <td>Entire home/apt</td>\n",
       "      <td>70</td>\n",
       "      <td>3</td>\n",
       "      <td>29</td>\n",
       "      <td>2019-10-10</td>\n",
       "      <td>1.60</td>\n",
       "      <td>1</td>\n",
       "      <td>19</td>\n",
       "    </tr>\n",
       "    <tr>\n",
       "      <th>26</th>\n",
       "      <td>20198540</td>\n",
       "      <td>Charmant deux pièces au pied du sacré coeur</td>\n",
       "      <td>12685806</td>\n",
       "      <td>Zelda</td>\n",
       "      <td>Buttes-Montmartre</td>\n",
       "      <td>48.88654</td>\n",
       "      <td>2.34497</td>\n",
       "      <td>Entire home/apt</td>\n",
       "      <td>80</td>\n",
       "      <td>4</td>\n",
       "      <td>10</td>\n",
       "      <td>2019-10-24</td>\n",
       "      <td>0.51</td>\n",
       "      <td>1</td>\n",
       "      <td>6</td>\n",
       "    </tr>\n",
       "    <tr>\n",
       "      <th>27</th>\n",
       "      <td>9016677</td>\n",
       "      <td>Au pied de Montmartre, Grand 2 pièces bien équipé</td>\n",
       "      <td>12764965</td>\n",
       "      <td>Herve</td>\n",
       "      <td>Buttes-Montmartre</td>\n",
       "      <td>48.89039</td>\n",
       "      <td>2.34577</td>\n",
       "      <td>Entire home/apt</td>\n",
       "      <td>92</td>\n",
       "      <td>3</td>\n",
       "      <td>40</td>\n",
       "      <td>2019-10-25</td>\n",
       "      <td>1.44</td>\n",
       "      <td>1</td>\n",
       "      <td>73</td>\n",
       "    </tr>\n",
       "    <tr>\n",
       "      <th>28</th>\n",
       "      <td>34538987</td>\n",
       "      <td>Arty and cozy 50m2 apartment in Montmartre</td>\n",
       "      <td>62409236</td>\n",
       "      <td>Melvyn</td>\n",
       "      <td>Buttes-Montmartre</td>\n",
       "      <td>48.88668</td>\n",
       "      <td>2.34682</td>\n",
       "      <td>Entire home/apt</td>\n",
       "      <td>130</td>\n",
       "      <td>3</td>\n",
       "      <td>12</td>\n",
       "      <td>2019-10-27</td>\n",
       "      <td>2.07</td>\n",
       "      <td>1</td>\n",
       "      <td>62</td>\n",
       "    </tr>\n",
       "    <tr>\n",
       "      <th>41</th>\n",
       "      <td>28104607</td>\n",
       "      <td>Nice and modern flat MONTMARTRE</td>\n",
       "      <td>212008381</td>\n",
       "      <td>Genny</td>\n",
       "      <td>Buttes-Montmartre</td>\n",
       "      <td>48.88397</td>\n",
       "      <td>2.33603</td>\n",
       "      <td>Entire home/apt</td>\n",
       "      <td>120</td>\n",
       "      <td>2</td>\n",
       "      <td>26</td>\n",
       "      <td>2019-08-23</td>\n",
       "      <td>2.18</td>\n",
       "      <td>4</td>\n",
       "      <td>0</td>\n",
       "    </tr>\n",
       "  </tbody>\n",
       "</table>\n",
       "</div>"
      ],
      "text/plain": [
       "          id                                               name    host_id  \\\n",
       "14  24869018  Zen, bright & quiet studio • Pigalle - Montmartre  188002822   \n",
       "26  20198540        Charmant deux pièces au pied du sacré coeur   12685806   \n",
       "27   9016677  Au pied de Montmartre, Grand 2 pièces bien équipé   12764965   \n",
       "28  34538987         Arty and cozy 50m2 apartment in Montmartre   62409236   \n",
       "41  28104607                    Nice and modern flat MONTMARTRE  212008381   \n",
       "\n",
       "   host_name      neighbourhood  latitude  longitude        room_type  price  \\\n",
       "14     Louis  Buttes-Montmartre  48.88564    2.33380  Entire home/apt     70   \n",
       "26     Zelda  Buttes-Montmartre  48.88654    2.34497  Entire home/apt     80   \n",
       "27     Herve  Buttes-Montmartre  48.89039    2.34577  Entire home/apt     92   \n",
       "28    Melvyn  Buttes-Montmartre  48.88668    2.34682  Entire home/apt    130   \n",
       "41     Genny  Buttes-Montmartre  48.88397    2.33603  Entire home/apt    120   \n",
       "\n",
       "    minimum_nights  number_of_reviews last_review  reviews_per_month  \\\n",
       "14               3                 29  2019-10-10               1.60   \n",
       "26               4                 10  2019-10-24               0.51   \n",
       "27               3                 40  2019-10-25               1.44   \n",
       "28               3                 12  2019-10-27               2.07   \n",
       "41               2                 26  2019-08-23               2.18   \n",
       "\n",
       "    calculated_host_listings_count  availability_365  \n",
       "14                               1                19  \n",
       "26                               1                 6  \n",
       "27                               1                73  \n",
       "28                               1                62  \n",
       "41                               4                 0  "
      ]
     },
     "execution_count": 21,
     "metadata": {},
     "output_type": "execute_result"
    }
   ],
   "source": [
    "# now let's analyze neighborhood = montmartre\n",
    "# number of reviews > 5\n",
    "# unit = entire home or apartment\n",
    "mont = paris_1[(paris_1.neighbourhood == ('Buttes-Montmartre')) & (paris_1.number_of_reviews > 5) & (paris_1.room_type == 'Entire home/apt')]\n",
    "mont.head()"
   ]
  },
  {
   "cell_type": "code",
   "execution_count": 22,
   "metadata": {},
   "outputs": [
    {
     "data": {
      "text/plain": [
       "(3426, 15)"
      ]
     },
     "execution_count": 22,
     "metadata": {},
     "output_type": "execute_result"
    }
   ],
   "source": [
    "mont.shape"
   ]
  },
  {
   "cell_type": "code",
   "execution_count": 23,
   "metadata": {},
   "outputs": [
    {
     "data": {
      "text/plain": [
       "91.16608289550496"
      ]
     },
     "execution_count": 23,
     "metadata": {},
     "output_type": "execute_result"
    }
   ],
   "source": [
    "mont['price'].mean()"
   ]
  },
  {
   "cell_type": "markdown",
   "metadata": {},
   "source": [
    "## Part 6 - find apartment from June 2019 vacation ##\n",
    "+ from my airbnb account, here is where I stayed:'Overlooking Paris & Eiffel tower!'\n",
    "    "
   ]
  },
  {
   "cell_type": "code",
   "execution_count": 24,
   "metadata": {},
   "outputs": [
    {
     "data": {
      "text/html": [
       "<div>\n",
       "<style scoped>\n",
       "    .dataframe tbody tr th:only-of-type {\n",
       "        vertical-align: middle;\n",
       "    }\n",
       "\n",
       "    .dataframe tbody tr th {\n",
       "        vertical-align: top;\n",
       "    }\n",
       "\n",
       "    .dataframe thead th {\n",
       "        text-align: right;\n",
       "    }\n",
       "</style>\n",
       "<table border=\"1\" class=\"dataframe\">\n",
       "  <thead>\n",
       "    <tr style=\"text-align: right;\">\n",
       "      <th></th>\n",
       "      <th>id</th>\n",
       "      <th>name</th>\n",
       "      <th>host_id</th>\n",
       "      <th>host_name</th>\n",
       "      <th>neighbourhood</th>\n",
       "      <th>latitude</th>\n",
       "      <th>longitude</th>\n",
       "      <th>room_type</th>\n",
       "      <th>price</th>\n",
       "      <th>minimum_nights</th>\n",
       "      <th>number_of_reviews</th>\n",
       "      <th>last_review</th>\n",
       "      <th>reviews_per_month</th>\n",
       "      <th>calculated_host_listings_count</th>\n",
       "      <th>availability_365</th>\n",
       "    </tr>\n",
       "  </thead>\n",
       "  <tbody>\n",
       "    <tr>\n",
       "      <th>21115</th>\n",
       "      <td>4603069</td>\n",
       "      <td>Overlooking Paris &amp; Eiffel tower!</td>\n",
       "      <td>23854454</td>\n",
       "      <td>Simon</td>\n",
       "      <td>Buttes-Montmartre</td>\n",
       "      <td>48.88752</td>\n",
       "      <td>2.33576</td>\n",
       "      <td>Entire home/apt</td>\n",
       "      <td>220</td>\n",
       "      <td>3</td>\n",
       "      <td>22</td>\n",
       "      <td>2019-10-01</td>\n",
       "      <td>0.37</td>\n",
       "      <td>1</td>\n",
       "      <td>354</td>\n",
       "    </tr>\n",
       "  </tbody>\n",
       "</table>\n",
       "</div>"
      ],
      "text/plain": [
       "            id                               name   host_id host_name  \\\n",
       "21115  4603069  Overlooking Paris & Eiffel tower!  23854454     Simon   \n",
       "\n",
       "           neighbourhood  latitude  longitude        room_type  price  \\\n",
       "21115  Buttes-Montmartre  48.88752    2.33576  Entire home/apt    220   \n",
       "\n",
       "       minimum_nights  number_of_reviews last_review  reviews_per_month  \\\n",
       "21115               3                 22  2019-10-01               0.37   \n",
       "\n",
       "       calculated_host_listings_count  availability_365  \n",
       "21115                               1               354  "
      ]
     },
     "execution_count": 24,
     "metadata": {},
     "output_type": "execute_result"
    }
   ],
   "source": [
    "june_2019 = paris_1.loc[paris_1['name'] == 'Overlooking Paris & Eiffel tower!']\n",
    "june_2019"
   ]
  },
  {
   "cell_type": "code",
   "execution_count": 47,
   "metadata": {},
   "outputs": [],
   "source": [
    "## Let's visualize this\n",
    "import matplotlib.pyplot as plt\n",
    "import seaborn as sns"
   ]
  },
  {
   "cell_type": "code",
   "execution_count": 58,
   "metadata": {},
   "outputs": [
    {
     "data": {
      "image/png": "[encoded data removed]",
      "text/plain": [
       "<Figure size 432x288 with 1 Axes>"
      ]
     },
     "metadata": {
      "needs_background": "light"
     },
     "output_type": "display_data"
    }
   ],
   "source": [
    "# graph out price vs # of reviews, using subplots for unit type\n",
    "x = paris_1['number_of_reviews']\n",
    "y = paris_1['price']\n",
    "c = paris_1['neighbourhood']\n",
    "p = paris_1['price']\n",
    "ax = sns.scatterplot(x, y, hue=p)\n",
    "\n"
   ]
  },
  {
   "cell_type": "code",
   "execution_count": 59,
   "metadata": {},
   "outputs": [
    {
     "data": {
      "image/png": "[encoded data removed]",
      "text/plain": [
       "<Figure size 432x288 with 1 Axes>"
      ]
     },
     "metadata": {},
     "output_type": "display_data"
    }
   ],
   "source": [
    "# let's make this doing fivethrityeight style\n",
    "\n",
    "five_thirty_eight = [\n",
    "    \"#30a2da\",\n",
    "    \"#fc4f30\",\n",
    "    \"#e5ae38\",\n",
    "    \"#6d904f\",\n",
    "    \"#8b8b8b\",\n",
    "]\n",
    "\n",
    "sns.set_palette(five_thirty_eight)\n",
    "ax = sns.scatterplot(x, y, hue=p)"
   ]
  }
 ],
 "metadata": {
  "kernelspec": {
   "display_name": "Python 3",
   "language": "python",
   "name": "python3"
  },
  "language_info": {
   "codemirror_mode": {
    "name": "ipython",
    "version": 3
   },
   "file_extension": ".py",
   "mimetype": "text/x-python",
   "name": "python",
   "nbconvert_exporter": "python",
   "pygments_lexer": "ipython3",
   "version": "3.7.0"
  }
 },
 "nbformat": 4,
 "nbformat_minor": 2
}
