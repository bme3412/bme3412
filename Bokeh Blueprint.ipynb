{
 "cells": [
  {
   "cell_type": "code",
   "execution_count": null,
   "metadata": {},
   "outputs": [],
   "source": []
  },
  {
   "cell_type": "markdown",
   "metadata": {},
   "source": [
    "### Output as html ###"
   ]
  },
  {
   "cell_type": "code",
   "execution_count": 1,
   "metadata": {},
   "outputs": [],
   "source": [
    "# output_file('file name')"
   ]
  },
  {
   "cell_type": "markdown",
   "metadata": {},
   "source": [
    "### How to Create a simple line plot ###"
   ]
  },
  {
   "cell_type": "code",
   "execution_count": 2,
   "metadata": {},
   "outputs": [],
   "source": [
    "\n",
    "from bokeh.plotting import figure, output_file, show\n",
    "output_file('bokeh.html')\n",
    "\n",
    "# construct a line plot with create data\n",
    "x = [1, 2, 3]\n",
    "y = [4, 5, 6]\n",
    "\n",
    "p=figure()\n",
    "p.line(x,y)\n",
    "\n",
    "show(p)"
   ]
  },
  {
   "cell_type": "code",
   "execution_count": 3,
   "metadata": {},
   "outputs": [],
   "source": [
    "# another way\n",
    "from bokeh.io import output_file, show\n",
    "from bokeh.plotting import figure\n",
    "\n",
    "# create data arrays to plot the line plot\n",
    "x = [5, 6, 7, 8, 9, 10]\n",
    "y = [1, 2, 3, 4, 5, 6]\n",
    "\n",
    "# create a figure for the plot\n",
    "plot = figure()\n",
    "\n",
    "# create a line plot using the line() function\n",
    "plot.line(x,y)\n",
    "\n",
    "# create x markers on the line plot\n",
    "# at intersection of x and y\n",
    "plot.cross(x, y, size =15)\n",
    "\n",
    "# output the plot\n",
    "output_file('line_plot.html')\n",
    "show(plot)"
   ]
  },
  {
   "cell_type": "code",
   "execution_count": 4,
   "metadata": {},
   "outputs": [],
   "source": [
    "# 3. line plots using NumPy arrays\n",
    "# import the packages\n",
    "\n",
    "import numpy as np\n",
    "import random\n",
    "from bokeh.io import output_file, show\n",
    "from bokeh.plotting import figure\n",
    "\n",
    "# create an array for the points for x and y\n",
    "array_x = np.array([1,2,3,4,5,6])\n",
    "array_y = np.array([5,6,7,8,9,10])\n",
    "\n",
    "# create a line plot\n",
    "plot = figure()\n",
    "plot.line(array_x, array_y)\n",
    "\n",
    "# output the plot\n",
    "output_file('numpy_line.html')\n",
    "show(plot)\n"
   ]
  },
  {
   "cell_type": "markdown",
   "metadata": {},
   "source": [
    "### Bar Plot ###"
   ]
  },
  {
   "cell_type": "code",
   "execution_count": 5,
   "metadata": {},
   "outputs": [],
   "source": [
    "# import the required packages\n",
    "from bokeh.plotting import figure, show, output_file\n",
    "\n",
    "# create points on the x axis\n",
    "x = [8, 9, 10, 11]\n",
    "\n",
    "# create a list of y variables\n",
    "y = [1, 2, 4, 5]\n",
    "\n",
    "# creating the figure of the plot\n",
    "plot = figure()\n",
    "\n",
    "# plot the bar graph\n",
    "plot.vbar(x, top=y, color='blue', width = 0.5)\n",
    "show(plot)"
   ]
  },
  {
   "cell_type": "markdown",
   "metadata": {},
   "source": [
    "### Patch Plots ###"
   ]
  },
  {
   "cell_type": "code",
   "execution_count": 6,
   "metadata": {},
   "outputs": [],
   "source": [
    "# import the required package\n",
    "from bokeh.io import output_file, show\n",
    "from bokeh.plotting import figure\n",
    "\n",
    "# create the regions to map\n",
    "x_region = [[1,1,2], [2,2,3], [2,3,5,4]]\n",
    "y_region = [[2,5,6],[3,6,7],[2,4,6,8]]\n",
    "\n",
    "# create the figure\n",
    "plot = figure()\n",
    "\n",
    "# build the path plot\n",
    "plot.patches(x_region, y_region, fill_color = ['red', 'green', 'blue'], line_color='white')\n",
    "\n",
    "# output the plot\n",
    "output_file('patch_plot.html')\n",
    "\n",
    "show(plot)"
   ]
  },
  {
   "cell_type": "markdown",
   "metadata": {},
   "source": [
    "### Scatter plots ###"
   ]
  },
  {
   "cell_type": "code",
   "execution_count": 7,
   "metadata": {},
   "outputs": [],
   "source": [
    "# import the packages\n",
    "from bokeh.io import output_file, show\n",
    "from bokeh.plotting import figure\n",
    "\n",
    "# create the figure\n",
    "plot = figure()\n",
    "\n",
    "# create the x and y variables\n",
    "x = [1, 2, 3, 4, 5, 6, 7, 8, 9]\n",
    "y = [5, 7, 2, 3, 6, 7, 4, 5, 5]\n",
    "\n",
    "\n",
    "# plot the points, using a circle as marker\n",
    "# add labels and change alpha\n",
    "plot.circle(x, y, size=30, alpha=0.5)\n",
    "\n",
    "\n",
    "# output the plot and show\n",
    "output_file('scatter.html')\n",
    "show(plot)"
   ]
  },
  {
   "cell_type": "code",
   "execution_count": 8,
   "metadata": {},
   "outputs": [],
   "source": [
    "## 2.using numpy\n",
    "import numpy as np\n",
    "import random\n",
    "from bokeh.io import output_file, show\n",
    "from bokeh.plotting import figure\n",
    "\n",
    "# create 2 arrays each for x and y\n",
    "x_red = np.array([1,2,3,4,5,6])\n",
    "y_red = np.array([5,6,7,8,9,10])\n",
    "\n",
    "x_blue = np.array([10, 11, 12, 13])\n",
    "y_blue = np.array([14,15,16,17])\n",
    "\n",
    "\n",
    "# create the figure\n",
    "plot = figure()\n",
    "\n",
    "# plot it\n",
    "plot.circle(x_red, y_red, size = 9, color = 'red', alpha = 0.8)\n",
    "plot.circle(x_blue, y_blue, size = 9, color = 'blue', alpha = 0.8)\n",
    "\n",
    "# output the plot\n",
    "output_file('numpy_scatter.html')\n",
    "show(plot)"
   ]
  },
  {
   "cell_type": "code",
   "execution_count": 9,
   "metadata": {},
   "outputs": [
    {
     "ename": "NameError",
     "evalue": "name 'df_AAPL' is not defined",
     "output_type": "error",
     "traceback": [
      "\u001b[0;31m---------------------------------------------------------------------------\u001b[0m",
      "\u001b[0;31mNameError\u001b[0m                                 Traceback (most recent call last)",
      "\u001b[0;32m<ipython-input-9-68dad4e901f2>\u001b[0m in \u001b[0;36m<module>\u001b[0;34m\u001b[0m\n\u001b[1;32m      1\u001b[0m \u001b[0;31m# 3. using Pandas\u001b[0m\u001b[0;34m\u001b[0m\u001b[0;34m\u001b[0m\u001b[0;34m\u001b[0m\u001b[0m\n\u001b[1;32m      2\u001b[0m \u001b[0mplot\u001b[0m \u001b[0;34m=\u001b[0m \u001b[0mfigure\u001b[0m\u001b[0;34m(\u001b[0m\u001b[0;34m)\u001b[0m\u001b[0;34m\u001b[0m\u001b[0;34m\u001b[0m\u001b[0m\n\u001b[0;32m----> 3\u001b[0;31m \u001b[0mplot\u001b[0m\u001b[0;34m.\u001b[0m\u001b[0mcircle\u001b[0m\u001b[0;34m(\u001b[0m\u001b[0mx\u001b[0m \u001b[0;34m=\u001b[0m \u001b[0mdf_AAPL\u001b[0m\u001b[0;34m[\u001b[0m\u001b[0;34m'high'\u001b[0m\u001b[0;34m]\u001b[0m\u001b[0;34m,\u001b[0m \u001b[0my\u001b[0m \u001b[0;34m=\u001b[0m \u001b[0mdf_AAPL\u001b[0m\u001b[0;34m[\u001b[0m\u001b[0;34m'low'\u001b[0m\u001b[0;34m]\u001b[0m\u001b[0;34m,\u001b[0m \u001b[0mcolor\u001b[0m \u001b[0;34m=\u001b[0m \u001b[0;34m'red'\u001b[0m\u001b[0;34m,\u001b[0m \u001b[0msize\u001b[0m \u001b[0;34m=\u001b[0m \u001b[0;36m10\u001b[0m\u001b[0;34m,\u001b[0m \u001b[0malpha\u001b[0m \u001b[0;34m=\u001b[0m \u001b[0;36m0.8\u001b[0m\u001b[0;34m)\u001b[0m\u001b[0;34m\u001b[0m\u001b[0;34m\u001b[0m\u001b[0m\n\u001b[0m\u001b[1;32m      4\u001b[0m \u001b[0mplot\u001b[0m\u001b[0;34m.\u001b[0m\u001b[0mdiamond\u001b[0m\u001b[0;34m(\u001b[0m\u001b[0mx\u001b[0m \u001b[0;34m=\u001b[0m \u001b[0mdf_AAPL\u001b[0m\u001b[0;34m[\u001b[0m\u001b[0;34m'open'\u001b[0m\u001b[0;34m]\u001b[0m\u001b[0;34m,\u001b[0m \u001b[0my\u001b[0m \u001b[0;34m=\u001b[0m \u001b[0mdf_AAPL\u001b[0m\u001b[0;34m[\u001b[0m\u001b[0;34m'close'\u001b[0m\u001b[0;34m]\u001b[0m\u001b[0;34m,\u001b[0m \u001b[0mcolor\u001b[0m \u001b[0;34m=\u001b[0m \u001b[0;34m'blue'\u001b[0m\u001b[0;34m,\u001b[0m \u001b[0msize\u001b[0m \u001b[0;34m=\u001b[0m \u001b[0;36m8\u001b[0m\u001b[0;34m,\u001b[0m \u001b[0malpha\u001b[0m \u001b[0;34m=\u001b[0m\u001b[0;36m0.8\u001b[0m\u001b[0;34m)\u001b[0m\u001b[0;34m\u001b[0m\u001b[0;34m\u001b[0m\u001b[0m\n\u001b[1;32m      5\u001b[0m \u001b[0;34m\u001b[0m\u001b[0m\n",
      "\u001b[0;31mNameError\u001b[0m: name 'df_AAPL' is not defined"
     ]
    }
   ],
   "source": [
    "# 3. using Pandas\n",
    "plot = figure()\n",
    "plot.circle(x = df_AAPL['high'], y = df_AAPL['low'], color = 'red', size = 10, alpha = 0.8)\n",
    "plot.diamond(x = df_AAPL['open'], y = df_AAPL['close'], color = 'blue', size = 8, alpha =0.8)\n",
    "\n",
    "# output the plot\n",
    "output_file('pd_scatter.html')\n",
    "show(plot)"
   ]
  },
  {
   "cell_type": "code",
   "execution_count": null,
   "metadata": {},
   "outputs": [],
   "source": [
    "# 4. using CDS\n",
    "# create the ColumnDataSource object\n",
    "data = ColumnDataSource(data = {\n",
    "    'x' : df_AAPL['high'],\n",
    "    'y' : df_AAPL['low'],\n",
    "    'x1': df_AAPL['open'],\n",
    "    'x2': df_AAPL['close'],\n",
    "})\n",
    "\n",
    "# create the scatter\n",
    "plot = figure()\n",
    "plot.cross(x = 'x1', y = 'x2', source = data, color = 'blue', size = 10, alpha =0.3)\n",
    "\n",
    "# output the plot\n",
    "output_file('CDS_scatter.html')\n",
    "show(plot)"
   ]
  },
  {
   "cell_type": "markdown",
   "metadata": {},
   "source": [
    "### Create a time series plot  ###"
   ]
  },
  {
   "cell_type": "code",
   "execution_count": null,
   "metadata": {},
   "outputs": [],
   "source": [
    "# 1. load the data\n",
    "from bokeh.io import output_file, show\n",
    "from bokeh.plotting import figure\n",
    "import pandas as pd\n",
    "\n",
    "# read in the data\n",
    "df = pd.read_csv('/Users/BrendanErhard/Desktop/Python/Blueprints/Bokeh/sandp500/all_stocks_5yr.csv')\n",
    "df.head()"
   ]
  },
  {
   "cell_type": "code",
   "execution_count": null,
   "metadata": {},
   "outputs": [],
   "source": [
    "# 2. using a DataFrame\n",
    "# select AAPL stocks\n",
    "df_AAPL = df[df['Name'] == 'AAPL']\n",
    "\n",
    "# convert the date column, to a time series\n",
    "df_AAPL['date'] = pd.to_datetime(df_AAPL['date'])\n",
    "\n",
    "# create the time series plot\n",
    "plot = figure(x_axis_type = 'datetime', x_axis_label = 'Date', y_axis_label = 'Price, High')\n",
    "plot.line(x = df_AAPL['date'], y = df_AAPL['high'])\n",
    "\n",
    "# output the plot\n",
    "# output_file('AAPL.html')\n",
    "# show(plot)"
   ]
  },
  {
   "cell_type": "code",
   "execution_count": null,
   "metadata": {},
   "outputs": [],
   "source": [
    "# 3. Using a ColumnDataSource\n",
    "\n",
    "data = ColumnDataSource(df_AAPL)\n",
    "\n",
    "# create the time series plot\n",
    "plot = figure(x_axis_type = 'datetime', x_axis_label = 'date', y_axis_label = 'High Prices')\n",
    "plot.line(x = 'date', y = 'high', source = data, color = 'red')\n",
    "plot.circle(x = 'date', y = 'high', source = data,fill_color = 'white', size = 3)\n",
    "\n",
    "# output the plot\n",
    "# output_file('CDS_time.html')\n",
    "# show(plot)"
   ]
  },
  {
   "cell_type": "markdown",
   "metadata": {},
   "source": [
    "### Introducing ColumnDataSource ###"
   ]
  },
  {
   "cell_type": "code",
   "execution_count": null,
   "metadata": {},
   "outputs": [],
   "source": [
    "from bokeh.plotting import ColumnDataSource\n",
    "\n",
    "# create the ColumnDataSource object\n",
    "data = ColumnDataSource(df_AAPL)\n",
    "data"
   ]
  },
  {
   "cell_type": "markdown",
   "metadata": {},
   "source": [
    "### Creating multiple plots along the same row ###"
   ]
  },
  {
   "cell_type": "code",
   "execution_count": null,
   "metadata": {},
   "outputs": [],
   "source": [
    "# 1. read the data and filter it \n",
    "# we are looking only for AAPL data\n",
    "import pandas as pd\n",
    "\n",
    "# read in the data\n",
    "df = pd.read_csv('/Users/BrendanErhard/Desktop/Python/Blueprints/Bokeh/sandp500/all_stocks_5yr.csv')\n",
    "\n",
    "# select AAPL stocks\n",
    "df_AAPL = df[df['Name'] == 'AAPL']\n",
    "\n",
    "# convert the date column, to a time series\n",
    "df_AAPL['date'] = pd.to_datetime(df_AAPL['date'])"
   ]
  },
  {
   "cell_type": "code",
   "execution_count": null,
   "metadata": {},
   "outputs": [],
   "source": [
    "# 2. now construct 3 unique plots\n",
    "# import the required packages\n",
    "from bokeh.io import output_file, show\n",
    "from bokeh.plotting import figure\n",
    "from bokeh.plotting import ColumnDataSource\n",
    "\n",
    "# create the ColumnDataSoure object\n",
    "data = ColumnDataSource(data = {\n",
    "    'x' : df_AAPL['high'],\n",
    "    'y' : df_AAPL['low'],\n",
    "    'x1': df_AAPL['open'],\n",
    "    'y1': df_AAPL['close'],\n",
    "    'x2': df_AAPL['date'],\n",
    "    'y2': df_AAPL['volume']\n",
    "})\n",
    "\n",
    "# create the first scatter plot\n",
    "plot1 = figure()\n",
    "plot1.cross(x = 'x', y = 'y', source = data, color = 'red', size = 10, alpha =0.8)\n",
    "\n",
    "# create the 2nd scatter plot\n",
    "plot2 = figure()\n",
    "plot2.circle(x = 'x1', y = 'y1', source = data, color = 'green', size = 10, alpha = 0.3)\n",
    "\n",
    "# create the 3rd scatter plot\n",
    "plot3 = figure(x_axis_type = 'datetime', x_axis_label = 'date', y_axis_label = 'Volume Traded')\n",
    "plot3.line(x = 'x2', y = 'y2', source = data, color = 'red')\n",
    "plot3.circle(x = 'x2', y = 'y2', source = data, fill_color = 'white', size = 3)\n",
    "\n",
    "# output the plots\n",
    "# output_file('first_plot.html')\n",
    "# show(plot1)\n",
    "\n",
    "# output_file('second_plot.html')\n",
    "# show(plot2)\n",
    "\n",
    "# output_file('third_plot.html')\n",
    "# show(plot3)\n",
    "\n",
    "\n",
    "# plot all plots in a horizontal row\n",
    "from bokeh.layouts import row\n",
    "from bokeh.io import output_file, show\n",
    "\n",
    "# group the 3 plots into a 'row' layout\n",
    "# row_layout = row(plot1, plot2, plot3)\n",
    "\n",
    "# output the plot\n",
    "# output_file('horizontal.html')\n",
    "# show(row_layout)"
   ]
  },
  {
   "cell_type": "markdown",
   "metadata": {},
   "source": [
    "### Creating multiple plots in the same column ###"
   ]
  },
  {
   "cell_type": "code",
   "execution_count": null,
   "metadata": {},
   "outputs": [],
   "source": [
    "from bokeh.layouts import column\n",
    "from bokeh.io import output_file, show\n",
    "\n",
    "# create the ColumnDataSoure object\n",
    "data = ColumnDataSource(data = {\n",
    "    'x' : df_AAPL['high'],\n",
    "    'y' : df_AAPL['low'],\n",
    "    'x1': df_AAPL['open'],\n",
    "    'y1': df_AAPL['close'],\n",
    "    'x2': df_AAPL['date'],\n",
    "    'y2': df_AAPL['volume']\n",
    "})\n",
    "\n",
    "\n",
    "# create the first scatter plot\n",
    "plot11 = figure()\n",
    "plot11.cross(x = 'x', y = 'y', source = data, color = 'red', size = 10, alpha =0.8)\n",
    "\n",
    "# create the 2nd scatter plot\n",
    "plot22 = figure()\n",
    "plot22.circle(x = 'x1', y = 'y1', source = data, color = 'green', size = 10, alpha = 0.3)\n",
    "\n",
    "# group the 2 plots into a column layout\n",
    "col_layout = column(plot11, plot22)\n",
    "\n",
    "# output the plot\n",
    "# output_file('vertical.html')\n",
    "# show(col_layout)"
   ]
  },
  {
   "cell_type": "markdown",
   "metadata": {},
   "source": [
    "### Creating multiple plots in a row and column ###"
   ]
  },
  {
   "cell_type": "code",
   "execution_count": null,
   "metadata": {},
   "outputs": [],
   "source": [
    "from bokeh.layouts import column, row\n",
    "from bokeh.io import output_file, show\n",
    "\n",
    "# create the ColumnDataSoure object\n",
    "data = ColumnDataSource(data = {\n",
    "    'x' : df_AAPL['high'],\n",
    "    'y' : df_AAPL['low'],\n",
    "    'x1': df_AAPL['open'],\n",
    "    'y1': df_AAPL['close'],\n",
    "    'x2': df_AAPL['date'],\n",
    "    'y2': df_AAPL['volume']\n",
    "})\n",
    "\n",
    "# create the first scatter plot\n",
    "plot1 = figure()\n",
    "plot1.cross(x = 'x', y = 'y', source = data, color = 'red', size = 10, alpha =0.8)\n",
    "\n",
    "# create the 2nd scatter plot\n",
    "plot2 = figure()\n",
    "plot2.circle(x = 'x1', y = 'y1', source = data, color = 'green', size = 10, alpha = 0.3)\n",
    "\n",
    "# create the 3rd scatter plot\n",
    "plot3 = figure(x_axis_type = 'datetime', x_axis_label = 'date', y_axis_label = 'Volume Traded')\n",
    "plot3.line(x = 'x2', y = 'y2', source = data, color = 'red')\n",
    "plot3.circle(x = 'x2', y = 'y2', source = data, fill_color = 'white', size = 3)\n",
    "\n",
    "# construct the nested layout\n",
    "nested_layout = column(row(plot1, plot2), plot3)\n",
    "\n",
    "# output the plot\n",
    "# output_file('nested.html')\n",
    "# show(nested_layout)"
   ]
  },
  {
   "cell_type": "markdown",
   "metadata": {},
   "source": [
    "### Creating multiple plots using a tabbed layout ###"
   ]
  },
  {
   "cell_type": "code",
   "execution_count": null,
   "metadata": {},
   "outputs": [],
   "source": [
    "# import the packages\n",
    "from bokeh.models.widgets import Tabs, Panel\n",
    "from bokeh.io import output_file, show\n",
    "from bokeh.layouts import column, row\n",
    "\n",
    "# create the ColumnDataSoure object\n",
    "data = ColumnDataSource(data = {\n",
    "    'x' : df_AAPL['high'],\n",
    "    'y' : df_AAPL['low'],\n",
    "    'x1': df_AAPL['open'],\n",
    "    'y1': df_AAPL['close'],\n",
    "    'x2': df_AAPL['date'],\n",
    "    'y2': df_AAPL['volume']\n",
    "})\n",
    "\n",
    "# create the first scatter plot\n",
    "plot1 = figure()\n",
    "plot1.cross(x = 'x', y = 'y', source = data, color = 'red', size = 10, alpha =0.8)\n",
    "\n",
    "# create the 2nd scatter plot\n",
    "plot2 = figure()\n",
    "plot2.circle(x = 'x1', y = 'y1', source = data, color = 'green', size = 10, alpha = 0.3)\n",
    "\n",
    "# create the 3rd scatter plot\n",
    "plot3 = figure(x_axis_type = 'datetime', x_axis_label = 'date', y_axis_label = 'Volume Traded')\n",
    "plot3.line(x = 'x2', y = 'y2', source = data, color = 'red')\n",
    "plot3.circle(x = 'x2', y = 'y2', source = data, fill_color = 'white', size = 3)\n",
    "\n",
    "\n",
    "# create the 2 panels\n",
    "tab1 = Panel(child = plot1, title = 'Tab One')\n",
    "tab2 = Panel(child = column(plot2, plot3), title = 'Tab Two')\n",
    "\n",
    "# feed the tabs into a Tabs object\n",
    "tabs_object = Tabs(tabs = [tab1, tab2])\n",
    "\n",
    "# output the plot\n",
    "# output_file('tab_layout.html')\n",
    "# show(tabs_object)"
   ]
  },
  {
   "cell_type": "markdown",
   "metadata": {},
   "source": [
    "### Creating a robust Grid layout ###"
   ]
  },
  {
   "cell_type": "code",
   "execution_count": null,
   "metadata": {},
   "outputs": [],
   "source": [
    "# import the packages\n",
    "from bokeh.io import output_file, show\n",
    "from bokeh.layouts import gridplot\n",
    "\n",
    "# create the ColumnDataSoure object\n",
    "data = ColumnDataSource(data = {\n",
    "    'x' : df_AAPL['high'],\n",
    "    'y' : df_AAPL['low'],\n",
    "    'x1': df_AAPL['open'],\n",
    "    'y1': df_AAPL['close'],\n",
    "    'x2': df_AAPL['date'],\n",
    "    'y2': df_AAPL['volume']\n",
    "})\n",
    "\n",
    "# create the first scatter plot\n",
    "plot1 = figure()\n",
    "plot1.cross(x = 'x', y = 'y', source = data, color = 'red', size = 10, alpha =0.8)\n",
    "\n",
    "# create the 2nd scatter plot\n",
    "plot2 = figure()\n",
    "plot2.circle(x = 'x1', y = 'y1', source = data, color = 'green', size = 10, alpha = 0.3)\n",
    "\n",
    "# create the 3rd scatter plot\n",
    "plot3 = figure(x_axis_type = 'datetime', x_axis_label = 'date', y_axis_label = 'Volume Traded')\n",
    "plot3.line(x = 'x2', y = 'y2', source = data, color = 'red')\n",
    "plot3.circle(x = 'x2', y = 'y2', source = data, fill_color = 'white', size = 3)\n",
    "\n",
    "\n",
    "# create the grid layout\n",
    "# grid_layout = gridplot([plot1, plot2], [plot3])\n",
    "\n",
    "# output the plot\n",
    "# output_file('grid.html')\n",
    "# show(grid_layout)"
   ]
  },
  {
   "cell_type": "markdown",
   "metadata": {},
   "source": [
    "### Linking Multiple Plots Together ###"
   ]
  },
  {
   "cell_type": "code",
   "execution_count": null,
   "metadata": {},
   "outputs": [],
   "source": [
    "# import the package\n",
    "from bokeh.io import output_file, show\n",
    "from bokeh.layouts import row\n",
    "\n",
    "# create the ColumnDataSoure object\n",
    "data = ColumnDataSource(data = {\n",
    "    'x' : df_AAPL['high'],\n",
    "    'y' : df_AAPL['low'],\n",
    "    'x1': df_AAPL['open'],\n",
    "    'y1': df_AAPL['close'],\n",
    "    'x2': df_AAPL['date'],\n",
    "    'y2': df_AAPL['volume']\n",
    "})\n",
    "\n",
    "# create the first scatter plot\n",
    "plot1 = figure()\n",
    "plot1.cross(x = 'x', y = 'y', source = data, color = 'red', size = 10, alpha =0.8)\n",
    "\n",
    "# create the 2nd scatter plot\n",
    "plot2 = figure()\n",
    "plot2.circle(x = 'x1', y = 'y1', source = data, color = 'green', size = 10, alpha = 0.3)\n",
    "\n",
    "# create the 3rd scatter plot\n",
    "plot3 = figure(x_axis_type = 'datetime', x_axis_label = 'date', y_axis_label = 'Volume Traded')\n",
    "plot3.line(x = 'x2', y = 'y2', source = data, color = 'red')\n",
    "plot3.circle(x = 'x2', y = 'y2', source = data, fill_color = 'white', size = 3)\n",
    "\n",
    "# ceate equal x axis ranges\n",
    "plot2.x_range = plot1.x_range\n",
    "\n",
    "# create the row layout\n",
    "row_layout = row(plot3, plot1)\n",
    "\n",
    "# output the plot\n",
    "output_file('grid.html')\n",
    "show(row_layout)"
   ]
  },
  {
   "cell_type": "markdown",
   "metadata": {},
   "source": [
    "### Creating annotations to convey info ###"
   ]
  },
  {
   "cell_type": "markdown",
   "metadata": {},
   "source": [
    "#### Adding titles to plots ####"
   ]
  },
  {
   "cell_type": "code",
   "execution_count": 10,
   "metadata": {},
   "outputs": [
    {
     "data": {
      "text/html": [
       "<div>\n",
       "<style scoped>\n",
       "    .dataframe tbody tr th:only-of-type {\n",
       "        vertical-align: middle;\n",
       "    }\n",
       "\n",
       "    .dataframe tbody tr th {\n",
       "        vertical-align: top;\n",
       "    }\n",
       "\n",
       "    .dataframe thead th {\n",
       "        text-align: right;\n",
       "    }\n",
       "</style>\n",
       "<table border=\"1\" class=\"dataframe\">\n",
       "  <thead>\n",
       "    <tr style=\"text-align: right;\">\n",
       "      <th></th>\n",
       "      <th>date</th>\n",
       "      <th>open</th>\n",
       "      <th>high</th>\n",
       "      <th>low</th>\n",
       "      <th>close</th>\n",
       "      <th>volume</th>\n",
       "      <th>Name</th>\n",
       "    </tr>\n",
       "  </thead>\n",
       "  <tbody>\n",
       "    <tr>\n",
       "      <td>0</td>\n",
       "      <td>2013-02-08</td>\n",
       "      <td>15.07</td>\n",
       "      <td>15.12</td>\n",
       "      <td>14.63</td>\n",
       "      <td>14.75</td>\n",
       "      <td>8407500</td>\n",
       "      <td>AAL</td>\n",
       "    </tr>\n",
       "    <tr>\n",
       "      <td>1</td>\n",
       "      <td>2013-02-11</td>\n",
       "      <td>14.89</td>\n",
       "      <td>15.01</td>\n",
       "      <td>14.26</td>\n",
       "      <td>14.46</td>\n",
       "      <td>8882000</td>\n",
       "      <td>AAL</td>\n",
       "    </tr>\n",
       "    <tr>\n",
       "      <td>2</td>\n",
       "      <td>2013-02-12</td>\n",
       "      <td>14.45</td>\n",
       "      <td>14.51</td>\n",
       "      <td>14.10</td>\n",
       "      <td>14.27</td>\n",
       "      <td>8126000</td>\n",
       "      <td>AAL</td>\n",
       "    </tr>\n",
       "    <tr>\n",
       "      <td>3</td>\n",
       "      <td>2013-02-13</td>\n",
       "      <td>14.30</td>\n",
       "      <td>14.94</td>\n",
       "      <td>14.25</td>\n",
       "      <td>14.66</td>\n",
       "      <td>10259500</td>\n",
       "      <td>AAL</td>\n",
       "    </tr>\n",
       "    <tr>\n",
       "      <td>4</td>\n",
       "      <td>2013-02-14</td>\n",
       "      <td>14.94</td>\n",
       "      <td>14.96</td>\n",
       "      <td>13.16</td>\n",
       "      <td>13.99</td>\n",
       "      <td>31879900</td>\n",
       "      <td>AAL</td>\n",
       "    </tr>\n",
       "  </tbody>\n",
       "</table>\n",
       "</div>"
      ],
      "text/plain": [
       "         date   open   high    low  close    volume Name\n",
       "0  2013-02-08  15.07  15.12  14.63  14.75   8407500  AAL\n",
       "1  2013-02-11  14.89  15.01  14.26  14.46   8882000  AAL\n",
       "2  2013-02-12  14.45  14.51  14.10  14.27   8126000  AAL\n",
       "3  2013-02-13  14.30  14.94  14.25  14.66  10259500  AAL\n",
       "4  2013-02-14  14.94  14.96  13.16  13.99  31879900  AAL"
      ]
     },
     "execution_count": 10,
     "metadata": {},
     "output_type": "execute_result"
    }
   ],
   "source": [
    "# import the required packages\n",
    "# read in the data\n",
    "import pandas as pd\n",
    "df = pd.read_csv('/Users/BrendanErhard/Desktop/Python/Blueprints/Bokeh/sandp500/all_stocks_5yr.csv')\n",
    "df.head()"
   ]
  },
  {
   "cell_type": "code",
   "execution_count": 13,
   "metadata": {},
   "outputs": [
    {
     "data": {
      "text/html": [
       "<div>\n",
       "<style scoped>\n",
       "    .dataframe tbody tr th:only-of-type {\n",
       "        vertical-align: middle;\n",
       "    }\n",
       "\n",
       "    .dataframe tbody tr th {\n",
       "        vertical-align: top;\n",
       "    }\n",
       "\n",
       "    .dataframe thead th {\n",
       "        text-align: right;\n",
       "    }\n",
       "</style>\n",
       "<table border=\"1\" class=\"dataframe\">\n",
       "  <thead>\n",
       "    <tr style=\"text-align: right;\">\n",
       "      <th></th>\n",
       "      <th>date</th>\n",
       "      <th>open</th>\n",
       "      <th>high</th>\n",
       "      <th>low</th>\n",
       "      <th>close</th>\n",
       "      <th>volume</th>\n",
       "      <th>Name</th>\n",
       "    </tr>\n",
       "  </thead>\n",
       "  <tbody>\n",
       "    <tr>\n",
       "      <td>1259</td>\n",
       "      <td>2013-02-08</td>\n",
       "      <td>67.7142</td>\n",
       "      <td>68.4014</td>\n",
       "      <td>66.8928</td>\n",
       "      <td>67.8542</td>\n",
       "      <td>158168416</td>\n",
       "      <td>AAPL</td>\n",
       "    </tr>\n",
       "    <tr>\n",
       "      <td>1260</td>\n",
       "      <td>2013-02-11</td>\n",
       "      <td>68.0714</td>\n",
       "      <td>69.2771</td>\n",
       "      <td>67.6071</td>\n",
       "      <td>68.5614</td>\n",
       "      <td>129029425</td>\n",
       "      <td>AAPL</td>\n",
       "    </tr>\n",
       "    <tr>\n",
       "      <td>1261</td>\n",
       "      <td>2013-02-12</td>\n",
       "      <td>68.5014</td>\n",
       "      <td>68.9114</td>\n",
       "      <td>66.8205</td>\n",
       "      <td>66.8428</td>\n",
       "      <td>151829363</td>\n",
       "      <td>AAPL</td>\n",
       "    </tr>\n",
       "    <tr>\n",
       "      <td>1262</td>\n",
       "      <td>2013-02-13</td>\n",
       "      <td>66.7442</td>\n",
       "      <td>67.6628</td>\n",
       "      <td>66.1742</td>\n",
       "      <td>66.7156</td>\n",
       "      <td>118721995</td>\n",
       "      <td>AAPL</td>\n",
       "    </tr>\n",
       "    <tr>\n",
       "      <td>1263</td>\n",
       "      <td>2013-02-14</td>\n",
       "      <td>66.3599</td>\n",
       "      <td>67.3771</td>\n",
       "      <td>66.2885</td>\n",
       "      <td>66.6556</td>\n",
       "      <td>88809154</td>\n",
       "      <td>AAPL</td>\n",
       "    </tr>\n",
       "  </tbody>\n",
       "</table>\n",
       "</div>"
      ],
      "text/plain": [
       "           date     open     high      low    close     volume  Name\n",
       "1259 2013-02-08  67.7142  68.4014  66.8928  67.8542  158168416  AAPL\n",
       "1260 2013-02-11  68.0714  69.2771  67.6071  68.5614  129029425  AAPL\n",
       "1261 2013-02-12  68.5014  68.9114  66.8205  66.8428  151829363  AAPL\n",
       "1262 2013-02-13  66.7442  67.6628  66.1742  66.7156  118721995  AAPL\n",
       "1263 2013-02-14  66.3599  67.3771  66.2885  66.6556   88809154  AAPL"
      ]
     },
     "execution_count": 13,
     "metadata": {},
     "output_type": "execute_result"
    }
   ],
   "source": [
    "# convert the data column to datetime data type\n",
    "df['date'] = pd.to_datetime(df['date'])\n",
    "\n",
    "# filter for AAPL only\n",
    "df_AAPL = df[df['Name'] == \"AAPL\"]\n",
    "df_AAPL.head()"
   ]
  },
  {
   "cell_type": "code",
   "execution_count": 14,
   "metadata": {},
   "outputs": [],
   "source": [
    "# improt the required package\n",
    "from bokeh.io import output_file, show\n",
    "from bokeh.plotting import figure\n",
    "from bokeh.plotting import ColumnDataSource\n",
    "\n",
    "# ceate the ColumnDataSource object\n",
    "data = ColumnDataSource(data = {\n",
    "    'x' : df_AAPL['high'],\n",
    "    'y' : df_AAPL['low'],\n",
    "    'x1': df_AAPL['open'],\n",
    "    'y1': df_AAPL['close'],\n",
    "    'x2': df_AAPL['date'],\n",
    "    'y2': df_AAPL['volume']\n",
    "})\n",
    "\n",
    "# import packages\n",
    "from bokeh.plotting import figure, show, output_file, output_notebook\n",
    "\n",
    "# create the plot\n",
    "plot = figure(title = \"5 year time series distribution of AAPL stocks traded\", title_location = \"above\",\n",
    "             x_axis_type = 'datetime', x_axis_label = 'date', y_axis_label = 'Volume Taded')\n",
    "\n",
    "# create the time series plot\n",
    "plot.line(x = 'x2', y = 'y2', source = data, color = 'red')\n",
    "plot.circle(x = 'x2', y = 'y2', source = data, fill_color = 'white', size = 3)\n",
    "\n",
    "# output the plot\n",
    "# output_file('title.html')\n",
    "# show(plot)"
   ]
  },
  {
   "cell_type": "markdown",
   "metadata": {},
   "source": [
    "#### Adding legends to plots ####"
   ]
  },
  {
   "cell_type": "code",
   "execution_count": 17,
   "metadata": {},
   "outputs": [],
   "source": [
    "# import the pacakages\n",
    "from bokeh.plotting import figure, show, output_file\n",
    "\n",
    "\n",
    "# create the ColumnDataSource object\n",
    "data = ColumnDataSource(data = {\n",
    "    'x' : df_AAPL['high'],\n",
    "    'y' : df_AAPL['low'],\n",
    "    'x1': df_AAPL['open'],\n",
    "    'y1': df_AAPL['close'],\n",
    "    'x2': df_AAPL['date'],\n",
    "    'y2': df_AAPL['volume']\n",
    "})\n",
    "\n",
    "# create the 2 scatter plots\n",
    "plot = figure()\n",
    "\n",
    "# create the legends\n",
    "plot.cross(x = 'x', y = 'y', source = data, color = 'red', size = 10, alpha = 0.8, legend = \"High vs Low\")\n",
    "plot.circle(x = 'x1', y = 'y1', source = data, color = 'blue', size = 10, alpha =0.3, legend = \"Open vs Close\")\n",
    "\n",
    "# output the plot\n",
    "# output_file('legend.html')\n",
    "# show(plot)"
   ]
  },
  {
   "cell_type": "markdown",
   "metadata": {},
   "source": [
    "#### Adding color maps to plots ####"
   ]
  },
  {
   "cell_type": "code",
   "execution_count": 21,
   "metadata": {},
   "outputs": [],
   "source": [
    "# read in the data and filter for GooGL\n",
    "import pandas as pd\n",
    "df = pd.read_csv('/Users/BrendanErhard/Desktop/Python/Blueprints/Bokeh/sandp500/all_stocks_5yr.csv')\n",
    "\n",
    "# filter for GOOG and MSFT\n",
    "df_multiple = df[(df['Name'] == 'GOOGL') | (df['Name'] == 'MSFT')]\n",
    "\n",
    "# ceate the ColumnDataSource object\n",
    "data = ColumnDataSource(data = {\n",
    "    'x' : df_AAPL['high'],\n",
    "    'y' : df_AAPL['low'],\n",
    "    'x1': df_AAPL['open'],\n",
    "    'y1': df_AAPL['close'],\n",
    "    'x2': df_AAPL['date'],\n",
    "    'y2': df_AAPL['volume']\n",
    "})\n",
    "\n",
    "\n",
    "# import the packages\n",
    "from bokeh.models import CategoricalColorMapper\n",
    "\n",
    "# store the data in the ColumnDataSource object\n",
    "data = ColumnDataSource(df_multiple)\n",
    "\n",
    "# create the mapper\n",
    "category_map = CategoricalColorMapper(factors = ['GOOGL', 'MSFT'], palette = ['blue', 'red'])\n",
    "\n",
    "# plot the figure\n",
    "plot = figure()\n",
    "plot.circle('high', 'low', size = 8, source = data, color = {'field': 'Name', 'transform': category_map})\n",
    "\n",
    "# output the plot\n",
    "# output_file('category.html')\n",
    "# show(plot)"
   ]
  },
  {
   "cell_type": "markdown",
   "metadata": {},
   "source": [
    "### Creating widgets to add interactivity ###"
   ]
  },
  {
   "cell_type": "markdown",
   "metadata": {},
   "source": [
    "#### Creating a button widget ####"
   ]
  },
  {
   "cell_type": "code",
   "execution_count": 23,
   "metadata": {},
   "outputs": [],
   "source": [
    "# import the required package\n",
    "from bokeh.models.widgets import Button\n",
    "from bokeh.layouts import widgetbox\n",
    "\n",
    "# Create the button widget\n",
    "button_widget = Button(label='Click this')\n",
    "\n",
    "# output the button\n",
    "# output_file('button_widget.html')\n",
    "# show(widgetbox(button_widget))"
   ]
  },
  {
   "cell_type": "markdown",
   "metadata": {},
   "source": [
    "#### Creating the checkbox widget ####"
   ]
  },
  {
   "cell_type": "code",
   "execution_count": 24,
   "metadata": {},
   "outputs": [],
   "source": [
    "# import the required package\n",
    "from bokeh.models.widgets import CheckboxGroup\n",
    "\n",
    "# create the checkbox\n",
    "checkbox_widget = CheckboxGroup(labels = ['box: 1', 'box: 2', 'box: 3'], active=[1,2])\n",
    "\n",
    "# output the checkbox\n",
    "# output_file('checkbox_widget.html')\n",
    "# show(widgetbox(checkbox_widget))"
   ]
  },
  {
   "cell_type": "markdown",
   "metadata": {},
   "source": [
    "#### Creating a drop-down menu from widget ####"
   ]
  },
  {
   "cell_type": "code",
   "execution_count": 26,
   "metadata": {},
   "outputs": [],
   "source": [
    "# import the required packages\n",
    "from bokeh.models.widgets import Dropdown\n",
    "\n",
    "# create the menu\n",
    "menu_widget = [(\"menu option 1\", \"1\"), (\"menu option 2\", \"2\")]\n",
    "\n",
    "# create the dropdown\n",
    "menu_dropdown = Dropdown(label=\"Dropdown Menu\", menu=menu_widget)\n",
    "\n",
    "# output the dropdown menu\n",
    "# output_file('dropdown.html')\n",
    "# show(widgetbox(menu_dropdown))"
   ]
  },
  {
   "cell_type": "markdown",
   "metadata": {},
   "source": [
    "#### Creating the radio button widget ####"
   ]
  },
  {
   "cell_type": "code",
   "execution_count": 27,
   "metadata": {},
   "outputs": [],
   "source": [
    "# import the required packages\n",
    "from bokeh.models.widgets import RadioGroup\n",
    "\n",
    "# create the radio button\n",
    "radio_button_widget = RadioGroup(labels=[\"First Radio Button\", \"Second Radio button\"], active=0)\n",
    "\n",
    "# output the radio button widget\n",
    "# output_file('radiobutton_widget.html')\n",
    "# show(widgetbox(radio_button_widget))"
   ]
  },
  {
   "cell_type": "markdown",
   "metadata": {},
   "source": [
    "#### Creating a slider wiget ####"
   ]
  },
  {
   "cell_type": "code",
   "execution_count": 28,
   "metadata": {},
   "outputs": [],
   "source": [
    "# import the required packages\n",
    "from bokeh.models.widgets import Slider\n",
    "\n",
    "# create the slider widget\n",
    "slider_widget = Slider(start=0, end=50, value=0, title='Simple Slider', step=5)\n",
    "\n",
    "# output the slider\n",
    "# output_file(\"slider_widget.html\")\n",
    "# show(widgetbox(slider_widget))"
   ]
  },
  {
   "cell_type": "markdown",
   "metadata": {},
   "source": [
    "#### Creating a text input widget ####"
   ]
  },
  {
   "cell_type": "code",
   "execution_count": 29,
   "metadata": {},
   "outputs": [],
   "source": [
    "# import the required packages\n",
    "from bokeh.models.widgets import TextInput\n",
    "\n",
    "# create the text input widget\n",
    "text_input_widget = TextInput(title = \"Type your text here:\", value=\"\")\n",
    "\n",
    "# output the text input widget\n",
    "# output_file('text_input_widget.html')\n",
    "# show(widgetbox(text_input_widget))"
   ]
  },
  {
   "cell_type": "markdown",
   "metadata": {},
   "source": [
    "### Creating visual attributes to enhance style and interactivity ###"
   ]
  },
  {
   "cell_type": "markdown",
   "metadata": {},
   "source": [
    "#### Creating a hover tooltip ####"
   ]
  },
  {
   "cell_type": "code",
   "execution_count": 30,
   "metadata": {},
   "outputs": [],
   "source": [
    "# import the packages\n",
    "from bokeh.models import CategoricalColorMapper\n",
    "from bokeh.models import HoverTool\n",
    "from bokeh.io import output_file, show\n",
    "from bokeh.plotting import ColumnDataSource\n",
    "from bokeh.plotting import figure\n",
    "import pandas as pd\n",
    "\n",
    "# read in the data and filter for GOOGL and MSFT\n",
    "df = pd.read_csv('/Users/BrendanErhard/Desktop/Python/Blueprints/Bokeh/sandp500/all_stocks_5yr.csv')\n",
    "\n",
    "# filter for GOOG and MSFT\n",
    "df_multiple = df[(df['Name'] == 'GOOGL') | (df['Name'] == 'MSFT')]\n",
    "\n",
    "# create the hover tooltip\n",
    "hover_tool = HoverTool(tooltips = [\n",
    "    ('Stock Ticker', '@Name'),\n",
    "    ('High Price', '@high'),\n",
    "    ('Low Price', '@low')\n",
    "])\n",
    "\n",
    "# save the data in a ColunDataSouec object\n",
    "data = ColumnDataSource(df_multiple)\n",
    "\n",
    "# create the categorical color mapper\n",
    "category_map = CategoricalColorMapper(factors = ['GOOGL', 'MSFT'], palette = ['blue', 'red'])\n",
    "\n",
    "# create the plot with the hover tooltip\n",
    "plot = figure(tools = [hover_tool])\n",
    "\n",
    "plot.circle('high', 'low', size = 8, source = data, color = {'field': 'Name', 'transform': category_map})\n",
    "\n",
    "# output the plot\n",
    "output_file('hover.html')\n",
    "show(plot)"
   ]
  },
  {
   "cell_type": "markdown",
   "metadata": {},
   "source": [
    "#### Creating selections ####"
   ]
  },
  {
   "cell_type": "code",
   "execution_count": 32,
   "metadata": {},
   "outputs": [],
   "source": [
    "# import the packages\n",
    "from bokeh.models import CategoricalColorMapper\n",
    "from bokeh.models import HoverTool\n",
    "from bokeh.io import output_file, show\n",
    "from bokeh.plotting import ColumnDataSource\n",
    "from bokeh.plotting import figure\n",
    "\n",
    "# read in the data and filter for GOOGL and MSFT\n",
    "df = pd.read_csv('/Users/BrendanErhard/Desktop/Python/Blueprints/Bokeh/sandp500/all_stocks_5yr.csv')\n",
    "\n",
    "# filter for GOOG and MSFT\n",
    "df_multiple = df[(df['Name'] == 'GOOGL') | (df['Name'] == 'MSFT')]\n",
    "\n",
    "# save the data in a ColunDataSouec object\n",
    "data = ColumnDataSource(df_multiple)\n",
    "\n",
    "# create the categorical color mapper\n",
    "category_map = CategoricalColorMapper(factors = ['GOOGL', 'MSFT'], palette = ['blue', 'red'])\n",
    "\n",
    "# create the plot with the selection tool\n",
    "plot = figure(tools = 'box_select')\n",
    "plot.circle('high', 'low', size = 8, source = data, color = {'field': 'Name', 'transform': category_map},\n",
    "           selection_color = 'green', nonselection_fill_alpha = 0.3, nonselection_fill_color='grey')\n",
    "\n",
    "# output the plot\n",
    "# output_file('selection.html')\n",
    "# show(plot)"
   ]
  },
  {
   "cell_type": "markdown",
   "metadata": {},
   "source": [
    "### Attribute that enhance the visual style of the plot ###"
   ]
  },
  {
   "cell_type": "markdown",
   "metadata": {},
   "source": [
    "#### Styling the title ####"
   ]
  },
  {
   "cell_type": "code",
   "execution_count": 34,
   "metadata": {},
   "outputs": [],
   "source": [
    "# import the packages\n",
    "from bokeh.models import CategoricalColorMapper\n",
    "from bokeh.models import HoverTool\n",
    "from bokeh.io import output_file, show\n",
    "from bokeh.plotting import ColumnDataSource\n",
    "from bokeh.plotting import figure\n",
    "\n",
    "# read in the data and filter for GOOGL and MSFT\n",
    "df = pd.read_csv('/Users/BrendanErhard/Desktop/Python/Blueprints/Bokeh/sandp500/all_stocks_5yr.csv')\n",
    "\n",
    "# filter for GOOG and MSFT\n",
    "df_multiple = df[(df['Name'] == 'GOOGL') | (df['Name'] == 'MSFT')]\n",
    "\n",
    "# save the data in a ColunDataSouec object\n",
    "data = ColumnDataSource(df_multiple)\n",
    "\n",
    "# create the categorical color mapper\n",
    "category_map = CategoricalColorMapper(factors = ['GOOGL', 'MSFT'], palette = ['blue', 'red'])\n",
    "\n",
    "# create the plot and configure the title\n",
    "plot = figure(title = 'High vs Low Prices (GOOGL vs MSFT)')\n",
    "plot.title.text_color = 'red'\n",
    "plot.title.text_font = 'times'\n",
    "plot.title.text_font_style = 'bold'\n",
    "plot.circle('high', 'low', size = 8, source = data, color = {'field':'Name', 'transform': category_map})\n",
    "\n",
    "# output the plot\n",
    "# output_file('title.html')\n",
    "# show(plot)"
   ]
  },
  {
   "cell_type": "markdown",
   "metadata": {},
   "source": [
    "#### Styling the background ####"
   ]
  },
  {
   "cell_type": "code",
   "execution_count": 35,
   "metadata": {},
   "outputs": [],
   "source": [
    "from bokeh.models import CategoricalColorMapper\n",
    "from bokeh.models import HoverTool\n",
    "from bokeh.io import output_file, show\n",
    "from bokeh.plotting import ColumnDataSource\n",
    "from bokeh.plotting import figure\n",
    "\n",
    "# read in the data and filter for GOOGL and MSFT\n",
    "df = pd.read_csv('/Users/BrendanErhard/Desktop/Python/Blueprints/Bokeh/sandp500/all_stocks_5yr.csv')\n",
    "\n",
    "# filter for GOOG and MSFT\n",
    "df_multiple = df[(df['Name'] == 'GOOGL') | (df['Name'] == 'MSFT')]\n",
    "\n",
    "# save the data in a ColunDataSouec object\n",
    "data = ColumnDataSource(df_multiple)\n",
    "\n",
    "# create the categorical color mapper\n",
    "category_map = CategoricalColorMapper(factors = ['GOOGL', 'MSFT'], palette = ['blue', 'red'])\n",
    "\n",
    "# create the plot and configure the title\n",
    "plot = figure(title = 'High vs Low Prices (GOOGL vs MSFT)')\n",
    "plot.background_fill_color = 'yellow'\n",
    "plot.background_fill_alpha = 0.3\n",
    "\n",
    "plot.circle('high', 'low', size = 8, source = data, color = {'field':'Name', 'transform': category_map})\n",
    "\n",
    "# output the plot\n",
    "# output_file('title_background.html')\n",
    "# show(plot)"
   ]
  },
  {
   "cell_type": "markdown",
   "metadata": {},
   "source": [
    "#### Styling the outline of the plot ####"
   ]
  },
  {
   "cell_type": "code",
   "execution_count": 36,
   "metadata": {},
   "outputs": [],
   "source": [
    "from bokeh.models import CategoricalColorMapper\n",
    "from bokeh.models import HoverTool\n",
    "from bokeh.io import output_file, show\n",
    "from bokeh.plotting import ColumnDataSource\n",
    "from bokeh.plotting import figure\n",
    "\n",
    "# read in the data and filter for GOOGL and MSFT\n",
    "df = pd.read_csv('/Users/BrendanErhard/Desktop/Python/Blueprints/Bokeh/sandp500/all_stocks_5yr.csv')\n",
    "\n",
    "# filter for GOOG and MSFT\n",
    "df_multiple = df[(df['Name'] == 'GOOGL') | (df['Name'] == 'MSFT')]\n",
    "\n",
    "# save the data in a ColunDataSouec object\n",
    "data = ColumnDataSource(df_multiple)\n",
    "\n",
    "# create the categorical color mapper\n",
    "category_map = CategoricalColorMapper(factors = ['GOOGL', 'MSFT'], palette = ['blue', 'red'])\n",
    "\n",
    "# create the plot and configure the title\n",
    "plot = figure(title = 'High vs Low Prices (GOOGL vs MSFT)')\n",
    "\n",
    "# configure the outline of the plot\n",
    "plot.outline_line_width = 8\n",
    "plot.outline_line_alpha = 0.8\n",
    "plot.outline_line_color = 'blue'\n",
    "\n",
    "plot.circle('high', 'low', size = 8, source = data, color = {'field':'Name', 'transform': category_map})\n",
    "\n",
    "# output the plot\n",
    "output_file('outline.html')\n",
    "show(plot)\n"
   ]
  },
  {
   "cell_type": "markdown",
   "metadata": {},
   "source": [
    "#### Styling the labels ####"
   ]
  },
  {
   "cell_type": "code",
   "execution_count": 37,
   "metadata": {},
   "outputs": [],
   "source": [
    "from bokeh.models import CategoricalColorMapper\n",
    "from bokeh.models import HoverTool\n",
    "from bokeh.io import output_file, show\n",
    "from bokeh.plotting import ColumnDataSource\n",
    "from bokeh.plotting import figure\n",
    "\n",
    "# read in the data and filter for GOOGL and MSFT\n",
    "df = pd.read_csv('/Users/BrendanErhard/Desktop/Python/Blueprints/Bokeh/sandp500/all_stocks_5yr.csv')\n",
    "\n",
    "# filter for GOOG and MSFT\n",
    "df_multiple = df[(df['Name'] == 'GOOGL') | (df['Name'] == 'MSFT')]\n",
    "\n",
    "# save the data in a ColunDataSouec object\n",
    "data = ColumnDataSource(df_multiple)\n",
    "\n",
    "# create the categorical color mapper\n",
    "category_map = CategoricalColorMapper(factors = ['GOOGL', 'MSFT'], palette = ['blue', 'red'])\n",
    "\n",
    "# create the plot and configure the title\n",
    "plot = figure(title = 'High vs Low Prices (GOOGL vs MSFT)')\n",
    "plot.xaxis.axis_label = \"High Prices\"\n",
    "plot.xaxis.axis_label_text_color = 'green'\n",
    "\n",
    "plot.yaxis.axis_label = \"High Prices\"\n",
    "plot.yaxis.axis_label_text_font_style = 'bold'\n",
    "\n",
    "plot.circle('high', 'low', size = 8, source = data, color = {'field':'Name', 'transform': category_map})\n",
    "\n",
    "# output the plot\n",
    "# output_file('title_style.html')\n",
    "# show(plot)\n",
    "\n"
   ]
  },
  {
   "cell_type": "markdown",
   "metadata": {},
   "source": [
    "### Case Study ###"
   ]
  },
  {
   "cell_type": "code",
   "execution_count": 38,
   "metadata": {},
   "outputs": [
    {
     "name": "stdout",
     "output_type": "stream",
     "text": [
      "<class 'pandas.core.frame.DataFrame'>\n",
      "RangeIndex: 619040 entries, 0 to 619039\n",
      "Data columns (total 7 columns):\n",
      "date      619040 non-null object\n",
      "open      619029 non-null float64\n",
      "high      619032 non-null float64\n",
      "low       619032 non-null float64\n",
      "close     619040 non-null float64\n",
      "volume    619040 non-null int64\n",
      "Name      619040 non-null object\n",
      "dtypes: float64(4), int64(1), object(2)\n",
      "memory usage: 33.1+ MB\n"
     ]
    }
   ],
   "source": [
    "import pandas as pd\n",
    "df = pd.read_csv('/Users/BrendanErhard/Desktop/Python/Blueprints/Bokeh/sandp500/all_stocks_5yr.csv')\n",
    "df.info()"
   ]
  },
  {
   "cell_type": "code",
   "execution_count": 39,
   "metadata": {},
   "outputs": [
    {
     "data": {
      "text/html": [
       "<div>\n",
       "<style scoped>\n",
       "    .dataframe tbody tr th:only-of-type {\n",
       "        vertical-align: middle;\n",
       "    }\n",
       "\n",
       "    .dataframe tbody tr th {\n",
       "        vertical-align: top;\n",
       "    }\n",
       "\n",
       "    .dataframe thead th {\n",
       "        text-align: right;\n",
       "    }\n",
       "</style>\n",
       "<table border=\"1\" class=\"dataframe\">\n",
       "  <thead>\n",
       "    <tr style=\"text-align: right;\">\n",
       "      <th></th>\n",
       "      <th>date</th>\n",
       "      <th>open</th>\n",
       "      <th>high</th>\n",
       "      <th>low</th>\n",
       "      <th>close</th>\n",
       "      <th>volume</th>\n",
       "      <th>Name</th>\n",
       "    </tr>\n",
       "  </thead>\n",
       "  <tbody>\n",
       "    <tr>\n",
       "      <td>0</td>\n",
       "      <td>2013-02-08</td>\n",
       "      <td>15.07</td>\n",
       "      <td>15.12</td>\n",
       "      <td>14.63</td>\n",
       "      <td>14.75</td>\n",
       "      <td>8407500</td>\n",
       "      <td>AAL</td>\n",
       "    </tr>\n",
       "    <tr>\n",
       "      <td>1</td>\n",
       "      <td>2013-02-11</td>\n",
       "      <td>14.89</td>\n",
       "      <td>15.01</td>\n",
       "      <td>14.26</td>\n",
       "      <td>14.46</td>\n",
       "      <td>8882000</td>\n",
       "      <td>AAL</td>\n",
       "    </tr>\n",
       "    <tr>\n",
       "      <td>2</td>\n",
       "      <td>2013-02-12</td>\n",
       "      <td>14.45</td>\n",
       "      <td>14.51</td>\n",
       "      <td>14.10</td>\n",
       "      <td>14.27</td>\n",
       "      <td>8126000</td>\n",
       "      <td>AAL</td>\n",
       "    </tr>\n",
       "    <tr>\n",
       "      <td>3</td>\n",
       "      <td>2013-02-13</td>\n",
       "      <td>14.30</td>\n",
       "      <td>14.94</td>\n",
       "      <td>14.25</td>\n",
       "      <td>14.66</td>\n",
       "      <td>10259500</td>\n",
       "      <td>AAL</td>\n",
       "    </tr>\n",
       "    <tr>\n",
       "      <td>4</td>\n",
       "      <td>2013-02-14</td>\n",
       "      <td>14.94</td>\n",
       "      <td>14.96</td>\n",
       "      <td>13.16</td>\n",
       "      <td>13.99</td>\n",
       "      <td>31879900</td>\n",
       "      <td>AAL</td>\n",
       "    </tr>\n",
       "  </tbody>\n",
       "</table>\n",
       "</div>"
      ],
      "text/plain": [
       "         date   open   high    low  close    volume Name\n",
       "0  2013-02-08  15.07  15.12  14.63  14.75   8407500  AAL\n",
       "1  2013-02-11  14.89  15.01  14.26  14.46   8882000  AAL\n",
       "2  2013-02-12  14.45  14.51  14.10  14.27   8126000  AAL\n",
       "3  2013-02-13  14.30  14.94  14.25  14.66  10259500  AAL\n",
       "4  2013-02-14  14.94  14.96  13.16  13.99  31879900  AAL"
      ]
     },
     "execution_count": 39,
     "metadata": {},
     "output_type": "execute_result"
    }
   ],
   "source": [
    "df.head()"
   ]
  },
  {
   "cell_type": "code",
   "execution_count": 41,
   "metadata": {},
   "outputs": [
    {
     "data": {
      "text/plain": [
       "APA     1259\n",
       "SPG     1259\n",
       "RHI     1259\n",
       "DAL     1259\n",
       "WMB     1259\n",
       "        ... \n",
       "DXC      215\n",
       "BHGE     152\n",
       "BHF      143\n",
       "DWDP     109\n",
       "APTV      44\n",
       "Name: Name, Length: 505, dtype: int64"
      ]
     },
     "execution_count": 41,
     "metadata": {},
     "output_type": "execute_result"
    }
   ],
   "source": [
    "df['Name'].value_counts()"
   ]
  },
  {
   "cell_type": "markdown",
   "metadata": {},
   "source": [
    "#### Ceating the base plot ####"
   ]
  },
  {
   "cell_type": "code",
   "execution_count": 46,
   "metadata": {},
   "outputs": [],
   "source": [
    "#Creating the base plot\n",
    "\n",
    "#Import the required packages\n",
    "\n",
    "from bokeh.io import curdoc\n",
    "from bokeh.models import ColumnDataSource\n",
    "from bokeh.plotting import figure\n",
    "import pandas as pd\n",
    "\n",
    "#Read the data into the notebook\n",
    "\n",
    "df = pd.read_csv('/Users/BrendanErhard/Desktop/Python/Blueprints/Bokeh/sandp500/all_stocks_5yr.csv')\n",
    "\n",
    "#Convert the date column to a datetime object and extract the year only.\n",
    "\n",
    "df['date'] = pd.to_datetime(df['date']).apply(lambda x:x.strftime('%Y'))\n",
    "\n",
    "#Create the ColumnDataSource Object\n",
    "\n",
    "data = ColumnDataSource(data = {\n",
    "    'high' : df[df['date'] == '2013'].high,\n",
    "    'low' : df[df['date'] == '2013'].low,\n",
    "    'open' : df[df['date'] == '2013'].open,\n",
    "    'close': df[df['date'] == '2013'].close,\n",
    "    'volume': df[df['date'] == '2013'].volume,\n",
    "    'Name' : df[df['date'] == '2013'].Name\n",
    "})\n",
    "\n",
    "#Specify the range of the x and y axis\n",
    "\n",
    "xmin, xmax = min(df.high), max(df.high)\n",
    "ymin, ymax = min(df.volume), max(df.volume)\n",
    "\n",
    "#Create the plot\n",
    "\n",
    "plot = figure(title = 'Volume traded Vs. High Prices', plot_height = 400, plot_width = 700, x_range = (xmin, xmax),\n",
    "             y_range = (ymin, ymax))\n",
    "\n",
    "plot.diamond(x = 'high', y = 'volume', source = data)\n",
    "\n",
    "plot.xaxis.axis_label = 'High Prices for 2013'\n",
    "\n",
    "plot.yaxis.axis_label = 'Volume traded in 2013'\n",
    "\n",
    "#Add the plot to the application\n",
    "\n",
    "curdoc().add_root(plot)\n",
    "\n",
    "curdoc().title = 'Volume and High prices of stocks'"
   ]
  },
  {
   "cell_type": "code",
   "execution_count": null,
   "metadata": {},
   "outputs": [],
   "source": []
  }
 ],
 "metadata": {
  "kernelspec": {
   "display_name": "Python 3",
   "language": "python",
   "name": "python3"
  },
  "language_info": {
   "codemirror_mode": {
    "name": "ipython",
    "version": 3
   },
   "file_extension": ".py",
   "mimetype": "text/x-python",
   "name": "python",
   "nbconvert_exporter": "python",
   "pygments_lexer": "ipython3",
   "version": "3.7.4"
  },
  "toc": {
   "base_numbering": 1,
   "nav_menu": {},
   "number_sections": true,
   "sideBar": true,
   "skip_h1_title": false,
   "title_cell": "Table of Contents",
   "title_sidebar": "Contents",
   "toc_cell": false,
   "toc_position": {},
   "toc_section_display": true,
   "toc_window_display": true
  }
 },
 "nbformat": 4,
 "nbformat_minor": 2
}
