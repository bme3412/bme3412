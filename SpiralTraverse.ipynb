{
 "cells": [
  {
   "cell_type": "markdown",
   "id": "995bcf76",
   "metadata": {},
   "source": [
    "# Prompt:\n",
    "+ Write a function that takes a n * m dimnsional array (where n == m), and rturns a 1D array of all the array's elements in spiral morder\n",
    "+ Where: spiral order starts at the top left corner of the 2D array, goes to the right, and proceeds in a spiral pattern, until every element has been visited\n"
   ]
  },
  {
   "cell_type": "markdown",
   "id": "61d7be61",
   "metadata": {},
   "source": [
    "# Sample input\n"
   ]
  },
  {
   "cell_type": "code",
   "execution_count": 4,
   "id": "cb4cc8c6",
   "metadata": {},
   "outputs": [],
   "source": [
    "array = [[1,2,3,4],\n",
    "        [12,13, 14, 5],\n",
    "        [11, 16, 15, 6],\n",
    "        [10,9, 8, 7]]"
   ]
  },
  {
   "cell_type": "code",
   "execution_count": 2,
   "id": "58eabc05",
   "metadata": {},
   "outputs": [],
   "source": [
    "# sample output\n",
    "# [1, 2, 3, 4, 5, 6, 7, 8, 9, 10...]\n"
   ]
  },
  {
   "cell_type": "markdown",
   "id": "298e75ec",
   "metadata": {},
   "source": [
    "# Hints\n",
    "+ 1) the spiral to traverse is a set of rectangle perimeters that progressively get smaller, as they progrewsivly move inwards\n",
    "+ 2) declare 4 variables - starting row; ending row; starting column; ending column\n",
    "+ these represent the bound of th first rectangular perimeter in the spiral to traverse\n"
   ]
  },
  {
   "cell_type": "markdown",
   "id": "3d8f823a",
   "metadata": {},
   "source": [
    "# Conceptual"
   ]
  },
  {
   "cell_type": "markdown",
   "id": "7f442d1b",
   "metadata": {},
   "source": [
    "+ traversing a 2D array in spiral order - top bordr; right order; bottom border; left border\n",
    "+ traverse the entire perimeter of outide, then the inner perimeter\n",
    "+ use a for loop to iterate the top row; then add value to the list\n",
    "+ for every column, iterate and then move to the next"
   ]
  },
  {
   "cell_type": "markdown",
   "id": "bb4cb1ce",
   "metadata": {},
   "source": [
    "# Code"
   ]
  },
  {
   "cell_type": "code",
   "execution_count": 3,
   "id": "b00f5be2",
   "metadata": {},
   "outputs": [],
   "source": [
    "def spiralTraverse(array):\n",
    "    result = [] # instantiate an empty list\n",
    "    startRow, endRow = 0, len(array)-1 # do not want to double count the value from the row\n",
    "    startCol, endCol = 0, len(array[0])-1\n",
    "    \n",
    "    while startRow <= endRow and startCol <= endCol:\n",
    "        for col in range(startCol, endCol +1):\n",
    "            result.append(array[startRow][col])\n",
    "        \n",
    "        for row in range(startRow+1, endRow+1):\n",
    "            result.append(array[row][endCol])\n",
    "        \n",
    "        for col in reversed(range(startCol, endCol)):\n",
    "            result.append(array[endRow][col])\n",
    "        \n",
    "        for row in reversed(range(startRow+1, endRow)):\n",
    "            result.append(array[row][startCol])\n",
    "        \n",
    "        startRow +=1\n",
    "        endRow -=1\n",
    "        startCol +=1\n",
    "        endCol -=1\n",
    "        \n",
    "    return result"
   ]
  },
  {
   "cell_type": "code",
   "execution_count": 5,
   "id": "48bdd0fe",
   "metadata": {},
   "outputs": [
    {
     "data": {
      "text/plain": [
       "[1, 2, 3, 4, 5, 6, 7, 8, 9, 10, 11, 12, 13, 14, 15, 16]"
      ]
     },
     "execution_count": 5,
     "metadata": {},
     "output_type": "execute_result"
    }
   ],
   "source": [
    "spiralTraverse(array)"
   ]
  },
  {
   "cell_type": "code",
   "execution_count": null,
   "id": "2156b2d2",
   "metadata": {},
   "outputs": [],
   "source": []
  }
 ],
 "metadata": {
  "kernelspec": {
   "display_name": "Python 3",
   "language": "python",
   "name": "python3"
  },
  "language_info": {
   "codemirror_mode": {
    "name": "ipython",
    "version": 3
   },
   "file_extension": ".py",
   "mimetype": "text/x-python",
   "name": "python",
   "nbconvert_exporter": "python",
   "pygments_lexer": "ipython3",
   "version": "3.8.8"
  }
 },
 "nbformat": 4,
 "nbformat_minor": 5
}
