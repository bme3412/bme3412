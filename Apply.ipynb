{
 "cells": [
  {
   "cell_type": "markdown",
   "metadata": {},
   "source": [
    "**Introduction**\n",
    "+ learning about 'apply' is fundamental to the data cleaning process\n",
    "+ apply takes a function and \"applies\" (runs it), across each row or column of a dataframe - simultaneously\n",
    "+ it is similar to writing a 'for loop' across each row or column and calling the function\n",
    "    + 'apply' does it simultaneously\n",
    "+ in general, this is a peferred way to apply functions across dataframes - it is much faster than writing a For loop"
   ]
  },
  {
   "cell_type": "markdown",
   "metadata": {},
   "source": [
    "**Functions**\n",
    "+ Functions are core elements of writing 'apply' statements\n",
    "+ Functions are a way to group, and reuse Python\n",
    "+ if ever in a situation where you ae copying/pasting code, and changing a few parts of the code - there is a chance the copied code can be written into a function\n",
    "+ to create a function, need to 'define' it"
   ]
  },
  {
   "cell_type": "code",
   "execution_count": 2,
   "metadata": {},
   "outputs": [],
   "source": [
    "# def my_function():\n",
    "    # indent 4 spaces\n",
    "    # function code here"
   ]
  },
  {
   "cell_type": "code",
   "execution_count": 4,
   "metadata": {},
   "outputs": [],
   "source": [
    "def my_sq(x):\n",
    "    \"\"\"squares a given value\n",
    "    \"\"\"\n",
    "    return x ** 2\n",
    "\n",
    "def avg_2(x, y):\n",
    "    \"\"\"Calculates the average of 2 numbers\n",
    "    \"\"\"\n",
    "    return (x + y)/2"
   ]
  },
  {
   "cell_type": "code",
   "execution_count": 5,
   "metadata": {},
   "outputs": [
    {
     "name": "stdout",
     "output_type": "stream",
     "text": [
      "16\n"
     ]
    }
   ],
   "source": [
    "# the text within the triple quotes is 'docstring' - \n",
    "# the text that appears, when you look up the help documentation about a function\n",
    "\n",
    "print(my_sq(4))"
   ]
  },
  {
   "cell_type": "code",
   "execution_count": 6,
   "metadata": {},
   "outputs": [
    {
     "name": "stdout",
     "output_type": "stream",
     "text": [
      "15.0\n"
     ]
    }
   ],
   "source": [
    "print(avg_2(10, 20))"
   ]
  },
  {
   "cell_type": "markdown",
   "metadata": {},
   "source": [
    "**9.3 Apply (basics)**\n",
    "+ when working with daaframes, it's more likely that will want to use a function across rows or columns of data"
   ]
  },
  {
   "cell_type": "code",
   "execution_count": 9,
   "metadata": {},
   "outputs": [
    {
     "name": "stdout",
     "output_type": "stream",
     "text": [
      "    a   b\n",
      "0  10  20\n",
      "1  20  30\n",
      "2  30  40\n"
     ]
    }
   ],
   "source": [
    "import pandas as pd\n",
    "df = pd.DataFrame({'a': [10, 20, 30],'b': [20, 30, 40]})\n",
    "print(df)"
   ]
  },
  {
   "cell_type": "code",
   "execution_count": 10,
   "metadata": {},
   "outputs": [
    {
     "name": "stdout",
     "output_type": "stream",
     "text": [
      "0    100\n",
      "1    400\n",
      "2    900\n",
      "Name: a, dtype: int64\n"
     ]
    }
   ],
   "source": [
    "# can then apply functions over a Series (an individual column or row)\n",
    "# write a function to square the 'a' column\n",
    "print(df['a']**2)"
   ]
  },
  {
   "cell_type": "markdown",
   "metadata": {},
   "source": [
    "**9.3.1 Apply over a Series**\n",
    "+ if subset a single column or row, the type of object to get back is a Pandas Series\n"
   ]
  },
  {
   "cell_type": "code",
   "execution_count": 11,
   "metadata": {},
   "outputs": [
    {
     "name": "stdout",
     "output_type": "stream",
     "text": [
      "<class 'pandas.core.series.Series'>\n"
     ]
    }
   ],
   "source": [
    "# get the first column\n",
    "print(type(df['a']))"
   ]
  },
  {
   "cell_type": "code",
   "execution_count": 12,
   "metadata": {},
   "outputs": [
    {
     "name": "stdout",
     "output_type": "stream",
     "text": [
      "<class 'pandas.core.series.Series'>\n"
     ]
    }
   ],
   "source": [
    "# get the first row\n",
    "print(type(df.iloc[0]))"
   ]
  },
  {
   "cell_type": "code",
   "execution_count": 14,
   "metadata": {},
   "outputs": [
    {
     "name": "stdout",
     "output_type": "stream",
     "text": [
      "0    100\n",
      "1    400\n",
      "2    900\n",
      "Name: a, dtype: int64\n"
     ]
    }
   ],
   "source": [
    "# the Series has a method called 'apply'\n",
    "# to use this, will pass the function to use across each element in the Series\n",
    "\n",
    "# apply our square function on the 'a' column\n",
    "sq = df['a'].apply(my_sq)\n",
    "print(sq)"
   ]
  },
  {
   "cell_type": "code",
   "execution_count": 16,
   "metadata": {},
   "outputs": [
    {
     "name": "stdout",
     "output_type": "stream",
     "text": [
      "8\n"
     ]
    }
   ],
   "source": [
    "# writing a function with 2 parameters - value, and then the exponent to raise the value to\n",
    "def my_exp(x, e):\n",
    "    return x ** e\n",
    "\n",
    "cb = my_exp(2, 3)\n",
    "print(cb)"
   ]
  },
  {
   "cell_type": "code",
   "execution_count": 17,
   "metadata": {},
   "outputs": [
    {
     "name": "stdout",
     "output_type": "stream",
     "text": [
      "0    100\n",
      "1    400\n",
      "2    900\n",
      "Name: a, dtype: int64\n"
     ]
    }
   ],
   "source": [
    "# but, to apply the function to the series, need to pass in the 2nd parameter\n",
    "# so pass in the 2nd argument as a keyword argument\n",
    "\n",
    "ex = df['a'].apply(my_exp, e=2)\n",
    "print(ex)"
   ]
  },
  {
   "cell_type": "code",
   "execution_count": 19,
   "metadata": {},
   "outputs": [
    {
     "name": "stdout",
     "output_type": "stream",
     "text": [
      "0     1000\n",
      "1     8000\n",
      "2    27000\n",
      "Name: a, dtype: int64\n"
     ]
    }
   ],
   "source": [
    "ex = df['a'].apply(my_exp, e=3)\n",
    "print(ex)"
   ]
  },
  {
   "cell_type": "markdown",
   "metadata": {},
   "source": [
    "**Apply over a Dataframe**"
   ]
  },
  {
   "cell_type": "code",
   "execution_count": 20,
   "metadata": {},
   "outputs": [
    {
     "name": "stdout",
     "output_type": "stream",
     "text": [
      "    a   b\n",
      "0  10  20\n",
      "1  20  30\n",
      "2  30  40\n"
     ]
    }
   ],
   "source": [
    "df = pd.DataFrame({'a': [10, 20, 30], 'b': [20, 30, 40]})\n",
    "print(df)"
   ]
  },
  {
   "cell_type": "code",
   "execution_count": 21,
   "metadata": {},
   "outputs": [],
   "source": [
    "# dataframes have 2 dimensions\n",
    "# when applying a function over a df, need to 1st specify which axis to apply the function over, column or rows\n",
    "def print_me(x):\n",
    "    print(x)"
   ]
  },
  {
   "cell_type": "code",
   "execution_count": 22,
   "metadata": {},
   "outputs": [
    {
     "name": "stdout",
     "output_type": "stream",
     "text": [
      "0    10\n",
      "1    20\n",
      "2    30\n",
      "Name: a, dtype: int64\n",
      "0    20\n",
      "1    30\n",
      "2    40\n",
      "Name: b, dtype: int64\n"
     ]
    },
    {
     "data": {
      "text/plain": [
       "a    None\n",
       "b    None\n",
       "dtype: object"
      ]
     },
     "execution_count": 22,
     "metadata": {},
     "output_type": "execute_result"
    }
   ],
   "source": [
    "# lets apply this to the df\n",
    "# the syntax is similar to using the Apply to a Series, but this time need to define the axis\n",
    "df.apply(print_me, axis=0)"
   ]
  },
  {
   "cell_type": "code",
   "execution_count": 23,
   "metadata": {},
   "outputs": [
    {
     "name": "stdout",
     "output_type": "stream",
     "text": [
      "0    10\n",
      "1    20\n",
      "2    30\n",
      "Name: a, dtype: int64\n"
     ]
    }
   ],
   "source": [
    "print(df['a'])"
   ]
  },
  {
   "cell_type": "code",
   "execution_count": 24,
   "metadata": {},
   "outputs": [
    {
     "name": "stdout",
     "output_type": "stream",
     "text": [
      "0    20\n",
      "1    30\n",
      "2    40\n",
      "Name: b, dtype: int64\n"
     ]
    }
   ],
   "source": [
    "print(df['b'])"
   ]
  },
  {
   "cell_type": "code",
   "execution_count": 25,
   "metadata": {},
   "outputs": [
    {
     "name": "stdout",
     "output_type": "stream",
     "text": [
      "a    20.0\n",
      "b    30.0\n",
      "dtype: float64\n"
     ]
    }
   ],
   "source": [
    "def avg_3(x, y, z):\n",
    "    return (x + y+ z) / 3\n",
    "\n",
    "# will cause an error\n",
    "# print(df.apply(avg_3))\n",
    "\n",
    "def avg_3_apply(col):\n",
    "    x = col[0]\n",
    "    y = col[1]\n",
    "    z = col[2]\n",
    "    return (x + y + z) / 3\n",
    "print(df.apply(avg_3_apply))"
   ]
  },
  {
   "cell_type": "code",
   "execution_count": 26,
   "metadata": {},
   "outputs": [
    {
     "name": "stdout",
     "output_type": "stream",
     "text": [
      "a    15.0\n",
      "b    25.0\n",
      "dtype: float64\n"
     ]
    }
   ],
   "source": [
    "# Row-wise operations\n",
    "# now use axis = 1\n",
    "\n",
    "def avg_2_apply(row):\n",
    "    x = row[0]\n",
    "    y = row[1]\n",
    "    return(x + y) / 2\n",
    "print(df.apply(avg_2_apply, axis=0))"
   ]
  },
  {
   "cell_type": "markdown",
   "metadata": {},
   "source": [
    "**Apply (More Advanced)**\n",
    "+ the seaborn library has a built-in Titanic data set"
   ]
  },
  {
   "cell_type": "code",
   "execution_count": 27,
   "metadata": {},
   "outputs": [
    {
     "name": "stdout",
     "output_type": "stream",
     "text": [
      "<class 'pandas.core.frame.DataFrame'>\n",
      "RangeIndex: 891 entries, 0 to 890\n",
      "Data columns (total 15 columns):\n",
      "survived       891 non-null int64\n",
      "pclass         891 non-null int64\n",
      "sex            891 non-null object\n",
      "age            714 non-null float64\n",
      "sibsp          891 non-null int64\n",
      "parch          891 non-null int64\n",
      "fare           891 non-null float64\n",
      "embarked       889 non-null object\n",
      "class          891 non-null category\n",
      "who            891 non-null object\n",
      "adult_male     891 non-null bool\n",
      "deck           203 non-null category\n",
      "embark_town    889 non-null object\n",
      "alive          891 non-null object\n",
      "alone          891 non-null bool\n",
      "dtypes: bool(2), category(2), float64(2), int64(4), object(5)\n",
      "memory usage: 80.6+ KB\n",
      "None\n"
     ]
    }
   ],
   "source": [
    "import seaborn as sns\n",
    "titanic = sns.load_dataset('titanic')\n",
    "print(titanic.info())"
   ]
  },
  {
   "cell_type": "code",
   "execution_count": 31,
   "metadata": {},
   "outputs": [],
   "source": [
    "# one way to use apply, is to calculate how many 'null' or 'NaN' values there are in the data\n",
    "\n",
    "# 1. Number of missing  values\n",
    "# use the numpy use function\n",
    "import numpy as np\n",
    "\n",
    "def count_missing(vec):\n",
    "    \"\"\"Counts the number of missing values in a vector\n",
    "    \"\"\"\n",
    "    \n",
    "    # get a vector of True/False values\n",
    "    # depending whether the value is missing\n",
    "    null_vec = pd.isnull(vec)\n",
    "    \n",
    "    # take the sum of the null_vec\n",
    "    # since null values do not contribute to the sum\n",
    "    null_count = np.sum(null_vec)\n",
    "    \n",
    "    #return the # of missing values in the vector\n",
    "    return null_count\n",
    "\n",
    "# 2. Proportion of missing values\n",
    "def prop_missing(vec):\n",
    "    \"\"\"Percentage of missing values in a vector\n",
    "    \"\"\"\n",
    "    # numerator: # of missing values\n",
    "    # can use the count_missing function\n",
    "    num = count_missing(vec)\n",
    "    \n",
    "    # denominator: total # of values in the vector\n",
    "    # also need to count the missing values\n",
    "    dem = vec.size\n",
    "    \n",
    "    # return the proportion/% of missing\n",
    "    return num / dem\n",
    "\n",
    "# 3. Proportion of complete values\n",
    "def prop_complete(vec):\n",
    "    \"\"\"Percentage of nonmissing values in a vector\n",
    "    \"\"\"\n",
    "    # we can utilize the percent_missing function \n",
    "    # by subtacting its vale from 1\n",
    "    return 1 - prop_missing(vec)"
   ]
  },
  {
   "cell_type": "code",
   "execution_count": 32,
   "metadata": {},
   "outputs": [
    {
     "name": "stdout",
     "output_type": "stream",
     "text": [
      "survived         0\n",
      "pclass           0\n",
      "sex              0\n",
      "age            177\n",
      "sibsp            0\n",
      "parch            0\n",
      "fare             0\n",
      "embarked         2\n",
      "class            0\n",
      "who              0\n",
      "adult_male       0\n",
      "deck           688\n",
      "embark_town      2\n",
      "alive            0\n",
      "alone            0\n",
      "dtype: int64\n"
     ]
    }
   ],
   "source": [
    "cmis_col = titanic.apply(count_missing)\n",
    "\n",
    "pmis_col = titanic.apply(prop_missing)\n",
    "\n",
    "pcom_col = titanic.apply(prop_complete)\n",
    "\n",
    "print(cmis_col)"
   ]
  },
  {
   "cell_type": "code",
   "execution_count": 33,
   "metadata": {},
   "outputs": [
    {
     "name": "stdout",
     "output_type": "stream",
     "text": [
      "survived       0.000000\n",
      "pclass         0.000000\n",
      "sex            0.000000\n",
      "age            0.198653\n",
      "sibsp          0.000000\n",
      "parch          0.000000\n",
      "fare           0.000000\n",
      "embarked       0.002245\n",
      "class          0.000000\n",
      "who            0.000000\n",
      "adult_male     0.000000\n",
      "deck           0.772166\n",
      "embark_town    0.002245\n",
      "alive          0.000000\n",
      "alone          0.000000\n",
      "dtype: float64\n"
     ]
    }
   ],
   "source": [
    "print(pmis_col)"
   ]
  },
  {
   "cell_type": "code",
   "execution_count": 34,
   "metadata": {},
   "outputs": [
    {
     "name": "stdout",
     "output_type": "stream",
     "text": [
      "survived       1.000000\n",
      "pclass         1.000000\n",
      "sex            1.000000\n",
      "age            0.801347\n",
      "sibsp          1.000000\n",
      "parch          1.000000\n",
      "fare           1.000000\n",
      "embarked       0.997755\n",
      "class          1.000000\n",
      "who            1.000000\n",
      "adult_male     1.000000\n",
      "deck           0.227834\n",
      "embark_town    0.997755\n",
      "alive          1.000000\n",
      "alone          1.000000\n",
      "dtype: float64\n"
     ]
    }
   ],
   "source": [
    "print(pcom_col)"
   ]
  },
  {
   "cell_type": "code",
   "execution_count": 35,
   "metadata": {},
   "outputs": [
    {
     "name": "stdout",
     "output_type": "stream",
     "text": [
      "     survived  pclass     sex   age  sibsp  parch  fare embarked  class  \\\n",
      "61          1       1  female  38.0      0      0  80.0      NaN  First   \n",
      "829         1       1  female  62.0      0      0  80.0      NaN  First   \n",
      "\n",
      "       who  adult_male deck embark_town alive  alone  \n",
      "61   woman       False    B         NaN   yes   True  \n",
      "829  woman       False    B         NaN   yes   True  \n"
     ]
    }
   ],
   "source": [
    "# since we have counts of missing values, can determine whether a column is a viable option for use\n",
    "print(titanic.loc[pd.isnull(titanic.embark_town), :])"
   ]
  },
  {
   "cell_type": "markdown",
   "metadata": {},
   "source": [
    "**Row-wise Operations**\n",
    "+ since the functions are vectorized, can apply them across rows of data without changing them\n"
   ]
  },
  {
   "cell_type": "code",
   "execution_count": 36,
   "metadata": {},
   "outputs": [
    {
     "name": "stdout",
     "output_type": "stream",
     "text": [
      "0    1\n",
      "1    0\n",
      "2    1\n",
      "3    0\n",
      "4    1\n",
      "dtype: int64\n"
     ]
    }
   ],
   "source": [
    "cmis_row = titanic.apply(count_missing, axis=1)\n",
    "pmis_row = titanic.apply(prop_missing, axis=1)\n",
    "pcom_row = titanic.apply(prop_complete, axis=1)\n",
    "print(cmis_row.head())"
   ]
  },
  {
   "cell_type": "code",
   "execution_count": 37,
   "metadata": {},
   "outputs": [
    {
     "name": "stdout",
     "output_type": "stream",
     "text": [
      "0    0.066667\n",
      "1    0.000000\n",
      "2    0.066667\n",
      "3    0.000000\n",
      "4    0.066667\n",
      "dtype: float64\n"
     ]
    }
   ],
   "source": [
    "print(pmis_row.head())"
   ]
  },
  {
   "cell_type": "code",
   "execution_count": 39,
   "metadata": {},
   "outputs": [
    {
     "name": "stdout",
     "output_type": "stream",
     "text": [
      "0    0.933333\n",
      "1    1.000000\n",
      "2    0.933333\n",
      "3    1.000000\n",
      "4    0.933333\n",
      "dtype: float64\n"
     ]
    }
   ],
   "source": [
    "print(pcom_row.head())"
   ]
  },
  {
   "cell_type": "code",
   "execution_count": 40,
   "metadata": {},
   "outputs": [
    {
     "name": "stdout",
     "output_type": "stream",
     "text": [
      "1    549\n",
      "0    182\n",
      "2    160\n",
      "dtype: int64\n"
     ]
    }
   ],
   "source": [
    "# can now see if have any rows in data that have multiple missing values\n",
    "print(cmis_row.value_counts())"
   ]
  },
  {
   "cell_type": "code",
   "execution_count": 41,
   "metadata": {},
   "outputs": [
    {
     "name": "stdout",
     "output_type": "stream",
     "text": [
      "   survived  pclass     sex   age  sibsp  parch     fare embarked  class  \\\n",
      "0         0       3    male  22.0      1      0   7.2500        S  Third   \n",
      "1         1       1  female  38.0      1      0  71.2833        C  First   \n",
      "2         1       3  female  26.0      0      0   7.9250        S  Third   \n",
      "3         1       1  female  35.0      1      0  53.1000        S  First   \n",
      "4         0       3    male  35.0      0      0   8.0500        S  Third   \n",
      "\n",
      "     who  adult_male deck  embark_town alive  alone  num_missing  \n",
      "0    man        True  NaN  Southampton    no  False            1  \n",
      "1  woman       False    C    Cherbourg   yes  False            0  \n",
      "2  woman       False  NaN  Southampton   yes   True            1  \n",
      "3  woman       False    C  Southampton   yes  False            0  \n",
      "4    man        True  NaN  Southampton    no   True            1  \n"
     ]
    }
   ],
   "source": [
    "# we can create a new column containing these values\n",
    "titanic['num_missing'] = titanic.apply(count_missing, axis=1)\n",
    "print(titanic.head())"
   ]
  },
  {
   "cell_type": "code",
   "execution_count": 42,
   "metadata": {},
   "outputs": [
    {
     "name": "stdout",
     "output_type": "stream",
     "text": [
      "     survived  pclass     sex  age  sibsp  parch      fare embarked  class  \\\n",
      "495         0       3    male  NaN      0      0   14.4583        C  Third   \n",
      "306         1       1  female  NaN      0      0  110.8833        C  First   \n",
      "825         0       3    male  NaN      0      0    6.9500        Q  Third   \n",
      "260         0       3    male  NaN      0      0    7.7500        Q  Third   \n",
      "692         1       3    male  NaN      0      0   56.4958        S  Third   \n",
      "497         0       3    male  NaN      0      0   15.1000        S  Third   \n",
      "533         1       3  female  NaN      0      2   22.3583        C  Third   \n",
      "612         1       3  female  NaN      1      0   15.5000        Q  Third   \n",
      "680         0       3  female  NaN      0      0    8.1375        Q  Third   \n",
      "48          0       3    male  NaN      2      0   21.6792        C  Third   \n",
      "\n",
      "       who  adult_male deck  embark_town alive  alone  num_missing  \n",
      "495    man        True  NaN    Cherbourg    no   True            2  \n",
      "306  woman       False  NaN    Cherbourg   yes   True            2  \n",
      "825    man        True  NaN   Queenstown    no   True            2  \n",
      "260    man        True  NaN   Queenstown    no   True            2  \n",
      "692    man        True  NaN  Southampton   yes   True            2  \n",
      "497    man        True  NaN  Southampton    no   True            2  \n",
      "533  woman       False  NaN    Cherbourg   yes  False            2  \n",
      "612  woman       False  NaN   Queenstown   yes  False            2  \n",
      "680  woman       False  NaN   Queenstown    no   True            2  \n",
      "48     man        True  NaN    Cherbourg    no  False            2  \n"
     ]
    }
   ],
   "source": [
    "# can then look at the rows with multiple missing data\n",
    "print(titanic.loc[titanic.num_missing > 1, :].sample(10))"
   ]
  },
  {
   "cell_type": "markdown",
   "metadata": {},
   "source": [
    "**9.5 Vectorized Functions**"
   ]
  },
  {
   "cell_type": "code",
   "execution_count": 43,
   "metadata": {},
   "outputs": [
    {
     "name": "stdout",
     "output_type": "stream",
     "text": [
      "    a   b\n",
      "0  10  20\n",
      "1  20  30\n",
      "2  30  40\n"
     ]
    }
   ],
   "source": [
    "# there are times when it is not feasible to rewrite a function\n",
    "# you can leverage the 'vectorize' function and decorator, to vectorize any function\n",
    "df = pd.DataFrame({'a': [10, 20, 30], 'b': [20, 30, 40]})\n",
    "print(df)"
   ]
  },
  {
   "cell_type": "code",
   "execution_count": 44,
   "metadata": {},
   "outputs": [
    {
     "name": "stdout",
     "output_type": "stream",
     "text": [
      "0    15.0\n",
      "1    25.0\n",
      "2    35.0\n",
      "dtype: float64\n"
     ]
    }
   ],
   "source": [
    "# here is the average function, which can apply on a row-by-row basis\n",
    "def avg_2(x, y):\n",
    "    return (x + y) / 2\n",
    "\n",
    "print(avg_2(df['a'], df['b']))"
   ]
  },
  {
   "cell_type": "code",
   "execution_count": 46,
   "metadata": {},
   "outputs": [
    {
     "name": "stdout",
     "output_type": "stream",
     "text": [
      "15.0\n"
     ]
    }
   ],
   "source": [
    "# let's perform a non-vectorizable calculation\n",
    "import numpy as np\n",
    "def avg_2_mod(x, y):\n",
    "    \"\"\"Calculate the average, unless x is 20\n",
    "    \"\"\"\n",
    "    if (x == 20):\n",
    "        return(np.NaN)\n",
    "    else:\n",
    "        return (x + y) / 2\n",
    "# running this function will cause an error\n",
    "\n",
    "print(avg_2_mod(10, 20))"
   ]
  },
  {
   "cell_type": "markdown",
   "metadata": {},
   "source": [
    "+**9.5.1 Using Numpy**\n",
    "+ pass np.vectorize to the function"
   ]
  },
  {
   "cell_type": "code",
   "execution_count": 47,
   "metadata": {},
   "outputs": [
    {
     "name": "stdout",
     "output_type": "stream",
     "text": [
      "[15. nan 35.]\n"
     ]
    }
   ],
   "source": [
    "# np.vectorize actually creates a new function\n",
    "avg_2_mod_vec = np.vectorize(avg_2_mod)\n",
    "print(avg_2_mod_vec(df['a'], df['b']))"
   ]
  },
  {
   "cell_type": "code",
   "execution_count": 48,
   "metadata": {},
   "outputs": [
    {
     "name": "stdout",
     "output_type": "stream",
     "text": [
      "[15. nan 35.]\n"
     ]
    }
   ],
   "source": [
    "# can use a Python decorator to vectorize a function\n",
    "# to use the vectorize decorator\n",
    "# we use the @ symbol before our function definition\n",
    "@np.vectorize\n",
    "def v_avg_2_mod(x, y):\n",
    "    \"\"\"Calculate the average, unless x=20\n",
    "    Same as before, but using the vectorize decorator\n",
    "    \"\"\"\n",
    "    if (x == 20):\n",
    "        return(np.NaN)\n",
    "    else:\n",
    "        return (x + y) / 2\n",
    "    # can then directly use the vectorized function\n",
    "    # without havging to create a new function\n",
    "print(v_avg_2_mod(df['a'],df['b']))"
   ]
  },
  {
   "cell_type": "markdown",
   "metadata": {},
   "source": [
    "**Using numba**\n",
    "+ the numba library is designez to optimize Python code - it has a vectorize decorator"
   ]
  },
  {
   "cell_type": "code",
   "execution_count": 55,
   "metadata": {},
   "outputs": [
    {
     "name": "stdout",
     "output_type": "stream",
     "text": [
      "[15. nan 35.]\n"
     ]
    }
   ],
   "source": [
    "import numba\n",
    "@numba.vectorize\n",
    "def v_avg_2_numba(x, y):\n",
    "    \"\"\"Calculate the average, unless x is 20\n",
    "    Use the numba decorator\n",
    "    \"\"\"\n",
    "    # we now have to add type info to our function\n",
    "    if(int(x)== 20):\n",
    "        return(np.NaN)\n",
    "    else:\n",
    "        return (x + y) / 2\n",
    "print(v_avg_2_numba(df['a'].values, df['b'].values))"
   ]
  },
  {
   "cell_type": "code",
   "execution_count": 56,
   "metadata": {},
   "outputs": [
    {
     "name": "stdout",
     "output_type": "stream",
     "text": [
      "[15. nan 35.]\n"
     ]
    }
   ],
   "source": [
    "# so need to pass in the numpy array part of data\n",
    "print(v_avg_2_numba(df['a'].values, df['b'].values))"
   ]
  },
  {
   "cell_type": "markdown",
   "metadata": {},
   "source": [
    "**9.6 Lambda Functions**\n",
    "+ sometimes the function used in apply, is simple enough that there is no need to create a separate function\n"
   ]
  },
  {
   "cell_type": "code",
   "execution_count": 57,
   "metadata": {},
   "outputs": [],
   "source": [
    "docs = pd.read_csv('/Users/BrendanErhard/Desktop/pandas_for_everyone-master/data/doctors.csv', header=None)"
   ]
  },
  {
   "cell_type": "code",
   "execution_count": 62,
   "metadata": {},
   "outputs": [
    {
     "name": "stdout",
     "output_type": "stream",
     "text": [
      "                               0              name_func\n",
      "0     William Hartnell (1963-66)       William Hartnell\n",
      "1    Patrick Troughton (1966-69)      Patrick Troughton\n",
      "2          Jon Pertwee (1970 74)            Jon Pertwee\n",
      "3            Tom Baker (1974-81)              Tom Baker\n",
      "4        Peter Davison (1982-84)          Peter Davison\n",
      "5          Colin Baker (1984-86)            Colin Baker\n",
      "6      Sylvester McCoy (1987-89)        Sylvester McCoy\n",
      "7             Paul McGann (1996)            Paul McGann\n",
      "8   Christopher Eccleston (2005)  Christopher Eccleston\n",
      "9        David Tennant (2005-10)          David Tennant\n",
      "10          Matt Smith (2010-13)             Matt Smith\n",
      "11     Peter Capaldi (2014-2017)          Peter Capaldi\n",
      "12        Jodie Whittaker (2017)        Jodie Whittaker\n"
     ]
    }
   ],
   "source": [
    "# can write a pattern that extracts all the letters from the row, and assign those values to a new 'name' column\n",
    "\n",
    "import re\n",
    "p = re.compile('\\w+\\s+\\w+')\n",
    "\n",
    "def get_name(s):\n",
    "    return p.match(s).group()\n",
    "\n",
    "docs['name_func'] = docs[0].apply(get_name)\n",
    "print(docs)"
   ]
  },
  {
   "cell_type": "code",
   "execution_count": 63,
   "metadata": {},
   "outputs": [
    {
     "name": "stdout",
     "output_type": "stream",
     "text": [
      "                               0              name_func              name_lamb\n",
      "0     William Hartnell (1963-66)       William Hartnell       William Hartnell\n",
      "1    Patrick Troughton (1966-69)      Patrick Troughton      Patrick Troughton\n",
      "2          Jon Pertwee (1970 74)            Jon Pertwee            Jon Pertwee\n",
      "3            Tom Baker (1974-81)              Tom Baker              Tom Baker\n",
      "4        Peter Davison (1982-84)          Peter Davison          Peter Davison\n",
      "5          Colin Baker (1984-86)            Colin Baker            Colin Baker\n",
      "6      Sylvester McCoy (1987-89)        Sylvester McCoy        Sylvester McCoy\n",
      "7             Paul McGann (1996)            Paul McGann            Paul McGann\n",
      "8   Christopher Eccleston (2005)  Christopher Eccleston  Christopher Eccleston\n",
      "9        David Tennant (2005-10)          David Tennant          David Tennant\n",
      "10          Matt Smith (2010-13)             Matt Smith             Matt Smith\n",
      "11     Peter Capaldi (2014-2017)          Peter Capaldi          Peter Capaldi\n",
      "12        Jodie Whittaker (2017)        Jodie Whittaker        Jodie Whittaker\n"
     ]
    }
   ],
   "source": [
    "# the actual function is a simplie one-liner\n",
    "# people opt to write the one-liner directly in the apply methos\n",
    "# this is known as using lambda functions\n",
    "docs['name_lamb'] = docs[0].apply(lambda x: p.match(x).group())\n",
    "print(docs)"
   ]
  },
  {
   "cell_type": "code",
   "execution_count": null,
   "metadata": {},
   "outputs": [],
   "source": []
  }
 ],
 "metadata": {
  "kernelspec": {
   "display_name": "Python 3",
   "language": "python",
   "name": "python3"
  },
  "language_info": {
   "codemirror_mode": {
    "name": "ipython",
    "version": 3
   },
   "file_extension": ".py",
   "mimetype": "text/x-python",
   "name": "python",
   "nbconvert_exporter": "python",
   "pygments_lexer": "ipython3",
   "version": "3.7.0"
  }
 },
 "nbformat": 4,
 "nbformat_minor": 2
}
