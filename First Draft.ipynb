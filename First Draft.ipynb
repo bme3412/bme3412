{
 "cells": [
  {
   "cell_type": "markdown",
   "id": "08021727",
   "metadata": {},
   "source": [
    "# Project Idea\n",
    "+ webscrape a bunch of book lists"
   ]
  },
  {
   "cell_type": "code",
   "execution_count": 2,
   "id": "66a86216",
   "metadata": {},
   "outputs": [],
   "source": [
    "import pandas as pd\n",
    "import numpy as np\n",
    "import matplotlib.pyplot as plt\n",
    "import seaborn as sns\n",
    "%matplotlib inline\n",
    "\n",
    "from urllib.request import urlopen\n",
    "from bs4 import BeautifulSoup\n",
    "import requests"
   ]
  },
  {
   "cell_type": "code",
   "execution_count": 7,
   "id": "bfdf5703",
   "metadata": {},
   "outputs": [],
   "source": [
    "HEADERS = ({'User-Agent':'Mozilla/5.0 (Windows NT 10.0; Win64; x64) AppleWebKit/537.36 (KHTML, like Gecko) Chrome/58.0.3029.110 Safari/537.36','Accept-Language': 'en-US, en;q=0.5'})\n",
    "\n",
    "# find URL to scrape\n",
    "URL = 'https://www.amazon.com/charts/mostsold/fiction/ref=bsm_char_sold_fict/ref=s9_acss_bw_cg_bsmmost_1b1_w?pf_rd_m=ATVPDKIKX0DER&pf_rd_s=merchandised-search-5&pf_rd_r=EV2GVQVBDWT26G0T3N9H&pf_rd_t=101&pf_rd_p=bdfb2de8-8fb7-4b7a-b000-1b986a7b0aac&pf_rd_i=16857165011'\n",
    "\n",
    "# fetch the irl\n",
    "\n",
    "page = requests.get(URL, headers = HEADERS)\n",
    "\n",
    "# create the object that will contain all the info in the url\n",
    "soup = BeautifulSoup(page.content, features='lxml')\n"
   ]
  },
  {
   "cell_type": "code",
   "execution_count": 17,
   "id": "a8079e63",
   "metadata": {},
   "outputs": [],
   "source": [
    "# prod uct title\n",
    "title = soup.find(attrs={'class':'kc-rank-card-title'}).get_text().strip()\n",
    "publisher = soup.find(attrs={'class':'kc-rank-card-publisher'}).get_text().strip()\n",
    "author = soup.find(attrs={'class':'kc-rank-card-author'}).get_text().strip()\n"
   ]
  },
  {
   "cell_type": "code",
   "execution_count": 19,
   "id": "9db4bc37",
   "metadata": {},
   "outputs": [
    {
     "name": "stdout",
     "output_type": "stream",
     "text": [
      "Billy Summers\n",
      "PUBLISHER: Scribner\n",
      "by Stephen King\n"
     ]
    }
   ],
   "source": [
    "print(title)\n",
    "print(publisher)\n",
    "print(author)"
   ]
  },
  {
   "cell_type": "code",
   "execution_count": null,
   "id": "5ff3e15f",
   "metadata": {},
   "outputs": [],
   "source": []
  }
 ],
 "metadata": {
  "kernelspec": {
   "display_name": "Python 3",
   "language": "python",
   "name": "python3"
  },
  "language_info": {
   "codemirror_mode": {
    "name": "ipython",
    "version": 3
   },
   "file_extension": ".py",
   "mimetype": "text/x-python",
   "name": "python",
   "nbconvert_exporter": "python",
   "pygments_lexer": "ipython3",
   "version": "3.8.8"
  }
 },
 "nbformat": 4,
 "nbformat_minor": 5
}
